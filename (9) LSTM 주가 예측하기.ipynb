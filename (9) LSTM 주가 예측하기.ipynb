{
 "cells": [
  {
   "cell_type": "markdown",
   "id": "a5535a84",
   "metadata": {},
   "source": [
    "LSTM 주가 예측하기"
   ]
  },
  {
   "cell_type": "code",
   "execution_count": 1,
   "id": "7bbfd24a",
   "metadata": {},
   "outputs": [
    {
     "ename": "SyntaxError",
     "evalue": "invalid non-printable character U+00A0 (Temp/ipykernel_12644/76206178.py, line 3)",
     "output_type": "error",
     "traceback": [
      "\u001b[1;36m  File \u001b[1;32m\"C:\\Users\\JYB\\AppData\\Local\\Temp/ipykernel_12644/76206178.py\"\u001b[1;36m, line \u001b[1;32m3\u001b[0m\n\u001b[1;33m    pip install pykrx\u001b[0m\n\u001b[1;37m       ^\u001b[0m\n\u001b[1;31mSyntaxError\u001b[0m\u001b[1;31m:\u001b[0m invalid non-printable character U+00A0\n"
     ]
    }
   ],
   "source": [
    "# OHLCV값을 출력하기 위해서 pykrx 모듈을 사용\n",
    "\n",
    "pip install pykrx\n"
   ]
  },
  {
   "cell_type": "code",
   "execution_count": 2,
   "id": "5b8bf69a",
   "metadata": {},
   "outputs": [
    {
     "name": "stderr",
     "output_type": "stream",
     "text": [
      "ERROR: unknown command \"install\\xa0pykrx\" - maybe you meant \"install\"\n",
      "\n"
     ]
    }
   ],
   "source": [
    "!pip install pykrx\n"
   ]
  },
  {
   "cell_type": "code",
   "execution_count": 3,
   "id": "ff62075d",
   "metadata": {},
   "outputs": [
    {
     "name": "stdout",
     "output_type": "stream",
     "text": [
      "Note: you may need to restart the kernel to use updated packages.\n"
     ]
    },
    {
     "name": "stderr",
     "output_type": "stream",
     "text": [
      "ERROR: unknown command \"install\\xa0pykrx\" - maybe you meant \"install\"\n",
      "\n"
     ]
    }
   ],
   "source": [
    "pip install pykrx\n"
   ]
  },
  {
   "cell_type": "code",
   "execution_count": 4,
   "id": "6598edbe",
   "metadata": {},
   "outputs": [
    {
     "name": "stderr",
     "output_type": "stream",
     "text": [
      "ERROR: unknown command \"install\\xa0pykrx\" - maybe you meant \"install\"\n",
      "\n"
     ]
    }
   ],
   "source": [
    "!pip install pykrx\n",
    "\n"
   ]
  },
  {
   "cell_type": "code",
   "execution_count": 5,
   "id": "2b745f2e",
   "metadata": {},
   "outputs": [
    {
     "name": "stdout",
     "output_type": "stream",
     "text": [
      "Collecting pykrx\n",
      "  Downloading pykrx-1.0.17-py3-none-any.whl (81 kB)\n",
      "Collecting datetime\n",
      "  Downloading DateTime-4.3-py2.py3-none-any.whl (60 kB)\n",
      "Requirement already satisfied: requests in c:\\users\\jyb\\appdata\\local\\programs\\python\\python39\\lib\\site-packages (from pykrx) (2.26.0)\n",
      "Collecting xlrd\n",
      "  Downloading xlrd-2.0.1-py2.py3-none-any.whl (96 kB)\n",
      "Collecting deprecated\n",
      "  Downloading Deprecated-1.2.12-py2.py3-none-any.whl (9.5 kB)\n",
      "Requirement already satisfied: pandas in c:\\users\\jyb\\appdata\\local\\programs\\python\\python39\\lib\\site-packages (from pykrx) (1.3.0)\n",
      "Requirement already satisfied: numpy in c:\\users\\jyb\\appdata\\local\\programs\\python\\python39\\lib\\site-packages (from pykrx) (1.21.0)\n",
      "Requirement already satisfied: pytz in c:\\users\\jyb\\appdata\\local\\programs\\python\\python39\\lib\\site-packages (from datetime->pykrx) (2021.1)\n",
      "Collecting zope.interface\n",
      "  Downloading zope.interface-5.4.0-cp39-cp39-win_amd64.whl (210 kB)\n",
      "Collecting wrapt<2,>=1.10\n",
      "  Using cached wrapt-1.12.1.tar.gz (27 kB)\n",
      "Requirement already satisfied: python-dateutil>=2.7.3 in c:\\users\\jyb\\appdata\\local\\programs\\python\\python39\\lib\\site-packages (from pandas->pykrx) (2.8.1)\n",
      "Requirement already satisfied: six>=1.5 in c:\\users\\jyb\\appdata\\local\\programs\\python\\python39\\lib\\site-packages (from python-dateutil>=2.7.3->pandas->pykrx) (1.16.0)\n",
      "Requirement already satisfied: idna<4,>=2.5 in c:\\users\\jyb\\appdata\\local\\programs\\python\\python39\\lib\\site-packages (from requests->pykrx) (3.2)\n",
      "Requirement already satisfied: certifi>=2017.4.17 in c:\\users\\jyb\\appdata\\local\\programs\\python\\python39\\lib\\site-packages (from requests->pykrx) (2021.5.30)\n",
      "Requirement already satisfied: charset-normalizer~=2.0.0 in c:\\users\\jyb\\appdata\\local\\programs\\python\\python39\\lib\\site-packages (from requests->pykrx) (2.0.1)\n",
      "Requirement already satisfied: urllib3<1.27,>=1.21.1 in c:\\users\\jyb\\appdata\\local\\programs\\python\\python39\\lib\\site-packages (from requests->pykrx) (1.26.6)\n",
      "Requirement already satisfied: setuptools in c:\\users\\jyb\\appdata\\local\\programs\\python\\python39\\lib\\site-packages (from zope.interface->datetime->pykrx) (56.0.0)\n",
      "Using legacy 'setup.py install' for wrapt, since package 'wheel' is not installed.\n",
      "Installing collected packages: zope.interface, wrapt, xlrd, deprecated, datetime, pykrx\n",
      "    Running setup.py install for wrapt: started\n",
      "    Running setup.py install for wrapt: finished with status 'done'\n",
      "Successfully installed datetime-4.3 deprecated-1.2.12 pykrx-1.0.17 wrapt-1.12.1 xlrd-2.0.1 zope.interface-5.4.0\n",
      "Note: you may need to restart the kernel to use updated packages.\n"
     ]
    }
   ],
   "source": [
    "pip install -U pykrx"
   ]
  },
  {
   "cell_type": "code",
   "execution_count": 7,
   "id": "7e03d3ad",
   "metadata": {},
   "outputs": [
    {
     "ename": "SyntaxError",
     "evalue": "invalid non-printable character U+00A0 (Temp/ipykernel_12644/3724700159.py, line 1)",
     "output_type": "error",
     "traceback": [
      "\u001b[1;36m  File \u001b[1;32m\"C:\\Users\\JYB\\AppData\\Local\\Temp/ipykernel_12644/3724700159.py\"\u001b[1;36m, line \u001b[1;32m1\u001b[0m\n\u001b[1;33m    from pykrx import stock\u001b[0m\n\u001b[1;37m        ^\u001b[0m\n\u001b[1;31mSyntaxError\u001b[0m\u001b[1;31m:\u001b[0m invalid non-printable character U+00A0\n"
     ]
    }
   ],
   "source": [
    "from pykrx import stock\n"
   ]
  },
  {
   "cell_type": "code",
   "execution_count": 11,
   "id": "f111af2d",
   "metadata": {},
   "outputs": [],
   "source": [
    "import pykrx\n",
    "from pykrx import stock\n",
    "df = stock.get_market_ohlcv_by_date(\"20190501\", \"20190531\", \"005930\")"
   ]
  },
  {
   "cell_type": "code",
   "execution_count": 12,
   "id": "5f9ed061",
   "metadata": {},
   "outputs": [
    {
     "data": {
      "text/html": [
       "<div>\n",
       "<style scoped>\n",
       "    .dataframe tbody tr th:only-of-type {\n",
       "        vertical-align: middle;\n",
       "    }\n",
       "\n",
       "    .dataframe tbody tr th {\n",
       "        vertical-align: top;\n",
       "    }\n",
       "\n",
       "    .dataframe thead th {\n",
       "        text-align: right;\n",
       "    }\n",
       "</style>\n",
       "<table border=\"1\" class=\"dataframe\">\n",
       "  <thead>\n",
       "    <tr style=\"text-align: right;\">\n",
       "      <th></th>\n",
       "      <th>시가</th>\n",
       "      <th>고가</th>\n",
       "      <th>저가</th>\n",
       "      <th>종가</th>\n",
       "      <th>거래량</th>\n",
       "    </tr>\n",
       "    <tr>\n",
       "      <th>날짜</th>\n",
       "      <th></th>\n",
       "      <th></th>\n",
       "      <th></th>\n",
       "      <th></th>\n",
       "      <th></th>\n",
       "    </tr>\n",
       "  </thead>\n",
       "  <tbody>\n",
       "    <tr>\n",
       "      <th>2019-05-02</th>\n",
       "      <td>45500</td>\n",
       "      <td>46150</td>\n",
       "      <td>45400</td>\n",
       "      <td>45900</td>\n",
       "      <td>8625126</td>\n",
       "    </tr>\n",
       "    <tr>\n",
       "      <th>2019-05-03</th>\n",
       "      <td>45900</td>\n",
       "      <td>46050</td>\n",
       "      <td>45300</td>\n",
       "      <td>45300</td>\n",
       "      <td>6562916</td>\n",
       "    </tr>\n",
       "    <tr>\n",
       "      <th>2019-05-07</th>\n",
       "      <td>45250</td>\n",
       "      <td>45300</td>\n",
       "      <td>44400</td>\n",
       "      <td>44850</td>\n",
       "      <td>12014907</td>\n",
       "    </tr>\n",
       "    <tr>\n",
       "      <th>2019-05-08</th>\n",
       "      <td>44300</td>\n",
       "      <td>44850</td>\n",
       "      <td>44200</td>\n",
       "      <td>44250</td>\n",
       "      <td>10398754</td>\n",
       "    </tr>\n",
       "    <tr>\n",
       "      <th>2019-05-09</th>\n",
       "      <td>43900</td>\n",
       "      <td>44250</td>\n",
       "      <td>42450</td>\n",
       "      <td>42450</td>\n",
       "      <td>23029718</td>\n",
       "    </tr>\n",
       "  </tbody>\n",
       "</table>\n",
       "</div>"
      ],
      "text/plain": [
       "               시가     고가     저가     종가       거래량\n",
       "날짜                                              \n",
       "2019-05-02  45500  46150  45400  45900   8625126\n",
       "2019-05-03  45900  46050  45300  45300   6562916\n",
       "2019-05-07  45250  45300  44400  44850  12014907\n",
       "2019-05-08  44300  44850  44200  44250  10398754\n",
       "2019-05-09  43900  44250  42450  42450  23029718"
      ]
     },
     "execution_count": 12,
     "metadata": {},
     "output_type": "execute_result"
    }
   ],
   "source": [
    "df.head()"
   ]
  },
  {
   "cell_type": "code",
   "execution_count": 13,
   "id": "fa28a850",
   "metadata": {},
   "outputs": [
    {
     "name": "stdout",
     "output_type": "stream",
     "text": [
      "              시가    고가    저가    종가      거래량\n",
      "날짜                                         \n",
      "2019-05-27  7460  7490  7370  7460   723476\n",
      "2019-05-28  7460  7580  7400  7510  2170327\n",
      "2019-05-29  7490  7510  7340  7400  1552507\n",
      "2019-05-30  7420  7550  7400  7530  1331640\n",
      "2019-05-31  7500  7540  7440  7460  1370651\n"
     ]
    }
   ],
   "source": [
    "from pykrx import stock\n",
    "df = stock.get_market_ohlcv_by_date(\"20190527\", \"20190531\", \"006800\")\n",
    "print(df)"
   ]
  },
  {
   "cell_type": "code",
   "execution_count": null,
   "id": "97514945",
   "metadata": {},
   "outputs": [],
   "source": [
    "##미래에셋대우의 2019-05-31 종가 데이터를 출력해 봅시다loc와 iloc 속성값을 사용해서 로우에 접근하고 시리즈 인덱싱을 사용하면 됩니다. 다음 코드는 모두 같은 결과를 출력합니다."
   ]
  },
  {
   "cell_type": "code",
   "execution_count": 14,
   "id": "6eba2596",
   "metadata": {},
   "outputs": [
    {
     "name": "stdout",
     "output_type": "stream",
     "text": [
      "7460\n",
      "7460\n",
      "7460\n",
      "7460\n"
     ]
    }
   ],
   "source": [
    "print(df.loc[\"20190531\"][\"종가\"])             # loc property\n",
    "print(df.iloc[4][3])                          # iloc property\n",
    "print(df.loc[\"20190531\", \"종가\"])             # loc property\n",
    "print(df.iloc[4, 3])                          # iloc property"
   ]
  },
  {
   "cell_type": "markdown",
   "id": "2b5cdd1a",
   "metadata": {},
   "source": [
    "## get_market_ohlcv_by_date() 함수는 수정 종가를 반영한 가격정보를 반환합니다. 만약 수정 종가를 반영하지 않은 데이터를 얻기 위해서는 adjusted 옵션을 False로 설정"
   ]
  },
  {
   "cell_type": "code",
   "execution_count": 16,
   "id": "32c296d5",
   "metadata": {},
   "outputs": [
    {
     "name": "stdout",
     "output_type": "stream",
     "text": [
      "              시가    고가    저가    종가      거래량\n",
      "날짜                                         \n",
      "2019-05-28  7460  7580  7400  7510  2170327\n",
      "2019-05-30  7420  7550  7400  7530  1331640\n"
     ]
    }
   ],
   "source": [
    "cond = df[\"종가\"] > df[\"시가\"]\n",
    "print(df[cond])"
   ]
  },
  {
   "cell_type": "code",
   "execution_count": 17,
   "id": "39b76302",
   "metadata": {},
   "outputs": [],
   "source": [
    "f = stock. get_market_ohlcv_by_date(\"20180101\", \"20190531\", \"005930\", adjusted=False)"
   ]
  },
  {
   "cell_type": "code",
   "execution_count": 18,
   "id": "aeee6db5",
   "metadata": {},
   "outputs": [
    {
     "data": {
      "text/html": [
       "<div>\n",
       "<style scoped>\n",
       "    .dataframe tbody tr th:only-of-type {\n",
       "        vertical-align: middle;\n",
       "    }\n",
       "\n",
       "    .dataframe tbody tr th {\n",
       "        vertical-align: top;\n",
       "    }\n",
       "\n",
       "    .dataframe thead th {\n",
       "        text-align: right;\n",
       "    }\n",
       "</style>\n",
       "<table border=\"1\" class=\"dataframe\">\n",
       "  <thead>\n",
       "    <tr style=\"text-align: right;\">\n",
       "      <th></th>\n",
       "      <th>시가</th>\n",
       "      <th>고가</th>\n",
       "      <th>저가</th>\n",
       "      <th>종가</th>\n",
       "      <th>거래량</th>\n",
       "      <th>거래대금</th>\n",
       "      <th>등락률</th>\n",
       "    </tr>\n",
       "    <tr>\n",
       "      <th>날짜</th>\n",
       "      <th></th>\n",
       "      <th></th>\n",
       "      <th></th>\n",
       "      <th></th>\n",
       "      <th></th>\n",
       "      <th></th>\n",
       "      <th></th>\n",
       "    </tr>\n",
       "  </thead>\n",
       "  <tbody>\n",
       "    <tr>\n",
       "      <th>2018-01-02</th>\n",
       "      <td>2569000</td>\n",
       "      <td>2570000</td>\n",
       "      <td>2539000</td>\n",
       "      <td>2551000</td>\n",
       "      <td>169485</td>\n",
       "      <td>432677351468</td>\n",
       "      <td>0.12</td>\n",
       "    </tr>\n",
       "    <tr>\n",
       "      <th>2018-01-03</th>\n",
       "      <td>2627000</td>\n",
       "      <td>2628000</td>\n",
       "      <td>2571000</td>\n",
       "      <td>2581000</td>\n",
       "      <td>200270</td>\n",
       "      <td>518345810160</td>\n",
       "      <td>1.18</td>\n",
       "    </tr>\n",
       "    <tr>\n",
       "      <th>2018-01-04</th>\n",
       "      <td>2606000</td>\n",
       "      <td>2609000</td>\n",
       "      <td>2532000</td>\n",
       "      <td>2554000</td>\n",
       "      <td>233909</td>\n",
       "      <td>600531577700</td>\n",
       "      <td>-1.05</td>\n",
       "    </tr>\n",
       "    <tr>\n",
       "      <th>2018-01-05</th>\n",
       "      <td>2565000</td>\n",
       "      <td>2606000</td>\n",
       "      <td>2560000</td>\n",
       "      <td>2606000</td>\n",
       "      <td>189623</td>\n",
       "      <td>490792925116</td>\n",
       "      <td>2.04</td>\n",
       "    </tr>\n",
       "    <tr>\n",
       "      <th>2018-01-08</th>\n",
       "      <td>2620000</td>\n",
       "      <td>2626000</td>\n",
       "      <td>2575000</td>\n",
       "      <td>2601000</td>\n",
       "      <td>167673</td>\n",
       "      <td>435974098536</td>\n",
       "      <td>-0.19</td>\n",
       "    </tr>\n",
       "    <tr>\n",
       "      <th>...</th>\n",
       "      <td>...</td>\n",
       "      <td>...</td>\n",
       "      <td>...</td>\n",
       "      <td>...</td>\n",
       "      <td>...</td>\n",
       "      <td>...</td>\n",
       "      <td>...</td>\n",
       "    </tr>\n",
       "    <tr>\n",
       "      <th>2019-05-27</th>\n",
       "      <td>42500</td>\n",
       "      <td>43000</td>\n",
       "      <td>42350</td>\n",
       "      <td>42650</td>\n",
       "      <td>8066669</td>\n",
       "      <td>344043547350</td>\n",
       "      <td>-0.12</td>\n",
       "    </tr>\n",
       "    <tr>\n",
       "      <th>2019-05-28</th>\n",
       "      <td>42550</td>\n",
       "      <td>42950</td>\n",
       "      <td>42150</td>\n",
       "      <td>42550</td>\n",
       "      <td>24506881</td>\n",
       "      <td>1042865612000</td>\n",
       "      <td>-0.23</td>\n",
       "    </tr>\n",
       "    <tr>\n",
       "      <th>2019-05-29</th>\n",
       "      <td>41850</td>\n",
       "      <td>42100</td>\n",
       "      <td>41300</td>\n",
       "      <td>41800</td>\n",
       "      <td>14930618</td>\n",
       "      <td>623333158995</td>\n",
       "      <td>-1.76</td>\n",
       "    </tr>\n",
       "    <tr>\n",
       "      <th>2019-05-30</th>\n",
       "      <td>42200</td>\n",
       "      <td>42700</td>\n",
       "      <td>42150</td>\n",
       "      <td>42550</td>\n",
       "      <td>11766018</td>\n",
       "      <td>499609785843</td>\n",
       "      <td>1.79</td>\n",
       "    </tr>\n",
       "    <tr>\n",
       "      <th>2019-05-31</th>\n",
       "      <td>42600</td>\n",
       "      <td>42800</td>\n",
       "      <td>42150</td>\n",
       "      <td>42500</td>\n",
       "      <td>11365999</td>\n",
       "      <td>483166570320</td>\n",
       "      <td>-0.12</td>\n",
       "    </tr>\n",
       "  </tbody>\n",
       "</table>\n",
       "<p>346 rows × 7 columns</p>\n",
       "</div>"
      ],
      "text/plain": [
       "                 시가       고가       저가       종가       거래량           거래대금   등락률\n",
       "날짜                                                                           \n",
       "2018-01-02  2569000  2570000  2539000  2551000    169485   432677351468  0.12\n",
       "2018-01-03  2627000  2628000  2571000  2581000    200270   518345810160  1.18\n",
       "2018-01-04  2606000  2609000  2532000  2554000    233909   600531577700 -1.05\n",
       "2018-01-05  2565000  2606000  2560000  2606000    189623   490792925116  2.04\n",
       "2018-01-08  2620000  2626000  2575000  2601000    167673   435974098536 -0.19\n",
       "...             ...      ...      ...      ...       ...            ...   ...\n",
       "2019-05-27    42500    43000    42350    42650   8066669   344043547350 -0.12\n",
       "2019-05-28    42550    42950    42150    42550  24506881  1042865612000 -0.23\n",
       "2019-05-29    41850    42100    41300    41800  14930618   623333158995 -1.76\n",
       "2019-05-30    42200    42700    42150    42550  11766018   499609785843  1.79\n",
       "2019-05-31    42600    42800    42150    42500  11365999   483166570320 -0.12\n",
       "\n",
       "[346 rows x 7 columns]"
      ]
     },
     "execution_count": 18,
     "metadata": {},
     "output_type": "execute_result"
    }
   ],
   "source": [
    "f"
   ]
  },
  {
   "cell_type": "code",
   "execution_count": 20,
   "id": "13107288",
   "metadata": {},
   "outputs": [
    {
     "data": {
      "text/html": [
       "<div>\n",
       "<style scoped>\n",
       "    .dataframe tbody tr th:only-of-type {\n",
       "        vertical-align: middle;\n",
       "    }\n",
       "\n",
       "    .dataframe tbody tr th {\n",
       "        vertical-align: top;\n",
       "    }\n",
       "\n",
       "    .dataframe thead th {\n",
       "        text-align: right;\n",
       "    }\n",
       "</style>\n",
       "<table border=\"1\" class=\"dataframe\">\n",
       "  <thead>\n",
       "    <tr style=\"text-align: right;\">\n",
       "      <th></th>\n",
       "      <th>시가</th>\n",
       "      <th>고가</th>\n",
       "      <th>저가</th>\n",
       "      <th>종가</th>\n",
       "      <th>거래량</th>\n",
       "      <th>거래대금</th>\n",
       "      <th>등락률</th>\n",
       "    </tr>\n",
       "    <tr>\n",
       "      <th>날짜</th>\n",
       "      <th></th>\n",
       "      <th></th>\n",
       "      <th></th>\n",
       "      <th></th>\n",
       "      <th></th>\n",
       "      <th></th>\n",
       "      <th></th>\n",
       "    </tr>\n",
       "  </thead>\n",
       "  <tbody>\n",
       "    <tr>\n",
       "      <th>2018-01-02</th>\n",
       "      <td>2569000</td>\n",
       "      <td>2570000</td>\n",
       "      <td>2539000</td>\n",
       "      <td>2551000</td>\n",
       "      <td>169485</td>\n",
       "      <td>432677351468</td>\n",
       "      <td>0.12</td>\n",
       "    </tr>\n",
       "    <tr>\n",
       "      <th>2018-01-03</th>\n",
       "      <td>2627000</td>\n",
       "      <td>2628000</td>\n",
       "      <td>2571000</td>\n",
       "      <td>2581000</td>\n",
       "      <td>200270</td>\n",
       "      <td>518345810160</td>\n",
       "      <td>1.18</td>\n",
       "    </tr>\n",
       "    <tr>\n",
       "      <th>2018-01-04</th>\n",
       "      <td>2606000</td>\n",
       "      <td>2609000</td>\n",
       "      <td>2532000</td>\n",
       "      <td>2554000</td>\n",
       "      <td>233909</td>\n",
       "      <td>600531577700</td>\n",
       "      <td>-1.05</td>\n",
       "    </tr>\n",
       "    <tr>\n",
       "      <th>2018-01-05</th>\n",
       "      <td>2565000</td>\n",
       "      <td>2606000</td>\n",
       "      <td>2560000</td>\n",
       "      <td>2606000</td>\n",
       "      <td>189623</td>\n",
       "      <td>490792925116</td>\n",
       "      <td>2.04</td>\n",
       "    </tr>\n",
       "    <tr>\n",
       "      <th>2018-01-08</th>\n",
       "      <td>2620000</td>\n",
       "      <td>2626000</td>\n",
       "      <td>2575000</td>\n",
       "      <td>2601000</td>\n",
       "      <td>167673</td>\n",
       "      <td>435974098536</td>\n",
       "      <td>-0.19</td>\n",
       "    </tr>\n",
       "  </tbody>\n",
       "</table>\n",
       "</div>"
      ],
      "text/plain": [
       "                 시가       고가       저가       종가     거래량          거래대금   등락률\n",
       "날짜                                                                        \n",
       "2018-01-02  2569000  2570000  2539000  2551000  169485  432677351468  0.12\n",
       "2018-01-03  2627000  2628000  2571000  2581000  200270  518345810160  1.18\n",
       "2018-01-04  2606000  2609000  2532000  2554000  233909  600531577700 -1.05\n",
       "2018-01-05  2565000  2606000  2560000  2606000  189623  490792925116  2.04\n",
       "2018-01-08  2620000  2626000  2575000  2601000  167673  435974098536 -0.19"
      ]
     },
     "execution_count": 20,
     "metadata": {},
     "output_type": "execute_result"
    }
   ],
   "source": [
    "f.head()"
   ]
  },
  {
   "cell_type": "code",
   "execution_count": null,
   "id": "f30019ab",
   "metadata": {},
   "outputs": [],
   "source": []
  }
 ],
 "metadata": {
  "kernelspec": {
   "display_name": "Python 3 (ipykernel)",
   "language": "python",
   "name": "python3"
  },
  "language_info": {
   "codemirror_mode": {
    "name": "ipython",
    "version": 3
   },
   "file_extension": ".py",
   "mimetype": "text/x-python",
   "name": "python",
   "nbconvert_exporter": "python",
   "pygments_lexer": "ipython3",
   "version": "3.9.6"
  }
 },
 "nbformat": 4,
 "nbformat_minor": 5
}
