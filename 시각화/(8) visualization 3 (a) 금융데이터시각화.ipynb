{
 "cells": [
  {
   "cell_type": "markdown",
   "id": "1d186077",
   "metadata": {},
   "source": [
    "# 데이터 시각화 툴 소개 "
   ]
  },
  {
   "cell_type": "markdown",
   "id": "7927115c",
   "metadata": {},
   "source": [
    "## matplotlib\n",
    "### https://matplotlib.org/3.1.1/tutorials/index.html\n",
    "\n",
    "## seaborn\n",
    "#### https://seaborn.pydata.org/index.html\n",
    "\n",
    "## pandas\n",
    "### https://pandas.pydata.org/pandas-docs/stable/user_guide/visualization.html"
   ]
  },
  {
   "cell_type": "code",
   "execution_count": null,
   "id": "7eec9161",
   "metadata": {},
   "outputs": [],
   "source": [
    "### https://excelsior-cjh.tistory.com/108"
   ]
  },
  {
   "cell_type": "code",
   "execution_count": null,
   "id": "a9059c0f",
   "metadata": {},
   "outputs": [],
   "source": [
    "# Plotly를 이용한 캔들차트-Candlestick chart 그리기이전에 포스팅한 \n",
    "# 3. 주식 데이터를 PostgreSQL에 저장하기에서 저장한 종목별 일자 데이터를 Python의 Plotly 모듈을 이용하여 캔들차트(Candlestick chart) 를 그려보도록 하자. \\rightarrow→ Plotly Python Library 참고\n",
    "# Plotly 는 온라인 데이터 분석 및 시각화를 해주는 분석 툴로써, \n",
    "# 2012년 몬트리올 퀘백에서 설립되었다. Plotly는Python 뿐만 아니라, R, MATLAB, Perl, Julia 등 다양한 언어를 지원한다. \n",
    "# 여기서는 Python에서 Plotly 모듈을 설치하여 사용하였다. \n",
    "# Plotly는 오프라인 과 온라인 에서 작업을 할 수 있는데 오프라인에서 작업하는 부분을 포스팅 하도록 한다. "
   ]
  },
  {
   "cell_type": "code",
   "execution_count": null,
   "id": "ec68ed9e",
   "metadata": {},
   "outputs": [],
   "source": [
    "1. Plotly 모듈 설치Python에서 Plotly 모듈을 사용하려면 pip명령어를 통해 Plotly를 설치해야한다\n"
   ]
  },
  {
   "cell_type": "markdown",
   "id": "fb62bc0d",
   "metadata": {},
   "source": [
    "#### https://plotly.com/python/getting-started/#initialization-for-online-plotting"
   ]
  },
  {
   "cell_type": "code",
   "execution_count": null,
   "id": "d9ef618e",
   "metadata": {},
   "outputs": [],
   "source": [
    "2. Plotly 를 이용해 Candlestick chart 그리기\n",
    "pip명령어를 통해 Plotly를 설치한 뒤 PostgreSQL에서 데이터를 조회하여 캔들차트(Candlestick Chart)를 그려보도록 한다.\n",
    "1) psycopg2 을 이용하여 PostgreSQL 연동이전에 포스팅한 \n",
    "3. 주식 데이터를 PostgreSQL에 저장하기에서 저장한 종목별 일자 데이터를 가져오기 위해psycopg2모듈을 이용하여 PostgreSQL과 연동한다.\n"
   ]
  },
  {
   "cell_type": "code",
   "execution_count": 4,
   "id": "8d8ea895",
   "metadata": {},
   "outputs": [
    {
     "name": "stdout",
     "output_type": "stream",
     "text": [
      "Collecting psycopg2\n",
      "  Downloading psycopg2-2.9.3-cp39-cp39-win_amd64.whl (1.2 MB)\n",
      "Installing collected packages: psycopg2\n",
      "Successfully installed psycopg2-2.9.3\n",
      "Note: you may need to restart the kernel to use updated packages.\n"
     ]
    },
    {
     "name": "stderr",
     "output_type": "stream",
     "text": [
      "WARNING: Ignoring invalid distribution -ip (c:\\users\\jyb\\appdata\\local\\programs\\python\\python39\\lib\\site-packages)\n",
      "WARNING: Ignoring invalid distribution -ip (c:\\users\\jyb\\appdata\\local\\programs\\python\\python39\\lib\\site-packages)\n",
      "WARNING: Ignoring invalid distribution -ip (c:\\users\\jyb\\appdata\\local\\programs\\python\\python39\\lib\\site-packages)\n",
      "WARNING: Ignoring invalid distribution -ip (c:\\users\\jyb\\appdata\\local\\programs\\python\\python39\\lib\\site-packages)\n",
      "WARNING: Ignoring invalid distribution -ip (c:\\users\\jyb\\appdata\\local\\programs\\python\\python39\\lib\\site-packages)\n",
      "WARNING: Ignoring invalid distribution -ip (c:\\users\\jyb\\appdata\\local\\programs\\python\\python39\\lib\\site-packages)\n",
      "WARNING: Ignoring invalid distribution -ip (c:\\users\\jyb\\appdata\\local\\programs\\python\\python39\\lib\\site-packages)\n"
     ]
    }
   ],
   "source": [
    "pip install psycopg2"
   ]
  },
  {
   "cell_type": "code",
   "execution_count": null,
   "id": "a0f0c294",
   "metadata": {},
   "outputs": [],
   "source": []
  },
  {
   "cell_type": "code",
   "execution_count": 5,
   "id": "093703be",
   "metadata": {},
   "outputs": [
    {
     "ename": "ProgrammingError",
     "evalue": "invalid dsn: missing \"=\" after \"비밀번호\" in connection info string\n",
     "output_type": "error",
     "traceback": [
      "\u001b[1;31m---------------------------------------------------------------------------\u001b[0m",
      "\u001b[1;31mProgrammingError\u001b[0m                          Traceback (most recent call last)",
      "\u001b[1;32m~\\AppData\\Local\\Temp/ipykernel_856/3537415871.py\u001b[0m in \u001b[0;36m<module>\u001b[1;34m\u001b[0m\n\u001b[0;32m      6\u001b[0m \u001b[0muser\u001b[0m \u001b[1;33m=\u001b[0m \u001b[1;34m'postgres'\u001b[0m\u001b[1;33m\u001b[0m\u001b[1;33m\u001b[0m\u001b[0m\n\u001b[0;32m      7\u001b[0m \u001b[0mpwd\u001b[0m \u001b[1;33m=\u001b[0m \u001b[1;34m'계정 비밀번호'\u001b[0m\u001b[1;33m\u001b[0m\u001b[1;33m\u001b[0m\u001b[0m\n\u001b[1;32m----> 8\u001b[1;33m \u001b[0mconn\u001b[0m \u001b[1;33m=\u001b[0m \u001b[0mpsycopg2\u001b[0m\u001b[1;33m.\u001b[0m\u001b[0mconnect\u001b[0m\u001b[1;33m(\u001b[0m\u001b[1;34m'host={0} dbname={1} user={2} password={3}'\u001b[0m\u001b[1;33m.\u001b[0m\u001b[0mformat\u001b[0m\u001b[1;33m(\u001b[0m\u001b[0mhost\u001b[0m\u001b[1;33m,\u001b[0m \u001b[0mdbname\u001b[0m\u001b[1;33m,\u001b[0m \u001b[0muser\u001b[0m\u001b[1;33m,\u001b[0m \u001b[0mpwd\u001b[0m\u001b[1;33m)\u001b[0m\u001b[1;33m)\u001b[0m\u001b[1;33m\u001b[0m\u001b[1;33m\u001b[0m\u001b[0m\n\u001b[0m\u001b[0;32m      9\u001b[0m \u001b[0mcur\u001b[0m \u001b[1;33m=\u001b[0m \u001b[0mconn\u001b[0m\u001b[1;33m.\u001b[0m\u001b[0mcursor\u001b[0m\u001b[1;33m(\u001b[0m\u001b[1;33m)\u001b[0m\u001b[1;33m\u001b[0m\u001b[1;33m\u001b[0m\u001b[0m\n",
      "\u001b[1;32mc:\\users\\jyb\\appdata\\local\\programs\\python\\python39\\lib\\site-packages\\psycopg2\\__init__.py\u001b[0m in \u001b[0;36mconnect\u001b[1;34m(dsn, connection_factory, cursor_factory, **kwargs)\u001b[0m\n\u001b[0;32m    119\u001b[0m         \u001b[0mkwasync\u001b[0m\u001b[1;33m[\u001b[0m\u001b[1;34m'async_'\u001b[0m\u001b[1;33m]\u001b[0m \u001b[1;33m=\u001b[0m \u001b[0mkwargs\u001b[0m\u001b[1;33m.\u001b[0m\u001b[0mpop\u001b[0m\u001b[1;33m(\u001b[0m\u001b[1;34m'async_'\u001b[0m\u001b[1;33m)\u001b[0m\u001b[1;33m\u001b[0m\u001b[1;33m\u001b[0m\u001b[0m\n\u001b[0;32m    120\u001b[0m \u001b[1;33m\u001b[0m\u001b[0m\n\u001b[1;32m--> 121\u001b[1;33m     \u001b[0mdsn\u001b[0m \u001b[1;33m=\u001b[0m \u001b[0m_ext\u001b[0m\u001b[1;33m.\u001b[0m\u001b[0mmake_dsn\u001b[0m\u001b[1;33m(\u001b[0m\u001b[0mdsn\u001b[0m\u001b[1;33m,\u001b[0m \u001b[1;33m**\u001b[0m\u001b[0mkwargs\u001b[0m\u001b[1;33m)\u001b[0m\u001b[1;33m\u001b[0m\u001b[1;33m\u001b[0m\u001b[0m\n\u001b[0m\u001b[0;32m    122\u001b[0m     \u001b[0mconn\u001b[0m \u001b[1;33m=\u001b[0m \u001b[0m_connect\u001b[0m\u001b[1;33m(\u001b[0m\u001b[0mdsn\u001b[0m\u001b[1;33m,\u001b[0m \u001b[0mconnection_factory\u001b[0m\u001b[1;33m=\u001b[0m\u001b[0mconnection_factory\u001b[0m\u001b[1;33m,\u001b[0m \u001b[1;33m**\u001b[0m\u001b[0mkwasync\u001b[0m\u001b[1;33m)\u001b[0m\u001b[1;33m\u001b[0m\u001b[1;33m\u001b[0m\u001b[0m\n\u001b[0;32m    123\u001b[0m     \u001b[1;32mif\u001b[0m \u001b[0mcursor_factory\u001b[0m \u001b[1;32mis\u001b[0m \u001b[1;32mnot\u001b[0m \u001b[1;32mNone\u001b[0m\u001b[1;33m:\u001b[0m\u001b[1;33m\u001b[0m\u001b[1;33m\u001b[0m\u001b[0m\n",
      "\u001b[1;32mc:\\users\\jyb\\appdata\\local\\programs\\python\\python39\\lib\\site-packages\\psycopg2\\extensions.py\u001b[0m in \u001b[0;36mmake_dsn\u001b[1;34m(dsn, **kwargs)\u001b[0m\n\u001b[0;32m    143\u001b[0m     \u001b[1;31m# If no kwarg is specified don't mung the dsn, but verify it\u001b[0m\u001b[1;33m\u001b[0m\u001b[1;33m\u001b[0m\u001b[1;33m\u001b[0m\u001b[0m\n\u001b[0;32m    144\u001b[0m     \u001b[1;32mif\u001b[0m \u001b[1;32mnot\u001b[0m \u001b[0mkwargs\u001b[0m\u001b[1;33m:\u001b[0m\u001b[1;33m\u001b[0m\u001b[1;33m\u001b[0m\u001b[0m\n\u001b[1;32m--> 145\u001b[1;33m         \u001b[0mparse_dsn\u001b[0m\u001b[1;33m(\u001b[0m\u001b[0mdsn\u001b[0m\u001b[1;33m)\u001b[0m\u001b[1;33m\u001b[0m\u001b[1;33m\u001b[0m\u001b[0m\n\u001b[0m\u001b[0;32m    146\u001b[0m         \u001b[1;32mreturn\u001b[0m \u001b[0mdsn\u001b[0m\u001b[1;33m\u001b[0m\u001b[1;33m\u001b[0m\u001b[0m\n\u001b[0;32m    147\u001b[0m \u001b[1;33m\u001b[0m\u001b[0m\n",
      "\u001b[1;31mProgrammingError\u001b[0m: invalid dsn: missing \"=\" after \"비밀번호\" in connection info string\n"
     ]
    }
   ],
   "source": [
    "import psycopg2\n",
    "\n",
    "# Connect to an existing database\n",
    "host = 'localhost'\n",
    "dbname = 'StockDB'\n",
    "user = 'postgres'\n",
    "pwd = '계정 비밀번호'\n",
    "conn = psycopg2.connect('host={0} dbname={1} user={2} password={3}'.format(host, dbname, user, pwd))\n",
    "cur = conn.cursor()\n"
   ]
  },
  {
   "cell_type": "code",
   "execution_count": null,
   "id": "cad75fa6",
   "metadata": {},
   "outputs": [],
   "source": [
    "2) pandas를 이용하여 데이터 가져오기(조회)psycopg2를 이용하여 PostgreSQL을 연동하였으면 pandas를 이용하여 데이터를 조회(SELECT) 한다. pandas를 사용하는 이유는 데이터를 가져온 뒤 핸들링 할때 편리하기 때문에 pandas 를 이용하였다. pandas 모듈이 없는 경우에는 pip install pandas 명령어를 통해 설치할 수 있다. 아래의 코드는 셀트리온의 일자별 주식 데이터를 가져오는 예제이다\n"
   ]
  },
  {
   "cell_type": "code",
   "execution_count": null,
   "id": "ff5ec868",
   "metadata": {},
   "outputs": [],
   "source": [
    "import pandas as pd\n",
    "\n",
    "df = pd.read_sql(\"SELECT corp_name, date_time, open_price,\\\n",
    "                        high_price, low_price, close_price\\\n",
    "                        FROM daily_stock_price WHERE corp_name='셀트리온'\", conn)\n"
   ]
  },
  {
   "cell_type": "code",
   "execution_count": null,
   "id": "688caba1",
   "metadata": {},
   "outputs": [],
   "source": [
    "# Plotly를 이용하여 캔들차트 그리기\n",
    "# 마지막으로 plotly를 이용하여 Candlestick Chart를 그려보도록 한다\n"
   ]
  },
  {
   "cell_type": "code",
   "execution_count": null,
   "id": "5cb52a26",
   "metadata": {},
   "outputs": [],
   "source": [
    "import plotly.offline as offline\n",
    "import plotly.graph_objs as go\n",
    "\n",
    "# jupyter notebook 에서 출력\n",
    "offline.init_notebook_mode(connected=True) \n",
    "\n",
    "trace = go.Candlestick(x=df.date_time,\n",
    "                       open=df.open_price,\n",
    "                       high=df.high_price,\n",
    "                       low=df.low_price,\n",
    "                       close=df.close_price)\n",
    "\n",
    "data = [trace]\n",
    "\n",
    "layout = go.Layout(title='셀트리온 캔들차트')\n",
    "fig = go.Figure(data=data, layout=layout)\n",
    "offline.iplot(fig, filename=\"candlestick\")\n"
   ]
  },
  {
   "cell_type": "code",
   "execution_count": null,
   "id": "ef303868",
   "metadata": {},
   "outputs": [],
   "source": []
  },
  {
   "cell_type": "code",
   "execution_count": null,
   "id": "1996ff64",
   "metadata": {},
   "outputs": [],
   "source": [
    "# 주식 데이터를 PostgreSQL에 저장하기\n",
    "\n",
    "# https://excelsior-cjh.tistory.com/entry/3"
   ]
  }
 ],
 "metadata": {
  "kernelspec": {
   "display_name": "Python 3 (ipykernel)",
   "language": "python",
   "name": "python3"
  },
  "language_info": {
   "codemirror_mode": {
    "name": "ipython",
    "version": 3
   },
   "file_extension": ".py",
   "mimetype": "text/x-python",
   "name": "python",
   "nbconvert_exporter": "python",
   "pygments_lexer": "ipython3",
   "version": "3.9.6"
  }
 },
 "nbformat": 4,
 "nbformat_minor": 5
}
