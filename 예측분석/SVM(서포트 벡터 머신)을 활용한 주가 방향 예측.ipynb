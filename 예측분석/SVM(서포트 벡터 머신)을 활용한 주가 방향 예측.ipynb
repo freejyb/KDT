{
 "cells": [
  {
   "cell_type": "markdown",
   "id": "9f358a93",
   "metadata": {},
   "source": [
    "##SVM(서포트 벡터 머신)을 활용한 주가 방향 예측"
   ]
  },
  {
   "cell_type": "code",
   "execution_count": null,
   "id": "121a5448",
   "metadata": {},
   "outputs": [],
   "source": [
    "#https://direction-f.tistory.com/18  참고"
   ]
  },
  {
   "cell_type": "code",
   "execution_count": null,
   "id": "e908f678",
   "metadata": {},
   "outputs": [],
   "source": []
  },
  {
   "cell_type": "code",
   "execution_count": null,
   "id": "d918ac68",
   "metadata": {},
   "outputs": [],
   "source": []
  }
 ],
 "metadata": {
  "kernelspec": {
   "display_name": "Python 3 (ipykernel)",
   "language": "python",
   "name": "python3"
  },
  "language_info": {
   "codemirror_mode": {
    "name": "ipython",
    "version": 3
   },
   "file_extension": ".py",
   "mimetype": "text/x-python",
   "name": "python",
   "nbconvert_exporter": "python",
   "pygments_lexer": "ipython3",
   "version": "3.9.6"
  }
 },
 "nbformat": 4,
 "nbformat_minor": 5
}
