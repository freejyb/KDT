{
 "cells": [
  {
   "cell_type": "markdown",
   "id": "ea95af09",
   "metadata": {},
   "source": [
    "##CNN을 활용한 주가 방향 예측"
   ]
  },
  {
   "cell_type": "code",
   "execution_count": null,
   "id": "07af9e68",
   "metadata": {},
   "outputs": [],
   "source": [
    "# https://direction-f.tistory.com/19  참고 바람"
   ]
  },
  {
   "cell_type": "code",
   "execution_count": null,
   "id": "00c13ca9",
   "metadata": {},
   "outputs": [],
   "source": []
  }
 ],
 "metadata": {
  "kernelspec": {
   "display_name": "Python 3 (ipykernel)",
   "language": "python",
   "name": "python3"
  },
  "language_info": {
   "codemirror_mode": {
    "name": "ipython",
    "version": 3
   },
   "file_extension": ".py",
   "mimetype": "text/x-python",
   "name": "python",
   "nbconvert_exporter": "python",
   "pygments_lexer": "ipython3",
   "version": "3.9.6"
  }
 },
 "nbformat": 4,
 "nbformat_minor": 5
}
