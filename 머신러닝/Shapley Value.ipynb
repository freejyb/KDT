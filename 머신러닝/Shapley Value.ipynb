{
 "cells": [
  {
   "cell_type": "markdown",
   "id": "1272cbea",
   "metadata": {},
   "source": [
    "### 셰이플리 값 (Shapley Value)"
   ]
  },
  {
   "cell_type": "code",
   "execution_count": null,
   "id": "e15b1283",
   "metadata": {},
   "outputs": [],
   "source": [
    "# 셰이플리 값 (Shapley Value)\n",
    "# 셰이플리 값은 협력 게임 이론에서 각 참여자가 전체 협력에 기여한 가치를 공정하게 배분하기 위해 사용되는 개념\n",
    "# 이는 로이드 셰이플리(Lloyd Shapley)가 1953년에 제안한 개념으로, \n",
    "# 공정성과 효율성을 동시에 고려하여 배분 문제를 해결하는 데 사용"
   ]
  },
  {
   "cell_type": "code",
   "execution_count": null,
   "id": "14170bcf",
   "metadata": {},
   "outputs": [],
   "source": [
    "# 3명의 플레이어 𝐴, 𝐵, 𝐶가 있는 게임에서 특성 함수 \n",
    "# 𝑣가 다음과 같이 주어졌다고 가정\n",
    "# 𝑣(∅)=0,𝑣({𝐴})=1,𝑣({𝐵})=2,𝑣({𝐶})=2\n",
    "# 𝑣({𝐴,𝐵})=3,𝑣({𝐴,𝐶})=3,𝑣({𝐵,𝐶})=4,𝑣({𝐴,𝐵,𝐶})=5\n"
   ]
  },
  {
   "cell_type": "code",
   "execution_count": 1,
   "id": "b2705b0b",
   "metadata": {},
   "outputs": [
    {
     "name": "stdout",
     "output_type": "stream",
     "text": [
      "Shapley Values: [1.0, 2.0, 2.0]\n"
     ]
    }
   ],
   "source": [
    "import itertools\n",
    "\n",
    "def shapley_value(v, N):\n",
    "    \"\"\"\n",
    "    Calculate the Shapley value for each player in the game.\n",
    "\n",
    "    Parameters:\n",
    "    v (function): Characteristic function defining the value of each coalition.\n",
    "    N (int): Total number of players.\n",
    "\n",
    "    Returns:\n",
    "    list: Shapley value for each player.\n",
    "    \"\"\"\n",
    "    factorial = lambda n: 1 if n == 0 else n * factorial(n-1)\n",
    "    \n",
    "    def marginal_contribution(S, i):\n",
    "        S_with_i = set(S).union({i})\n",
    "        return v(S_with_i) - v(S)\n",
    "    \n",
    "    shapley_values = []\n",
    "    for i in range(1, N+1):\n",
    "        shapley_value_i = 0\n",
    "        for S in itertools.chain.from_iterable(itertools.combinations(range(1, N+1), r) for r in range(N)):\n",
    "            if i not in S:\n",
    "                S = set(S)\n",
    "                weight = factorial(len(S)) * factorial(N - len(S) - 1) / factorial(N)\n",
    "                shapley_value_i += weight * marginal_contribution(S, i)\n",
    "        shapley_values.append(shapley_value_i)\n",
    "    \n",
    "    return shapley_values\n",
    "\n",
    "# Example usage\n",
    "v = lambda S: {\n",
    "    frozenset(): 0, frozenset({1}): 1, frozenset({2}): 2, frozenset({3}): 2,\n",
    "    frozenset({1, 2}): 3, frozenset({1, 3}): 3, frozenset({2, 3}): 4, frozenset({1, 2, 3}): 5\n",
    "}[frozenset(S)]\n",
    "\n",
    "N = 3\n",
    "shapley_values = shapley_value(v, N)\n",
    "print(f\"Shapley Values: {shapley_values}\")\n"
   ]
  },
  {
   "cell_type": "code",
   "execution_count": null,
   "id": "3a97e091",
   "metadata": {},
   "outputs": [],
   "source": []
  }
 ],
 "metadata": {
  "kernelspec": {
   "display_name": "Python 3 (ipykernel)",
   "language": "python",
   "name": "python3"
  },
  "language_info": {
   "codemirror_mode": {
    "name": "ipython",
    "version": 3
   },
   "file_extension": ".py",
   "mimetype": "text/x-python",
   "name": "python",
   "nbconvert_exporter": "python",
   "pygments_lexer": "ipython3",
   "version": "3.9.11"
  },
  "toc": {
   "base_numbering": 1,
   "nav_menu": {},
   "number_sections": true,
   "sideBar": true,
   "skip_h1_title": false,
   "title_cell": "Table of Contents",
   "title_sidebar": "Contents",
   "toc_cell": false,
   "toc_position": {},
   "toc_section_display": true,
   "toc_window_display": false
  }
 },
 "nbformat": 4,
 "nbformat_minor": 5
}
