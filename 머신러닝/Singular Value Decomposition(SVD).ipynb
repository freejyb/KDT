{
 "cells": [
  {
   "cell_type": "markdown",
   "id": "c22db93f-2147-4db3-87b3-79f6f15e6803",
   "metadata": {},
   "source": [
    "특이값 분해(Singular Value Decomposition, SVD)**는 행렬을 세 개의 행렬로 분해하여 원래 행렬의 특성을 분석하는 방법입니다. \n",
    "\n",
    "SVD는 선형대수에서 중요한 역할을 하며, 특히 데이터 압축, 차원 축소, 잡음 제거 등 다양한 분야에 널리 사용됩니다.\n",
    "\n",
    "SVD의 정의 : 특이값 분해는 다음과 같은 형태로 주어진 임의의 행렬 \n",
    "\n",
    "𝐴를 세 행렬의 곱으로 표현하는 방법입니다:"
   ]
  },
  {
   "cell_type": "markdown",
   "id": "0e4f7171-6ed1-4cf2-9993-7aa588d3cc59",
   "metadata": {},
   "source": [
    "SVD의 구성 요소\n",
    "\n",
    "1.특이값 (Singular Values) :행렬 Σ의 대각선 요소들은 특이값입니다.\n",
    "    \n",
    "2.왼쪽 특이 벡터 (Columns of 𝑈) :행렬 U의 열은 원래 행렬의 행 공간(row space)*과 관련된 정보를 포함합니다.\n",
    "    \n",
    "3.오른쪽 특이 벡터 (Columns of 𝑉) :행렬 𝑉의 열은 열 공간(column space)*에 관한 정보를 제공합니다."
   ]
  },
  {
   "cell_type": "code",
   "execution_count": null,
   "id": "15260a4b-1cfa-4f7f-86f8-2af6d24d36af",
   "metadata": {},
   "outputs": [],
   "source": [
    "# 코드 설명\n",
    "# np.linalg.svd(A)는 𝐴에 대해 SVD를 수행합니다.\n",
    "# 𝑈: 왼쪽 특이 벡터를 포함하는 행렬.\n",
    "# Σ: 특이값을 포함하는 벡터. 대각 행렬로 만들어질 수 있습니다.\n",
    "# 𝑉𝑇: 오른쪽 특이 벡터의 전치 행렬."
   ]
  },
  {
   "cell_type": "code",
   "execution_count": 2,
   "id": "21fd440f-7baa-4768-ba10-d8117c6cda1e",
   "metadata": {},
   "outputs": [
    {
     "name": "stdout",
     "output_type": "stream",
     "text": [
      "Matrix A:\n",
      "[[1 2]\n",
      " [3 4]\n",
      " [5 6]]\n",
      "\n",
      "Left singular vectors (U):\n",
      "[[-0.2298477   0.88346102  0.40824829]\n",
      " [-0.52474482  0.24078249 -0.81649658]\n",
      " [-0.81964194 -0.40189603  0.40824829]]\n",
      "\n",
      "Singular values (Sigma):\n",
      "[9.52551809 0.51430058]\n",
      "\n",
      "Right singular vectors (V^T):\n",
      "[[-0.61962948 -0.78489445]\n",
      " [-0.78489445  0.61962948]]\n"
     ]
    }
   ],
   "source": [
    "import numpy as np\n",
    "\n",
    "# Define a sample matrix A\n",
    "A = np.array([[1, 2], [3, 4], [5, 6]])\n",
    "\n",
    "# Perform Singular Value Decomposition\n",
    "U, Sigma, VT = np.linalg.svd(A)\n",
    "\n",
    "# Display the results\n",
    "print(\"Matrix A:\")\n",
    "print(A)\n",
    "print(\"\\nLeft singular vectors (U):\")\n",
    "print(U)\n",
    "print(\"\\nSingular values (Sigma):\")\n",
    "print(Sigma)\n",
    "print(\"\\nRight singular vectors (V^T):\")\n",
    "print(VT)\n"
   ]
  },
  {
   "cell_type": "code",
   "execution_count": null,
   "id": "7ab7679d-d348-4000-ab9e-27b3771391ed",
   "metadata": {},
   "outputs": [],
   "source": []
  },
  {
   "cell_type": "code",
   "execution_count": null,
   "id": "69760a14-3142-4c36-8606-fb9ccf054ef6",
   "metadata": {},
   "outputs": [],
   "source": [
    "# 코드 설명\n",
    "# 행렬 𝐴 정의:\n",
    "# 3x3 행렬 𝐴를 정의합니다.\n",
    "# SVD 수행:\n",
    "# np.linalg.svd(A)를 통해 행렬 A를 특이값 분해합니다.\n",
    "# 𝑈, Σ, 𝑉𝑇 를 구합니다.\n",
    "# Σ 행렬 변환:\n",
    "# Σ는 벡터로 반환되므로, 이를 풀 Σ 대각 행렬로 변환합니다.\n",
    "# 출력:\n",
    "# U,Σ, 𝑉𝑇 , 그리고 복원된 행렬을 출력합니다.\n",
    "# np.allclose()를 통해 복원된 행렬과 원래 행렬이 유사한지 확인합니다."
   ]
  },
  {
   "cell_type": "code",
   "execution_count": 1,
   "id": "63070f30-cf0b-40ff-a88f-37a2427ca0cd",
   "metadata": {},
   "outputs": [
    {
     "name": "stdout",
     "output_type": "stream",
     "text": [
      "Matrix A:\n",
      "[[ 3  1  1]\n",
      " [-1  3  1]\n",
      " [ 1  1  5]]\n",
      "\n",
      "Left singular vectors (U):\n",
      "[[-0.37120189  0.57930352 -0.72568353]\n",
      " [-0.29511116 -0.8146028  -0.49933123]\n",
      " [-0.88040818  0.02880461  0.47334104]]\n",
      "\n",
      "Singular values (Sigma):\n",
      "[5.75682289 3.16880566 2.41198278]\n",
      "\n",
      "Sigma as a full diagonal matrix:\n",
      "[[5.75682289 0.         0.        ]\n",
      " [0.         3.16880566 0.        ]\n",
      " [0.         0.         2.41198278]]\n",
      "\n",
      "Right singular vectors (V^T):\n",
      "[[-0.29511116 -0.37120189 -0.88040818]\n",
      " [ 0.8146028  -0.57930352 -0.02880461]\n",
      " [-0.49933123 -0.72568353  0.47334104]]\n",
      "\n",
      "Reconstructed Matrix A (using U, Sigma, V^T):\n",
      "[[ 3.  1.  1.]\n",
      " [-1.  3.  1.]\n",
      " [ 1.  1.  5.]]\n",
      "\n",
      "Is the reconstructed matrix close to the original A?: True\n"
     ]
    }
   ],
   "source": [
    "import numpy as np\n",
    "\n",
    "# Define a new sample matrix A (3x3 matrix)\n",
    "A = np.array([[3, 1, 1],\n",
    "              [-1, 3, 1],\n",
    "              [1, 1, 5]])\n",
    "\n",
    "# Perform Singular Value Decomposition\n",
    "U, Sigma, VT = np.linalg.svd(A)\n",
    "\n",
    "# Convert Sigma to a diagonal matrix\n",
    "Sigma_full = np.zeros((A.shape[0], A.shape[1]))\n",
    "np.fill_diagonal(Sigma_full, Sigma)\n",
    "\n",
    "# Display the results\n",
    "print(\"Matrix A:\")\n",
    "print(A)\n",
    "print(\"\\nLeft singular vectors (U):\")\n",
    "print(U)\n",
    "print(\"\\nSingular values (Sigma):\")\n",
    "print(Sigma)\n",
    "print(\"\\nSigma as a full diagonal matrix:\")\n",
    "print(Sigma_full)\n",
    "print(\"\\nRight singular vectors (V^T):\")\n",
    "print(VT)\n",
    "\n",
    "# Reconstruct A using U, Sigma, and V^T\n",
    "A_reconstructed = np.dot(U, np.dot(Sigma_full, VT))\n",
    "print(\"\\nReconstructed Matrix A (using U, Sigma, V^T):\")\n",
    "print(A_reconstructed)\n",
    "\n",
    "# Check if the original and reconstructed matrices are close\n",
    "is_reconstructed = np.allclose(A, A_reconstructed)\n",
    "print(\"\\nIs the reconstructed matrix close to the original A?:\", is_reconstructed)\n"
   ]
  },
  {
   "cell_type": "code",
   "execution_count": null,
   "id": "fd7d0ca7-e989-4abe-964b-9eac1b9c543f",
   "metadata": {},
   "outputs": [],
   "source": []
  }
 ],
 "metadata": {
  "kernelspec": {
   "display_name": "Python 3 (ipykernel)",
   "language": "python",
   "name": "python3"
  },
  "language_info": {
   "codemirror_mode": {
    "name": "ipython",
    "version": 3
   },
   "file_extension": ".py",
   "mimetype": "text/x-python",
   "name": "python",
   "nbconvert_exporter": "python",
   "pygments_lexer": "ipython3",
   "version": "3.9.11"
  }
 },
 "nbformat": 4,
 "nbformat_minor": 5
}
