{
 "cells": [
  {
   "cell_type": "markdown",
   "id": "e5d1ab5f",
   "metadata": {},
   "source": [
    "## 벡터와 행렬 표기"
   ]
  },
  {
   "cell_type": "code",
   "execution_count": 19,
   "id": "087874a1",
   "metadata": {},
   "outputs": [],
   "source": [
    "# 기본 라이브러리 호출하기\n",
    "import numpy as np  # 선형대수학을 위한 파이썬 라이브러리\n",
    "import matplotlib.pylab as plt  "
   ]
  },
  {
   "cell_type": "code",
   "execution_count": 23,
   "id": "9ed629d9",
   "metadata": {},
   "outputs": [
    {
     "data": {
      "text/plain": [
       "array([[1],\n",
       "       [3],\n",
       "       [5],\n",
       "       [7]])"
      ]
     },
     "execution_count": 23,
     "metadata": {},
     "output_type": "execute_result"
    }
   ],
   "source": [
    "# 벡터x  2차원 배열로\n",
    "x = np.array([[1], [3], [5], [7]])\n",
    "x"
   ]
  },
  {
   "cell_type": "code",
   "execution_count": 25,
   "id": "8a684184",
   "metadata": {},
   "outputs": [
    {
     "data": {
      "text/plain": [
       "array([1, 3, 5, 7])"
      ]
     },
     "execution_count": 25,
     "metadata": {},
     "output_type": "execute_result"
    }
   ],
   "source": [
    "# 1차원 배열 객체\n",
    "x1 = np.array([1, 3, 5, 7])\n",
    "x1"
   ]
  },
  {
   "cell_type": "code",
   "execution_count": 26,
   "id": "77113d7a",
   "metadata": {},
   "outputs": [
    {
     "data": {
      "text/plain": [
       "array([[11, 12, 13],\n",
       "       [21, 22, 23]])"
      ]
     },
     "execution_count": 26,
     "metadata": {},
     "output_type": "execute_result"
    }
   ],
   "source": [
    "## 행렬\n",
    "# 넘파이를 이용 2차원 행렬 표기\n",
    "\n",
    "x2 = np.array([[11,12,13],[21,22,23]])\n",
    "x2"
   ]
  },
  {
   "cell_type": "code",
   "execution_count": null,
   "id": "e25dc606",
   "metadata": {},
   "outputs": [],
   "source": []
  },
  {
   "cell_type": "code",
   "execution_count": null,
   "id": "4ed8bfac",
   "metadata": {},
   "outputs": [],
   "source": []
  },
  {
   "cell_type": "markdown",
   "id": "26e7fcbb",
   "metadata": {},
   "source": [
    "## 벡터와 행렬 사칙연산"
   ]
  },
  {
   "cell_type": "code",
   "execution_count": 1,
   "id": "74a0153a",
   "metadata": {},
   "outputs": [],
   "source": [
    "# 기본 라이브러리 호출하기\n",
    "import numpy as np\n",
    "import matplotlib.pylab as plt"
   ]
  },
  {
   "cell_type": "code",
   "execution_count": 2,
   "id": "437478ff",
   "metadata": {},
   "outputs": [],
   "source": [
    "# 1차원 배열로 벡터를 표시\n",
    "x = np.array([1, 2, 3, 4])\n",
    "y = np.array([10, 11, 12, 13])"
   ]
  },
  {
   "cell_type": "code",
   "execution_count": 3,
   "id": "fd4e20c3",
   "metadata": {},
   "outputs": [
    {
     "data": {
      "text/plain": [
       "array([11, 13, 15, 17])"
      ]
     },
     "execution_count": 3,
     "metadata": {},
     "output_type": "execute_result"
    }
   ],
   "source": [
    "# 뎃셈\n",
    "x + y"
   ]
  },
  {
   "cell_type": "code",
   "execution_count": 4,
   "id": "589f440a",
   "metadata": {},
   "outputs": [
    {
     "data": {
      "text/plain": [
       "array([-9, -9, -9, -9])"
      ]
     },
     "execution_count": 4,
     "metadata": {},
     "output_type": "execute_result"
    }
   ],
   "source": [
    "x - y"
   ]
  },
  {
   "cell_type": "code",
   "execution_count": 5,
   "id": "49e61559",
   "metadata": {},
   "outputs": [
    {
     "data": {
      "text/plain": [
       "array([9, 9, 9, 9])"
      ]
     },
     "execution_count": 5,
     "metadata": {},
     "output_type": "execute_result"
    }
   ],
   "source": [
    "y-x"
   ]
  },
  {
   "cell_type": "code",
   "execution_count": null,
   "id": "c65a45f8",
   "metadata": {},
   "outputs": [],
   "source": [
    "# 행렬 뎃셈"
   ]
  },
  {
   "cell_type": "code",
   "execution_count": 15,
   "id": "e5862117",
   "metadata": {},
   "outputs": [],
   "source": [
    "a = np.array([[1, 2], [3, 4]])\n",
    "b = np.array([[10, 20], [30, 40]])\n",
    "c = np.array([[5, 6], [7, 8]])"
   ]
  },
  {
   "cell_type": "code",
   "execution_count": 16,
   "id": "bd682895",
   "metadata": {},
   "outputs": [
    {
     "data": {
      "text/plain": [
       "array([[11, 22],\n",
       "       [33, 44]])"
      ]
     },
     "execution_count": 16,
     "metadata": {},
     "output_type": "execute_result"
    }
   ],
   "source": [
    "a+b"
   ]
  },
  {
   "cell_type": "code",
   "execution_count": 17,
   "id": "4bdfeb93",
   "metadata": {},
   "outputs": [
    {
     "data": {
      "text/plain": [
       "array([[ 5, 14],\n",
       "       [23, 32]])"
      ]
     },
     "execution_count": 17,
     "metadata": {},
     "output_type": "execute_result"
    }
   ],
   "source": [
    "b-c"
   ]
  },
  {
   "cell_type": "code",
   "execution_count": 18,
   "id": "d41bcb27",
   "metadata": {},
   "outputs": [
    {
     "data": {
      "text/plain": [
       "array([[ 6, 16],\n",
       "       [26, 36]])"
      ]
     },
     "execution_count": 18,
     "metadata": {},
     "output_type": "execute_result"
    }
   ],
   "source": [
    "a+b-c"
   ]
  },
  {
   "cell_type": "code",
   "execution_count": null,
   "id": "b4aa6137",
   "metadata": {},
   "outputs": [],
   "source": []
  },
  {
   "cell_type": "code",
   "execution_count": null,
   "id": "892d1c79",
   "metadata": {},
   "outputs": [],
   "source": []
  },
  {
   "cell_type": "code",
   "execution_count": null,
   "id": "0895525f",
   "metadata": {},
   "outputs": [],
   "source": [
    "# 벡터와 벡터 곱셈"
   ]
  },
  {
   "cell_type": "code",
   "execution_count": 28,
   "id": "4b88dddd",
   "metadata": {},
   "outputs": [
    {
     "data": {
      "text/plain": [
       "array([[140]])"
      ]
     },
     "execution_count": 28,
     "metadata": {},
     "output_type": "execute_result"
    }
   ],
   "source": [
    "#  곱셉을 @ 연산자로 계산\n",
    "x = np.array([[1], [2], [3]])\n",
    "y = np.array([[10], [20], [30]])\n",
    "\n",
    "x.T @ y  "
   ]
  },
  {
   "cell_type": "code",
   "execution_count": 29,
   "id": "5ff8c8c7",
   "metadata": {},
   "outputs": [
    {
     "data": {
      "text/plain": [
       "array([[140]])"
      ]
     },
     "execution_count": 29,
     "metadata": {},
     "output_type": "execute_result"
    }
   ],
   "source": [
    "#  곱셉을 np.dot\n",
    "x = np.array([[1], [2], [3]])\n",
    "y = np.array([[10], [20], [30]])\n",
    "np.dot(x.T, y)"
   ]
  },
  {
   "cell_type": "code",
   "execution_count": null,
   "id": "6af6d90a",
   "metadata": {},
   "outputs": [],
   "source": [
    "# 행렬 곱셉"
   ]
  },
  {
   "cell_type": "code",
   "execution_count": 31,
   "id": "709689e4",
   "metadata": {},
   "outputs": [
    {
     "data": {
      "text/plain": [
       "array([[220, 280],\n",
       "       [490, 640]])"
      ]
     },
     "execution_count": 31,
     "metadata": {},
     "output_type": "execute_result"
    }
   ],
   "source": [
    "A = np.array([[1, 2, 3], [4, 5, 6]])\n",
    "B = np.array([[10, 20], [30, 40], [50, 60]])\n",
    "A @ B"
   ]
  },
  {
   "cell_type": "code",
   "execution_count": 32,
   "id": "7e8a599c",
   "metadata": {},
   "outputs": [
    {
     "data": {
      "text/plain": [
       "array([[ 90, 120, 150],\n",
       "       [190, 260, 330],\n",
       "       [290, 400, 510]])"
      ]
     },
     "execution_count": 32,
     "metadata": {},
     "output_type": "execute_result"
    }
   ],
   "source": [
    "# 행렬 교환법칙 성립하지 않는다\n",
    "A = np.array([[1, 2, 3], [4, 5, 6]])\n",
    "B = np.array([[10, 20], [30, 40], [50, 60]])\n",
    "B @ A"
   ]
  },
  {
   "cell_type": "code",
   "execution_count": null,
   "id": "d4f0e336",
   "metadata": {},
   "outputs": [],
   "source": []
  }
 ],
 "metadata": {
  "kernelspec": {
   "display_name": "Python 3 (ipykernel)",
   "language": "python",
   "name": "python3"
  },
  "language_info": {
   "codemirror_mode": {
    "name": "ipython",
    "version": 3
   },
   "file_extension": ".py",
   "mimetype": "text/x-python",
   "name": "python",
   "nbconvert_exporter": "python",
   "pygments_lexer": "ipython3",
   "version": "3.9.6"
  }
 },
 "nbformat": 4,
 "nbformat_minor": 5
}
