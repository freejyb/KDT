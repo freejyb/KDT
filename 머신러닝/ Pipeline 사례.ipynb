{
 "cells": [
  {
   "cell_type": "markdown",
   "id": "a82f7061-5200-4504-823e-c926ba28757e",
   "metadata": {},
   "source": [
    "## Pipeline"
   ]
  },
  {
   "cell_type": "markdown",
   "id": "ce5c31bf-8361-4eca-9d35-3b09a4c2e096",
   "metadata": {},
   "source": [
    "imblearn 라이브러리에서 파이프라인(Pipeline)은 데이터 전처리 → 샘플링 → 모델 학습 과정을 한 번에 연결해서 처리할 수 있는 기능"
   ]
  },
  {
   "cell_type": "markdown",
   "id": "19cf404b-cc92-488f-bed7-5eb88f63a47b",
   "metadata": {},
   "source": [
    "- 전처리 단계: StandardScaler, MinMaxScaler 등 데이터 스케일링\n",
    "- 샘플링 단계: SMOTE, RandomUnderSampler, ADASYN, SMOTEENN 등\n",
    "- 모델 학습 단계: RandomForestClassifier, LogisticRegression 등"
   ]
  },
  {
   "cell_type": "code",
   "execution_count": 6,
   "id": "158b91f4-ef46-44b8-892c-5a9197aac551",
   "metadata": {},
   "outputs": [
    {
     "name": "stdout",
     "output_type": "stream",
     "text": [
      "Original dataset shape: Counter({0: 892, 1: 108})\n",
      "              precision    recall  f1-score   support\n",
      "\n",
      "           0       1.00      1.00      1.00       263\n",
      "           1       0.97      1.00      0.99        37\n",
      "\n",
      "    accuracy                           1.00       300\n",
      "   macro avg       0.99      1.00      0.99       300\n",
      "weighted avg       1.00      1.00      1.00       300\n",
      "\n"
     ]
    }
   ],
   "source": [
    "from imblearn.pipeline import Pipeline\n",
    "from imblearn.over_sampling import SMOTE\n",
    "from sklearn.ensemble import RandomForestClassifier\n",
    "from sklearn.preprocessing import StandardScaler\n",
    "from sklearn.datasets import make_classification\n",
    "from sklearn.model_selection import train_test_split\n",
    "from sklearn.metrics import classification_report\n",
    "from collections import Counter\n",
    "\n",
    "# 1. 불균형 데이터셋 생성\n",
    "X, y = make_classification(\n",
    "    n_classes=2, class_sep=2,\n",
    "    weights=[0.9, 0.1], # 불균형 데이터 비율\n",
    "    n_informative=3, n_redundant=1,\n",
    "    n_features=10, n_clusters_per_class=1,\n",
    "    n_samples=1000, random_state=42\n",
    ")\n",
    "\n",
    "print(f\"Original dataset shape: {Counter(y)}\")\n",
    "\n",
    "X_train, X_test, y_train, y_test = train_test_split(X, y, test_size=0.3, random_state=42)\n",
    "\n",
    "# 2. 파이프라인 구성\n",
    "pipeline = Pipeline(steps=[\n",
    "    ('scaler', StandardScaler()),\n",
    "    ('smote', SMOTE(random_state=42)),\n",
    "    ('clf', RandomForestClassifier(random_state=42))\n",
    "])\n",
    "\n",
    "# 3. 모델 학습\n",
    "pipeline.fit(X_train, y_train)\n",
    "\n",
    "# 4. 평가\n",
    "y_pred = pipeline.predict(X_test)\n",
    "print(classification_report(y_test, y_pred))\n"
   ]
  },
  {
   "cell_type": "markdown",
   "id": "1fc379c0-c1bc-4900-bf63-73ff097e26f3",
   "metadata": {},
   "source": [
    "## 다중 분류 : 로지스틱회귀"
   ]
  },
  {
   "cell_type": "code",
   "execution_count": 7,
   "id": "d84e6054-1406-48d0-999b-546de6172bbb",
   "metadata": {},
   "outputs": [
    {
     "name": "stdout",
     "output_type": "stream",
     "text": [
      "Original dataset shape: Counter({0: 1045, 1: 304, 2: 151})\n",
      "\n",
      "=== Classification Report ===\n",
      "              precision    recall  f1-score   support\n",
      "\n",
      "           0       0.98      0.98      0.98       314\n",
      "           1       0.99      0.97      0.98        91\n",
      "           2       0.91      0.96      0.93        45\n",
      "\n",
      "    accuracy                           0.98       450\n",
      "   macro avg       0.96      0.97      0.97       450\n",
      "weighted avg       0.98      0.98      0.98       450\n",
      "\n"
     ]
    },
    {
     "name": "stderr",
     "output_type": "stream",
     "text": [
      "C:\\Users\\JYB\\AppData\\Local\\Programs\\Python\\Python39\\lib\\site-packages\\sklearn\\linear_model\\_logistic.py:1247: FutureWarning: 'multi_class' was deprecated in version 1.5 and will be removed in 1.7. From then on, it will always use 'multinomial'. Leave it to its default value to avoid this warning.\n",
      "  warnings.warn(\n"
     ]
    }
   ],
   "source": [
    "from imblearn.pipeline import Pipeline\n",
    "from imblearn.over_sampling import SMOTE\n",
    "from sklearn.linear_model import LogisticRegression\n",
    "from sklearn.preprocessing import StandardScaler\n",
    "from sklearn.datasets import make_classification\n",
    "from sklearn.model_selection import train_test_split\n",
    "from sklearn.metrics import classification_report\n",
    "from collections import Counter\n",
    "\n",
    "# 1. 불균형 다중 클래스 데이터셋 생성\n",
    "X, y = make_classification(\n",
    "    n_classes=3, class_sep=2,\n",
    "    weights=[0.7, 0.2, 0.1],  # 클래스 비율 7:2:1\n",
    "    n_informative=5, n_redundant=2,\n",
    "    n_features=12, n_clusters_per_class=1,\n",
    "    n_samples=1500, random_state=42\n",
    ")\n",
    "\n",
    "print(f\"Original dataset shape: {Counter(y)}\")\n",
    "\n",
    "# 학습/테스트 데이터 분리\n",
    "X_train, X_test, y_train, y_test = train_test_split(\n",
    "    X, y, test_size=0.3, random_state=42, stratify=y\n",
    ")\n",
    "\n",
    "# 2. 파이프라인 구성\n",
    "pipeline = Pipeline(steps=[\n",
    "    ('scaler', StandardScaler()),\n",
    "    ('smote', SMOTE(random_state=42)),\n",
    "    ('clf', LogisticRegression(max_iter=1000, multi_class='multinomial', solver='lbfgs', random_state=42))\n",
    "])\n",
    "\n",
    "# 3. 모델 학습\n",
    "pipeline.fit(X_train, y_train)\n",
    "\n",
    "# 4. 평가\n",
    "y_pred = pipeline.predict(X_test)\n",
    "print(\"\\n=== Classification Report ===\")\n",
    "print(classification_report(y_test, y_pred))\n"
   ]
  },
  {
   "cell_type": "code",
   "execution_count": null,
   "id": "8f008a24-5da4-49a0-985f-b9df82148c01",
   "metadata": {},
   "outputs": [],
   "source": []
  },
  {
   "cell_type": "markdown",
   "id": "bdacbe24-3283-49f0-8f57-773b9498cfa6",
   "metadata": {},
   "source": [
    "### 세 가지 파이프라인(기본, SMOTE, SMOTEENN)의 Precision / Recall / F1 막대그래프를 표시"
   ]
  },
  {
   "cell_type": "code",
   "execution_count": 5,
   "id": "aa3c93f0-6e52-4c09-bbf6-c5f463c75dce",
   "metadata": {},
   "outputs": [
    {
     "name": "stdout",
     "output_type": "stream",
     "text": [
      "=== 모델별 성능 비교 ===\n",
      "                    Model  Precision    Recall        F1  Accuracy\n",
      "0  Baseline (No Sampling)   0.934066  0.825243  0.876289     0.976\n",
      "1                   SMOTE   0.716535  0.883495  0.791304     0.952\n",
      "2                SMOTEENN   0.715385  0.902913  0.798283     0.953\n"
     ]
    },
    {
     "data": {
      "image/png": "[encoded data removed]",
      "text/plain": [
       "<Figure size 600x400 with 1 Axes>"
      ]
     },
     "metadata": {},
     "output_type": "display_data"
    },
    {
     "data": {
      "image/png": "[encoded data removed]",
      "text/plain": [
       "<Figure size 600x400 with 1 Axes>"
      ]
     },
     "metadata": {},
     "output_type": "display_data"
    },
    {
     "data": {
      "image/png": "[encoded data removed]",
      "text/plain": [
       "<Figure size 600x400 with 1 Axes>"
      ]
     },
     "metadata": {},
     "output_type": "display_data"
    }
   ],
   "source": [
    "import numpy as np\n",
    "import pandas as pd\n",
    "import matplotlib.pyplot as plt\n",
    "\n",
    "from sklearn.datasets import make_classification\n",
    "from sklearn.model_selection import train_test_split\n",
    "from sklearn.preprocessing import StandardScaler\n",
    "from sklearn.linear_model import LogisticRegression\n",
    "from sklearn.metrics import precision_recall_fscore_support, accuracy_score\n",
    "\n",
    "from imblearn.pipeline import Pipeline\n",
    "from imblearn.over_sampling import SMOTE\n",
    "from imblearn.combine import SMOTEENN\n",
    "\n",
    "# 1) 불균형 데이터셋 생성\n",
    "X, y = make_classification(\n",
    "    n_samples=4000,\n",
    "    n_features=20,\n",
    "    n_informative=6,\n",
    "    n_redundant=4,\n",
    "    n_classes=2,\n",
    "    weights=[0.9, 0.1],  # 불균형 비율 설정\n",
    "    class_sep=1.5,\n",
    "    random_state=42,\n",
    ")\n",
    "\n",
    "X_train, X_test, y_train, y_test = train_test_split(\n",
    "    X, y, test_size=0.25, random_state=42, stratify=y\n",
    ")\n",
    "\n",
    "# 2) 세 가지 파이프라인 정의\n",
    "clf = LogisticRegression(max_iter=1000, random_state=42)\n",
    "\n",
    "pipelines = {\n",
    "    \"Baseline (No Sampling)\": Pipeline([\n",
    "        (\"scaler\", StandardScaler()),\n",
    "        (\"clf\", clf),\n",
    "    ]),\n",
    "    \"SMOTE\": Pipeline([\n",
    "        (\"scaler\", StandardScaler()),\n",
    "        (\"smote\", SMOTE(random_state=42)),\n",
    "        (\"clf\", clf),\n",
    "    ]),\n",
    "    \"SMOTEENN\": Pipeline([\n",
    "        (\"scaler\", StandardScaler()),\n",
    "        (\"smoteenn\", SMOTEENN(random_state=42)),\n",
    "        (\"clf\", clf),\n",
    "    ]),\n",
    "}\n",
    "\n",
    "# 3) 학습 및 평가\n",
    "records = []\n",
    "for name, pipe in pipelines.items():\n",
    "    pipe.fit(X_train, y_train)\n",
    "    y_pred = pipe.predict(X_test)\n",
    "    prec, rec, f1, _ = precision_recall_fscore_support(\n",
    "        y_test, y_pred, average=\"binary\", zero_division=0\n",
    "    )\n",
    "    acc = accuracy_score(y_test, y_pred)\n",
    "    records.append({\n",
    "        \"Model\": name,\n",
    "        \"Precision\": prec,\n",
    "        \"Recall\": rec,\n",
    "        \"F1\": f1,\n",
    "        \"Accuracy\": acc,\n",
    "    })\n",
    "\n",
    "df = pd.DataFrame(records).sort_values(\"Model\").reset_index(drop=True)\n",
    "\n",
    "# 4) 결과 저장\n",
    "df.to_csv(\"imblearn_pipeline_comparison.csv\", index=False)\n",
    "print(\"=== 모델별 성능 비교 ===\")\n",
    "print(df)\n",
    "\n",
    "# 5) Precision, Recall, F1 시각화\n",
    "metrics = [\"Precision\", \"Recall\", \"F1\"]\n",
    "for metric in metrics:\n",
    "    plt.figure(figsize=(6, 4))\n",
    "    plt.bar(df[\"Model\"], df[metric])\n",
    "    plt.title(metric)\n",
    "    plt.ylabel(metric)\n",
    "    plt.xticks(rotation=20, ha=\"right\")\n",
    "    plt.ylim(0, 1)\n",
    "    plt.tight_layout()\n",
    "    plt.show()\n"
   ]
  },
  {
   "cell_type": "code",
   "execution_count": null,
   "id": "4b222926-5f03-49c0-91d0-648fb3ecc2c1",
   "metadata": {},
   "outputs": [],
   "source": []
  }
 ],
 "metadata": {
  "kernelspec": {
   "display_name": "Python 3 (ipykernel)",
   "language": "python",
   "name": "python3"
  },
  "language_info": {
   "codemirror_mode": {
    "name": "ipython",
    "version": 3
   },
   "file_extension": ".py",
   "mimetype": "text/x-python",
   "name": "python",
   "nbconvert_exporter": "python",
   "pygments_lexer": "ipython3",
   "version": "3.9.11"
  }
 },
 "nbformat": 4,
 "nbformat_minor": 5
}
