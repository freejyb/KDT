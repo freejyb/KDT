{
 "cells": [
  {
   "cell_type": "code",
   "execution_count": 1,
   "id": "703bb613",
   "metadata": {},
   "outputs": [],
   "source": [
    "import numpy as np\n",
    "from numpy import dot\n",
    "from numpy.linalg import norm"
   ]
  },
  {
   "cell_type": "code",
   "execution_count": 2,
   "id": "b55528f3",
   "metadata": {},
   "outputs": [],
   "source": [
    "# 코사인 유사도 계산 함수\n",
    "\n",
    "def cosine_similarity(A, B):\n",
    "    return dot(A, B)/(norm(A)*norm(B))"
   ]
  },
  {
   "cell_type": "code",
   "execution_count": 4,
   "id": "ab743f6a",
   "metadata": {},
   "outputs": [],
   "source": [
    "# 문서-단어 행렬(DTM) 세팅\n",
    "\n",
    "doc1 = np.array([1,1,1,1,0,0,0])\n",
    "doc2 = np.array([0,0,0,1,1,1,1])\n",
    "doc3 = np.array([1,1,0,1,0,0,1])"
   ]
  },
  {
   "cell_type": "code",
   "execution_count": 5,
   "id": "8f8cad66",
   "metadata": {},
   "outputs": [
    {
     "name": "stdout",
     "output_type": "stream",
     "text": [
      "1. 문서1-문서2 간 유사도: 0.25\n",
      "2. 문서1-문서3 간 유사도: 0.75\n",
      "3. 문서2-문서3 간 유사도: 0.5\n"
     ]
    }
   ],
   "source": [
    "# 문서 간 유사도 확인\n",
    "\n",
    "print(f\"1. 문서1-문서2 간 유사도: {cosine_similarity(doc1, doc2)}\")\n",
    "print(f\"2. 문서1-문서3 간 유사도: {cosine_similarity(doc1, doc3)}\")\n",
    "print(f\"3. 문서2-문서3 간 유사도: {cosine_similarity(doc2, doc3)}\")"
   ]
  },
  {
   "cell_type": "code",
   "execution_count": null,
   "id": "0b010f36",
   "metadata": {},
   "outputs": [],
   "source": []
  },
  {
   "cell_type": "code",
   "execution_count": 6,
   "id": "8a6ac747",
   "metadata": {},
   "outputs": [],
   "source": [
    "import numpy as np"
   ]
  },
  {
   "cell_type": "code",
   "execution_count": 7,
   "id": "dc3682d7",
   "metadata": {},
   "outputs": [],
   "source": [
    "# 유클리드 거리 계산 함수\n",
    "\n",
    "def euclidean_distance(A, B):   \n",
    "    return np.sqrt(np.sum((A-B)**2))"
   ]
  },
  {
   "cell_type": "code",
   "execution_count": 10,
   "id": "f3d3adca",
   "metadata": {},
   "outputs": [],
   "source": [
    "# 문서-단어행렬(DTM) 준비\n",
    "\n",
    "d1 = np.array([1,1,1,1,0,0,0])\n",
    "d2 = np.array([0,0,0,1,1,1,1])\n",
    "d3 = np.array([1,1,0,1,0,0,1])"
   ]
  },
  {
   "cell_type": "code",
   "execution_count": 11,
   "id": "2e4d84b5",
   "metadata": {},
   "outputs": [
    {
     "name": "stdout",
     "output_type": "stream",
     "text": [
      "1. 문서1-문서2 간 유사도: 2.449489742783178\n",
      "2. 문서1-문서3 간 유사도: 1.4142135623730951\n",
      "3. 문서2-문서3 간 유사도: 2.0\n"
     ]
    }
   ],
   "source": [
    "print(f\"1. 문서1-문서2 간 유사도: {euclidean_distance(d1, d2)}\")\n",
    "print(f\"2. 문서1-문서3 간 유사도: {euclidean_distance(d1, d3)}\")\n",
    "print(f\"3. 문서2-문서3 간 유사도: {euclidean_distance(d2, d3)}\")"
   ]
  },
  {
   "cell_type": "code",
   "execution_count": null,
   "id": "e25956d2",
   "metadata": {},
   "outputs": [],
   "source": []
  }
 ],
 "metadata": {
  "kernelspec": {
   "display_name": "Python 3 (ipykernel)",
   "language": "python",
   "name": "python3"
  },
  "language_info": {
   "codemirror_mode": {
    "name": "ipython",
    "version": 3
   },
   "file_extension": ".py",
   "mimetype": "text/x-python",
   "name": "python",
   "nbconvert_exporter": "python",
   "pygments_lexer": "ipython3",
   "version": "3.9.6"
  },
  "toc": {
   "base_numbering": 1,
   "nav_menu": {},
   "number_sections": true,
   "sideBar": true,
   "skip_h1_title": false,
   "title_cell": "Table of Contents",
   "title_sidebar": "Contents",
   "toc_cell": false,
   "toc_position": {},
   "toc_section_display": true,
   "toc_window_display": false
  }
 },
 "nbformat": 4,
 "nbformat_minor": 5
}
