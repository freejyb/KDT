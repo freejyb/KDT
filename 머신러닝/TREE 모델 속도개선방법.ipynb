{
 "cells": [
  {
   "cell_type": "markdown",
   "id": "f350eef0",
   "metadata": {},
   "source": [
    "## TREE 모델 속도개선"
   ]
  },
  {
   "cell_type": "code",
   "execution_count": null,
   "id": "d84da4ca",
   "metadata": {},
   "outputs": [],
   "source": [
    "# 1. 히스토그램 방식(Histogram-based): \n",
    "# 데이터를 구간으로 나누고 각 구간의 빈도를 계산하여 데이터를 간소화하는 방식입니다. \n",
    "# 이를 통해 데이터의 분포를 파악하고 모델 학습에 활용할 수 있습니다.\n",
    "\n",
    "# 2. GOSS(Gradient-based One-Side Sampling): \n",
    "# GOSS는 그라디언트 기반의 한쪽 샘플링 방법으로, 중요도가 높은 샘플에 더 많은 비중을 두어 학습을 진행하는 방식입니다. \n",
    "# 이를 통해 계산량을 줄이고 학습 속도를 높일 수 있습니다.\n",
    "\n",
    "# 3. EFB(Exclusive Feature Bundle): \n",
    "# EFB는 상호 배타적인 특징 번들을 사용하여 다수의 특징을 하나의 번들로 묶는 방식입니다. \n",
    "# 이 방법은 고차원 데이터의 특징 수를 줄여 계산 복잡도를 낮추고 모델 학습 속도를 향상시킵니다."
   ]
  },
  {
   "cell_type": "code",
   "execution_count": null,
   "id": "6372f2c3",
   "metadata": {},
   "outputs": [],
   "source": [
    "# 데이터 분포를 쉽게 파악하고자 할 때: 히스토그램 방식\n",
    "# 중요한 샘플을 우선적으로 학습하고자 할 때: GOSS\n",
    "# 차원 축소와 메모리 절약이 필요한 경우: EFB"
   ]
  },
  {
   "cell_type": "markdown",
   "id": "2902e135",
   "metadata": {},
   "source": [
    "## 히스토그램 방식 (Histogram-based)"
   ]
  },
  {
   "cell_type": "code",
   "execution_count": 1,
   "id": "b6b4919b",
   "metadata": {},
   "outputs": [
    {
     "data": {
      "image/png": "[encoded data removed]",
      "text/plain": [
       "<Figure size 432x288 with 1 Axes>"
      ]
     },
     "metadata": {
      "needs_background": "light"
     },
     "output_type": "display_data"
    }
   ],
   "source": [
    "import numpy as np\n",
    "import pandas as pd\n",
    "from sklearn.datasets import make_classification\n",
    "import matplotlib.pyplot as plt\n",
    "\n",
    "# 데이터 생성\n",
    "X, y = make_classification(n_samples=1000, n_features=20, random_state=42)\n",
    "\n",
    "# 히스토그램 기반 데이터 간소화 함수\n",
    "def histogram_based_reduction(X, bins=10):\n",
    "    \"\"\"\n",
    "    데이터를 히스토그램을 사용하여 간소화하는 함수\n",
    "    X: 입력 데이터 (numpy 배열)\n",
    "    bins: 히스토그램 구간 수 (기본값: 10)\n",
    "    \"\"\"\n",
    "    X_reduced = np.zeros_like(X)  # 원본 데이터와 동일한 형태의 배열 생성\n",
    "    for i in range(X.shape[1]):  # 각 특징(feature)에 대해 반복\n",
    "        # 히스토그램을 사용하여 각 특징의 값을 구간으로 나누고 인덱스로 변환\n",
    "        X_reduced[:, i] = np.digitize(X[:, i], bins=np.histogram(X[:, i], bins=bins)[1]) - 1\n",
    "    return X_reduced  # 간소화된 데이터 반환\n",
    "\n",
    "# 데이터 간소화 적용\n",
    "X_reduced = histogram_based_reduction(X)\n",
    "\n",
    "# 결과 시각화 (첫 번째 특징에 대한 히스토그램)\n",
    "plt.hist(X[:, 0], bins=10, alpha=0.5, label='Original')  # 원본 데이터 히스토그램\n",
    "plt.hist(X_reduced[:, 0], bins=10, alpha=0.5, label='Reduced')  # 간소화된 데이터 히스토그램\n",
    "plt.legend(loc='upper right')\n",
    "plt.show()\n"
   ]
  },
  {
   "cell_type": "markdown",
   "id": "de450097",
   "metadata": {},
   "source": [
    "## GOSS (Gradient-based One-Side Sampling)"
   ]
  },
  {
   "cell_type": "markdown",
   "id": "3a0d39c5",
   "metadata": {},
   "source": [
    "### LIGFTGBM  사례"
   ]
  },
  {
   "cell_type": "code",
   "execution_count": 12,
   "id": "4b3c751d",
   "metadata": {},
   "outputs": [
    {
     "name": "stdout",
     "output_type": "stream",
     "text": [
      "Training until validation scores don't improve for 10 rounds\n",
      "Early stopping, best iteration is:\n",
      "[6]\tvalid_0's binary_error: 0.09\n"
     ]
    },
    {
     "data": {
      "image/png": "[encoded data removed]",
      "text/plain": [
       "<Figure size 432x288 with 2 Axes>"
      ]
     },
     "metadata": {
      "needs_background": "light"
     },
     "output_type": "display_data"
    },
    {
     "name": "stdout",
     "output_type": "stream",
     "text": [
      "Accuracy: 0.91\n",
      "              precision    recall  f1-score   support\n",
      "\n",
      "           0       0.85      0.98      0.91        93\n",
      "           1       0.98      0.85      0.91       107\n",
      "\n",
      "    accuracy                           0.91       200\n",
      "   macro avg       0.91      0.91      0.91       200\n",
      "weighted avg       0.92      0.91      0.91       200\n",
      "\n"
     ]
    }
   ],
   "source": [
    "import lightgbm as lgb\n",
    "from sklearn.model_selection import train_test_split\n",
    "from sklearn.metrics import accuracy_score, confusion_matrix, ConfusionMatrixDisplay, classification_report\n",
    "import matplotlib.pyplot as plt\n",
    "from sklearn.datasets import make_classification\n",
    "\n",
    "# 데이터 생성\n",
    "X, y = make_classification(n_samples=1000, n_features=20, random_state=42)\n",
    "# 데이터 분할 (훈련 데이터와 테스트 데이터로 나눔)\n",
    "X_train, X_test, y_train, y_test = train_test_split(X, y, test_size=0.2, random_state=42)\n",
    "\n",
    "# LightGBM 모델 학습 (GOSS 적용)\n",
    "params = {\n",
    "    'boosting_type': 'goss',  # GOSS 부스팅 유형 사용\n",
    "    'objective': 'binary',  # 이진 분류 목적 함수\n",
    "    'metric': 'binary_error',  # 평가 지표로 이진 오류 사용\n",
    "    'learning_rate': 0.1,  # 학습률\n",
    "    'num_leaves': 31,  # 리프 노드 수\n",
    "    'verbose': -1  # 출력 레벨 설정 (경고 메시지 억제)\n",
    "}\n",
    "\n",
    "# LightGBM 데이터셋 생성\n",
    "lgb_train = lgb.Dataset(X_train, y_train)\n",
    "lgb_eval = lgb.Dataset(X_test, y_test, reference=lgb_train)\n",
    "\n",
    "# 조기 종료 콜백 설정\n",
    "callbacks = [lgb.early_stopping(stopping_rounds=10)]\n",
    "\n",
    "# 모델 학습\n",
    "gbm = lgb.train(params, lgb_train, num_boost_round=100, valid_sets=lgb_eval, callbacks=callbacks)\n",
    "\n",
    "# 예측 및 평가\n",
    "y_pred = gbm.predict(X_test, num_iteration=gbm.best_iteration)  # 예측 수행\n",
    "y_pred_binary = [1 if x > 0.5 else 0 for x in y_pred]  # 이진 분류 결과로 변환\n",
    "\n",
    "# 혼돈 행렬 계산\n",
    "cm = confusion_matrix(y_test, y_pred_binary)\n",
    "disp = ConfusionMatrixDisplay(confusion_matrix=cm)\n",
    "disp.plot(cmap=plt.cm.Blues)\n",
    "plt.show()\n",
    "\n",
    "# 정밀도, 재현율, F1-Score 계산 및 출력\n",
    "report = classification_report(y_test, y_pred_binary)\n",
    "print('Accuracy:', accuracy_score(y_test, y_pred_binary))  # 정확도 출력\n",
    "print(report)  # 정밀도, 재현율, F1-Score 출력\n"
   ]
  },
  {
   "cell_type": "markdown",
   "id": "1602febb",
   "metadata": {},
   "source": [
    "### 조기 종료(Early Stopping) 콜백 설정"
   ]
  },
  {
   "cell_type": "code",
   "execution_count": null,
   "id": "e3c59f21",
   "metadata": {},
   "outputs": [],
   "source": [
    "#  머신러닝 모델의 학습 과정에서 과적합을 방지하고 최적의 성능을 가진 모델을 선택하기 위해 사용됩니다.\n",
    "#         조기 종료는 검증 데이터(validation set)에서 일정 횟수 이상 성능이 향상되지 않으면 학습을 중지하는 방법입니다. \n",
    "#     이는 학습 시간이 절약되고 모델이 불필요하게 복잡해지는 것을 막아줍니다."
   ]
  },
  {
   "cell_type": "code",
   "execution_count": null,
   "id": "d97d3519",
   "metadata": {},
   "outputs": [],
   "source": []
  },
  {
   "cell_type": "markdown",
   "id": "6cd20c62",
   "metadata": {},
   "source": [
    "#### 콜백 설정"
   ]
  },
  {
   "cell_type": "code",
   "execution_count": null,
   "id": "07a24269",
   "metadata": {},
   "outputs": [],
   "source": [
    "# callbacks = [lgb.early_stopping(stopping_rounds=10)]\n",
    "\n",
    "# LightGBM에서는 lgb.early_stopping 콜백을 사용하여 조기 종료를 설정합니다. \n",
    "# 이를 위해서는 callbacks 매개변수를 lgb.train 함수에 전달해야 합니다\n",
    "\n",
    "# lgb.early_stopping은 검증 데이터셋의 성능이 stopping_rounds 동안 향상되지 않으면 학습을 중지합니다. \n",
    "# 여기서 stopping_rounds=10은 10번의 라운드 동안 성능이 향상되지 않으면 학습을 중지하라는 의미입니다"
   ]
  },
  {
   "cell_type": "markdown",
   "id": "f35aeeeb",
   "metadata": {},
   "source": [
    "#### 모델 학습"
   ]
  },
  {
   "cell_type": "code",
   "execution_count": null,
   "id": "68e70e70",
   "metadata": {},
   "outputs": [],
   "source": [
    "# gbm = lgb.train(params, lgb_train, num_boost_round=100, valid_sets=lgb_eval, callbacks=callbacks)\n",
    "\n",
    "\n",
    "# lgb.train 함수에 callbacks 매개변수를 전달하여 조기 종료 콜백을 설정합니다. \n",
    "# 이 예제에서는 최대 100번의 부스팅 라운드를 수행하되, 10번 동안 성능이 향상되지 않으면 학습을 중지합니다."
   ]
  },
  {
   "cell_type": "markdown",
   "id": "cbb21e22",
   "metadata": {},
   "source": [
    "#### 예측 및 평가"
   ]
  },
  {
   "cell_type": "code",
   "execution_count": null,
   "id": "d1ae30cc",
   "metadata": {},
   "outputs": [],
   "source": [
    "# y_pred = gbm.predict(X_test, num_iteration=gbm.best_iteration)\n",
    "# y_pred_binary = [1 if x > 0.5 else 0 for x in y_pred]\n",
    "\n",
    "# 조기 종료로 학습이 중지된 최적의 부스팅 라운드를 사용하여 예측을 수행합니다.\n",
    "\n",
    "# 조기 종료는 모델의 일반화 성능을 높이고 학습 시간을 단축하는 데 매우 유용합니다. \n",
    "# LightGBM 외에도 다른 머신러닝 라이브러리에서도 유사한 방식으로 조기 종료를 설정할 수 있습니다."
   ]
  },
  {
   "cell_type": "markdown",
   "id": "975441ed",
   "metadata": {},
   "source": [
    "#### 다양한 트리모델"
   ]
  },
  {
   "cell_type": "markdown",
   "id": "266b630a",
   "metadata": {},
   "source": [
    "##### 배깅"
   ]
  },
  {
   "cell_type": "code",
   "execution_count": null,
   "id": "978cb531",
   "metadata": {},
   "outputs": [],
   "source": [
    "# 배깅에서 조기 종료 설정 예제 (Random Forest 사용)\n",
    "# 배깅의 대표적인 사례인 랜덤 포레스트(Random Forest)는 조기 종료를 직접적으로 지원하지 않지만, \n",
    "# 개별 결정 트리에 대해 최대 깊이나 최소 샘플 수 등의 매개변수를 조정하여 과적합을 방지할 수 있다.\n",
    "\n",
    "\n",
    "# 배깅: 배깅 자체에는 조기 종료 개념이 없지만, \n",
    "#     개별 모델의 과적합을 방지하기 위해 최대 깊이(max_depth), 최소 샘플 수(min_samples_split) 등의 매개변수를 조정할 수 있습니다."
   ]
  },
  {
   "cell_type": "markdown",
   "id": "334e0cc6",
   "metadata": {},
   "source": [
    "##### 부스팅(Boosting)"
   ]
  },
  {
   "cell_type": "code",
   "execution_count": null,
   "id": "c4345ac6",
   "metadata": {},
   "outputs": [],
   "source": [
    "# 부스팅은 모델을 순차적으로 학습시키며, 이전 모델의 오차를 보완하는 방식으로 동작합니다. \n",
    "# 부스팅 알고리즘에서는 조기 종료를 설정하여 모델의 학습을 조기에 멈추게 할 수 있습니다. \n",
    "# 조기 종료는 특히 LightGBM, XGBoost와 같은 부스팅 라이브러리에서 많이 사용됩니다."
   ]
  },
  {
   "cell_type": "markdown",
   "id": "1fb310ac",
   "metadata": {},
   "source": [
    "### XGBoost 경우"
   ]
  },
  {
   "cell_type": "code",
   "execution_count": 16,
   "id": "bb8404f0",
   "metadata": {},
   "outputs": [
    {
     "name": "stdout",
     "output_type": "stream",
     "text": [
      "[0]\teval-logloss:0.63617\ttrain-logloss:0.61820\n",
      "[1]\teval-logloss:0.58841\ttrain-logloss:0.55504\n",
      "[2]\teval-logloss:0.54545\ttrain-logloss:0.50149\n",
      "[3]\teval-logloss:0.51126\ttrain-logloss:0.45605\n",
      "[4]\teval-logloss:0.48396\ttrain-logloss:0.41722\n",
      "[5]\teval-logloss:0.45753\ttrain-logloss:0.38141\n",
      "[6]\teval-logloss:0.43340\ttrain-logloss:0.34972\n",
      "[7]\teval-logloss:0.41468\ttrain-logloss:0.32200\n",
      "[8]\teval-logloss:0.39883\ttrain-logloss:0.29828\n",
      "[9]\teval-logloss:0.38409\ttrain-logloss:0.27586\n",
      "[10]\teval-logloss:0.37122\ttrain-logloss:0.25533\n",
      "[11]\teval-logloss:0.35965\ttrain-logloss:0.23757\n",
      "[12]\teval-logloss:0.35234\ttrain-logloss:0.22250\n",
      "[13]\teval-logloss:0.34582\ttrain-logloss:0.20882\n",
      "[14]\teval-logloss:0.33982\ttrain-logloss:0.19603\n",
      "[15]\teval-logloss:0.33556\ttrain-logloss:0.18481\n",
      "[16]\teval-logloss:0.33163\ttrain-logloss:0.17360\n",
      "[17]\teval-logloss:0.32620\ttrain-logloss:0.16322\n",
      "[18]\teval-logloss:0.32437\ttrain-logloss:0.15479\n",
      "[19]\teval-logloss:0.31896\ttrain-logloss:0.14638\n",
      "[20]\teval-logloss:0.31405\ttrain-logloss:0.13855\n",
      "[21]\teval-logloss:0.30960\ttrain-logloss:0.13132\n",
      "[22]\teval-logloss:0.31107\ttrain-logloss:0.12512\n",
      "[23]\teval-logloss:0.31074\ttrain-logloss:0.11905\n",
      "[24]\teval-logloss:0.30864\ttrain-logloss:0.11301\n",
      "[25]\teval-logloss:0.30807\ttrain-logloss:0.10794\n",
      "[26]\teval-logloss:0.30701\ttrain-logloss:0.10334\n",
      "[27]\teval-logloss:0.30508\ttrain-logloss:0.09862\n",
      "[28]\teval-logloss:0.30436\ttrain-logloss:0.09429\n",
      "[29]\teval-logloss:0.30431\ttrain-logloss:0.09071\n",
      "[30]\teval-logloss:0.30364\ttrain-logloss:0.08708\n",
      "[31]\teval-logloss:0.30489\ttrain-logloss:0.08378\n",
      "[32]\teval-logloss:0.30378\ttrain-logloss:0.08029\n",
      "[33]\teval-logloss:0.30249\ttrain-logloss:0.07744\n",
      "[34]\teval-logloss:0.30336\ttrain-logloss:0.07494\n",
      "[35]\teval-logloss:0.30571\ttrain-logloss:0.07214\n",
      "[36]\teval-logloss:0.30716\ttrain-logloss:0.06992\n",
      "[37]\teval-logloss:0.30792\ttrain-logloss:0.06710\n",
      "[38]\teval-logloss:0.30713\ttrain-logloss:0.06494\n",
      "[39]\teval-logloss:0.30867\ttrain-logloss:0.06292\n",
      "[40]\teval-logloss:0.31019\ttrain-logloss:0.06069\n",
      "[41]\teval-logloss:0.30997\ttrain-logloss:0.05893\n",
      "[42]\teval-logloss:0.31225\ttrain-logloss:0.05721\n",
      "[43]\teval-logloss:0.31270\ttrain-logloss:0.05568\n",
      "[44]\teval-logloss:0.31304\ttrain-logloss:0.05432\n",
      "[45]\teval-logloss:0.31500\ttrain-logloss:0.05248\n",
      "[46]\teval-logloss:0.31493\ttrain-logloss:0.05114\n",
      "[47]\teval-logloss:0.31690\ttrain-logloss:0.04972\n",
      "[48]\teval-logloss:0.31724\ttrain-logloss:0.04832\n",
      "[49]\teval-logloss:0.31655\ttrain-logloss:0.04704\n",
      "[50]\teval-logloss:0.31701\ttrain-logloss:0.04562\n",
      "[51]\teval-logloss:0.31690\ttrain-logloss:0.04429\n",
      "[52]\teval-logloss:0.31789\ttrain-logloss:0.04340\n",
      "[53]\teval-logloss:0.31905\ttrain-logloss:0.04249\n",
      "[54]\teval-logloss:0.31977\ttrain-logloss:0.04173\n",
      "[55]\teval-logloss:0.32030\ttrain-logloss:0.04068\n",
      "[56]\teval-logloss:0.32128\ttrain-logloss:0.04004\n",
      "[57]\teval-logloss:0.32273\ttrain-logloss:0.03920\n",
      "[58]\teval-logloss:0.32415\ttrain-logloss:0.03830\n",
      "[59]\teval-logloss:0.32558\ttrain-logloss:0.03754\n",
      "[60]\teval-logloss:0.32655\ttrain-logloss:0.03700\n",
      "[61]\teval-logloss:0.32718\ttrain-logloss:0.03628\n",
      "[62]\teval-logloss:0.32887\ttrain-logloss:0.03548\n",
      "[63]\teval-logloss:0.32898\ttrain-logloss:0.03493\n",
      "[64]\teval-logloss:0.32840\ttrain-logloss:0.03432\n",
      "[65]\teval-logloss:0.32996\ttrain-logloss:0.03358\n",
      "[66]\teval-logloss:0.33104\ttrain-logloss:0.03316\n",
      "[67]\teval-logloss:0.33236\ttrain-logloss:0.03261\n",
      "[68]\teval-logloss:0.33345\ttrain-logloss:0.03203\n",
      "[69]\teval-logloss:0.33452\ttrain-logloss:0.03141\n",
      "[70]\teval-logloss:0.33489\ttrain-logloss:0.03075\n",
      "[71]\teval-logloss:0.33516\ttrain-logloss:0.03034\n",
      "[72]\teval-logloss:0.33556\ttrain-logloss:0.02991\n",
      "[73]\teval-logloss:0.33752\ttrain-logloss:0.02948\n",
      "[74]\teval-logloss:0.33746\ttrain-logloss:0.02886\n",
      "[75]\teval-logloss:0.33839\ttrain-logloss:0.02848\n",
      "[76]\teval-logloss:0.33852\ttrain-logloss:0.02807\n",
      "[77]\teval-logloss:0.33973\ttrain-logloss:0.02760\n",
      "[78]\teval-logloss:0.34061\ttrain-logloss:0.02721\n",
      "[79]\teval-logloss:0.33946\ttrain-logloss:0.02681\n",
      "[80]\teval-logloss:0.33931\ttrain-logloss:0.02645\n",
      "[81]\teval-logloss:0.33840\ttrain-logloss:0.02612\n",
      "[82]\teval-logloss:0.33904\ttrain-logloss:0.02584\n",
      "[83]\teval-logloss:0.33961\ttrain-logloss:0.02559\n",
      "[84]\teval-logloss:0.33799\ttrain-logloss:0.02517\n",
      "[85]\teval-logloss:0.33898\ttrain-logloss:0.02481\n",
      "[86]\teval-logloss:0.33781\ttrain-logloss:0.02446\n",
      "[87]\teval-logloss:0.33829\ttrain-logloss:0.02414\n",
      "[88]\teval-logloss:0.33934\ttrain-logloss:0.02382\n",
      "[89]\teval-logloss:0.33983\ttrain-logloss:0.02353\n",
      "[90]\teval-logloss:0.33827\ttrain-logloss:0.02319\n",
      "[91]\teval-logloss:0.33970\ttrain-logloss:0.02284\n",
      "[92]\teval-logloss:0.34029\ttrain-logloss:0.02260\n",
      "[93]\teval-logloss:0.33860\ttrain-logloss:0.02230\n",
      "[94]\teval-logloss:0.33918\ttrain-logloss:0.02204\n",
      "[95]\teval-logloss:0.33969\ttrain-logloss:0.02174\n",
      "[96]\teval-logloss:0.33989\ttrain-logloss:0.02149\n",
      "[97]\teval-logloss:0.34007\ttrain-logloss:0.02125\n",
      "[98]\teval-logloss:0.33975\ttrain-logloss:0.02099\n",
      "[99]\teval-logloss:0.34055\ttrain-logloss:0.02069\n"
     ]
    },
    {
     "data": {
      "image/png": "[encoded data removed]",
      "text/plain": [
       "<Figure size 432x288 with 2 Axes>"
      ]
     },
     "metadata": {
      "needs_background": "light"
     },
     "output_type": "display_data"
    },
    {
     "name": "stdout",
     "output_type": "stream",
     "text": [
      "Accuracy: 0.885\n",
      "              precision    recall  f1-score   support\n",
      "\n",
      "           0       0.84      0.92      0.88        93\n",
      "           1       0.93      0.85      0.89       107\n",
      "\n",
      "    accuracy                           0.89       200\n",
      "   macro avg       0.89      0.89      0.88       200\n",
      "weighted avg       0.89      0.89      0.89       200\n",
      "\n"
     ]
    }
   ],
   "source": [
    "import xgboost as xgb\n",
    "from sklearn.datasets import make_classification\n",
    "from sklearn.model_selection import train_test_split\n",
    "from sklearn.metrics import accuracy_score, confusion_matrix, classification_report, ConfusionMatrixDisplay\n",
    "import matplotlib.pyplot as plt\n",
    "\n",
    "# 데이터 생성\n",
    "X, y = make_classification(n_samples=1000, n_features=20, random_state=42)\n",
    "# 데이터 분할 (훈련 데이터와 테스트 데이터로 나눔)\n",
    "X_train, X_test, y_train, y_test = train_test_split(X, y, test_size=0.2, random_state=42)\n",
    "\n",
    "# XGBoost DMatrix 생성\n",
    "dtrain = xgb.DMatrix(X_train, label=y_train)\n",
    "dtest = xgb.DMatrix(X_test, label=y_test)\n",
    "\n",
    "# XGBoost 모델 학습 파라미터 설정\n",
    "params = {\n",
    "    'objective': 'binary:logistic',  # 이진 분류 목적 함수\n",
    "    'max_depth': 6,  # 트리의 최대 깊이\n",
    "    'eta': 0.1,  # 학습률\n",
    "    'eval_metric': 'logloss'  # 평가 지표\n",
    "}\n",
    "\n",
    "# 조기 종료를 위한 평가 데이터 설정\n",
    "evals = [(dtest, 'eval'), (dtrain, 'train')]\n",
    "\n",
    "# 모델 학습 (조기 종료 설정)\n",
    "num_round = 100  # 최대 부스팅 라운드 수\n",
    "early_stopping_rounds = 10  # 조기 종료 라운드 수\n",
    "bst = xgb.train(params, dtrain, num_round, evals=evals, early_stopping_rounds=early_stopping_rounds)\n",
    "\n",
    "# 예측 및 평가\n",
    "y_pred = bst.predict(dtest)\n",
    "y_pred_binary = [1 if x > 0.5 else 0 for x in y_pred]\n",
    "\n",
    "# 혼돈 행렬 계산 및 시각화\n",
    "cm = confusion_matrix(y_test, y_pred_binary)\n",
    "disp = ConfusionMatrixDisplay(confusion_matrix=cm)\n",
    "disp.plot(cmap=plt.cm.Blues)\n",
    "plt.show()\n",
    "\n",
    "# 정밀도, 재현율, F1-Score 계산 및 출력\n",
    "report = classification_report(y_test, y_pred_binary)\n",
    "print('Accuracy:', accuracy_score(y_test, y_pred_binary))\n",
    "print(report)\n"
   ]
  },
  {
   "cell_type": "code",
   "execution_count": null,
   "id": "fc4044a2",
   "metadata": {},
   "outputs": [],
   "source": [
    "# 주요 코드 부분 설명"
   ]
  },
  {
   "cell_type": "code",
   "execution_count": null,
   "id": "67303a28",
   "metadata": {},
   "outputs": [],
   "source": [
    "# 1. XGBoost DMatrix 생성:\n",
    "\n",
    "# dtrain = xgb.DMatrix(X_train, label=y_train)\n",
    "# dtest = xgb.DMatrix(X_test, label=y_test)\n",
    "# XGBoost에서 사용할 DMatrix 객체를 생성합니다. \n",
    "# DMatrix는 XGBoost에서 데이터를 효율적으로 처리하기 위해 사용하는 데이터 구조입니다.\n",
    "\n",
    "# 2. 모델 학습 파라미터 설정:\n",
    "\n",
    "# params = {\n",
    "#     'objective': 'binary:logistic',  # 이진 분류 목적 함수\n",
    "#     'max_depth': 6,  # 트리의 최대 깊이\n",
    "#     'eta': 0.1,  # 학습률\n",
    "#     'eval_metric': 'logloss'  # 평가 지표\n",
    "# }\n",
    "\n",
    "# 모델 학습에 필요한 파라미터를 설정합니다. \n",
    "# 여기서는 이진 분류 목적 함수, 트리의 최대 깊이, 학습률, 평가 지표를 설정했습니다.\n",
    "\n",
    "\n",
    "# 3. 조기 종료를 위한 평가 데이터 설정:\n",
    "\n",
    "# evals = [(dtest, 'eval'), (dtrain, 'train')]\n",
    "# 모델 학습 중 성능 평가를 위한 평가 데이터셋을 설정합니다. \n",
    "# 검증 데이터셋(dtest)과 훈련 데이터셋(dtrain)을 평가에 사용합니다.\n",
    "\n",
    "\n",
    "# 4. 모델 학습 및 조기 종료 설정:\n",
    "\n",
    "# num_round = 100  # 최대 부스팅 라운드 수\n",
    "# early_stopping_rounds = 10  # 조기 종료 라운드 수\n",
    "# bst = xgb.train(params, dtrain, num_round, evals=evals, early_stopping_rounds=early_stopping_rounds)\n",
    "# 최대 100번의 부스팅 라운드를 수행하되, 10번의 라운드 동안 검증 데이터셋의 성능이 향상되지 않으면 학습을 중지합니다.\n",
    "\n",
    "# 5. 예측 및 평가:\n",
    "\n",
    "# y_pred = bst.predict(dtest)\n",
    "# y_pred_binary = [1 if x > 0.5 else 0 for x in y_pred]\n",
    "# 학습된 모델을 사용하여 예측을 수행하고, 이진 분류 결과로 변환합니다.\n",
    "\n",
    "# 6. 혼돈 행렬 계산 및 시각화:\n",
    "\n",
    "# cm = confusion_matrix(y_test, y_pred_binary)\n",
    "# disp = ConfusionMatrixDisplay(confusion_matrix=cm)\n",
    "# disp.plot(cmap=plt.cm.Blues)\n",
    "# plt.show()\n",
    "\n",
    "# 정밀도, 재현율, F1-Score 계산 및 출력:\n",
    "\n",
    "report = classification_report(y_test, y_pred_binary)\n",
    "print('Accuracy:', accuracy_score(y_test, y_pred_binary))\n",
    "print(report)\n",
    "이 코드는 XGBoost를 사용하여 조기 종료를 설정하고, 모델의 예측 성능을 평가하는 방법을 보여줍니다. \n",
    "조기 종료를 통해 불필요한 학습을 방지하고 최적의 모델을 선택할 수 있습니다."
   ]
  },
  {
   "cell_type": "code",
   "execution_count": null,
   "id": "63b1a8c9",
   "metadata": {},
   "outputs": [],
   "source": []
  },
  {
   "cell_type": "markdown",
   "id": "38c0b0e1",
   "metadata": {},
   "source": [
    "## EFB (Exclusive Feature Bundle)"
   ]
  },
  {
   "cell_type": "code",
   "execution_count": 13,
   "id": "df2ad2c3",
   "metadata": {},
   "outputs": [
    {
     "name": "stdout",
     "output_type": "stream",
     "text": [
      "Training until validation scores don't improve for 10 rounds\n",
      "Early stopping, best iteration is:\n",
      "[3]\tvalid_0's binary_error: 0.08\n"
     ]
    },
    {
     "data": {
      "image/png": "[encoded data removed]",
      "text/plain": [
       "<Figure size 432x288 with 2 Axes>"
      ]
     },
     "metadata": {
      "needs_background": "light"
     },
     "output_type": "display_data"
    },
    {
     "name": "stdout",
     "output_type": "stream",
     "text": [
      "Accuracy: 0.92\n",
      "              precision    recall  f1-score   support\n",
      "\n",
      "           0       0.89      0.96      0.92        99\n",
      "           1       0.96      0.88      0.92       101\n",
      "\n",
      "    accuracy                           0.92       200\n",
      "   macro avg       0.92      0.92      0.92       200\n",
      "weighted avg       0.92      0.92      0.92       200\n",
      "\n"
     ]
    }
   ],
   "source": [
    "import lightgbm as lgb\n",
    "from sklearn.model_selection import train_test_split\n",
    "from sklearn.datasets import make_classification\n",
    "from sklearn.metrics import accuracy_score, confusion_matrix, ConfusionMatrixDisplay, classification_report\n",
    "import matplotlib.pyplot as plt\n",
    "\n",
    "# 데이터 생성\n",
    "X, y = make_classification(n_samples=1000, n_features=100, random_state=42)\n",
    "# 데이터 분할 (훈련 데이터와 테스트 데이터로 나눔)\n",
    "X_train, X_test, y_train, y_test = train_test_split(X, y, test_size=0.2, random_state=42)\n",
    "\n",
    "# LightGBM 모델 학습 (EFB 적용)\n",
    "params = {\n",
    "    'boosting_type': 'gbdt',  # 기본 Gradient Boosting Decision Tree 유형 사용\n",
    "    'objective': 'binary',  # 이진 분류 목적 함수\n",
    "    'metric': 'binary_error',  # 평가 지표로 이진 오류 사용\n",
    "    'learning_rate': 0.1,  # 학습률\n",
    "    'num_leaves': 31,  # 리프 노드 수\n",
    "    'verbose': -1,  # 출력 레벨 설정 (경고 메시지 억제)\n",
    "    'max_bin': 255,  # 최대 빈 수\n",
    "    'feature_fraction': 0.8,  # 각 부스팅 단계에서 사용할 특징의 비율\n",
    "    'max_cat_to_onehot': 4,  # 원-핫 인코딩을 적용할 최대 카테고리 수\n",
    "    'cat_l2': 10,  # 카테고리 특징에 대한 L2 정규화\n",
    "    'cat_smooth': 10,  # 카테고리 특징에 대한 평활화\n",
    "    'cat_max_bin': 255  # 카테고리 특징에 대한 최대 빈 수\n",
    "}\n",
    "\n",
    "# LightGBM 데이터셋 생성\n",
    "lgb_train = lgb.Dataset(X_train, y_train)\n",
    "lgb_eval = lgb.Dataset(X_test, y_test, reference=lgb_train)\n",
    "\n",
    "# 조기 종료 콜백 설정\n",
    "callbacks = [lgb.early_stopping(stopping_rounds=10)]\n",
    "\n",
    "# 모델 학습\n",
    "gbm = lgb.train(params, lgb_train, num_boost_round=100, valid_sets=lgb_eval, callbacks=callbacks)\n",
    "\n",
    "# 예측 및 평가\n",
    "y_pred = gbm.predict(X_test, num_iteration=gbm.best_iteration)  # 예측 수행\n",
    "y_pred_binary = [1 if x > 0.5 else 0 for x in y_pred]  # 이진 분류 결과로 변환\n",
    "\n",
    "# 혼돈 행렬 계산\n",
    "cm = confusion_matrix(y_test, y_pred_binary)\n",
    "disp = ConfusionMatrixDisplay(confusion_matrix=cm)\n",
    "disp.plot(cmap=plt.cm.Blues)\n",
    "plt.show()\n",
    "\n",
    "# 정밀도, 재현율, F1-Score 계산 및 출력\n",
    "report = classification_report(y_test, y_pred_binary)\n",
    "print('Accuracy:', accuracy_score(y_test, y_pred_binary))  # 정확도 출력\n",
    "print(report)  # 정밀도, 재현율, F1-Score 출력\n"
   ]
  },
  {
   "cell_type": "code",
   "execution_count": null,
   "id": "e96a4e6c",
   "metadata": {},
   "outputs": [],
   "source": [
    "# 특징 선택 및 축소 (Feature Selection and Reduction)"
   ]
  },
  {
   "cell_type": "code",
   "execution_count": null,
   "id": "9c02bc83",
   "metadata": {},
   "outputs": [],
   "source": [
    "\n",
    "# 불필요한 특징을 제거하거나, 상관관계가 높은 특징들을 축소하면 학습 속도를 크게 높일 수 있습니다. \n",
    "# PCA(Principal Component Analysis) 같은 차원 축소 방법도 유용합니다."
   ]
  },
  {
   "cell_type": "code",
   "execution_count": 14,
   "id": "3f3e6d6e",
   "metadata": {},
   "outputs": [
    {
     "data": {
      "image/png": "[encoded data removed]",
      "text/plain": [
       "<Figure size 432x288 with 2 Axes>"
      ]
     },
     "metadata": {
      "needs_background": "light"
     },
     "output_type": "display_data"
    },
    {
     "name": "stdout",
     "output_type": "stream",
     "text": [
      "Accuracy: 0.8\n",
      "              precision    recall  f1-score   support\n",
      "\n",
      "           0       0.78      0.78      0.78        93\n",
      "           1       0.81      0.81      0.81       107\n",
      "\n",
      "    accuracy                           0.80       200\n",
      "   macro avg       0.80      0.80      0.80       200\n",
      "weighted avg       0.80      0.80      0.80       200\n",
      "\n"
     ]
    }
   ],
   "source": [
    "from sklearn.decomposition import PCA\n",
    "from sklearn.tree import DecisionTreeClassifier\n",
    "from sklearn.metrics import accuracy_score, confusion_matrix, classification_report, ConfusionMatrixDisplay\n",
    "import matplotlib.pyplot as plt\n",
    "\n",
    "# 데이터 생성\n",
    "X, y = make_classification(n_samples=1000, n_features=20, random_state=42)\n",
    "\n",
    "# PCA를 사용한 차원 축소\n",
    "pca = PCA(n_components=10)  # 원하는 차원 수 설정\n",
    "X_reduced = pca.fit_transform(X)\n",
    "\n",
    "# 데이터 분할 (훈련 데이터와 테스트 데이터로 나눔)\n",
    "X_train, X_test, y_train, y_test = train_test_split(X_reduced, y, test_size=0.2, random_state=42)\n",
    "\n",
    "# 의사결정나무 모델 학습\n",
    "clf = DecisionTreeClassifier(random_state=42)\n",
    "clf.fit(X_train, y_train)\n",
    "\n",
    "# 예측 및 평가\n",
    "y_pred = clf.predict(X_test)\n",
    "\n",
    "# 혼돈 행렬 계산 및 시각화\n",
    "cm = confusion_matrix(y_test, y_pred)\n",
    "disp = ConfusionMatrixDisplay(confusion_matrix=cm)\n",
    "disp.plot(cmap=plt.cm.Blues)\n",
    "plt.show()\n",
    "\n",
    "# 정밀도, 재현율, F1-Score 계산 및 출력\n",
    "report = classification_report(y_test, y_pred)\n",
    "print('Accuracy:', accuracy_score(y_test, y_pred))\n",
    "print(report)\n"
   ]
  },
  {
   "cell_type": "code",
   "execution_count": null,
   "id": "a68444a7",
   "metadata": {},
   "outputs": [],
   "source": []
  }
 ],
 "metadata": {
  "kernelspec": {
   "display_name": "Python 3 (ipykernel)",
   "language": "python",
   "name": "python3"
  },
  "language_info": {
   "codemirror_mode": {
    "name": "ipython",
    "version": 3
   },
   "file_extension": ".py",
   "mimetype": "text/x-python",
   "name": "python",
   "nbconvert_exporter": "python",
   "pygments_lexer": "ipython3",
   "version": "3.9.11"
  },
  "toc": {
   "base_numbering": 1,
   "nav_menu": {},
   "number_sections": true,
   "sideBar": true,
   "skip_h1_title": false,
   "title_cell": "Table of Contents",
   "title_sidebar": "Contents",
   "toc_cell": false,
   "toc_position": {},
   "toc_section_display": true,
   "toc_window_display": false
  }
 },
 "nbformat": 4,
 "nbformat_minor": 5
}
