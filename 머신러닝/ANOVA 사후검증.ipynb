{
 "cells": [
  {
   "cell_type": "markdown",
   "id": "21e81fc7",
   "metadata": {},
   "source": [
    "## ANOVA 사후검증"
   ]
  },
  {
   "cell_type": "markdown",
   "id": "e3f67c17",
   "metadata": {},
   "source": [
    "### Scheffé Method\n"
   ]
  },
  {
   "cell_type": "code",
   "execution_count": null,
   "id": "e05a64e0",
   "metadata": {},
   "outputs": [],
   "source": [
    "# 데이터 생성: 세 개의 그룹(A, B, C)에서 샘플을 생성합니다.\n",
    "# ANOVA 수행: statsmodels를 사용하여 ANOVA를 수행합니다.\n",
    "# Scheffe 사후검증 함수 정의: Scheffe 검증을 수행하는 함수를 정의합니다.\n",
    "# Scheffe 사후검증 수행: 정의한 함수를 사용하여 사후검증을 수행하고 결과를 출력합니다."
   ]
  },
  {
   "cell_type": "code",
   "execution_count": 1,
   "id": "49fdae56",
   "metadata": {},
   "outputs": [
    {
     "name": "stdout",
     "output_type": "stream",
     "text": [
      "             sum_sq    df         F    PR(>F)\n",
      "group     10.737434   2.0  5.268739  0.007951\n",
      "Residual  58.081616  57.0       NaN       NaN\n",
      "  Comparison  Mean Difference    F Value  Significant\n",
      "0     A vs B         0.486416   2.321942        False\n",
      "1     A vs C         1.035582  10.524596         True\n",
      "2     B vs C         0.549167   2.959677        False\n"
     ]
    }
   ],
   "source": [
    "import numpy as np\n",
    "import pandas as pd\n",
    "import statsmodels.api as sm\n",
    "from statsmodels.formula.api import ols\n",
    "import itertools\n",
    "import scipy.stats as stats\n",
    "\n",
    "# 데이터 생성\n",
    "np.random.seed(0)\n",
    "data = {\n",
    "    'group': np.repeat(['A', 'B', 'C'], 20),\n",
    "    'value': np.concatenate([np.random.normal(loc, 1, 20) for loc in [1, 2, 3]])\n",
    "}\n",
    "\n",
    "df = pd.DataFrame(data)\n",
    "\n",
    "# ANOVA 수행\n",
    "model = ols('value ~ group', data=df).fit()\n",
    "anova_table = sm.stats.anova_lm(model, typ=2)\n",
    "print(anova_table)\n",
    "\n",
    "# Scheffe 사후검증 함수 정의\n",
    "def scheffe_test(data, group_col, value_col, alpha=0.05):\n",
    "    # 그룹별 평균 계산\n",
    "    group_means = data.groupby(group_col)[value_col].mean()\n",
    "    grand_mean = data[value_col].mean()\n",
    "    \n",
    "    # ANOVA의 Mean Squared Error 계산\n",
    "    mse = anova_table['sum_sq']['Residual'] / anova_table['df']['Residual']\n",
    "    \n",
    "    # 그룹 수 및 총 샘플 수 계산\n",
    "    n_groups = data[group_col].nunique()\n",
    "    n_total = data.shape[0]\n",
    "    \n",
    "    # Scheffe 임계값 계산\n",
    "    scheffe_critical_value = stats.f.ppf(1 - alpha, n_groups - 1, n_total - n_groups) * (n_groups - 1)\n",
    "    \n",
    "    # 쌍별 비교\n",
    "    comparisons = list(itertools.combinations(group_means.index, 2))\n",
    "    results = []\n",
    "    \n",
    "    for (i, j) in comparisons:\n",
    "        mean_diff = abs(group_means[i] - group_means[j])\n",
    "        se_diff = np.sqrt(mse * (1/data[data[group_col] == i].shape[0] + 1/data[data[group_col] == j].shape[0]))\n",
    "        f_value = (mean_diff**2) / (se_diff**2)\n",
    "        \n",
    "        result = {\n",
    "            'Comparison': f'{i} vs {j}',\n",
    "            'Mean Difference': mean_diff,\n",
    "            'F Value': f_value,\n",
    "            'Significant': f_value > scheffe_critical_value\n",
    "        }\n",
    "        results.append(result)\n",
    "    \n",
    "    return pd.DataFrame(results)\n",
    "\n",
    "# Scheffe 사후검증 수행\n",
    "scheffe_results = scheffe_test(df, 'group', 'value')\n",
    "print(scheffe_results)\n"
   ]
  },
  {
   "cell_type": "code",
   "execution_count": null,
   "id": "2d0f5635",
   "metadata": {},
   "outputs": [],
   "source": []
  }
 ],
 "metadata": {
  "kernelspec": {
   "display_name": "Python 3 (ipykernel)",
   "language": "python",
   "name": "python3"
  },
  "language_info": {
   "codemirror_mode": {
    "name": "ipython",
    "version": 3
   },
   "file_extension": ".py",
   "mimetype": "text/x-python",
   "name": "python",
   "nbconvert_exporter": "python",
   "pygments_lexer": "ipython3",
   "version": "3.9.11"
  },
  "toc": {
   "base_numbering": 1,
   "nav_menu": {},
   "number_sections": true,
   "sideBar": true,
   "skip_h1_title": false,
   "title_cell": "Table of Contents",
   "title_sidebar": "Contents",
   "toc_cell": false,
   "toc_position": {},
   "toc_section_display": true,
   "toc_window_display": false
  }
 },
 "nbformat": 4,
 "nbformat_minor": 5
}
