{
 "cells": [
  {
   "cell_type": "markdown",
   "id": "308e6417-4d07-42fb-a7aa-779742dfd003",
   "metadata": {},
   "source": [
    "TF-IDF (Term Frequency – Inverse Document Frequency)"
   ]
  },
  {
   "cell_type": "markdown",
   "id": "6c591387-e271-4680-83e4-30c6798c9e51",
   "metadata": {},
   "source": [
    "TF-IDF는 문서 내에서 단어의 중요도를 평가하기 위한 통계적 방법입니다. \n",
    "\n",
    "텍스트 분석과 정보 검색에서 자주 사용되며, 특정 단어가 문서에서 얼마나 중요한지를 나타냅니다."
   ]
  },
  {
   "cell_type": "markdown",
   "id": "bd39466e-60d4-4c41-9778-44832944dc13",
   "metadata": {},
   "source": [
    " TF (Term Frequency)\n",
    "TF는 단어의 빈도입니다.\n",
    "\n",
    " IDF (Inverse Document Frequency)\n",
    "IDF는 역문서 빈도로, 단어의 특이성을 측정합니다."
   ]
  },
  {
   "cell_type": "markdown",
   "id": "625d76ef-63f5-40b6-9a57-17b976a444a8",
   "metadata": {},
   "source": [
    "예시1\n",
    "\n",
    "문서 1: \"고양이와 개는 모두 애완동물입니다.\"\n",
    "\n",
    "문서 2: \"고양이는 독립적이며 개는 충성스럽습니다.\""
   ]
  },
  {
   "cell_type": "code",
   "execution_count": null,
   "id": "de70ad50-b9e2-49b0-8f65-b07bd8eb4390",
   "metadata": {},
   "outputs": [],
   "source": [
    "# 코드 설명\n",
    "# TfidfVectorizer를 사용하여 TF-IDF 값을 계산합니다.\n",
    "# fit_transform() 메서드는 문서에서 단어 빈도와 역문서 빈도를 계산하고, TF-IDF 행렬을 반환합니다.\n",
    "# get_feature_names_out()은 문서에서 추출된 단어 목록을 반환합니다.\n",
    "# 결과는 pandas 데이터프레임으로 출력됩니다."
   ]
  },
  {
   "cell_type": "code",
   "execution_count": 1,
   "id": "e58a9fa2-4b77-42a9-8cb7-1680391df88c",
   "metadata": {},
   "outputs": [
    {
     "name": "stdout",
     "output_type": "stream",
     "text": [
      "TF-IDF 결과:\n",
      "          개는      고양이는      고양이와     독립적이며        모두   애완동물입니다   충성스럽습니다\n",
      "0  0.379978  0.000000  0.534046  0.000000  0.534046  0.534046  0.000000\n",
      "1  0.379978  0.534046  0.000000  0.534046  0.000000  0.000000  0.534046\n"
     ]
    }
   ],
   "source": [
    "import pandas as pd\n",
    "from sklearn.feature_extraction.text import TfidfVectorizer\n",
    "\n",
    "# 1. 예제 문서 생성\n",
    "documents = [\n",
    "    \"고양이와 개는 모두 애완동물입니다.\",\n",
    "    \"고양이는 독립적이며 개는 충성스럽습니다.\"\n",
    "]\n",
    "\n",
    "# 2. TF-IDF 계산\n",
    "vectorizer = TfidfVectorizer()\n",
    "tfidf_matrix = vectorizer.fit_transform(documents)\n",
    "\n",
    "# 3. TF-IDF 결과를 데이터프레임으로 변환\n",
    "feature_names = vectorizer.get_feature_names_out()\n",
    "tfidf_df = pd.DataFrame(tfidf_matrix.toarray(), columns=feature_names)\n",
    "\n",
    "# 4. 결과 출력\n",
    "print(\"TF-IDF 결과:\\n\", tfidf_df)\n"
   ]
  },
  {
   "cell_type": "code",
   "execution_count": null,
   "id": "26f077a6-da4e-429a-b21d-12fedb9761dd",
   "metadata": {},
   "outputs": [],
   "source": []
  },
  {
   "cell_type": "markdown",
   "id": "c8d494dc-aea3-4509-a621-ad9f20a731d7",
   "metadata": {},
   "source": [
    "예시2"
   ]
  },
  {
   "cell_type": "markdown",
   "id": "baff65e7-4800-4a1c-832e-401b35a5fe15",
   "metadata": {},
   "source": [
    "문서1: 한국 주식시장은 세계에서 하락폭이 크다.\n",
    "\n",
    "문서2 미국 주식시장은 트럼프대통령 당선으로 상승폭이 크다"
   ]
  },
  {
   "cell_type": "code",
   "execution_count": null,
   "id": "5f838a33-7612-4366-98f5-483d6f3e7f69",
   "metadata": {},
   "outputs": [],
   "source": [
    "# 설명\n",
    "# 첫 번째 행은 문서 1의 TF-IDF 값입니다.\n",
    "# 두 번째 행은 문서 2의 TF-IDF 값입니다.\n",
    "# 값이 높을수록 해당 단어가 문서에서 중요한 단어로 간주됩니다.\n",
    "# 이 코드를 로컬 환경에서 실행하면 TF-IDF 값을 쉽게 확인할 수 있습니다."
   ]
  },
  {
   "cell_type": "code",
   "execution_count": 4,
   "id": "aa231665-4e48-4c76-84de-26da6da67f00",
   "metadata": {},
   "outputs": [
    {
     "name": "stdout",
     "output_type": "stream",
     "text": [
      "TF-IDF 결과:\n",
      "        당선으로       대통령        미국      상승폭이      세계에서    주식시장은       크다  \\\n",
      "0  0.000000  0.000000  0.000000  0.000000  0.499221  0.35520  0.35520   \n",
      "1  0.407824  0.407824  0.407824  0.407824  0.000000  0.29017  0.29017   \n",
      "\n",
      "        트럼프      하락폭이        한국  \n",
      "0  0.000000  0.499221  0.499221  \n",
      "1  0.407824  0.000000  0.000000  \n"
     ]
    }
   ],
   "source": [
    "import pandas as pd\n",
    "from sklearn.feature_extraction.text import TfidfVectorizer\n",
    "\n",
    "# 1. 예제 문장 생성\n",
    "documents = [\n",
    "    \"한국 주식시장은 세계에서 하락폭이 크다.\",\n",
    "    \"미국 주식시장은 트럼프 대통령 당선으로 상승폭이 크다.\"\n",
    "]\n",
    "\n",
    "# 2. TF-IDF 계산\n",
    "vectorizer = TfidfVectorizer()\n",
    "tfidf_matrix = vectorizer.fit_transform(documents)\n",
    "\n",
    "# 3. TF-IDF 결과를 데이터프레임으로 변환\n",
    "feature_names = vectorizer.get_feature_names_out()\n",
    "tfidf_df = pd.DataFrame(tfidf_matrix.toarray(), columns=feature_names)\n",
    "\n",
    "# 4. 결과 출력\n",
    "print(\"TF-IDF 결과:\\n\", tfidf_df)\n"
   ]
  },
  {
   "cell_type": "code",
   "execution_count": null,
   "id": "f3a394a3-6419-4e9f-996f-90a88eed3531",
   "metadata": {},
   "outputs": [],
   "source": [
    "# 첫 번째 문장에서는 \"한국\", \"세계에서\", \"하락폭\"이 높은 TF-IDF 값을 가집니다.\n",
    "# 두 번째 문장에서는 \"트럼프\", \"상승폭\", \"당선으로\"가 높은 TF-IDF 값을 가집니다.\n",
    "# TF-IDF 값이 높을수록 해당 문장에서 중요한 단어로 간주됩니다."
   ]
  }
 ],
 "metadata": {
  "kernelspec": {
   "display_name": "Python 3 (ipykernel)",
   "language": "python",
   "name": "python3"
  },
  "language_info": {
   "codemirror_mode": {
    "name": "ipython",
    "version": 3
   },
   "file_extension": ".py",
   "mimetype": "text/x-python",
   "name": "python",
   "nbconvert_exporter": "python",
   "pygments_lexer": "ipython3",
   "version": "3.9.11"
  }
 },
 "nbformat": 4,
 "nbformat_minor": 5
}
