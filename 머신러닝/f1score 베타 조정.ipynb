{
 "cells": [
  {
   "cell_type": "code",
   "execution_count": 6,
   "id": "04dd3005",
   "metadata": {},
   "outputs": [],
   "source": [
    "def f1_score(precision, recall):\n",
    "    return 2.0 / (1/precision + 1/recall)\n",
    "\n",
    "def fbeta_score(precision, recall, beta=1.0):\n",
    "    return (1.0 + (beta ** 2)) * (precision * recall) / (((beta ** 2) * precision) + recall )"
   ]
  },
  {
   "cell_type": "code",
   "execution_count": 10,
   "id": "a0b4f1ba",
   "metadata": {},
   "outputs": [
    {
     "data": {
      "image/png": "[encoded data removed]",
      "text/plain": [
       "<Figure size 432x288 with 1 Axes>"
      ]
     },
     "metadata": {
      "needs_background": "light"
     },
     "output_type": "display_data"
    }
   ],
   "source": [
    "import matplotlib.pyplot as plt\n",
    "precision = 0.4\n",
    "recall    = 0.6\n",
    "betas     = [0.1, 0.2, 0.4, 0.5, 0.6, 0.8, 1.0, 1.2, 1.5, 2.0, 4.0, 8.0] # 베타= 1 f1 score\n",
    "results   = []\n",
    "for beta in betas:\n",
    "    results.append(fbeta_score(precision, recall, beta))\n",
    "    \n",
    "plt.plot(betas, results)\n",
    "plt.grid()"
   ]
  },
  {
   "cell_type": "code",
   "execution_count": 5,
   "id": "950862ef",
   "metadata": {},
   "outputs": [
    {
     "name": "stdout",
     "output_type": "stream",
     "text": [
      "precision: 0.5\n",
      "recall: 0.6666666666666666\n",
      "beta=0.3 ==> 0.5105386416861827\n",
      "beta=0.6 ==> 0.5354330708661417\n",
      "beta=1.0 ==> 0.5714285714285715\n",
      "beta=1.5 ==> 0.6046511627906976\n",
      "beta=2.0 ==> 0.625\n"
     ]
    }
   ],
   "source": [
    "y_true = [1, 1, 0, 1, 0]\n",
    "y_pred = [1, 1, 1, 0, 1]\n",
    "\n",
    "from sklearn import metrics\n",
    "\n",
    "print('precision:', metrics.precision_score(y_true, y_pred))\n",
    "print('recall:', metrics.recall_score(y_true, y_pred))\n",
    "\n",
    "# 0 < beta < 1: more weight to the precision\n",
    "print('beta=0.3 ==>', metrics.fbeta_score(y_true, y_pred, beta=0.3))\n",
    "print('beta=0.6 ==>', metrics.fbeta_score(y_true, y_pred, beta=0.6))\n",
    "\n",
    "# beta = 1: f1-score\n",
    "print('beta=1.0 ==>', metrics.fbeta_score(y_true, y_pred, beta=1.0))\n",
    "\n",
    "# 1 < beta < infinite: more weight to the recall\n",
    "print('beta=1.5 ==>',metrics.fbeta_score(y_true, y_pred, beta=1.5))\n",
    "print('beta=2.0 ==>',metrics.fbeta_score(y_true, y_pred, beta=2.0))"
   ]
  },
  {
   "cell_type": "code",
   "execution_count": null,
   "id": "dc93fc90",
   "metadata": {},
   "outputs": [],
   "source": []
  }
 ],
 "metadata": {
  "kernelspec": {
   "display_name": "Python 3 (ipykernel)",
   "language": "python",
   "name": "python3"
  },
  "language_info": {
   "codemirror_mode": {
    "name": "ipython",
    "version": 3
   },
   "file_extension": ".py",
   "mimetype": "text/x-python",
   "name": "python",
   "nbconvert_exporter": "python",
   "pygments_lexer": "ipython3",
   "version": "3.9.6"
  }
 },
 "nbformat": 4,
 "nbformat_minor": 5
}
