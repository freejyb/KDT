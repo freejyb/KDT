{
 "cells": [
  {
   "cell_type": "markdown",
   "id": "8da5f67c-5a17-428f-b694-a4f3554d07a0",
   "metadata": {},
   "source": [
    "고양이 = 1, 개 = 2, 새 = 3으로 레이블 인코딩과 원-핫 인코딩을 구현"
   ]
  },
  {
   "cell_type": "code",
   "execution_count": 2,
   "id": "223731a6-00c8-4d0d-aaad-a14045b6191a",
   "metadata": {},
   "outputs": [
    {
     "name": "stdout",
     "output_type": "stream",
     "text": [
      "레이블 인코딩: [1, 2, 3]\n",
      "원-핫 인코딩: [[1, 0, 0], [0, 1, 0], [0, 0, 1]]\n"
     ]
    }
   ],
   "source": [
    "# 데이터 준비\n",
    "animals = ['고양이', '개', '새']\n",
    "\n",
    "# 1. 레이블 인코딩 (Label Encoding)\n",
    "label_encoding = {'고양이': 1, '개': 2, '새': 3}\n",
    "label_encoded = [label_encoding[animal] for animal in animals]\n",
    "\n",
    "# 2. 원-핫 인코딩 (One-Hot Encoding)\n",
    "one_hot_encoded = []\n",
    "for animal in animals:\n",
    "    one_hot = [0] * len(label_encoding)  # 길이는 3 (고양이, 개, 새)\n",
    "    index = label_encoding[animal] - 1   # 레이블 값을 인덱스로 사용 (1은 0번째, 2는 1번째, 3은 2번째)\n",
    "    one_hot[index] = 1\n",
    "    one_hot_encoded.append(one_hot)\n",
    "\n",
    "# 결과 출력\n",
    "print(\"레이블 인코딩:\", label_encoded)\n",
    "print(\"원-핫 인코딩:\", one_hot_encoded)\n"
   ]
  },
  {
   "cell_type": "code",
   "execution_count": null,
   "id": "5b123d5c-9fe0-4f6f-afff-1810a5acabe4",
   "metadata": {},
   "outputs": [],
   "source": []
  }
 ],
 "metadata": {
  "kernelspec": {
   "display_name": "Python 3 (ipykernel)",
   "language": "python",
   "name": "python3"
  },
  "language_info": {
   "codemirror_mode": {
    "name": "ipython",
    "version": 3
   },
   "file_extension": ".py",
   "mimetype": "text/x-python",
   "name": "python",
   "nbconvert_exporter": "python",
   "pygments_lexer": "ipython3",
   "version": "3.9.11"
  }
 },
 "nbformat": 4,
 "nbformat_minor": 5
}
