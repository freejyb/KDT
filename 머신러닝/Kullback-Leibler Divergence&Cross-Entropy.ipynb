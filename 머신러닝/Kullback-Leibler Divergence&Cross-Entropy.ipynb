{
 "cells": [
  {
   "cell_type": "markdown",
   "id": "113d30b0",
   "metadata": {},
   "source": [
    "### 쿨백-라이블러 발산(Kullback-Leibler Divergence, KL 발산)과 교차 엔트로피(Cross-Entropy)"
   ]
  },
  {
   "cell_type": "code",
   "execution_count": null,
   "id": "0c4b5134",
   "metadata": {},
   "outputs": [],
   "source": [
    "# 1. 교차 엔트로피 (Cross-Entropy)\n",
    "# 교차 엔트로피는 두 확률 분포 𝑃와 𝑄 간의 차이를 측정하는 방법 중 하나\n",
    "# 원래 분포 𝑃를 기반으로 하는 데이터의 엔트로피와 분포 𝑄를 사용하여 데이터의 엔트로피를 계산하는 것"
   ]
  },
  {
   "cell_type": "code",
   "execution_count": null,
   "id": "a3b4f590",
   "metadata": {},
   "outputs": [],
   "source": [
    "# 2. KL 발산과의 관계\n",
    "# KL 발산은 교차 엔트로피와 자기 엔트로피(Self-Entropy) 간의 차이로 정의\n",
    "# 즉, 두 분포 간의 KL 발산은 𝑃와 𝑄간의 교차 엔트로피에서 𝑃의 자기 엔트로피를 뺀 값과 같다."
   ]
  },
  {
   "cell_type": "code",
   "execution_count": 1,
   "id": "e1d7aaa4",
   "metadata": {},
   "outputs": [
    {
     "name": "stdout",
     "output_type": "stream",
     "text": [
      "Entropy: 1.0297\n",
      "Cross-Entropy: 1.0771\n",
      "KL Divergence: 0.0475\n"
     ]
    }
   ],
   "source": [
    "#  Entropy Function: entropy 함수는 단일 분포 \n",
    "# 𝑃:P의 자기 엔트로피를 계산합니다.\n",
    "# Cross-Entropy Function: cross_entropy 함수는 두 분포 \n",
    "# p와 Q 간의 교차 엔트로피를 계산합니다.\n",
    "# KL Divergence Function: kl_divergence 함수는 교차 엔트로피와 자기 엔트로피를 사용하여 KL 발산을 계산.\n",
    "# Example Usage: 예시로 \n",
    "# 𝑃=[0.2,0.5,0.3]와 𝑄=[0.1,0.6,0.3]에 대한 엔트로피, 교차 엔트로피, 그리고 KL 발산을 계산하고 출력\n",
    "\n",
    "import numpy as np\n",
    "\n",
    "def entropy(P):\n",
    "    \"\"\"\n",
    "    Calculate the self-entropy of a distribution P.\n",
    "\n",
    "    Parameters:\n",
    "    P (np.array): True distribution.\n",
    "\n",
    "    Returns:\n",
    "    float: Entropy value.\n",
    "    \"\"\"\n",
    "    P = np.asarray(P, dtype=np.float64)\n",
    "    P = P / P.sum()  # Ensure P is a probability distribution\n",
    "\n",
    "    epsilon = 1e-10\n",
    "    P = np.clip(P, epsilon, 1)\n",
    "\n",
    "    return -np.sum(P * np.log(P))\n",
    "\n",
    "def cross_entropy(P, Q):\n",
    "    \"\"\"\n",
    "    Calculate the cross-entropy between two distributions P and Q.\n",
    "\n",
    "    Parameters:\n",
    "    P (np.array): True distribution.\n",
    "    Q (np.array): Approximate distribution.\n",
    "\n",
    "    Returns:\n",
    "    float: Cross-entropy value.\n",
    "    \"\"\"\n",
    "    P = np.asarray(P, dtype=np.float64)\n",
    "    Q = np.asarray(Q, dtype=np.float64)\n",
    "\n",
    "    P = P / P.sum()  # Ensure P is a probability distribution\n",
    "    Q = Q / Q.sum()  # Ensure Q is a probability distribution\n",
    "\n",
    "    epsilon = 1e-10\n",
    "    P = np.clip(P, epsilon, 1)\n",
    "    Q = np.clip(Q, epsilon, 1)\n",
    "\n",
    "    return -np.sum(P * np.log(Q))\n",
    "\n",
    "def kl_divergence(P, Q):\n",
    "    \"\"\"\n",
    "    Calculate the Kullback-Leibler divergence between two distributions P and Q.\n",
    "\n",
    "    Parameters:\n",
    "    P (np.array): True distribution.\n",
    "    Q (np.array): Approximate distribution.\n",
    "\n",
    "    Returns:\n",
    "    float: KL divergence value.\n",
    "    \"\"\"\n",
    "    return cross_entropy(P, Q) - entropy(P)\n",
    "\n",
    "# Example usage\n",
    "P = np.array([0.2, 0.5, 0.3])\n",
    "Q = np.array([0.1, 0.6, 0.3])\n",
    "\n",
    "entropy_value = entropy(P)\n",
    "cross_entropy_value = cross_entropy(P, Q)\n",
    "kl_divergence_value = kl_divergence(P, Q)\n",
    "\n",
    "print(f\"Entropy: {entropy_value:.4f}\")\n",
    "print(f\"Cross-Entropy: {cross_entropy_value:.4f}\")\n",
    "print(f\"KL Divergence: {kl_divergence_value:.4f}\")\n"
   ]
  },
  {
   "cell_type": "code",
   "execution_count": null,
   "id": "90e32a79",
   "metadata": {},
   "outputs": [],
   "source": [
    "# 교차 엔트로피는 실제 분포 𝑃와 근사 분포 𝑄간의 엔트로피를 측정하며, 두 분포 간의 차이를 나타낸다.\n",
    "# KL 발산은 두 분포 간의 차이를 정량화하는 비대칭적 지표로, 교차 엔트로피와 자기 엔트로피의 차이로 정의됩니다.\n",
    "# "
   ]
  }
 ],
 "metadata": {
  "kernelspec": {
   "display_name": "Python 3 (ipykernel)",
   "language": "python",
   "name": "python3"
  },
  "language_info": {
   "codemirror_mode": {
    "name": "ipython",
    "version": 3
   },
   "file_extension": ".py",
   "mimetype": "text/x-python",
   "name": "python",
   "nbconvert_exporter": "python",
   "pygments_lexer": "ipython3",
   "version": "3.9.11"
  },
  "toc": {
   "base_numbering": 1,
   "nav_menu": {},
   "number_sections": true,
   "sideBar": true,
   "skip_h1_title": false,
   "title_cell": "Table of Contents",
   "title_sidebar": "Contents",
   "toc_cell": false,
   "toc_position": {},
   "toc_section_display": true,
   "toc_window_display": false
  }
 },
 "nbformat": 4,
 "nbformat_minor": 5
}
