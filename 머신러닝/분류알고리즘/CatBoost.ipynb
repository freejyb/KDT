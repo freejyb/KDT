{
 "cells": [
  {
   "cell_type": "markdown",
   "id": "4b0a3a70-8323-4097-8545-b25f42660ff3",
   "metadata": {
    "id": "4b0a3a70-8323-4097-8545-b25f42660ff3"
   },
   "source": [
    "CatBoost\n",
    "\n",
    "Yandex에서 개발한 Gradient Boosting 모델\n",
    "\n",
    "범주형 변수(categorical features)를 처리하는 데 매우 뛰어나며,\n",
    "\n",
    "과적합(overfitting)을 잘 방지하는 특성을 가지고 있습니다.\n",
    "\n",
    "CatBoost는 자동으로 범주형 변수를 처리할 수 있어 사용자가 범주형 변수를 미리 전처리할 필요가 없습니다."
   ]
  },
  {
   "cell_type": "code",
   "execution_count": null,
   "id": "c6bfe455-3a45-4031-bf01-478d9dba77cb",
   "metadata": {
    "id": "c6bfe455-3a45-4031-bf01-478d9dba77cb"
   },
   "outputs": [],
   "source": []
  },
  {
   "cell_type": "markdown",
   "id": "f69acbb9-45f3-4247-83e5-65052dc45bbe",
   "metadata": {
    "id": "f69acbb9-45f3-4247-83e5-65052dc45bbe"
   },
   "source": [
    "Iris 데이터셋을 사용하여 CatBoostClassifier로 예측을 수행하는 예시 코드"
   ]
  },
  {
   "cell_type": "code",
   "execution_count": 1,
   "id": "8c279780-3771-44ad-aece-21be13969183",
   "metadata": {
    "id": "8c279780-3771-44ad-aece-21be13969183"
   },
   "outputs": [],
   "source": [
    "# 코드 설명\n",
    "# 데이터 준비:\n",
    "# load_iris() 함수를 사용하여 Iris 데이터셋을 불러옵니다.\n",
    "# train_test_split()을 사용하여 훈련 데이터와 테스트 데이터를 80:20으로 나눕니다.\n",
    "\n",
    "# CatBoost 모델 생성:\n",
    "# CatBoostClassifier()를 사용하여 CatBoost 모델을 생성합니다.\n",
    "# **iterations=100**은 트리의 개수를 100으로 설정하며, **verbose=0**으로 모델 학습 중의 출력을 생략합니다.\n",
    "\n",
    "# 모델 학습:\n",
    "# fit() 메서드로 훈련 데이터를 사용하여 모델을 학습시킵니다.\n",
    "\n",
    "# 예측:\n",
    "# predict() 메서드로 테스트 데이터에 대한 예측을 수행합니다.\n",
    "\n",
    "# 정확도 평가:\n",
    "# accuracy_score(y_test, catboost_y_pred)를 사용하여 모델 정확도를 평가합니다.\n",
    "\n",
    "# 혼동 행렬:\n",
    "# confusion_matrix()를 사용하여 혼동 행렬을 계산하고, seaborn.heatmap으로 시각화합니다.\n",
    "\n",
    "# 특성 중요도:\n",
    "# get_feature_importance() 메서드로 특성 중요도를 추출하여 수평 바 차트로 시각화합니다."
   ]
  },
  {
   "cell_type": "code",
   "execution_count": 2,
   "id": "572261be-9642-41b4-8c65-96cbbb1bc1c9",
   "metadata": {
    "id": "572261be-9642-41b4-8c65-96cbbb1bc1c9",
    "outputId": "62800d63-0d1b-4787-805e-44af58dde8fe"
   },
   "outputs": [
    {
     "name": "stdout",
     "output_type": "stream",
     "text": [
      "Requirement already satisfied: catboost in c:\\users\\jyb\\appdata\\local\\programs\\python\\python39\\lib\\site-packages (1.2.7)\n",
      "Requirement already satisfied: graphviz in c:\\users\\jyb\\appdata\\local\\programs\\python\\python39\\lib\\site-packages (from catboost) (0.20.1)\n",
      "Requirement already satisfied: matplotlib in c:\\users\\jyb\\appdata\\local\\programs\\python\\python39\\lib\\site-packages (from catboost) (3.9.2)\n",
      "Collecting numpy<2.0,>=1.16.0 (from catboost)\n",
      "  Using cached numpy-1.26.4-cp39-cp39-win_amd64.whl.metadata (61 kB)\n",
      "Requirement already satisfied: pandas>=0.24 in c:\\users\\jyb\\appdata\\local\\programs\\python\\python39\\lib\\site-packages (from catboost) (2.2.3)\n",
      "Requirement already satisfied: scipy in c:\\users\\jyb\\appdata\\local\\programs\\python\\python39\\lib\\site-packages (from catboost) (1.13.1)\n",
      "Requirement already satisfied: plotly in c:\\users\\jyb\\appdata\\local\\programs\\python\\python39\\lib\\site-packages (from catboost) (5.14.1)\n",
      "Requirement already satisfied: six in c:\\users\\jyb\\appdata\\local\\programs\\python\\python39\\lib\\site-packages (from catboost) (1.16.0)\n",
      "Requirement already satisfied: python-dateutil>=2.8.2 in c:\\users\\jyb\\appdata\\local\\programs\\python\\python39\\lib\\site-packages (from pandas>=0.24->catboost) (2.9.0.post0)\n",
      "Requirement already satisfied: pytz>=2020.1 in c:\\users\\jyb\\appdata\\local\\programs\\python\\python39\\lib\\site-packages (from pandas>=0.24->catboost) (2021.1)\n",
      "Requirement already satisfied: tzdata>=2022.7 in c:\\users\\jyb\\appdata\\local\\programs\\python\\python39\\lib\\site-packages (from pandas>=0.24->catboost) (2022.7)\n",
      "Requirement already satisfied: contourpy>=1.0.1 in c:\\users\\jyb\\appdata\\local\\programs\\python\\python39\\lib\\site-packages (from matplotlib->catboost) (1.3.0)\n",
      "Requirement already satisfied: cycler>=0.10 in c:\\users\\jyb\\appdata\\local\\programs\\python\\python39\\lib\\site-packages (from matplotlib->catboost) (0.12.1)\n",
      "Requirement already satisfied: fonttools>=4.22.0 in c:\\users\\jyb\\appdata\\local\\programs\\python\\python39\\lib\\site-packages (from matplotlib->catboost) (4.54.1)\n",
      "Requirement already satisfied: kiwisolver>=1.3.1 in c:\\users\\jyb\\appdata\\local\\programs\\python\\python39\\lib\\site-packages (from matplotlib->catboost) (1.4.7)\n",
      "Requirement already satisfied: packaging>=20.0 in c:\\users\\jyb\\appdata\\local\\programs\\python\\python39\\lib\\site-packages (from matplotlib->catboost) (24.2)\n",
      "Requirement already satisfied: pillow>=8 in c:\\users\\jyb\\appdata\\local\\programs\\python\\python39\\lib\\site-packages (from matplotlib->catboost) (11.0.0)\n",
      "Requirement already satisfied: pyparsing>=2.3.1 in c:\\users\\jyb\\appdata\\local\\programs\\python\\python39\\lib\\site-packages (from matplotlib->catboost) (3.2.0)\n",
      "Requirement already satisfied: importlib-resources>=3.2.0 in c:\\users\\jyb\\appdata\\local\\programs\\python\\python39\\lib\\site-packages (from matplotlib->catboost) (6.4.5)\n",
      "Requirement already satisfied: tenacity>=6.2.0 in c:\\users\\jyb\\appdata\\local\\programs\\python\\python39\\lib\\site-packages (from plotly->catboost) (8.0.1)\n",
      "Requirement already satisfied: zipp>=3.1.0 in c:\\users\\jyb\\appdata\\local\\programs\\python\\python39\\lib\\site-packages (from importlib-resources>=3.2.0->matplotlib->catboost) (3.21.0)\n",
      "Using cached numpy-1.26.4-cp39-cp39-win_amd64.whl (15.8 MB)\n",
      "Installing collected packages: numpy\n",
      "  Attempting uninstall: numpy\n",
      "    Found existing installation: numpy 2.0.2\n",
      "    Uninstalling numpy-2.0.2:\n",
      "      Successfully uninstalled numpy-2.0.2\n",
      "Successfully installed numpy-1.26.4\n",
      "Note: you may need to restart the kernel to use updated packages.\n"
     ]
    },
    {
     "name": "stderr",
     "output_type": "stream",
     "text": [
      "WARNING: Ignoring invalid distribution -atplotlib (c:\\users\\jyb\\appdata\\local\\programs\\python\\python39\\lib\\site-packages)\n",
      "WARNING: Ignoring invalid distribution -illow (c:\\users\\jyb\\appdata\\local\\programs\\python\\python39\\lib\\site-packages)\n",
      "WARNING: Ignoring invalid distribution -otebook (c:\\users\\jyb\\appdata\\local\\programs\\python\\python39\\lib\\site-packages)\n",
      "WARNING: Ignoring invalid distribution -atplotlib (c:\\users\\jyb\\appdata\\local\\programs\\python\\python39\\lib\\site-packages)\n",
      "WARNING: Ignoring invalid distribution -illow (c:\\users\\jyb\\appdata\\local\\programs\\python\\python39\\lib\\site-packages)\n",
      "WARNING: Ignoring invalid distribution -otebook (c:\\users\\jyb\\appdata\\local\\programs\\python\\python39\\lib\\site-packages)\n",
      "WARNING: Ignoring invalid distribution -atplotlib (c:\\users\\jyb\\appdata\\local\\programs\\python\\python39\\lib\\site-packages)\n",
      "WARNING: Ignoring invalid distribution -illow (c:\\users\\jyb\\appdata\\local\\programs\\python\\python39\\lib\\site-packages)\n",
      "WARNING: Ignoring invalid distribution -otebook (c:\\users\\jyb\\appdata\\local\\programs\\python\\python39\\lib\\site-packages)\n",
      "ERROR: pip's dependency resolver does not currently take into account all the packages that are installed. This behaviour is the source of the following dependency conflicts.\n",
      "pingouin 0.5.3 requires pandas-flavor>=0.2.0, which is not installed.\n",
      "blis 1.0.1 requires numpy<3.0.0,>=2.0.0, but you have numpy 1.26.4 which is incompatible.\n",
      "thinc 8.3.2 requires numpy<2.1.0,>=2.0.0; python_version >= \"3.9\", but you have numpy 1.26.4 which is incompatible.\n",
      "\n",
      "[notice] A new release of pip is available: 24.2 -> 24.3.1\n",
      "[notice] To update, run: python.exe -m pip install --upgrade pip\n"
     ]
    }
   ],
   "source": [
    "pip install catboost"
   ]
  },
  {
   "cell_type": "code",
   "execution_count": 3,
   "id": "36ee73f9-abb5-4de8-aba5-f4cc894a6937",
   "metadata": {
    "id": "36ee73f9-abb5-4de8-aba5-f4cc894a6937",
    "outputId": "7e90881c-6dea-4959-e107-e06603a2cb07"
   },
   "outputs": [
    {
     "name": "stdout",
     "output_type": "stream",
     "text": [
      "Collecting numpy==1.19.5\n",
      "  Using cached numpy-1.19.5-cp39-cp39-win_amd64.whl.metadata (2.0 kB)\n",
      "Using cached numpy-1.19.5-cp39-cp39-win_amd64.whl (13.3 MB)\n",
      "Installing collected packages: numpy\n",
      "  Attempting uninstall: numpy\n",
      "    Found existing installation: numpy 1.26.4\n",
      "    Uninstalling numpy-1.26.4:\n",
      "      Successfully uninstalled numpy-1.26.4\n",
      "Successfully installed numpy-1.19.5\n",
      "Note: you may need to restart the kernel to use updated packages.\n"
     ]
    },
    {
     "name": "stderr",
     "output_type": "stream",
     "text": [
      "WARNING: Ignoring invalid distribution -atplotlib (c:\\users\\jyb\\appdata\\local\\programs\\python\\python39\\lib\\site-packages)\n",
      "WARNING: Ignoring invalid distribution -illow (c:\\users\\jyb\\appdata\\local\\programs\\python\\python39\\lib\\site-packages)\n",
      "WARNING: Ignoring invalid distribution -otebook (c:\\users\\jyb\\appdata\\local\\programs\\python\\python39\\lib\\site-packages)\n",
      "WARNING: Ignoring invalid distribution -atplotlib (c:\\users\\jyb\\appdata\\local\\programs\\python\\python39\\lib\\site-packages)\n",
      "WARNING: Ignoring invalid distribution -illow (c:\\users\\jyb\\appdata\\local\\programs\\python\\python39\\lib\\site-packages)\n",
      "WARNING: Ignoring invalid distribution -otebook (c:\\users\\jyb\\appdata\\local\\programs\\python\\python39\\lib\\site-packages)\n",
      "WARNING: Ignoring invalid distribution -atplotlib (c:\\users\\jyb\\appdata\\local\\programs\\python\\python39\\lib\\site-packages)\n",
      "WARNING: Ignoring invalid distribution -illow (c:\\users\\jyb\\appdata\\local\\programs\\python\\python39\\lib\\site-packages)\n",
      "WARNING: Ignoring invalid distribution -otebook (c:\\users\\jyb\\appdata\\local\\programs\\python\\python39\\lib\\site-packages)\n",
      "ERROR: pip's dependency resolver does not currently take into account all the packages that are installed. This behaviour is the source of the following dependency conflicts.\n",
      "pingouin 0.5.3 requires pandas-flavor>=0.2.0, which is not installed.\n",
      "blis 1.0.1 requires numpy<3.0.0,>=2.0.0, but you have numpy 1.19.5 which is incompatible.\n",
      "cmdstanpy 1.1.0 requires numpy>=1.21, but you have numpy 1.19.5 which is incompatible.\n",
      "contourpy 1.3.0 requires numpy>=1.23, but you have numpy 1.19.5 which is incompatible.\n",
      "matplotlib 3.9.2 requires numpy>=1.23, but you have numpy 1.19.5 which is incompatible.\n",
      "ml-dtypes 0.4.1 requires numpy>1.20, but you have numpy 1.19.5 which is incompatible.\n",
      "numba 0.59.1 requires numpy<1.27,>=1.22, but you have numpy 1.19.5 which is incompatible.\n",
      "pandas 2.2.3 requires numpy>=1.22.4; python_version < \"3.11\", but you have numpy 1.19.5 which is incompatible.\n",
      "pywavelets 1.6.0 requires numpy<3,>=1.22.4, but you have numpy 1.19.5 which is incompatible.\n",
      "scikit-image 0.22.0 requires numpy>=1.22, but you have numpy 1.19.5 which is incompatible.\n",
      "scipy 1.13.1 requires numpy<2.3,>=1.22.4, but you have numpy 1.19.5 which is incompatible.\n",
      "statsmodels 0.14.2 requires numpy>=1.22.3, but you have numpy 1.19.5 which is incompatible.\n",
      "tensorflow-intel 2.18.0 requires numpy<2.1.0,>=1.26.0, but you have numpy 1.19.5 which is incompatible.\n",
      "thinc 8.3.2 requires numpy<2.1.0,>=2.0.0; python_version >= \"3.9\", but you have numpy 1.19.5 which is incompatible.\n",
      "\n",
      "[notice] A new release of pip is available: 24.2 -> 24.3.1\n",
      "[notice] To update, run: python.exe -m pip install --upgrade pip\n"
     ]
    }
   ],
   "source": [
    "pip install numpy==1.19.5\n"
   ]
  },
  {
   "cell_type": "code",
   "execution_count": 4,
   "id": "b10bef2f-5d8c-4a93-9cc6-9e5b011ccf94",
   "metadata": {
    "id": "b10bef2f-5d8c-4a93-9cc6-9e5b011ccf94",
    "outputId": "3e5f91c0-fe2d-44b1-a8bb-99cede760d92"
   },
   "outputs": [
    {
     "name": "stdout",
     "output_type": "stream",
     "text": [
      "Requirement already satisfied: numpy==1.19.5 in c:\\users\\jyb\\appdata\\local\\programs\\python\\python39\\lib\\site-packages (1.19.5)\n",
      "Note: you may need to restart the kernel to use updated packages.\n"
     ]
    },
    {
     "name": "stderr",
     "output_type": "stream",
     "text": [
      "WARNING: Ignoring invalid distribution -atplotlib (c:\\users\\jyb\\appdata\\local\\programs\\python\\python39\\lib\\site-packages)\n",
      "WARNING: Ignoring invalid distribution -illow (c:\\users\\jyb\\appdata\\local\\programs\\python\\python39\\lib\\site-packages)\n",
      "WARNING: Ignoring invalid distribution -otebook (c:\\users\\jyb\\appdata\\local\\programs\\python\\python39\\lib\\site-packages)\n",
      "WARNING: Ignoring invalid distribution -atplotlib (c:\\users\\jyb\\appdata\\local\\programs\\python\\python39\\lib\\site-packages)\n",
      "WARNING: Ignoring invalid distribution -illow (c:\\users\\jyb\\appdata\\local\\programs\\python\\python39\\lib\\site-packages)\n",
      "WARNING: Ignoring invalid distribution -otebook (c:\\users\\jyb\\appdata\\local\\programs\\python\\python39\\lib\\site-packages)\n",
      "WARNING: Ignoring invalid distribution -atplotlib (c:\\users\\jyb\\appdata\\local\\programs\\python\\python39\\lib\\site-packages)\n",
      "WARNING: Ignoring invalid distribution -illow (c:\\users\\jyb\\appdata\\local\\programs\\python\\python39\\lib\\site-packages)\n",
      "WARNING: Ignoring invalid distribution -otebook (c:\\users\\jyb\\appdata\\local\\programs\\python\\python39\\lib\\site-packages)\n",
      "\n",
      "[notice] A new release of pip is available: 24.2 -> 24.3.1\n",
      "[notice] To update, run: python.exe -m pip install --upgrade pip\n"
     ]
    }
   ],
   "source": [
    "pip install numpy==1.19.5\n"
   ]
  },
  {
   "cell_type": "code",
   "execution_count": 5,
   "id": "44ca044f-2f0d-42c0-ab2b-820e38207e93",
   "metadata": {
    "id": "44ca044f-2f0d-42c0-ab2b-820e38207e93",
    "outputId": "48a9a9bd-effd-49ee-ae77-66858515e4c1"
   },
   "outputs": [
    {
     "name": "stdout",
     "output_type": "stream",
     "text": [
      "Requirement already satisfied: matplotlib in c:\\users\\jyb\\appdata\\local\\programs\\python\\python39\\lib\\site-packages (3.9.2)\n",
      "Requirement already satisfied: contourpy>=1.0.1 in c:\\users\\jyb\\appdata\\local\\programs\\python\\python39\\lib\\site-packages (from matplotlib) (1.3.0)\n",
      "Requirement already satisfied: cycler>=0.10 in c:\\users\\jyb\\appdata\\local\\programs\\python\\python39\\lib\\site-packages (from matplotlib) (0.12.1)\n",
      "Requirement already satisfied: fonttools>=4.22.0 in c:\\users\\jyb\\appdata\\local\\programs\\python\\python39\\lib\\site-packages (from matplotlib) (4.54.1)\n",
      "Requirement already satisfied: kiwisolver>=1.3.1 in c:\\users\\jyb\\appdata\\local\\programs\\python\\python39\\lib\\site-packages (from matplotlib) (1.4.7)\n",
      "Collecting numpy>=1.23 (from matplotlib)\n",
      "  Using cached numpy-2.0.2-cp39-cp39-win_amd64.whl.metadata (59 kB)\n",
      "Requirement already satisfied: packaging>=20.0 in c:\\users\\jyb\\appdata\\local\\programs\\python\\python39\\lib\\site-packages (from matplotlib) (24.2)\n",
      "Requirement already satisfied: pillow>=8 in c:\\users\\jyb\\appdata\\local\\programs\\python\\python39\\lib\\site-packages (from matplotlib) (11.0.0)\n",
      "Requirement already satisfied: pyparsing>=2.3.1 in c:\\users\\jyb\\appdata\\local\\programs\\python\\python39\\lib\\site-packages (from matplotlib) (3.2.0)\n",
      "Requirement already satisfied: python-dateutil>=2.7 in c:\\users\\jyb\\appdata\\local\\programs\\python\\python39\\lib\\site-packages (from matplotlib) (2.9.0.post0)\n",
      "Requirement already satisfied: importlib-resources>=3.2.0 in c:\\users\\jyb\\appdata\\local\\programs\\python\\python39\\lib\\site-packages (from matplotlib) (6.4.5)\n",
      "Requirement already satisfied: zipp>=3.1.0 in c:\\users\\jyb\\appdata\\local\\programs\\python\\python39\\lib\\site-packages (from importlib-resources>=3.2.0->matplotlib) (3.21.0)\n",
      "Requirement already satisfied: six>=1.5 in c:\\users\\jyb\\appdata\\local\\programs\\python\\python39\\lib\\site-packages (from python-dateutil>=2.7->matplotlib) (1.16.0)\n",
      "Using cached numpy-2.0.2-cp39-cp39-win_amd64.whl (15.9 MB)\n",
      "Installing collected packages: numpy\n",
      "  Attempting uninstall: numpy\n",
      "    Found existing installation: numpy 1.19.5\n",
      "    Uninstalling numpy-1.19.5:\n",
      "      Successfully uninstalled numpy-1.19.5\n",
      "Successfully installed numpy-2.0.2\n",
      "Note: you may need to restart the kernel to use updated packages.\n"
     ]
    },
    {
     "name": "stderr",
     "output_type": "stream",
     "text": [
      "WARNING: Ignoring invalid distribution -atplotlib (c:\\users\\jyb\\appdata\\local\\programs\\python\\python39\\lib\\site-packages)\n",
      "WARNING: Ignoring invalid distribution -illow (c:\\users\\jyb\\appdata\\local\\programs\\python\\python39\\lib\\site-packages)\n",
      "WARNING: Ignoring invalid distribution -otebook (c:\\users\\jyb\\appdata\\local\\programs\\python\\python39\\lib\\site-packages)\n",
      "WARNING: Ignoring invalid distribution -atplotlib (c:\\users\\jyb\\appdata\\local\\programs\\python\\python39\\lib\\site-packages)\n",
      "WARNING: Ignoring invalid distribution -illow (c:\\users\\jyb\\appdata\\local\\programs\\python\\python39\\lib\\site-packages)\n",
      "WARNING: Ignoring invalid distribution -otebook (c:\\users\\jyb\\appdata\\local\\programs\\python\\python39\\lib\\site-packages)\n",
      "WARNING: Ignoring invalid distribution -atplotlib (c:\\users\\jyb\\appdata\\local\\programs\\python\\python39\\lib\\site-packages)\n",
      "WARNING: Ignoring invalid distribution -illow (c:\\users\\jyb\\appdata\\local\\programs\\python\\python39\\lib\\site-packages)\n",
      "WARNING: Ignoring invalid distribution -otebook (c:\\users\\jyb\\appdata\\local\\programs\\python\\python39\\lib\\site-packages)\n",
      "ERROR: pip's dependency resolver does not currently take into account all the packages that are installed. This behaviour is the source of the following dependency conflicts.\n",
      "pingouin 0.5.3 requires pandas-flavor>=0.2.0, which is not installed.\n",
      "catboost 1.2.7 requires numpy<2.0,>=1.16.0, but you have numpy 2.0.2 which is incompatible.\n",
      "gensim 4.3.3 requires numpy<2.0,>=1.18.5, but you have numpy 2.0.2 which is incompatible.\n",
      "numba 0.59.1 requires numpy<1.27,>=1.22, but you have numpy 2.0.2 which is incompatible.\n",
      "\n",
      "[notice] A new release of pip is available: 24.2 -> 24.3.1\n",
      "[notice] To update, run: python.exe -m pip install --upgrade pip\n"
     ]
    }
   ],
   "source": [
    "pip install --upgrade matplotlib\n"
   ]
  },
  {
   "cell_type": "code",
   "execution_count": null,
   "id": "7806b904-5670-41e3-8bdf-566aeb5f86ac",
   "metadata": {
    "colab": {
     "base_uri": "https://localhost:8080/",
     "height": 1000
    },
    "executionInfo": {
     "elapsed": 74102,
     "status": "ok",
     "timestamp": 1731605379963,
     "user": {
      "displayName": "전윤범",
      "userId": "16579588953913211126"
     },
     "user_tz": -540
    },
    "id": "7806b904-5670-41e3-8bdf-566aeb5f86ac",
    "outputId": "6e61fb52-79f8-498b-e88b-eb3c8bd6187c"
   },
   "outputs": [],
   "source": [
    "!pip uninstall numpy\n",
    "!pip install numpy==1.21.0\n"
   ]
  },
  {
   "cell_type": "code",
   "execution_count": null,
   "id": "4fb8918c-f6a3-4d65-b752-241c4ffa376a",
   "metadata": {
    "colab": {
     "base_uri": "https://localhost:8080/"
    },
    "executionInfo": {
     "elapsed": 2930,
     "status": "ok",
     "timestamp": 1731605453734,
     "user": {
      "displayName": "전윤범",
      "userId": "16579588953913211126"
     },
     "user_tz": -540
    },
    "id": "4fb8918c-f6a3-4d65-b752-241c4ffa376a",
    "outputId": "b2b8067f-7730-49ea-98ee-79c0bbdeebcb"
   },
   "outputs": [],
   "source": [
    "!pip install numpy==1.21.0"
   ]
  },
  {
   "cell_type": "code",
   "execution_count": null,
   "id": "1XbHlb9WuvH_",
   "metadata": {
    "colab": {
     "base_uri": "https://localhost:8080/"
    },
    "executionInfo": {
     "elapsed": 5929,
     "status": "ok",
     "timestamp": 1731605503756,
     "user": {
      "displayName": "전윤범",
      "userId": "16579588953913211126"
     },
     "user_tz": -540
    },
    "id": "1XbHlb9WuvH_",
    "outputId": "0664a44c-7718-4569-8a10-32311ecd07f9"
   },
   "outputs": [],
   "source": [
    "pip install --upgrade numpy\n"
   ]
  },
  {
   "cell_type": "code",
   "execution_count": null,
   "id": "94qM1ZXMu124",
   "metadata": {
    "colab": {
     "base_uri": "https://localhost:8080/"
    },
    "executionInfo": {
     "elapsed": 16071,
     "status": "ok",
     "timestamp": 1731605558244,
     "user": {
      "displayName": "전윤범",
      "userId": "16579588953913211126"
     },
     "user_tz": -540
    },
    "id": "94qM1ZXMu124",
    "outputId": "101f9c69-8a98-4f4d-cc00-913c256d5af5"
   },
   "outputs": [],
   "source": [
    "!pip uninstall pandas\n",
    "!pip install pandas\n"
   ]
  },
  {
   "cell_type": "code",
   "execution_count": null,
   "id": "VTfNZ0zcu2GJ",
   "metadata": {
    "colab": {
     "base_uri": "https://localhost:8080/",
     "height": 947
    },
    "executionInfo": {
     "elapsed": 381,
     "status": "error",
     "timestamp": 1731605580109,
     "user": {
      "displayName": "전윤범",
      "userId": "16579588953913211126"
     },
     "user_tz": -540
    },
    "id": "VTfNZ0zcu2GJ",
    "outputId": "b9216ace-417d-46f0-be92-cfc48aeee0a6"
   },
   "outputs": [],
   "source": [
    "import numpy as np\n",
    "import pandas as pd\n",
    "print(np.__version__)\n",
    "print(pd.__version__)\n"
   ]
  },
  {
   "cell_type": "code",
   "execution_count": null,
   "id": "qwzuJ6ievRXG",
   "metadata": {
    "colab": {
     "base_uri": "https://localhost:8080/"
    },
    "executionInfo": {
     "elapsed": 14690,
     "status": "ok",
     "timestamp": 1731605669153,
     "user": {
      "displayName": "전윤범",
      "userId": "16579588953913211126"
     },
     "user_tz": -540
    },
    "id": "qwzuJ6ievRXG",
    "outputId": "6221fa4c-c468-418f-a896-3d91008818eb"
   },
   "outputs": [],
   "source": [
    "!pip uninstall pandas\n",
    "!pip install pandas\n"
   ]
  },
  {
   "cell_type": "code",
   "execution_count": null,
   "id": "zP5e7EkovRhj",
   "metadata": {
    "colab": {
     "base_uri": "https://localhost:8080/"
    },
    "executionInfo": {
     "elapsed": 3996,
     "status": "ok",
     "timestamp": 1731605700615,
     "user": {
      "displayName": "전윤범",
      "userId": "16579588953913211126"
     },
     "user_tz": -540
    },
    "id": "zP5e7EkovRhj",
    "outputId": "7f9f53bd-e90a-4dc8-b4bb-64765749d09e"
   },
   "outputs": [],
   "source": [
    "!pip install --upgrade numpy\n",
    "\n"
   ]
  },
  {
   "cell_type": "code",
   "execution_count": null,
   "id": "iwsuOJB1vRlx",
   "metadata": {
    "colab": {
     "base_uri": "https://localhost:8080/"
    },
    "executionInfo": {
     "elapsed": 6462,
     "status": "ok",
     "timestamp": 1731605718053,
     "user": {
      "displayName": "전윤범",
      "userId": "16579588953913211126"
     },
     "user_tz": -540
    },
    "id": "iwsuOJB1vRlx",
    "outputId": "da462932-1e18-4a1e-f367-fc1e4654c78d"
   },
   "outputs": [],
   "source": [
    "pip install cython\n"
   ]
  },
  {
   "cell_type": "code",
   "execution_count": null,
   "id": "6uW7YpFCvRqH",
   "metadata": {
    "id": "6uW7YpFCvRqH"
   },
   "outputs": [],
   "source": []
  },
  {
   "cell_type": "code",
   "execution_count": null,
   "id": "674aca82-93ff-47b3-88bb-a2b857d49ca1",
   "metadata": {
    "colab": {
     "base_uri": "https://localhost:8080/",
     "height": 658
    },
    "executionInfo": {
     "elapsed": 10,
     "status": "error",
     "timestamp": 1731605824895,
     "user": {
      "displayName": "전윤범",
      "userId": "16579588953913211126"
     },
     "user_tz": -540
    },
    "id": "674aca82-93ff-47b3-88bb-a2b857d49ca1",
    "outputId": "e82fb008-52c1-4eee-9b9c-a84b5e03007f"
   },
   "outputs": [],
   "source": [
    "import matplotlib.pyplot as plt\n",
    "import seaborn as sns\n",
    "from sklearn.model_selection import train_test_split\n",
    "from sklearn.datasets import load_iris\n",
    "from sklearn.metrics import accuracy_score, confusion_matrix\n",
    "from catboost import CatBoostClassifier\n",
    "\n",
    "# 예시 데이터셋: 붓꽃(Iris) 데이터셋\n",
    "iris = load_iris()\n",
    "X = iris.data  # 특성 (Features)\n",
    "y = iris.target  # 레이블 (Labels)\n",
    "\n",
    "# 훈련용 데이터와 테스트용 데이터로 분리 (80% 훈련, 20% 테스트)\n",
    "X_train, X_test, y_train, y_test = train_test_split(X, y, test_size=0.2, random_state=42)\n",
    "\n",
    "# CatBoost 모델 생성\n",
    "catboost_model = CatBoostClassifier(iterations=100, random_state=42, verbose=0)  # `verbose=0`으로 출력을 줄임\n",
    "\n",
    "# 모델 학습\n",
    "catboost_model.fit(X_train, y_train)\n",
    "\n",
    "# 테스트 데이터로 예측\n",
    "catboost_y_pred = catboost_model.predict(X_test)\n",
    "\n",
    "# 정확도 평가\n",
    "catboost_accuracy = accuracy_score(y_test, catboost_y_pred)\n",
    "print(f\"CatBoost 모델 정확도: {catboost_accuracy * 100:.2f}%\")\n",
    "\n",
    "# 혼동 행렬 시각화\n",
    "cm = confusion_matrix(y_test, catboost_y_pred)\n",
    "plt.figure(figsize=(8, 6))\n",
    "sns.heatmap(cm, annot=True, fmt='d', cmap='Blues', xticklabels=iris.target_names, yticklabels=iris.target_names)\n",
    "plt.title('Confusion Matrix')\n",
    "plt.xlabel('Predicted')\n",
    "plt.ylabel('True')\n",
    "plt.show()\n",
    "\n",
    "# 특성 중요도 시각화\n",
    "feature_importances = catboost_model.get_feature_importance()\n",
    "features = iris.feature_names\n",
    "\n",
    "plt.figure(figsize=(8, 6))\n",
    "plt.barh(features, feature_importances, color='skyblue')\n",
    "plt.title('Feature Importance')\n",
    "plt.xlabel('Importance')\n",
    "plt.ylabel('Feature')\n",
    "plt.show()\n"
   ]
  },
  {
   "cell_type": "code",
   "execution_count": null,
   "id": "-brJbCONvyrQ",
   "metadata": {
    "executionInfo": {
     "elapsed": 2918,
     "status": "ok",
     "timestamp": 1731605780812,
     "user": {
      "displayName": "전윤범",
      "userId": "16579588953913211126"
     },
     "user_tz": -540
    },
    "id": "-brJbCONvyrQ"
   },
   "outputs": [],
   "source": [
    "pip install numpy>=1.22.4\n"
   ]
  },
  {
   "cell_type": "code",
   "execution_count": null,
   "id": "0dR6yqIYvy64",
   "metadata": {
    "id": "0dR6yqIYvy64"
   },
   "outputs": [],
   "source": []
  },
  {
   "cell_type": "code",
   "execution_count": null,
   "id": "XZJuhj2NtcNM",
   "metadata": {
    "colab": {
     "base_uri": "https://localhost:8080/"
    },
    "executionInfo": {
     "elapsed": 36113,
     "status": "ok",
     "timestamp": 1731605824895,
     "user": {
      "displayName": "전윤범",
      "userId": "16579588953913211126"
     },
     "user_tz": -540
    },
    "id": "XZJuhj2NtcNM",
    "outputId": "1a439089-b213-4f52-98bf-2e344015e5ea"
   },
   "outputs": [],
   "source": [
    "from google.colab import drive\n",
    "drive.mount('/content/drive')"
   ]
  },
  {
   "cell_type": "code",
   "execution_count": null,
   "id": "97069954-883d-4748-849e-cd7cd655dafd",
   "metadata": {
    "id": "97069954-883d-4748-849e-cd7cd655dafd"
   },
   "outputs": [],
   "source": []
  },
  {
   "cell_type": "markdown",
   "id": "5c826e11-fdb7-4388-a076-a18c0e3ee3e2",
   "metadata": {
    "id": "5c826e11-fdb7-4388-a076-a18c0e3ee3e2"
   },
   "source": [
    "출력:\n",
    "정확도: 모델의 정확도가 출력됩니다.\n",
    "\n",
    "혼동 행렬: 예측된 값과 실제 값 간의 관계를 시각화한 혼동 행렬이 출력됩니다.\n",
    "\n",
    "특성 중요도: 모델이 예측에 중요한 특성을 시각적으로 확인할 수 있는 수평 바 차트가 출력됩니다.\n",
    "\n",
    "CatBoost의 장점:\n",
    "범주형 변수 처리: CatBoost는 범주형 변수를 자동으로 처리하여, 원-핫 인코딩 등의 전처리를 할 필요가 없습니다.\n",
    "\n",
    "빠르고 효율적: 대규모 데이터셋에 대해 빠르고 효율적인 성능을 제공합니다.\n",
    "\n",
    "과적합 방지: CatBoost는 **과적합(overfitting)**을 잘 방지하는 특성이 있어, 안정적인 성능을 보입니다."
   ]
  },
  {
   "cell_type": "code",
   "execution_count": null,
   "id": "31c72979-d098-4d8b-97b9-bb19f9f6ca91",
   "metadata": {
    "id": "31c72979-d098-4d8b-97b9-bb19f9f6ca91"
   },
   "outputs": [],
   "source": []
  }
 ],
 "metadata": {
  "accelerator": "GPU",
  "colab": {
   "gpuType": "T4",
   "provenance": []
  },
  "kernelspec": {
   "display_name": "Python 3 (ipykernel)",
   "language": "python",
   "name": "python3"
  },
  "language_info": {
   "codemirror_mode": {
    "name": "ipython",
    "version": 3
   },
   "file_extension": ".py",
   "mimetype": "text/x-python",
   "name": "python",
   "nbconvert_exporter": "python",
   "pygments_lexer": "ipython3",
   "version": "3.9.11"
  }
 },
 "nbformat": 4,
 "nbformat_minor": 5
}
