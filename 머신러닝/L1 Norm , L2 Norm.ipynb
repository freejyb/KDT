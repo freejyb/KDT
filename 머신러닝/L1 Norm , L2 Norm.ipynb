{
 "cells": [
  {
   "cell_type": "markdown",
   "id": "f96e5b8e",
   "metadata": {},
   "source": [
    "### L1 Norm , L2 Norm"
   ]
  },
  {
   "cell_type": "markdown",
   "id": "f458669c",
   "metadata": {},
   "source": [
    "### Norm"
   ]
  },
  {
   "cell_type": "code",
   "execution_count": null,
   "id": "19903056",
   "metadata": {},
   "outputs": [],
   "source": [
    "# Norm : 벡터의 구성요소의 크기(magnitude)를 표현 혹은 길이를 측정하는 방법\n",
    "\n",
    "# Norm 활용\n",
    "#  딥러닝에서 관측된 데이터의 확률을 최대화하거나, 예측과 실제 값의 차이를 최소화하는 최적화 문제\n",
    "# 벡터로 표현해서 비슷한 것들은 거리를 최소화하고, \n",
    "# 비슷하지 않은 것들은 거리를 최대화할 때 norm의 개념 활용\n"
   ]
  },
  {
   "cell_type": "markdown",
   "id": "6d5f4266",
   "metadata": {},
   "source": [
    "#### L1 Norm"
   ]
  },
  {
   "cell_type": "code",
   "execution_count": null,
   "id": "801d1816",
   "metadata": {},
   "outputs": [],
   "source": [
    "# Manhattan 거리 : the minimal distance between two places(taxi driver)\n",
    "# LASSO 회귀분석에 벌점 사용\n",
    "# p는 norm의 차수를 의미 : L1 은 1차로 절대값의 합으로 계산 "
   ]
  },
  {
   "cell_type": "code",
   "execution_count": 11,
   "id": "45fdc549",
   "metadata": {},
   "outputs": [
    {
     "name": "stdout",
     "output_type": "stream",
     "text": [
      "12\n"
     ]
    }
   ],
   "source": [
    "# 6의 절대값 합으로 계산\n",
    "import numpy as np\n",
    "m = np.array([6, 6])\n",
    "print(np.abs(m).sum())"
   ]
  },
  {
   "cell_type": "markdown",
   "id": "9409909a",
   "metadata": {},
   "source": [
    "#### L2 Norm"
   ]
  },
  {
   "cell_type": "code",
   "execution_count": null,
   "id": "da183dc9",
   "metadata": {},
   "outputs": [],
   "source": [
    "# 목표까지의 최단거리 : used by helicopter pilots\n",
    "# p는 norm의 차수를 의미 : L2 은 2차로 값의 제곱을 모두 합한 값의 제곱근"
   ]
  },
  {
   "cell_type": "code",
   "execution_count": 12,
   "id": "0bce2e47",
   "metadata": {},
   "outputs": [
    {
     "name": "stdout",
     "output_type": "stream",
     "text": [
      "8.48528137423857\n"
     ]
    }
   ],
   "source": [
    "# 6제곱과 6제곱을 합하여 제곱근 한 값과 동일\n",
    "import numpy as np\n",
    "u = np.array([6,6])\n",
    "print(np.linalg.norm(u)) \n",
    "\n"
   ]
  },
  {
   "cell_type": "code",
   "execution_count": null,
   "id": "9e2db755",
   "metadata": {},
   "outputs": [],
   "source": []
  }
 ],
 "metadata": {
  "kernelspec": {
   "display_name": "Python 3 (ipykernel)",
   "language": "python",
   "name": "python3"
  },
  "language_info": {
   "codemirror_mode": {
    "name": "ipython",
    "version": 3
   },
   "file_extension": ".py",
   "mimetype": "text/x-python",
   "name": "python",
   "nbconvert_exporter": "python",
   "pygments_lexer": "ipython3",
   "version": "3.9.6"
  }
 },
 "nbformat": 4,
 "nbformat_minor": 5
}
