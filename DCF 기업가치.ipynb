{
 "cells": [
  {
   "cell_type": "markdown",
   "id": "62bc2df3",
   "metadata": {},
   "source": [
    "## 잉여현금흐름 모형(FCFM) 기업가치"
   ]
  },
  {
   "cell_type": "code",
   "execution_count": null,
   "id": "027c75a2",
   "metadata": {},
   "outputs": [],
   "source": [
    "# # 현금흐름할인모형(DCF)  = 향후 일정기간 FCF 현재가치 합 + 일정기간 후 잔여가치 의 현재가치\n",
    "# # 향후 5개년도 매출액 예상\n",
    "# 만약 2019년 매출액이 15조원이라면"
   ]
  },
  {
   "cell_type": "code",
   "execution_count": 1,
   "id": "0e293b07",
   "metadata": {},
   "outputs": [
    {
     "name": "stderr",
     "output_type": "stream",
     "text": [
      "C:\\Users\\JYB\\AppData\\Local\\Temp/ipykernel_11988/428913726.py:4: DeprecationWarning: The default dtype for empty Series will be 'object' instead of 'float64' in a future version. Specify a dtype explicitly to silence this warning.\n",
      "  sales = pd.Series(index=years)\n"
     ]
    },
    {
     "data": {
      "text/plain": [
       "2019A    15.0\n",
       "2020F     NaN\n",
       "2021F     NaN\n",
       "2022F     NaN\n",
       "2023F     NaN\n",
       "2024F     NaN\n",
       "dtype: float64"
      ]
     },
     "execution_count": 1,
     "metadata": {},
     "output_type": "execute_result"
    }
   ],
   "source": [
    "import numpy as np\n",
    "import pandas as pd\n",
    "years=['2019A', '2020F', '2021F', '2022F', '2023F', '2024F']\n",
    "sales = pd.Series(index=years)\n",
    "sales['2019A'] = 15\n",
    "sales"
   ]
  },
  {
   "cell_type": "code",
   "execution_count": null,
   "id": "79a3ca8a",
   "metadata": {},
   "outputs": [],
   "source": [
    "# 매출액 : 성장율을 고려하여 열의 나머지 부분을 추정매출 수치로 채우는 것\n",
    "# 또한 간단한 for 루프 를 사용 하여 나머지 판매 값을 계산하는 프로세스를 반복\n",
    "# 2020 년 매출은 2019 년에 (1+ 성장율 %)를 곱한 값\n",
    "# 성장율은 10% 상정 : 해당기업의 ROE 고려 (유보율 X ROE)  , 요구수익률 = 배당수익률 +  성장률\n",
    "# 미래 연도 매출은 전년도 매출에 (1+ 판매 성장 %)를 곱한 값"
   ]
  },
  {
   "cell_type": "code",
   "execution_count": 14,
   "id": "130b7e2a",
   "metadata": {},
   "outputs": [],
   "source": [
    "growth_rate = 0.1\n",
    "# Loop to populate the data series of sales\n",
    "for year in range(1,6):\n",
    "    sales[year] = sales[year-1] * (1+growth_rate)"
   ]
  },
  {
   "cell_type": "code",
   "execution_count": null,
   "id": "15300e51",
   "metadata": {},
   "outputs": [],
   "source": [
    "# 세후순영업이익(NOPAT) 계산"
   ]
  },
  {
   "cell_type": "code",
   "execution_count": 3,
   "id": "40c4325d",
   "metadata": {},
   "outputs": [
    {
     "data": {
      "text/plain": [
       "2019A    1.785000\n",
       "2020F    1.963500\n",
       "2021F    2.159850\n",
       "2022F    2.375835\n",
       "2023F    2.613419\n",
       "2024F    2.874760\n",
       "dtype: float64"
      ]
     },
     "execution_count": 3,
     "metadata": {},
     "output_type": "execute_result"
    }
   ],
   "source": [
    "\n",
    "ebitda_margin = 0.20  #  EBITDA 마진 20 %를 사용하여 EBITDA를 계산\n",
    "depr_percent = 0.03   #     감가상각비율 동기업 추이 반영 3% \n",
    "ebitda = sales * ebitda_margin   # ebitda = 매출액 X 마진\n",
    "depreciation = sales * depr_percent #     감가상각비 및 상각비를 차감. \n",
    "ebit = ebitda - depreciation  \n",
    "tax_rate = 0.30     # 실효법인세율  30%  동기업 반영\n",
    "tax_payment = -ebit * tax_rate\n",
    "tax_payment = tax_payment.apply(lambda x: min(x,0))\n",
    "nopat = ebit + tax_payment\n",
    "nopat  # 세후순영업이익\n",
    "\n",
    "#     그 후 EBIT가 양수일 때만 세금 비용을 계산하는 함수를 사용하여 세금 비용을 계산\n",
    "   "
   ]
  },
  {
   "cell_type": "code",
   "execution_count": null,
   "id": "e87dd0f7",
   "metadata": {},
   "outputs": [],
   "source": [
    "#  순운전자본 (NWC) 계산. (회사의 유동 자산 -  현재 부채)의 차이\n",
    "# 증가는 미래에 지불해야하는 자산을 받았음을 의미하기 때문에 순운전자본의 변화만 관심 \n",
    "# 순운전자본이 1 년에서 다음 해로 증가하면 현금 감소 \n",
    "# 자본적지출(capex) : 판매 비율 감안 계산"
   ]
  },
  {
   "cell_type": "code",
   "execution_count": 6,
   "id": "1e33cd80",
   "metadata": {},
   "outputs": [],
   "source": [
    "nwc_percent = 0.24\n",
    "nwc = sales * nwc_percent\n",
    "change_in_nwc = nwc.shift(1) - nwc\n",
    "capex_percent = depr_percent\n",
    "capex = -(sales * capex_percent)"
   ]
  },
  {
   "cell_type": "code",
   "execution_count": 7,
   "id": "7a570345",
   "metadata": {},
   "outputs": [
    {
     "data": {
      "text/plain": [
       "2019A         NaN\n",
       "2020F    1.603500\n",
       "2021F    1.763850\n",
       "2022F    1.940235\n",
       "2023F    2.134259\n",
       "2024F    2.347684\n",
       "dtype: float64"
      ]
     },
     "execution_count": 7,
     "metadata": {},
     "output_type": "execute_result"
    }
   ],
   "source": [
    "# FCF  계산\n",
    "free_cash_flow = nopat + depreciation + capex + change_in_nwc\n",
    "free_cash_flow"
   ]
  },
  {
   "cell_type": "code",
   "execution_count": null,
   "id": "f57db423",
   "metadata": {},
   "outputs": [],
   "source": [
    "# 5 년의 FCF가 예측 된 5 년 DCF 와 잔여가치 고려\n",
    "# 잔여가치 성장율(terminal_growth) 고려   2%\n",
    "# WACC 고려하여  기업가치 산정  :  WACC = 10%  "
   ]
  },
  {
   "cell_type": "code",
   "execution_count": 8,
   "id": "a422a5ed",
   "metadata": {},
   "outputs": [
    {
     "data": {
      "text/plain": [
       "25.874659090909088"
      ]
     },
     "execution_count": 8,
     "metadata": {},
     "output_type": "execute_result"
    }
   ],
   "source": [
    "cost_of_capital = 0.10\n",
    "terminal_growth = 0.02\n",
    "terminal_value = ((free_cash_flow[-1] * (1 + terminal_growth))/\n",
    "                 (cost_of_capital - terminal_growth))\n",
    "discount_factors = [(1 / (1 + cost_of_capital)) ** i for i in range (1,6)]\n",
    "dcf_value = (sum(free_cash_flow[1:]*discount_factors) +\n",
    "            terminal_value * discount_factors[-1])\n",
    "dcf_value"
   ]
  },
  {
   "cell_type": "code",
   "execution_count": null,
   "id": "40bc73b0",
   "metadata": {},
   "outputs": [],
   "source": []
  },
  {
   "cell_type": "code",
   "execution_count": null,
   "id": "ac440258",
   "metadata": {},
   "outputs": [],
   "source": [
    "#  행 항목을 행으로, 연도를 열로 원하므로 행 항목을 색인으로 설정. \n",
    "# 또한 모든 값을 소수점 이하 2 자리로 반올림하여 일치"
   ]
  },
  {
   "cell_type": "code",
   "execution_count": 11,
   "id": "11814ed1",
   "metadata": {},
   "outputs": [
    {
     "data": {
      "text/html": [
       "<div>\n",
       "<style scoped>\n",
       "    .dataframe tbody tr th:only-of-type {\n",
       "        vertical-align: middle;\n",
       "    }\n",
       "\n",
       "    .dataframe tbody tr th {\n",
       "        vertical-align: top;\n",
       "    }\n",
       "\n",
       "    .dataframe thead th {\n",
       "        text-align: right;\n",
       "    }\n",
       "</style>\n",
       "<table border=\"1\" class=\"dataframe\">\n",
       "  <thead>\n",
       "    <tr style=\"text-align: right;\">\n",
       "      <th></th>\n",
       "      <th>2019A</th>\n",
       "      <th>2020F</th>\n",
       "      <th>2021F</th>\n",
       "      <th>2022F</th>\n",
       "      <th>2023F</th>\n",
       "      <th>2024F</th>\n",
       "    </tr>\n",
       "  </thead>\n",
       "  <tbody>\n",
       "    <tr>\n",
       "      <th>Sales</th>\n",
       "      <td>15.00</td>\n",
       "      <td>16.50</td>\n",
       "      <td>18.15</td>\n",
       "      <td>19.97</td>\n",
       "      <td>21.96</td>\n",
       "      <td>24.16</td>\n",
       "    </tr>\n",
       "    <tr>\n",
       "      <th>EBIT</th>\n",
       "      <td>2.55</td>\n",
       "      <td>2.80</td>\n",
       "      <td>3.09</td>\n",
       "      <td>3.39</td>\n",
       "      <td>3.73</td>\n",
       "      <td>4.11</td>\n",
       "    </tr>\n",
       "    <tr>\n",
       "      <th>Tax Expense</th>\n",
       "      <td>-0.76</td>\n",
       "      <td>-0.84</td>\n",
       "      <td>-0.93</td>\n",
       "      <td>-1.02</td>\n",
       "      <td>-1.12</td>\n",
       "      <td>-1.23</td>\n",
       "    </tr>\n",
       "    <tr>\n",
       "      <th>NOPAT</th>\n",
       "      <td>1.78</td>\n",
       "      <td>1.96</td>\n",
       "      <td>2.16</td>\n",
       "      <td>2.38</td>\n",
       "      <td>2.61</td>\n",
       "      <td>2.87</td>\n",
       "    </tr>\n",
       "    <tr>\n",
       "      <th>D&amp;A Expense</th>\n",
       "      <td>0.45</td>\n",
       "      <td>0.50</td>\n",
       "      <td>0.54</td>\n",
       "      <td>0.60</td>\n",
       "      <td>0.66</td>\n",
       "      <td>0.72</td>\n",
       "    </tr>\n",
       "    <tr>\n",
       "      <th>Capital Expenditures</th>\n",
       "      <td>-0.45</td>\n",
       "      <td>-0.50</td>\n",
       "      <td>-0.54</td>\n",
       "      <td>-0.60</td>\n",
       "      <td>-0.66</td>\n",
       "      <td>-0.72</td>\n",
       "    </tr>\n",
       "    <tr>\n",
       "      <th>Increase in NWC</th>\n",
       "      <td>NaN</td>\n",
       "      <td>-0.36</td>\n",
       "      <td>-0.40</td>\n",
       "      <td>-0.44</td>\n",
       "      <td>-0.48</td>\n",
       "      <td>-0.53</td>\n",
       "    </tr>\n",
       "    <tr>\n",
       "      <th>Free Cash Flow</th>\n",
       "      <td>NaN</td>\n",
       "      <td>1.60</td>\n",
       "      <td>1.76</td>\n",
       "      <td>1.94</td>\n",
       "      <td>2.13</td>\n",
       "      <td>2.35</td>\n",
       "    </tr>\n",
       "  </tbody>\n",
       "</table>\n",
       "</div>"
      ],
      "text/plain": [
       "                      2019A  2020F  2021F  2022F  2023F  2024F\n",
       "Sales                 15.00  16.50  18.15  19.97  21.96  24.16\n",
       "EBIT                   2.55   2.80   3.09   3.39   3.73   4.11\n",
       "Tax Expense           -0.76  -0.84  -0.93  -1.02  -1.12  -1.23\n",
       "NOPAT                  1.78   1.96   2.16   2.38   2.61   2.87\n",
       "D&A Expense            0.45   0.50   0.54   0.60   0.66   0.72\n",
       "Capital Expenditures  -0.45  -0.50  -0.54  -0.60  -0.66  -0.72\n",
       "Increase in NWC         NaN  -0.36  -0.40  -0.44  -0.48  -0.53\n",
       "Free Cash Flow          NaN   1.60   1.76   1.94   2.13   2.35"
      ]
     },
     "execution_count": 11,
     "metadata": {},
     "output_type": "execute_result"
    }
   ],
   "source": [
    "# Exporting the Data to Excel\n",
    "output = pd.DataFrame([sales, ebit, tax_payment, nopat, \n",
    "                       depreciation, capex, change_in_nwc,\n",
    "                       free_cash_flow],\n",
    "                     index=[\"Sales\", \"EBIT\", \"Tax Expense\", \n",
    "                            \"NOPAT\", \"D&A Expense\",\n",
    "                            \"Capital Expenditures\",\n",
    "                            \"Increase in NWC\",\n",
    "                            \"Free Cash Flow\"]).round(2)\n",
    "output.to_excel('Python DCF Model.xlsx')\n",
    "output"
   ]
  },
  {
   "cell_type": "code",
   "execution_count": 10,
   "id": "7102664b",
   "metadata": {},
   "outputs": [
    {
     "name": "stdout",
     "output_type": "stream",
     "text": [
      "Collecting openpyxl\n",
      "  Downloading openpyxl-3.0.9-py2.py3-none-any.whl (242 kB)\n",
      "Collecting et-xmlfile\n",
      "  Downloading et_xmlfile-1.1.0-py3-none-any.whl (4.7 kB)\n",
      "Installing collected packages: et-xmlfile, openpyxl\n",
      "Successfully installed et-xmlfile-1.1.0 openpyxl-3.0.9\n",
      "Note: you may need to restart the kernel to use updated packages.\n"
     ]
    },
    {
     "name": "stderr",
     "output_type": "stream",
     "text": [
      "WARNING: Ignoring invalid distribution -ip (c:\\users\\jyb\\appdata\\local\\programs\\python\\python39\\lib\\site-packages)\n",
      "WARNING: Ignoring invalid distribution -ip (c:\\users\\jyb\\appdata\\local\\programs\\python\\python39\\lib\\site-packages)\n",
      "WARNING: Ignoring invalid distribution -ip (c:\\users\\jyb\\appdata\\local\\programs\\python\\python39\\lib\\site-packages)\n",
      "WARNING: Ignoring invalid distribution -ip (c:\\users\\jyb\\appdata\\local\\programs\\python\\python39\\lib\\site-packages)\n",
      "WARNING: Ignoring invalid distribution -ip (c:\\users\\jyb\\appdata\\local\\programs\\python\\python39\\lib\\site-packages)\n",
      "WARNING: Ignoring invalid distribution -ip (c:\\users\\jyb\\appdata\\local\\programs\\python\\python39\\lib\\site-packages)\n",
      "WARNING: Ignoring invalid distribution -ip (c:\\users\\jyb\\appdata\\local\\programs\\python\\python39\\lib\\site-packages)\n",
      "WARNING: Ignoring invalid distribution -ip (c:\\users\\jyb\\appdata\\local\\programs\\python\\python39\\lib\\site-packages)\n"
     ]
    }
   ],
   "source": [
    "pip install openpyxl"
   ]
  },
  {
   "cell_type": "code",
   "execution_count": null,
   "id": "d07c5212",
   "metadata": {},
   "outputs": [],
   "source": []
  },
  {
   "cell_type": "code",
   "execution_count": 2,
   "id": "ded74b57",
   "metadata": {},
   "outputs": [],
   "source": [
    "import pandas as pd\n",
    "import requests\n",
    "from bs4 import BeautifulSoup\n",
    "import re\n",
    "import time\n",
    "from datetime import datetime\n",
    "from dateutil.relativedelta import relativedelta\n",
    "\n",
    "def load_FS():\n",
    "    print(\"자료의 소스는 FnGuide, 네이버금융, Yahoo Finance입니다.해당 사이트들에 필요한 정보가 누락되어있으면 valuation을 중단합니다.\\n\")\n",
    "    company = input(\"종목코드를 입력하세요: \")\n",
    "    source_url = '''https://comp.fnguide.com/SVO2/asp/SVD_Finance.asp?pGB=1&gicode={}&cID=&MenuYn=Y&ReportGB=&NewMenuID=103&stkGb=701'''.format(company)\n",
    "    tables = pd.read_html(source_url, encoding='utf-8')\n",
    "    \n",
    "    IS = tables[0]\n",
    "    BS = tables[2]\n",
    "    CF = tables[4]\n",
    "    \n",
    "    return IS, BS, CF, company\n",
    "   \n",
    "    \n",
    "    \n",
    "class step1:\n",
    "    def __init__(self, company, IS, BS, CF):\n",
    "        self._company = company\n",
    "        self._IS = IS\n",
    "        self._BS = BS\n",
    "        self._CF = CF\n",
    "        self._tax = 0\n",
    "        self._sales = [] \n",
    "        self._cogs = []\n",
    "        self._sgna = []\n",
    "        self._op = []\n",
    "        self._capex_l = []\n",
    "        self._dep_l = []\n",
    "        self._amo_l = []\n",
    "        self._dNWC = [0]\n",
    "        self._FCFF = []\n",
    "        self._NWC = []\n",
    "        \n",
    "    def Basic_IS(self):\n",
    "\n",
    "        IS_core = self._IS.loc[[0,1,3],['IFRS(연결)','2018/12','2019/12','2020/12']]\n",
    "        self._sales = list(IS_core.loc[0])\n",
    "        self._cogs = list(IS_core.loc[1])\n",
    "        self._sgna = list(IS_core.loc[3])\n",
    "        self._sales.pop(0)\n",
    "        self._cogs.pop(0)\n",
    "        self._sgna.pop(0)\n",
    "        \n",
    "        \n",
    "        for i in range(3):\n",
    "            if self._sales[i] > 3000:\n",
    "                self._tax = 0.275\n",
    "            elif 200 < self._sales[i] <= 3000:\n",
    "                self._tax = 0.242\n",
    "            elif 2 < self._sales[i] <= 200:\n",
    "                self._tax = 0.22\n",
    "            else :\n",
    "                self._tax = 0.11\n",
    "                \n",
    "            self._op.append((self._sales[i]-self._cogs[i]-self._sgna[i])*(1-self._tax))\n",
    "        \n",
    "        return self._tax\n",
    "    \n",
    "    def Basic_CF(self): ##sales \n",
    "\n",
    "\n",
    "        url = 'https://comp.fnguide.com/SVO2/asp/SVD_Finance.asp?pGB=1&gicode={}&cID=&MenuYn=Y&ReportGB=&NewMenuID=103&stkGb=701'.format(self._company)\n",
    "        response = requests.get(url)\n",
    "\n",
    "        if response.status_code == 200:\n",
    "            html = response.text\n",
    "            soup = BeautifulSoup(html, 'html.parser')\n",
    "            capex = soup.select_one('#divCashY > table > tbody > tr:nth-child(108)')\n",
    "            dep = soup.select_one('#divCashY > table > tbody > tr:nth-child(9)')\n",
    "            amo =  soup.select_one('#divCashY > table > tbody > tr:nth-child(10)')\n",
    "        else : \n",
    "            print(response.status_code)\n",
    "\n",
    "\n",
    "        capex = capex.get_text()\n",
    "        dep = dep.get_text()\n",
    "        amo = amo.get_text()\n",
    "\n",
    "        n = re.compile('\\d+\\,?\\d+')\n",
    "        self._capex_l = n.findall(capex)\n",
    "        self._dep_l = n.findall(dep)\n",
    "        self._amo_l = n.findall(amo)\n",
    "\n",
    "        for i in range(4):\n",
    "            self._capex_l[i] = int(self._capex_l[i].replace(',',''))\n",
    "            self._dep_l[i] = int(self._dep_l[i].replace(',',''))\n",
    "            self._amo_l[i] = int(self._amo_l[i].replace(',',''))\n",
    "\n",
    "        self._capex_l.pop()\n",
    "        self._dep_l.pop()\n",
    "        self._amo_l.pop()\n",
    "\n",
    "\n",
    "\n",
    "\n",
    "    def Dnwc(self):\n",
    "        url = 'https://comp.fnguide.com/SVO2/asp/SVD_Finance.asp?pGB=1&gicode={}&cID=&MenuYn=Y&ReportGB=&NewMenuID=103&stkGb=701'.format(self._company)\n",
    "        response = requests.get(url)\n",
    "\n",
    "        if response.status_code == 200:\n",
    "            html = response.text\n",
    "            soup = BeautifulSoup(html, 'html.parser')\n",
    "            AR_r = soup.select_one('#divDaechaY > table > tbody > tr:nth-child(6)').get_text()\n",
    "            Inventory_r =  soup.select_one('#divDaechaY > table > tbody > tr:nth-child(3)').get_text()\n",
    "            CA_etc_r =  soup.select_one('#divDaechaY > table > tbody > tr:nth-child(11)').get_text()\n",
    "            AP_r = soup.select_one('#divDaechaY > table > tbody > tr:nth-child(35)').get_text()\n",
    "            CL_etc_r = soup.select_one('#divDaechaY > table > tbody > tr:nth-child(42)').get_text()\n",
    "        else : \n",
    "            print(response.status_code)\n",
    "\n",
    "        ft = re.compile('\\d+\\,?\\d+')\n",
    "\n",
    "        AR = ft.findall(AR_r)\n",
    "        Inventory = ft.findall(Inventory_r)\n",
    "        CA_etc = ft.findall(CA_etc_r)\n",
    "        AP = ft.findall(AP_r)\n",
    "        CL_etc = ft.findall(CL_etc_r)\n",
    "\n",
    "        for i in range(len(AR)):\n",
    "            AR[i] = int(AR[i].replace(',',''))\n",
    "            Inventory[i] = int(Inventory[i].replace(',',''))\n",
    "            CA_etc[i] = int(CA_etc[i].replace(',',''))\n",
    "            AP[i] = int(AP[i].replace(',',''))\n",
    "            CL_etc[i] = int(CL_etc[i].replace(',',''))\n",
    "            self._NWC.append((AR[i]+Inventory[i]+CA_etc[i]) - (AP[i]+CL_etc[i]))\n",
    "\n",
    "        self._NWC.pop()\n",
    "\n",
    "        for i in range(len(self._op)):\n",
    "            if i < 2:\n",
    "                self._dNWC.append(self._NWC[i+1]-self._NWC[i])\n",
    "\n",
    "\n",
    "    def FCFF(self):\n",
    "    \n",
    "        for i in range(3):\n",
    "            self._FCFF.append(self._op[i]+self._dep_l[i]+self._amo_l[i]-self._capex_l[i]-self._dNWC[i])\n",
    "\n",
    "    def mktable(self):\n",
    "        d_main_info = {'매출액': self._sales,'매출원가': self._cogs,'판관비': self._sgna\n",
    "                 ,'영업이익': self._op,'+유형자산상각비':self._dep_l,'+무형자산상각비': self._amo_l,\n",
    "                   '-Capex': self._capex_l,'-dNwc': self._dNWC, 'FCFF': self._FCFF, '참고용NWC': self._NWC}\n",
    "        \n",
    "        yr1 = (datetime.datetime.today() - relativedelta(years = 1)).strftime(\"%Y\")\n",
    "        yr2 = (datetime.datetime.today() - relativedelta(years = 2)).strftime(\"%Y\")\n",
    "        yr3 = (datetime.datetime.today() - relativedelta(years = 3)).strftime(\"%Y\")\n",
    "        Main_info = pd.DataFrame(d_main_info,index=[yr3, yr2 ,yr1]) \n",
    "\n",
    "\n",
    "        S_BS = Main_info.transpose()\n",
    "        print(\"최근 3개년 FCFF(단위: 억)\")\n",
    "        display(S_BS)\n",
    "        print(\"첫 번째 열의 dNWC의 경우 해당 페이지에서 얻을 수 없으며, 미래 추정에 영향을 주지 않음\\n \")\n",
    "        return S_BS"
   ]
  },
  {
   "cell_type": "code",
   "execution_count": null,
   "id": "8d6efb35",
   "metadata": {},
   "outputs": [],
   "source": []
  }
 ],
 "metadata": {
  "kernelspec": {
   "display_name": "Python 3 (ipykernel)",
   "language": "python",
   "name": "python3"
  },
  "language_info": {
   "codemirror_mode": {
    "name": "ipython",
    "version": 3
   },
   "file_extension": ".py",
   "mimetype": "text/x-python",
   "name": "python",
   "nbconvert_exporter": "python",
   "pygments_lexer": "ipython3",
   "version": "3.9.6"
  }
 },
 "nbformat": 4,
 "nbformat_minor": 5
}
