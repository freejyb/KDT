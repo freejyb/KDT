{
 "cells": [
  {
   "cell_type": "markdown",
   "id": "ea22d471",
   "metadata": {},
   "source": [
    " ## Black-Scholes-Merton"
   ]
  },
  {
   "cell_type": "code",
   "execution_count": null,
   "id": "5019dbac",
   "metadata": {},
   "outputs": [],
   "source": [
    "# 옵션 값은 opstrat 의 black_scholes() 함수를 사용하여 계산\n",
    "# Opstrat 옵션을 다루는 파이썬 패키지\n",
    "# 모델에 필요한 모든 입력 은 인수로 전달되어야 함.\n",
    "# 위의 입력 외에도 옵션의 유형은 유형 매개변수를 사용하여 지정해야 함(콜 경우 'c ' , 풋 경우 'p')"
   ]
  },
  {
   "cell_type": "code",
   "execution_count": 2,
   "id": "50341212",
   "metadata": {},
   "outputs": [
    {
     "name": "stdout",
     "output_type": "stream",
     "text": [
      "Collecting opstrat\n",
      "  Downloading opstrat-0.1.7-py3-none-any.whl (11 kB)\n",
      "Requirement already satisfied: seaborn in c:\\users\\jyb\\appdata\\local\\programs\\python\\python39\\lib\\site-packages (from opstrat) (0.11.1)\n",
      "Requirement already satisfied: pandas in c:\\users\\jyb\\appdata\\local\\programs\\python\\python39\\lib\\site-packages (from opstrat) (1.3.0)Note: you may need to restart the kernel to use updated packages.\n"
     ]
    },
    {
     "name": "stderr",
     "output_type": "stream",
     "text": [
      "WARNING: Ignoring invalid distribution -ip (c:\\users\\jyb\\appdata\\local\\programs\\python\\python39\\lib\\site-packages)\n",
      "WARNING: Ignoring invalid distribution -ip (c:\\users\\jyb\\appdata\\local\\programs\\python\\python39\\lib\\site-packages)\n",
      "WARNING: Ignoring invalid distribution -ip (c:\\users\\jyb\\appdata\\local\\programs\\python\\python39\\lib\\site-packages)\n",
      "WARNING: Ignoring invalid distribution -ip (c:\\users\\jyb\\appdata\\local\\programs\\python\\python39\\lib\\site-packages)\n",
      "WARNING: Ignoring invalid distribution -ip (c:\\users\\jyb\\appdata\\local\\programs\\python\\python39\\lib\\site-packages)\n",
      "WARNING: Ignoring invalid distribution -ip (c:\\users\\jyb\\appdata\\local\\programs\\python\\python39\\lib\\site-packages)\n",
      "WARNING: Ignoring invalid distribution -ip (c:\\users\\jyb\\appdata\\local\\programs\\python\\python39\\lib\\site-packages)\n"
     ]
    },
    {
     "name": "stdout",
     "output_type": "stream",
     "text": [
      "\n",
      "Requirement already satisfied: numpy in c:\\users\\jyb\\appdata\\local\\programs\\python\\python39\\lib\\site-packages (from opstrat) (1.19.5)\n",
      "Requirement already satisfied: matplotlib in c:\\users\\jyb\\appdata\\local\\programs\\python\\python39\\lib\\site-packages (from opstrat) (3.4.2)\n",
      "Requirement already satisfied: yfinance in c:\\users\\jyb\\appdata\\local\\programs\\python\\python39\\lib\\site-packages (from opstrat) (0.1.63)\n",
      "Requirement already satisfied: python-dateutil>=2.7 in c:\\users\\jyb\\appdata\\local\\programs\\python\\python39\\lib\\site-packages (from matplotlib->opstrat) (2.8.1)\n",
      "Requirement already satisfied: kiwisolver>=1.0.1 in c:\\users\\jyb\\appdata\\local\\programs\\python\\python39\\lib\\site-packages (from matplotlib->opstrat) (1.3.1)\n",
      "Requirement already satisfied: cycler>=0.10 in c:\\users\\jyb\\appdata\\local\\programs\\python\\python39\\lib\\site-packages (from matplotlib->opstrat) (0.10.0)\n",
      "Requirement already satisfied: pyparsing>=2.2.1 in c:\\users\\jyb\\appdata\\local\\programs\\python\\python39\\lib\\site-packages (from matplotlib->opstrat) (2.4.7)\n",
      "Requirement already satisfied: pillow>=6.2.0 in c:\\users\\jyb\\appdata\\local\\programs\\python\\python39\\lib\\site-packages (from matplotlib->opstrat) (8.3.1)\n",
      "Requirement already satisfied: pytz>=2017.3 in c:\\users\\jyb\\appdata\\local\\programs\\python\\python39\\lib\\site-packages (from pandas->opstrat) (2021.1)\n",
      "Requirement already satisfied: scipy>=1.0 in c:\\users\\jyb\\appdata\\local\\programs\\python\\python39\\lib\\site-packages (from seaborn->opstrat) (1.7.0)\n",
      "Requirement already satisfied: requests>=2.20 in c:\\users\\jyb\\appdata\\local\\programs\\python\\python39\\lib\\site-packages (from yfinance->opstrat) (2.26.0)\n",
      "Requirement already satisfied: multitasking>=0.0.7 in c:\\users\\jyb\\appdata\\local\\programs\\python\\python39\\lib\\site-packages (from yfinance->opstrat) (0.0.9)\n",
      "Requirement already satisfied: lxml>=4.5.1 in c:\\users\\jyb\\appdata\\local\\programs\\python\\python39\\lib\\site-packages (from yfinance->opstrat) (4.6.3)\n",
      "Requirement already satisfied: six in c:\\users\\jyb\\appdata\\local\\programs\\python\\python39\\lib\\site-packages (from cycler>=0.10->matplotlib->opstrat) (1.15.0)\n",
      "Requirement already satisfied: idna<4,>=2.5 in c:\\users\\jyb\\appdata\\local\\programs\\python\\python39\\lib\\site-packages (from requests>=2.20->yfinance->opstrat) (3.2)\n",
      "Requirement already satisfied: charset-normalizer~=2.0.0 in c:\\users\\jyb\\appdata\\local\\programs\\python\\python39\\lib\\site-packages (from requests>=2.20->yfinance->opstrat) (2.0.1)\n",
      "Requirement already satisfied: certifi>=2017.4.17 in c:\\users\\jyb\\appdata\\local\\programs\\python\\python39\\lib\\site-packages (from requests>=2.20->yfinance->opstrat) (2021.5.30)\n",
      "Requirement already satisfied: urllib3<1.27,>=1.21.1 in c:\\users\\jyb\\appdata\\local\\programs\\python\\python39\\lib\\site-packages (from requests>=2.20->yfinance->opstrat) (1.26.6)\n",
      "Installing collected packages: opstrat\n",
      "Successfully installed opstrat-0.1.7\n"
     ]
    }
   ],
   "source": [
    "pip install opstrat"
   ]
  },
  {
   "cell_type": "code",
   "execution_count": 3,
   "id": "76007c70",
   "metadata": {},
   "outputs": [],
   "source": [
    "# 라이브러리 호출\n",
    "# 필요 값 입력\n",
    "import opstrat as op\n",
    "#Declare parameters\n",
    "K=200    #spot price\n",
    "St=208   #current stock price\n",
    "r=4      #4% risk free rate\n",
    "t=30     #time to expiry, 30 days \n",
    "v=20     #volatility \n",
    "type='c' #Option type call\n",
    "\n",
    "#Black Scholes Model\n",
    "bsm=op.black_scholes(K=K, St=St, r=r, t=t, \n",
    "                     v=v, type='c')"
   ]
  },
  {
   "cell_type": "code",
   "execution_count": 5,
   "id": "e8a11989",
   "metadata": {},
   "outputs": [
    {
     "data": {
      "text/plain": [
       "{'option value': 10.210518559926442,\n",
       " 'intrinsic value': 8,\n",
       " 'time value': 2.2105185599264416}"
      ]
     },
     "execution_count": 5,
     "metadata": {},
     "output_type": "execute_result"
    }
   ],
   "source": [
    "# 옵션가격(프리미엄)\n",
    "# 프리미엄 = 내재가치 + 시간가치\n",
    "bsm['value']\n"
   ]
  },
  {
   "cell_type": "code",
   "execution_count": 6,
   "id": "b9772f70",
   "metadata": {},
   "outputs": [
    {
     "data": {
      "text/plain": [
       "{'delta': 0.7793593241701937,\n",
       " 'gamma': 0.024868265088898882,\n",
       " 'theta': -0.07559961986526405,\n",
       " 'vega': 0.17686037602292404,\n",
       " 'rho': 0.12484620893217029}"
      ]
     },
     "execution_count": 6,
     "metadata": {},
     "output_type": "execute_result"
    }
   ],
   "source": [
    "# 옵션 민감도\n",
    "bsm['greeks']"
   ]
  },
  {
   "cell_type": "code",
   "execution_count": null,
   "id": "2b779b2f",
   "metadata": {},
   "outputs": [],
   "source": []
  },
  {
   "cell_type": "code",
   "execution_count": null,
   "id": "c20e42e0",
   "metadata": {},
   "outputs": [],
   "source": [
    "#  옵션가격  수학적으로 계산하기"
   ]
  },
  {
   "cell_type": "code",
   "execution_count": 9,
   "id": "fef30a51",
   "metadata": {},
   "outputs": [],
   "source": [
    "import math as m # math 모듈 임포트"
   ]
  },
  {
   "cell_type": "code",
   "execution_count": 10,
   "id": "f939fae0",
   "metadata": {},
   "outputs": [
    {
     "name": "stdout",
     "output_type": "stream",
     "text": [
      "연속복리무위험이자율 = 0.04879016416943204\n",
      "연속복리를 적용한 1년뒤 종가 = 1.05\n"
     ]
    }
   ],
   "source": [
    "S = 100\n",
    "K = 100\n",
    "T = 5\n",
    "V = 0.3\n",
    "Rf = m.log(1.05)\n",
    "print('연속복리무위험이자율 =', Rf)\n",
    "print('연속복리를 적용한 1년뒤 종가 =', m.exp(Rf))"
   ]
  },
  {
   "cell_type": "code",
   "execution_count": 11,
   "id": "7033ce89",
   "metadata": {},
   "outputs": [
    {
     "name": "stdout",
     "output_type": "stream",
     "text": [
      "d1 = 0.6990706090123837 , d2 = 0.028250215762446795\n"
     ]
    }
   ],
   "source": [
    "numerator = m.log(S/K) + (Rf + 1/2 * V**2) * T\n",
    "denominator = V * m.sqrt(T)\n",
    "d1 = numerator / denominator\n",
    "d2 = d1 - V * m.sqrt(T)\n",
    "print('d1 =', d1, ',', 'd2 =', d2)"
   ]
  },
  {
   "cell_type": "code",
   "execution_count": 12,
   "id": "c683acd6",
   "metadata": {},
   "outputs": [
    {
     "name": "stdout",
     "output_type": "stream",
     "text": [
      "d1 = 0.6990706090123837 , d2 = 0.028250215762446795\n"
     ]
    }
   ],
   "source": [
    "numerator = m.log(S/K) + (Rf + 1/2 * V**2) * T\n",
    "denominator = V * m.sqrt(T)\n",
    "d1 = numerator / denominator\n",
    "d2 = d1 - V * m.sqrt(T)\n",
    "print('d1 =', d1, ',', 'd2 =', d2)"
   ]
  },
  {
   "cell_type": "code",
   "execution_count": 14,
   "id": "ed370a89",
   "metadata": {},
   "outputs": [],
   "source": [
    "import scipy as sp # scipy 모듈 임포트\n",
    "import scipy.stats # scipy에서 통계 모듈 임포트\n",
    "normdis = sp.stats.norm() # 변수에 표준정규분포를 입력해줌  "
   ]
  },
  {
   "cell_type": "code",
   "execution_count": 15,
   "id": "2baaadde",
   "metadata": {},
   "outputs": [
    {
     "name": "stdout",
     "output_type": "stream",
     "text": [
      "N(d1) = 0.7577460474065406 , N(d2) = 0.028250215762446795\n"
     ]
    }
   ],
   "source": [
    "N_d1 = normdis.cdf(d1) # N(d1) 산출\n",
    "N_d2 = normdis.cdf(d2) # N(d2) 산출\n",
    "print('N(d1) =', N_d1, ',', 'N(d2) =', d2)"
   ]
  },
  {
   "cell_type": "code",
   "execution_count": 16,
   "id": "52a02909",
   "metadata": {},
   "outputs": [
    {
     "name": "stdout",
     "output_type": "stream",
     "text": [
      "Call Option Price = 35.715363768902215\n"
     ]
    }
   ],
   "source": [
    "#콜옵션 계산\n",
    "#C = S*N(d1) - K*e^(-Rf*T)*N(d1)\n",
    "C = S * N_d1 - K * m.exp(-Rf * T) * N_d2\n",
    "print('Call Option Price =', C)  "
   ]
  },
  {
   "cell_type": "code",
   "execution_count": null,
   "id": "d6b3fe59",
   "metadata": {},
   "outputs": [],
   "source": []
  },
  {
   "cell_type": "code",
   "execution_count": null,
   "id": "05255cb8",
   "metadata": {},
   "outputs": [],
   "source": [
    "# 이항모형(CRR 모형) 옵션가격\n",
    "# https://pythoncpa.tistory.com/2?category=806912  내용 참고"
   ]
  },
  {
   "cell_type": "code",
   "execution_count": null,
   "id": "5930fcd4",
   "metadata": {},
   "outputs": [],
   "source": [
    "import math as m"
   ]
  },
  {
   "cell_type": "code",
   "execution_count": 17,
   "id": "9c05a33e",
   "metadata": {},
   "outputs": [],
   "source": [
    "S0 = 100\n",
    "V = 0.3\n",
    "T = 5   # 이항분포 전체기간\n",
    "dt = 1  # 이항분포가 1회발생하는 단위기간, 연간 변동성 기준으로 월 1회 발생하는 경우 1/12= 0.833\n",
    "Rf = 0.05\n",
    "K = 100"
   ]
  },
  {
   "cell_type": "code",
   "execution_count": 18,
   "id": "3126cc11",
   "metadata": {},
   "outputs": [
    {
     "name": "stdout",
     "output_type": "stream",
     "text": [
      "u = 1.3498588075760032\n",
      "d = 0.7408182206817179\n",
      "P = 0.5097408651817704\n"
     ]
    }
   ],
   "source": [
    "u = m.exp(V * m.sqrt(dt))\n",
    "d = 1 / u\n",
    "P = (m.exp(Rf * dt) - d) / (u - d)\n",
    "print('u =', u)\n",
    "print('d =', d)\n",
    "print('P =', P)"
   ]
  },
  {
   "cell_type": "code",
   "execution_count": 19,
   "id": "66e47fcd",
   "metadata": {},
   "outputs": [
    {
     "data": {
      "text/html": [
       "<div>\n",
       "<style scoped>\n",
       "    .dataframe tbody tr th:only-of-type {\n",
       "        vertical-align: middle;\n",
       "    }\n",
       "\n",
       "    .dataframe tbody tr th {\n",
       "        vertical-align: top;\n",
       "    }\n",
       "\n",
       "    .dataframe thead th {\n",
       "        text-align: right;\n",
       "    }\n",
       "</style>\n",
       "<table border=\"1\" class=\"dataframe\">\n",
       "  <thead>\n",
       "    <tr style=\"text-align: right;\">\n",
       "      <th></th>\n",
       "      <th>0</th>\n",
       "      <th>1</th>\n",
       "      <th>2</th>\n",
       "      <th>3</th>\n",
       "      <th>4</th>\n",
       "      <th>5</th>\n",
       "    </tr>\n",
       "  </thead>\n",
       "  <tbody>\n",
       "    <tr>\n",
       "      <th>0</th>\n",
       "      <td>0.0</td>\n",
       "      <td>0.0</td>\n",
       "      <td>0.0</td>\n",
       "      <td>0.0</td>\n",
       "      <td>0.0</td>\n",
       "      <td>0.0</td>\n",
       "    </tr>\n",
       "    <tr>\n",
       "      <th>1</th>\n",
       "      <td>0.0</td>\n",
       "      <td>0.0</td>\n",
       "      <td>0.0</td>\n",
       "      <td>0.0</td>\n",
       "      <td>0.0</td>\n",
       "      <td>0.0</td>\n",
       "    </tr>\n",
       "    <tr>\n",
       "      <th>2</th>\n",
       "      <td>0.0</td>\n",
       "      <td>0.0</td>\n",
       "      <td>0.0</td>\n",
       "      <td>0.0</td>\n",
       "      <td>0.0</td>\n",
       "      <td>0.0</td>\n",
       "    </tr>\n",
       "    <tr>\n",
       "      <th>3</th>\n",
       "      <td>0.0</td>\n",
       "      <td>0.0</td>\n",
       "      <td>0.0</td>\n",
       "      <td>0.0</td>\n",
       "      <td>0.0</td>\n",
       "      <td>0.0</td>\n",
       "    </tr>\n",
       "    <tr>\n",
       "      <th>4</th>\n",
       "      <td>0.0</td>\n",
       "      <td>0.0</td>\n",
       "      <td>0.0</td>\n",
       "      <td>0.0</td>\n",
       "      <td>0.0</td>\n",
       "      <td>0.0</td>\n",
       "    </tr>\n",
       "    <tr>\n",
       "      <th>5</th>\n",
       "      <td>0.0</td>\n",
       "      <td>0.0</td>\n",
       "      <td>0.0</td>\n",
       "      <td>0.0</td>\n",
       "      <td>0.0</td>\n",
       "      <td>0.0</td>\n",
       "    </tr>\n",
       "  </tbody>\n",
       "</table>\n",
       "</div>"
      ],
      "text/plain": [
       "     0    1    2    3    4    5\n",
       "0  0.0  0.0  0.0  0.0  0.0  0.0\n",
       "1  0.0  0.0  0.0  0.0  0.0  0.0\n",
       "2  0.0  0.0  0.0  0.0  0.0  0.0\n",
       "3  0.0  0.0  0.0  0.0  0.0  0.0\n",
       "4  0.0  0.0  0.0  0.0  0.0  0.0\n",
       "5  0.0  0.0  0.0  0.0  0.0  0.0"
      ]
     },
     "execution_count": 19,
     "metadata": {},
     "output_type": "execute_result"
    }
   ],
   "source": [
    "import numpy as np\n",
    "import pandas as pd\n",
    "S_tree = pd.DataFrame(np.zeros((T + 1) * (T + 1)).reshape(T + 1, T + 1))\n",
    "S_tree"
   ]
  },
  {
   "cell_type": "code",
   "execution_count": 20,
   "id": "34d374e5",
   "metadata": {},
   "outputs": [
    {
     "data": {
      "text/html": [
       "<div>\n",
       "<style scoped>\n",
       "    .dataframe tbody tr th:only-of-type {\n",
       "        vertical-align: middle;\n",
       "    }\n",
       "\n",
       "    .dataframe tbody tr th {\n",
       "        vertical-align: top;\n",
       "    }\n",
       "\n",
       "    .dataframe thead th {\n",
       "        text-align: right;\n",
       "    }\n",
       "</style>\n",
       "<table border=\"1\" class=\"dataframe\">\n",
       "  <thead>\n",
       "    <tr style=\"text-align: right;\">\n",
       "      <th></th>\n",
       "      <th>0</th>\n",
       "      <th>1</th>\n",
       "      <th>2</th>\n",
       "      <th>3</th>\n",
       "      <th>4</th>\n",
       "      <th>5</th>\n",
       "    </tr>\n",
       "  </thead>\n",
       "  <tbody>\n",
       "    <tr>\n",
       "      <th>0</th>\n",
       "      <td>100.0</td>\n",
       "      <td>134.985881</td>\n",
       "      <td>182.211880</td>\n",
       "      <td>245.960311</td>\n",
       "      <td>332.011692</td>\n",
       "      <td>448.168907</td>\n",
       "    </tr>\n",
       "    <tr>\n",
       "      <th>1</th>\n",
       "      <td>0.0</td>\n",
       "      <td>74.081822</td>\n",
       "      <td>100.000000</td>\n",
       "      <td>134.985881</td>\n",
       "      <td>182.211880</td>\n",
       "      <td>245.960311</td>\n",
       "    </tr>\n",
       "    <tr>\n",
       "      <th>2</th>\n",
       "      <td>0.0</td>\n",
       "      <td>0.000000</td>\n",
       "      <td>54.881164</td>\n",
       "      <td>74.081822</td>\n",
       "      <td>100.000000</td>\n",
       "      <td>134.985881</td>\n",
       "    </tr>\n",
       "    <tr>\n",
       "      <th>3</th>\n",
       "      <td>0.0</td>\n",
       "      <td>0.000000</td>\n",
       "      <td>0.000000</td>\n",
       "      <td>40.656966</td>\n",
       "      <td>54.881164</td>\n",
       "      <td>74.081822</td>\n",
       "    </tr>\n",
       "    <tr>\n",
       "      <th>4</th>\n",
       "      <td>0.0</td>\n",
       "      <td>0.000000</td>\n",
       "      <td>0.000000</td>\n",
       "      <td>0.000000</td>\n",
       "      <td>30.119421</td>\n",
       "      <td>40.656966</td>\n",
       "    </tr>\n",
       "    <tr>\n",
       "      <th>5</th>\n",
       "      <td>0.0</td>\n",
       "      <td>0.000000</td>\n",
       "      <td>0.000000</td>\n",
       "      <td>0.000000</td>\n",
       "      <td>0.000000</td>\n",
       "      <td>22.313016</td>\n",
       "    </tr>\n",
       "  </tbody>\n",
       "</table>\n",
       "</div>"
      ],
      "text/plain": [
       "       0           1           2           3           4           5\n",
       "0  100.0  134.985881  182.211880  245.960311  332.011692  448.168907\n",
       "1    0.0   74.081822  100.000000  134.985881  182.211880  245.960311\n",
       "2    0.0    0.000000   54.881164   74.081822  100.000000  134.985881\n",
       "3    0.0    0.000000    0.000000   40.656966   54.881164   74.081822\n",
       "4    0.0    0.000000    0.000000    0.000000   30.119421   40.656966\n",
       "5    0.0    0.000000    0.000000    0.000000    0.000000   22.313016"
      ]
     },
     "execution_count": 20,
     "metadata": {},
     "output_type": "execute_result"
    }
   ],
   "source": [
    "for node in range(T + 1):\n",
    "  for time in range(T + 1):\n",
    "    if time >= node:\n",
    "      S_tree.loc[node, time] = S0 * m.pow(u, (time - node)) * m.pow(d, node)\n",
    "S_tree"
   ]
  },
  {
   "cell_type": "code",
   "execution_count": 21,
   "id": "06fe6d68",
   "metadata": {},
   "outputs": [
    {
     "data": {
      "text/html": [
       "<div>\n",
       "<style scoped>\n",
       "    .dataframe tbody tr th:only-of-type {\n",
       "        vertical-align: middle;\n",
       "    }\n",
       "\n",
       "    .dataframe tbody tr th {\n",
       "        vertical-align: top;\n",
       "    }\n",
       "\n",
       "    .dataframe thead th {\n",
       "        text-align: right;\n",
       "    }\n",
       "</style>\n",
       "<table border=\"1\" class=\"dataframe\">\n",
       "  <thead>\n",
       "    <tr style=\"text-align: right;\">\n",
       "      <th></th>\n",
       "      <th>0</th>\n",
       "      <th>1</th>\n",
       "      <th>2</th>\n",
       "      <th>3</th>\n",
       "      <th>4</th>\n",
       "      <th>5</th>\n",
       "    </tr>\n",
       "  </thead>\n",
       "  <tbody>\n",
       "    <tr>\n",
       "      <th>0</th>\n",
       "      <td>0.0</td>\n",
       "      <td>34.985881</td>\n",
       "      <td>82.21188</td>\n",
       "      <td>145.960311</td>\n",
       "      <td>2.320117e+02</td>\n",
       "      <td>348.168907</td>\n",
       "    </tr>\n",
       "    <tr>\n",
       "      <th>1</th>\n",
       "      <td>0.0</td>\n",
       "      <td>0.000000</td>\n",
       "      <td>0.00000</td>\n",
       "      <td>34.985881</td>\n",
       "      <td>8.221188e+01</td>\n",
       "      <td>145.960311</td>\n",
       "    </tr>\n",
       "    <tr>\n",
       "      <th>2</th>\n",
       "      <td>0.0</td>\n",
       "      <td>0.000000</td>\n",
       "      <td>0.00000</td>\n",
       "      <td>0.000000</td>\n",
       "      <td>2.842171e-14</td>\n",
       "      <td>34.985881</td>\n",
       "    </tr>\n",
       "    <tr>\n",
       "      <th>3</th>\n",
       "      <td>0.0</td>\n",
       "      <td>0.000000</td>\n",
       "      <td>0.00000</td>\n",
       "      <td>0.000000</td>\n",
       "      <td>0.000000e+00</td>\n",
       "      <td>0.000000</td>\n",
       "    </tr>\n",
       "    <tr>\n",
       "      <th>4</th>\n",
       "      <td>0.0</td>\n",
       "      <td>0.000000</td>\n",
       "      <td>0.00000</td>\n",
       "      <td>0.000000</td>\n",
       "      <td>0.000000e+00</td>\n",
       "      <td>0.000000</td>\n",
       "    </tr>\n",
       "    <tr>\n",
       "      <th>5</th>\n",
       "      <td>0.0</td>\n",
       "      <td>0.000000</td>\n",
       "      <td>0.00000</td>\n",
       "      <td>0.000000</td>\n",
       "      <td>0.000000e+00</td>\n",
       "      <td>0.000000</td>\n",
       "    </tr>\n",
       "  </tbody>\n",
       "</table>\n",
       "</div>"
      ],
      "text/plain": [
       "     0          1         2           3             4           5\n",
       "0  0.0  34.985881  82.21188  145.960311  2.320117e+02  348.168907\n",
       "1  0.0   0.000000   0.00000   34.985881  8.221188e+01  145.960311\n",
       "2  0.0   0.000000   0.00000    0.000000  2.842171e-14   34.985881\n",
       "3  0.0   0.000000   0.00000    0.000000  0.000000e+00    0.000000\n",
       "4  0.0   0.000000   0.00000    0.000000  0.000000e+00    0.000000\n",
       "5  0.0   0.000000   0.00000    0.000000  0.000000e+00    0.000000"
      ]
     },
     "execution_count": 21,
     "metadata": {},
     "output_type": "execute_result"
    }
   ],
   "source": [
    "C_K_tree = pd.DataFrame(np.zeros((T + 1) * (T + 1)).reshape(T + 1, T + 1))\n",
    "for node in range(T + 1):\n",
    "  for time in range(T + 1):\n",
    "    if time >= node:\n",
    "      C_K_tree.loc[node, time] = max(S_tree.loc[node, time] - K, 0)\n",
    "C_K_tree"
   ]
  },
  {
   "cell_type": "code",
   "execution_count": 22,
   "id": "39625aed",
   "metadata": {},
   "outputs": [
    {
     "data": {
      "text/html": [
       "<div>\n",
       "<style scoped>\n",
       "    .dataframe tbody tr th:only-of-type {\n",
       "        vertical-align: middle;\n",
       "    }\n",
       "\n",
       "    .dataframe tbody tr th {\n",
       "        vertical-align: top;\n",
       "    }\n",
       "\n",
       "    .dataframe thead th {\n",
       "        text-align: right;\n",
       "    }\n",
       "</style>\n",
       "<table border=\"1\" class=\"dataframe\">\n",
       "  <thead>\n",
       "    <tr style=\"text-align: right;\">\n",
       "      <th></th>\n",
       "      <th>0</th>\n",
       "      <th>1</th>\n",
       "      <th>2</th>\n",
       "      <th>3</th>\n",
       "      <th>4</th>\n",
       "      <th>5</th>\n",
       "    </tr>\n",
       "  </thead>\n",
       "  <tbody>\n",
       "    <tr>\n",
       "      <th>0</th>\n",
       "      <td>0.0</td>\n",
       "      <td>0.0</td>\n",
       "      <td>0.0</td>\n",
       "      <td>0.0</td>\n",
       "      <td>0.0</td>\n",
       "      <td>348.168907</td>\n",
       "    </tr>\n",
       "    <tr>\n",
       "      <th>1</th>\n",
       "      <td>0.0</td>\n",
       "      <td>0.0</td>\n",
       "      <td>0.0</td>\n",
       "      <td>0.0</td>\n",
       "      <td>0.0</td>\n",
       "      <td>145.960311</td>\n",
       "    </tr>\n",
       "    <tr>\n",
       "      <th>2</th>\n",
       "      <td>0.0</td>\n",
       "      <td>0.0</td>\n",
       "      <td>0.0</td>\n",
       "      <td>0.0</td>\n",
       "      <td>0.0</td>\n",
       "      <td>34.985881</td>\n",
       "    </tr>\n",
       "    <tr>\n",
       "      <th>3</th>\n",
       "      <td>0.0</td>\n",
       "      <td>0.0</td>\n",
       "      <td>0.0</td>\n",
       "      <td>0.0</td>\n",
       "      <td>0.0</td>\n",
       "      <td>0.000000</td>\n",
       "    </tr>\n",
       "    <tr>\n",
       "      <th>4</th>\n",
       "      <td>0.0</td>\n",
       "      <td>0.0</td>\n",
       "      <td>0.0</td>\n",
       "      <td>0.0</td>\n",
       "      <td>0.0</td>\n",
       "      <td>0.000000</td>\n",
       "    </tr>\n",
       "    <tr>\n",
       "      <th>5</th>\n",
       "      <td>0.0</td>\n",
       "      <td>0.0</td>\n",
       "      <td>0.0</td>\n",
       "      <td>0.0</td>\n",
       "      <td>0.0</td>\n",
       "      <td>0.000000</td>\n",
       "    </tr>\n",
       "  </tbody>\n",
       "</table>\n",
       "</div>"
      ],
      "text/plain": [
       "     0    1    2    3    4           5\n",
       "0  0.0  0.0  0.0  0.0  0.0  348.168907\n",
       "1  0.0  0.0  0.0  0.0  0.0  145.960311\n",
       "2  0.0  0.0  0.0  0.0  0.0   34.985881\n",
       "3  0.0  0.0  0.0  0.0  0.0    0.000000\n",
       "4  0.0  0.0  0.0  0.0  0.0    0.000000\n",
       "5  0.0  0.0  0.0  0.0  0.0    0.000000"
      ]
     },
     "execution_count": 22,
     "metadata": {},
     "output_type": "execute_result"
    }
   ],
   "source": [
    "C_tree = pd.DataFrame(np.zeros((T + 1) * (T + 1)).reshape(T + 1, T + 1))\n",
    "C_tree[T] = C_K_tree[T]\n",
    "C_tree"
   ]
  },
  {
   "cell_type": "code",
   "execution_count": 23,
   "id": "e3897be6",
   "metadata": {},
   "outputs": [
    {
     "data": {
      "text/html": [
       "<div>\n",
       "<style scoped>\n",
       "    .dataframe tbody tr th:only-of-type {\n",
       "        vertical-align: middle;\n",
       "    }\n",
       "\n",
       "    .dataframe tbody tr th {\n",
       "        vertical-align: top;\n",
       "    }\n",
       "\n",
       "    .dataframe thead th {\n",
       "        text-align: right;\n",
       "    }\n",
       "</style>\n",
       "<table border=\"1\" class=\"dataframe\">\n",
       "  <thead>\n",
       "    <tr style=\"text-align: right;\">\n",
       "      <th></th>\n",
       "      <th>0</th>\n",
       "      <th>1</th>\n",
       "      <th>2</th>\n",
       "      <th>3</th>\n",
       "      <th>4</th>\n",
       "      <th>5</th>\n",
       "    </tr>\n",
       "  </thead>\n",
       "  <tbody>\n",
       "    <tr>\n",
       "      <th>0</th>\n",
       "      <td>37.042002</td>\n",
       "      <td>61.314001</td>\n",
       "      <td>99.128897</td>\n",
       "      <td>155.853227</td>\n",
       "      <td>237.175520</td>\n",
       "      <td>348.168907</td>\n",
       "    </tr>\n",
       "    <tr>\n",
       "      <th>1</th>\n",
       "      <td>0.000000</td>\n",
       "      <td>15.583290</td>\n",
       "      <td>28.249654</td>\n",
       "      <td>50.260325</td>\n",
       "      <td>87.194365</td>\n",
       "      <td>145.960311</td>\n",
       "    </tr>\n",
       "    <tr>\n",
       "      <th>2</th>\n",
       "      <td>0.000000</td>\n",
       "      <td>0.000000</td>\n",
       "      <td>4.002886</td>\n",
       "      <td>8.245426</td>\n",
       "      <td>16.984508</td>\n",
       "      <td>34.985881</td>\n",
       "    </tr>\n",
       "    <tr>\n",
       "      <th>3</th>\n",
       "      <td>0.000000</td>\n",
       "      <td>0.000000</td>\n",
       "      <td>0.000000</td>\n",
       "      <td>0.000000</td>\n",
       "      <td>0.000000</td>\n",
       "      <td>0.000000</td>\n",
       "    </tr>\n",
       "    <tr>\n",
       "      <th>4</th>\n",
       "      <td>0.000000</td>\n",
       "      <td>0.000000</td>\n",
       "      <td>0.000000</td>\n",
       "      <td>0.000000</td>\n",
       "      <td>0.000000</td>\n",
       "      <td>0.000000</td>\n",
       "    </tr>\n",
       "    <tr>\n",
       "      <th>5</th>\n",
       "      <td>0.000000</td>\n",
       "      <td>0.000000</td>\n",
       "      <td>0.000000</td>\n",
       "      <td>0.000000</td>\n",
       "      <td>0.000000</td>\n",
       "      <td>0.000000</td>\n",
       "    </tr>\n",
       "  </tbody>\n",
       "</table>\n",
       "</div>"
      ],
      "text/plain": [
       "           0          1          2           3           4           5\n",
       "0  37.042002  61.314001  99.128897  155.853227  237.175520  348.168907\n",
       "1   0.000000  15.583290  28.249654   50.260325   87.194365  145.960311\n",
       "2   0.000000   0.000000   4.002886    8.245426   16.984508   34.985881\n",
       "3   0.000000   0.000000   0.000000    0.000000    0.000000    0.000000\n",
       "4   0.000000   0.000000   0.000000    0.000000    0.000000    0.000000\n",
       "5   0.000000   0.000000   0.000000    0.000000    0.000000    0.000000"
      ]
     },
     "execution_count": 23,
     "metadata": {},
     "output_type": "execute_result"
    }
   ],
   "source": [
    "for node in range(T - 1, -1, -1):\n",
    "  for time in range(T - 1, -1, -1):\n",
    "    if time >= node:\n",
    "      C_tree.loc[node, time] = max(\n",
    "          P * C_tree.loc[node, time + 1] / (1 + Rf) + (1 - P) * C_tree.loc[node + 1, time + 1] / (1 + Rf),\n",
    "          C_K_tree.loc[node, time]\n",
    "      )\n",
    "C_tree"
   ]
  },
  {
   "cell_type": "code",
   "execution_count": null,
   "id": "29c396f4",
   "metadata": {},
   "outputs": [],
   "source": []
  },
  {
   "cell_type": "code",
   "execution_count": null,
   "id": "588885cd",
   "metadata": {},
   "outputs": [],
   "source": []
  },
  {
   "cell_type": "code",
   "execution_count": null,
   "id": "e570c6d1",
   "metadata": {},
   "outputs": [],
   "source": [
    "# plotly  활용 옵션시각화\n",
    "#  추후 작업 업로드\n",
    "# https://m.blog.naver.com/PostView.naver?isHttpsRedirect=true&blogId=stochastic73&logNo=221553746353  참고"
   ]
  },
  {
   "cell_type": "code",
   "execution_count": null,
   "id": "8cd052fd",
   "metadata": {},
   "outputs": [],
   "source": []
  },
  {
   "cell_type": "code",
   "execution_count": null,
   "id": "dfd8d155",
   "metadata": {},
   "outputs": [],
   "source": [
    "## 퀀트립 (QuantLib) 활용 \n",
    "# https://m.blog.naver.com/PostView.naver?isHttpsRedirect=true&blogId=stochastic73&logNo=221746106616  참고"
   ]
  },
  {
   "cell_type": "code",
   "execution_count": 8,
   "id": "77e00f24",
   "metadata": {},
   "outputs": [
    {
     "name": "stdout",
     "output_type": "stream",
     "text": [
      "Collecting QuantLib-PythonNote: you may need to restart the kernel to use updated packages.\n"
     ]
    },
    {
     "name": "stderr",
     "output_type": "stream",
     "text": [
      "WARNING: Ignoring invalid distribution -ip (c:\\users\\jyb\\appdata\\local\\programs\\python\\python39\\lib\\site-packages)\n",
      "WARNING: Ignoring invalid distribution -ip (c:\\users\\jyb\\appdata\\local\\programs\\python\\python39\\lib\\site-packages)\n",
      "WARNING: Ignoring invalid distribution -ip (c:\\users\\jyb\\appdata\\local\\programs\\python\\python39\\lib\\site-packages)\n",
      "WARNING: Ignoring invalid distribution -ip (c:\\users\\jyb\\appdata\\local\\programs\\python\\python39\\lib\\site-packages)\n",
      "WARNING: Ignoring invalid distribution -ip (c:\\users\\jyb\\appdata\\local\\programs\\python\\python39\\lib\\site-packages)\n",
      "WARNING: Ignoring invalid distribution -ip (c:\\users\\jyb\\appdata\\local\\programs\\python\\python39\\lib\\site-packages)\n",
      "WARNING: Ignoring invalid distribution -ip (c:\\users\\jyb\\appdata\\local\\programs\\python\\python39\\lib\\site-packages)\n",
      "WARNING: Ignoring invalid distribution -ip (c:\\users\\jyb\\appdata\\local\\programs\\python\\python39\\lib\\site-packages)\n"
     ]
    },
    {
     "name": "stdout",
     "output_type": "stream",
     "text": [
      "\n",
      "  Downloading QuantLib_Python-1.18-py2.py3-none-any.whl (1.4 kB)\n",
      "Collecting QuantLib\n",
      "  Downloading QuantLib-1.25-cp39-cp39-win_amd64.whl (12.5 MB)\n",
      "Installing collected packages: QuantLib, QuantLib-Python\n",
      "Successfully installed QuantLib-1.25 QuantLib-Python-1.18\n"
     ]
    }
   ],
   "source": [
    "pip install QuantLib-Python"
   ]
  },
  {
   "cell_type": "code",
   "execution_count": null,
   "id": "068e4a1c",
   "metadata": {},
   "outputs": [],
   "source": []
  }
 ],
 "metadata": {
  "kernelspec": {
   "display_name": "Python 3 (ipykernel)",
   "language": "python",
   "name": "python3"
  },
  "language_info": {
   "codemirror_mode": {
    "name": "ipython",
    "version": 3
   },
   "file_extension": ".py",
   "mimetype": "text/x-python",
   "name": "python",
   "nbconvert_exporter": "python",
   "pygments_lexer": "ipython3",
   "version": "3.9.6"
  }
 },
 "nbformat": 4,
 "nbformat_minor": 5
}
