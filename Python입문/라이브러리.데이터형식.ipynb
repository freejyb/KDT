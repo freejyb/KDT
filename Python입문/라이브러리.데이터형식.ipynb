{
 "cells": [
  {
   "cell_type": "markdown",
   "id": "5c38e9e5-f30c-466a-8221-8974d6ebdf95",
   "metadata": {},
   "source": [
    "# 라이브러리에 따른 데이터 형식"
   ]
  },
  {
   "cell_type": "markdown",
   "id": "1c2ad7b7-d2ec-4dcb-8ea1-c03111f3665c",
   "metadata": {},
   "source": [
    "데이터 라이브러리들, 예를 들어 Pandas, Numpy, TensorFlow, PyTorch 등은 각각 특정한 데이터 형식을 요구한다. \n",
    "    \n",
    "이들 간의 차이와 요구사항을 이해하면 코드 작성이 훨씬 쉬워지고 성능 또한 최적화할 수 있다."
   ]
  },
  {
   "cell_type": "code",
   "execution_count": null,
   "id": "f0f6cffc-a8f6-48d7-89f4-6a4596d01d2f",
   "metadata": {},
   "outputs": [],
   "source": []
  },
  {
   "cell_type": "markdown",
   "id": "fe38dbaf-0711-4404-a223-e8c9f74331d2",
   "metadata": {},
   "source": [
    "## Pandas (Data Analysis Library)"
   ]
  },
  {
   "cell_type": "code",
   "execution_count": null,
   "id": "09e92659-ca3f-4608-9723-234d82f93a2d",
   "metadata": {},
   "outputs": [],
   "source": []
  },
  {
   "cell_type": "markdown",
   "id": "cf101df5-b047-445f-9449-5e2c858c8734",
   "metadata": {},
   "source": [
    "데이터 형식: 주로 DataFrame과 Series 형식 사용.\n",
    "    \n",
    "DataFrame: 2차원 테이블 형식의 데이터 (엑셀 시트처럼 행과 열로 구성됨).\n",
    "                            \n",
    "Series: 1차원 배열 (DataFrame의 열에 해당).\n",
    "                \n",
    "형식 요구 사항:\n",
    "                \n",
    "컬럼별로 동일한 데이터 타입을 가지는 것이 좋음 (예: int, float, str)\n",
    "\n",
    "결측치(NaN) 처리 가능."
   ]
  },
  {
   "cell_type": "code",
   "execution_count": 1,
   "id": "8d3881c6-1a78-4f0d-b14b-23b0c6bf9614",
   "metadata": {},
   "outputs": [
    {
     "name": "stdout",
     "output_type": "stream",
     "text": [
      "    Name  Age\n",
      "0  Alice   25\n",
      "1    Bob   30\n"
     ]
    }
   ],
   "source": [
    "import pandas as pd\n",
    "\n",
    "# DataFrame 생성\n",
    "data = {'Name': ['Alice', 'Bob'], 'Age': [25, 30]}\n",
    "df = pd.DataFrame(data)\n",
    "print(df)\n"
   ]
  },
  {
   "cell_type": "code",
   "execution_count": null,
   "id": "850b9daf-1abe-4fcc-9f82-1c349acb800f",
   "metadata": {},
   "outputs": [],
   "source": []
  },
  {
   "cell_type": "markdown",
   "id": "ea7bd487-1c16-4fc1-a5c8-d211378725b0",
   "metadata": {},
   "source": [
    "## Numpy (Numerical Computing Library)"
   ]
  },
  {
   "cell_type": "markdown",
   "id": "349d2278-c961-45a5-bf3c-feae62cf2047",
   "metadata": {},
   "source": [
    "데이터 형식: 주로 ndarray (N-dimensional array) 사용.\n",
    "                    \n",
    "형식 요구 사항:\n",
    "                    \n",
    "배열의 모든 요소는 동일한 데이터 타입이어야 함 (int32, float64 등).\n",
    "                    \n",
    "연산이 빠르고 메모리 효율적임."
   ]
  },
  {
   "cell_type": "code",
   "execution_count": 2,
   "id": "fd85b238-9605-493d-a515-a31795cf7a60",
   "metadata": {},
   "outputs": [
    {
     "name": "stdout",
     "output_type": "stream",
     "text": [
      "[[1. 2. 3.]\n",
      " [4. 5. 6.]]\n"
     ]
    }
   ],
   "source": [
    "import numpy as np\n",
    "\n",
    "# Numpy 배열 생성\n",
    "arr = np.array([[1, 2, 3], [4, 5, 6]], dtype=np.float32)\n",
    "print(arr)\n"
   ]
  },
  {
   "cell_type": "code",
   "execution_count": null,
   "id": "7a4d79db-cb2d-4e5c-9431-0f45391eb3f2",
   "metadata": {},
   "outputs": [],
   "source": []
  },
  {
   "cell_type": "markdown",
   "id": "f6290183-201c-4076-a138-d1c450454091",
   "metadata": {},
   "source": [
    "## TensorFlow (Deep Learning Library)"
   ]
  },
  {
   "cell_type": "markdown",
   "id": "7172f670-00c1-4078-9124-7e7bd16ebe68",
   "metadata": {},
   "source": [
    "데이터 형식: 주로 Tensor 형식 사용.\n",
    "    \n",
    "형식 요구 사항:\n",
    "Tensor는 Numpy 배열과 유사하지만 GPU 가속이 가능.\n",
    "    \n",
    "Tensor의 데이터 타입은 보통 tf.float32 또는 tf.int32를 사용.    th, channels) 등).\n",
    "\n",
    "Tensor의 shape이 명확하게 정의되어야 함 ((batch_size, height, width, channels) 등)."
   ]
  },
  {
   "cell_type": "code",
   "execution_count": 3,
   "id": "dc350706-76d6-4009-bc0e-a623296aa334",
   "metadata": {},
   "outputs": [
    {
     "name": "stdout",
     "output_type": "stream",
     "text": [
      "tf.Tensor(\n",
      "[[1. 2.]\n",
      " [3. 4.]], shape=(2, 2), dtype=float32)\n"
     ]
    }
   ],
   "source": [
    "import tensorflow as tf\n",
    "\n",
    "# Tensor 생성\n",
    "tensor = tf.constant([[1.0, 2.0], [3.0, 4.0]], dtype=tf.float32)\n",
    "print(tensor)\n"
   ]
  },
  {
   "cell_type": "code",
   "execution_count": null,
   "id": "7d800e72-f7ea-4c61-9d52-435762838254",
   "metadata": {},
   "outputs": [],
   "source": []
  },
  {
   "cell_type": "markdown",
   "id": "55fc4a40-b368-4951-aa76-676a8aab2f79",
   "metadata": {},
   "source": [
    "## PyTorch (Deep Learning Library)"
   ]
  },
  {
   "cell_type": "markdown",
   "id": "ee75e5cd-9ae5-40eb-8b5f-d6c25420f85b",
   "metadata": {},
   "source": [
    "데이터 형식: 주로 Tensor 형식 사용.\n",
    "    \n",
    "형식 요구 사항:\n",
    "    \n",
    "PyTorch Tensor는 Numpy 배열과 유사하고 GPU 가속이 가능.\n",
    "    \n",
    "기본 데이터 타입은 torch.float32가 자주 사용됨.\n",
    "    \n",
    "데이터 shape을 명확하게 정의해야 하며, TensorFlow와는 달리 채널 우선순위가 다를 수 있음 ((batch_size, channels, height, width))."
   ]
  },
  {
   "cell_type": "code",
   "execution_count": 4,
   "id": "5a9aec96-b3dd-41fc-84e5-b446b68fecc7",
   "metadata": {},
   "outputs": [
    {
     "name": "stdout",
     "output_type": "stream",
     "text": [
      "tensor([[1., 2.],\n",
      "        [3., 4.]])\n"
     ]
    }
   ],
   "source": [
    "import torch\n",
    "\n",
    "# PyTorch Tensor 생성\n",
    "tensor = torch.tensor([[1, 2], [3, 4]], dtype=torch.float32)\n",
    "print(tensor)\n"
   ]
  },
  {
   "cell_type": "code",
   "execution_count": null,
   "id": "10614be1-df29-45b9-9168-150220bb6ee8",
   "metadata": {},
   "outputs": [],
   "source": []
  },
  {
   "cell_type": "markdown",
   "id": "fdac0e6c-26d6-4514-b290-21b576f8470d",
   "metadata": {},
   "source": [
    "# 데이터 형식 간 변환"
   ]
  },
  {
   "cell_type": "markdown",
   "id": "93b44d71-46cf-4e4a-8406-ae6c05ba0d6d",
   "metadata": {},
   "source": [
    "서로 다른 라이브러리를 사용할 때 데이터 형식을 변환해야 하는 경우가 많습니다. \n",
    "\n",
    "예를 들어, Pandas DataFrame을 Numpy 배열로 변환하거나, Numpy 배열을 TensorFlow 또는 PyTorch Tensor로 변환할 수 있습니다."
   ]
  },
  {
   "cell_type": "markdown",
   "id": "a3c51c16-31ba-40bf-853f-d95dc15ae1f1",
   "metadata": {},
   "source": [
    "## 1차원 리스트는 DataFrame의 단일 컬럼으로 변환"
   ]
  },
  {
   "cell_type": "code",
   "execution_count": 5,
   "id": "3e799967-1965-43f5-a5da-266c98790f05",
   "metadata": {},
   "outputs": [
    {
     "name": "stdout",
     "output_type": "stream",
     "text": [
      "      Name\n",
      "0    Alice\n",
      "1      Bob\n",
      "2  Charlie\n"
     ]
    }
   ],
   "source": [
    "import pandas as pd\n",
    "\n",
    "# 1차원 리스트\n",
    "data = ['Alice', 'Bob', 'Charlie']\n",
    "\n",
    "# DataFrame으로 변환\n",
    "df = pd.DataFrame(data, columns=['Name'])\n",
    "print(df)\n"
   ]
  },
  {
   "cell_type": "markdown",
   "id": "979bfa83-a40f-4117-917b-c9f729864898",
   "metadata": {},
   "source": [
    "## 리스트의 리스트 (2차원 리스트)\n",
    "\n",
    "2차원 리스트는 **행(row)**과 **열(column)**로 변환할 수 있습니다."
   ]
  },
  {
   "cell_type": "code",
   "execution_count": 7,
   "id": "2580a20c-fd98-4551-9f08-24a33329abec",
   "metadata": {},
   "outputs": [
    {
     "name": "stdout",
     "output_type": "stream",
     "text": [
      "   ID     Name  Age\n",
      "0   1    Alice   25\n",
      "1   2      Bob   30\n",
      "2   3  Charlie   35\n"
     ]
    }
   ],
   "source": [
    "import pandas as pd\n",
    "\n",
    "# 2차원 리스트\n",
    "data = [[1, 'Alice', 25], [2, 'Bob', 30], [3, 'Charlie', 35]]\n",
    "\n",
    "# DataFrame으로 변환\n",
    "df = pd.DataFrame(data, columns=['ID', 'Name', 'Age'])\n",
    "print(df)\n"
   ]
  },
  {
   "cell_type": "markdown",
   "id": "83ce26da-5243-4dd2-b4cf-2a4158edac90",
   "metadata": {},
   "source": [
    "## Numpy 배열을 Pandas DataFrame으로"
   ]
  },
  {
   "cell_type": "markdown",
   "id": "4484ff52-0fc2-4528-bc07-0202511b1361",
   "metadata": {},
   "source": [
    "1. 기본 변환: pd.DataFrame(array)\n",
    "2. 컬럼명 지정: pd.DataFrame(array, columns=[...])\n",
    "3. 인덱스 지정: pd.DataFrame(array, index=[...])\n",
    "4. 데이터 타입 변환: df.astype(dtype)\n",
    "5. Shape 변경 후 변환: array.reshape(...) 후 DataFrame으로 변환"
   ]
  },
  {
   "cell_type": "markdown",
   "id": "3143ff00-f87c-4563-a796-5b473f234a92",
   "metadata": {},
   "source": [
    "1. 기본변환"
   ]
  },
  {
   "cell_type": "code",
   "execution_count": 12,
   "id": "01e49332-d8ab-4eaa-bd17-1eaecd6c4e69",
   "metadata": {},
   "outputs": [
    {
     "name": "stdout",
     "output_type": "stream",
     "text": [
      "   0  1  2\n",
      "0  1  2  3\n",
      "1  4  5  6\n",
      "2  7  8  9\n"
     ]
    }
   ],
   "source": [
    "import numpy as np\n",
    "import pandas as pd\n",
    "\n",
    "# Numpy 배열 생성\n",
    "array = np.array([[1, 2, 3], [4, 5, 6], [7, 8, 9]])\n",
    "\n",
    "# DataFrame으로 변환\n",
    "df = pd.DataFrame(array)\n",
    "\n",
    "print(df)\n"
   ]
  },
  {
   "cell_type": "code",
   "execution_count": null,
   "id": "af2828aa-ff1d-44d5-81f0-12efd6137518",
   "metadata": {},
   "outputs": [],
   "source": []
  },
  {
   "cell_type": "markdown",
   "id": "e4b1a20d-71ce-4bb6-a468-a91ec6965a92",
   "metadata": {},
   "source": [
    "2. 컬럼명 지정\n",
    "\n",
    "Numpy 배열을 DataFrame으로 변환할 때, 컬럼명을 지정할 수 있습니다."
   ]
  },
  {
   "cell_type": "code",
   "execution_count": 13,
   "id": "910c2a6c-ab2e-4199-b961-65b8544688a8",
   "metadata": {},
   "outputs": [
    {
     "name": "stdout",
     "output_type": "stream",
     "text": [
      "    A   B   C\n",
      "0  10  20  30\n",
      "1  40  50  60\n",
      "2  70  80  90\n"
     ]
    }
   ],
   "source": [
    "import numpy as np\n",
    "import pandas as pd\n",
    "\n",
    "# Numpy 배열 생성\n",
    "array = np.array([[10, 20, 30], [40, 50, 60], [70, 80, 90]])\n",
    "\n",
    "# DataFrame으로 변환 (컬럼명 지정)\n",
    "df = pd.DataFrame(array, columns=['A', 'B', 'C'])\n",
    "\n",
    "print(df)\n"
   ]
  },
  {
   "cell_type": "code",
   "execution_count": null,
   "id": "8a3662bb-f154-4d56-a086-838e795a2129",
   "metadata": {},
   "outputs": [],
   "source": []
  },
  {
   "cell_type": "markdown",
   "id": "4edf11cf-73f2-44f8-aeca-bb09617e70e6",
   "metadata": {},
   "source": [
    "3. 인덱스 지정\n",
    "\n",
    "행(row) 인덱스를 지정할 수도 있습니다."
   ]
  },
  {
   "cell_type": "code",
   "execution_count": 14,
   "id": "b5813f29-00a0-42b4-b935-84d3a5720c4f",
   "metadata": {},
   "outputs": [
    {
     "name": "stdout",
     "output_type": "stream",
     "text": [
      "           Price  Quantity\n",
      "Product 1    100       200\n",
      "Product 2    300       400\n",
      "Product 3    500       600\n"
     ]
    }
   ],
   "source": [
    "import numpy as np\n",
    "import pandas as pd\n",
    "\n",
    "# Numpy 배열 생성\n",
    "array = np.array([[100, 200], [300, 400], [500, 600]])\n",
    "\n",
    "# DataFrame으로 변환 (컬럼명과 인덱스 지정)\n",
    "df = pd.DataFrame(array, columns=['Price', 'Quantity'], index=['Product 1', 'Product 2', 'Product 3'])\n",
    "\n",
    "print(df)\n"
   ]
  },
  {
   "cell_type": "code",
   "execution_count": null,
   "id": "e8da0b75-7bdb-453b-a8e9-8bd9088c50e1",
   "metadata": {},
   "outputs": [],
   "source": []
  },
  {
   "cell_type": "markdown",
   "id": "5049d89a-88cf-4e89-b5ce-96bdd36268e2",
   "metadata": {},
   "source": [
    "4. 데이터 타입 확인 및 변환\n",
    "\n",
    "Numpy 배열에서 DataFrame으로 변환할 때, 데이터 타입이 올바르게 설정되었는지 확인할 수 있습니다."
   ]
  },
  {
   "cell_type": "code",
   "execution_count": 15,
   "id": "08b95693-d26d-45be-b3b5-6afe73e177a6",
   "metadata": {},
   "outputs": [
    {
     "name": "stdout",
     "output_type": "stream",
     "text": [
      "X    float32\n",
      "Y    float32\n",
      "dtype: object\n"
     ]
    }
   ],
   "source": [
    "import numpy as np\n",
    "import pandas as pd\n",
    "\n",
    "# Numpy 배열 생성 (float 타입)\n",
    "array = np.array([[1.5, 2.5], [3.5, 4.5]], dtype=np.float32)\n",
    "\n",
    "# DataFrame으로 변환\n",
    "df = pd.DataFrame(array, columns=['X', 'Y'])\n",
    "\n",
    "# 데이터 타입 확인\n",
    "print(df.dtypes)\n"
   ]
  },
  {
   "cell_type": "code",
   "execution_count": null,
   "id": "1663bf44-0820-43ca-ad63-97193e0689e9",
   "metadata": {},
   "outputs": [],
   "source": []
  },
  {
   "cell_type": "markdown",
   "id": "6739d5a9-f6c4-4712-a7c4-3b56bfdb1ec6",
   "metadata": {},
   "source": [
    "5. Numpy 배열의 Shape 변경 후 변환\n",
    "\n",
    "Numpy 배열의 shape을 변경한 후 DataFrame으로 변환할 수도 있습니다."
   ]
  },
  {
   "cell_type": "code",
   "execution_count": 16,
   "id": "4f5ec3e6-cf61-4009-b7aa-95d9a2e0b96b",
   "metadata": {},
   "outputs": [
    {
     "name": "stdout",
     "output_type": "stream",
     "text": [
      "   A  B  C\n",
      "0  1  2  3\n",
      "1  4  5  6\n"
     ]
    }
   ],
   "source": [
    "import numpy as np\n",
    "import pandas as pd\n",
    "\n",
    "# 1차원 Numpy 배열 생성\n",
    "array = np.array([1, 2, 3, 4, 5, 6])\n",
    "\n",
    "# 배열의 shape 변경 (2x3)\n",
    "reshaped_array = array.reshape(2, 3)\n",
    "\n",
    "# DataFrame으로 변환\n",
    "df = pd.DataFrame(reshaped_array, columns=['A', 'B', 'C'])\n",
    "\n",
    "print(df)\n"
   ]
  },
  {
   "cell_type": "code",
   "execution_count": null,
   "id": "cb4bf194-2d42-4c8b-913b-a7bd3eb08aa6",
   "metadata": {},
   "outputs": [],
   "source": []
  },
  {
   "cell_type": "markdown",
   "id": "83703986-2cc5-4a78-8549-c65d7a97f749",
   "metadata": {},
   "source": [
    "## Pandas DataFrame → Numpy Array"
   ]
  },
  {
   "cell_type": "code",
   "execution_count": 9,
   "id": "8578e28c-6683-46a9-8855-8adfc009ce7c",
   "metadata": {},
   "outputs": [
    {
     "name": "stdout",
     "output_type": "stream",
     "text": [
      "[[1 4]\n",
      " [2 5]\n",
      " [3 6]]\n"
     ]
    }
   ],
   "source": [
    "import pandas as pd\n",
    "\n",
    "df = pd.DataFrame({'A': [1, 2, 3], 'B': [4, 5, 6]})\n",
    "array = df.to_numpy()\n",
    "print(array)\n"
   ]
  },
  {
   "cell_type": "code",
   "execution_count": null,
   "id": "cfc50658-0c44-48ab-a4b3-3d69b0daaab3",
   "metadata": {},
   "outputs": [],
   "source": []
  },
  {
   "cell_type": "markdown",
   "id": "40ec2377-5c31-496d-8eaf-62a58c1ba30e",
   "metadata": {},
   "source": [
    "## Numpy Array → TensorFlow Tensor"
   ]
  },
  {
   "cell_type": "code",
   "execution_count": 10,
   "id": "bc563772-e9e6-430f-a62c-7b73c99e571b",
   "metadata": {},
   "outputs": [
    {
     "name": "stdout",
     "output_type": "stream",
     "text": [
      "tf.Tensor([1. 2. 3.], shape=(3,), dtype=float32)\n"
     ]
    }
   ],
   "source": [
    "import numpy as np\n",
    "import tensorflow as tf\n",
    "\n",
    "array = np.array([1, 2, 3], dtype=np.float32)\n",
    "tensor = tf.convert_to_tensor(array)\n",
    "print(tensor)\n"
   ]
  },
  {
   "cell_type": "code",
   "execution_count": null,
   "id": "47cf88d9-0688-4d6d-9e26-a47fe03ade58",
   "metadata": {},
   "outputs": [],
   "source": []
  },
  {
   "cell_type": "markdown",
   "id": "dfbf6859-5925-4053-b7bb-63bf9fd1de98",
   "metadata": {},
   "source": [
    "## Numpy Array → PyTorch Tensor"
   ]
  },
  {
   "cell_type": "code",
   "execution_count": 11,
   "id": "76fa8d45-4a7d-4f8d-9f43-04e41fbaede9",
   "metadata": {},
   "outputs": [
    {
     "name": "stdout",
     "output_type": "stream",
     "text": [
      "tensor([1., 2., 3.])\n"
     ]
    }
   ],
   "source": [
    "import numpy as np\n",
    "import torch\n",
    "\n",
    "array = np.array([1, 2, 3], dtype=np.float32)\n",
    "tensor = torch.from_numpy(array)\n",
    "print(tensor)\n"
   ]
  },
  {
   "cell_type": "code",
   "execution_count": null,
   "id": "2bdc81c8-9240-4a4b-89c1-870ed136127e",
   "metadata": {},
   "outputs": [],
   "source": []
  },
  {
   "cell_type": "code",
   "execution_count": null,
   "id": "85a27fef-da8a-4ad2-a091-c296bc7ef2a0",
   "metadata": {},
   "outputs": [],
   "source": []
  }
 ],
 "metadata": {
  "kernelspec": {
   "display_name": "Python 3 (ipykernel)",
   "language": "python",
   "name": "python3"
  },
  "language_info": {
   "codemirror_mode": {
    "name": "ipython",
    "version": 3
   },
   "file_extension": ".py",
   "mimetype": "text/x-python",
   "name": "python",
   "nbconvert_exporter": "python",
   "pygments_lexer": "ipython3",
   "version": "3.9.11"
  }
 },
 "nbformat": 4,
 "nbformat_minor": 5
}
