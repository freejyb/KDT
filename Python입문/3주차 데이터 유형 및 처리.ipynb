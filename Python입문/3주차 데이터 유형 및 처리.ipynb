{
 "cells": [
  {
   "cell_type": "markdown",
   "id": "5d66ce57",
   "metadata": {},
   "source": [
    "# 데이터 타입 : 기본자료형"
   ]
  },
  {
   "cell_type": "code",
   "execution_count": null,
   "id": "53009aed",
   "metadata": {},
   "outputs": [],
   "source": [
    "# 실수(real number) 개념  : 무한대의 수숫점이하의 숫자를 가질 수 있는 수\n",
    "# 실수(real number) = 유리수 + 무리수  :\n",
    "# 유리수 = 정수 + 정수가 아닌수"
   ]
  },
  {
   "cell_type": "markdown",
   "id": "8ad9b262",
   "metadata": {},
   "source": [
    "## 기본 자료형 "
   ]
  },
  {
   "cell_type": "code",
   "execution_count": null,
   "id": "be33b580",
   "metadata": {},
   "outputs": [],
   "source": [
    "# 통상적으로 정수(int), 실수(float), 문자열(str) , boolean¶\n",
    "# 정수(integer) : 양의 부호인 +, 음의 부호인 -가 붙어 있는 자연수를 통틀어서 정수 --> 설명: 정수형 데이터 타입으로, 소수점이 없는 숫자를 저장한다.\n",
    "# 실수(float) : 부동 소수점(Floating Point) 의미 : 떠돌이 소수점(floating point)= 실수를 표시할 때 소수점의 위치를 고정하지 않고, 유효숫자를 표시하는 가수(假數)와 소수점의 위치를 표시하는 지수(指數)로 나누어 표시하는 자료형\n",
    "# -> 실수형 변수로 정의 , 32비트 저장 공간 ( double 64비트 공간)\n",
    "# 문자열 (str) : string 약자로 문자열, 문자열은 따옴표 사용 ,  예시: \"Hello, World!\", 'Python'\n",
    "# bool : boolean 식에 대하여 참과 거짓을 판단 ==>  논리값으로, True 또는 False를 가진다."
   ]
  },
  {
   "cell_type": "code",
   "execution_count": null,
   "id": "84b300b6",
   "metadata": {},
   "outputs": [],
   "source": [
    "# 컴퓨터에서 실수 표현 방식 : 0 과 1\n",
    "# 컴퓨터의 저장 용량 한계\n",
    "# 1) 고정소수점방식 : 소수점의 자리를 미리 정하여 , 고정된 자릿수의 소수를 표현하는 방식\n",
    "# 2) 부동 소수점 방식 : 하나의 실수를 가수부와 지수부로 나누어 표햔하는 방식"
   ]
  },
  {
   "cell_type": "markdown",
   "id": "9308f14d",
   "metadata": {},
   "source": [
    "## 데이터 타입 확인 방법"
   ]
  },
  {
   "cell_type": "code",
   "execution_count": 1,
   "id": "e2505960",
   "metadata": {},
   "outputs": [],
   "source": [
    "# type이라는 '내장함수' 사용\n",
    "# 내장함수(built-in)  : \"이미 있는 것을 다시 만드느라 시간을 낭비하지 말라.\"\n",
    "# 파이썬 내장함수는 파이썬 모듈과 달리 import가 필요하지 않기 때문에 아무런 설정 없이 바로 사용할 수 있다.\n",
    "# 내장함수 종류 \n",
    "#: abs(x) 어떤 숫자를 입력받았을 때 그 숫자의 절댓값을 리턴하는 함수 \n",
    "# dir( ) :  객체가 지닌 변수나 함수를 보여 주는 함수\n",
    "# len( ) : 입력값 s의 길이(요소의 전체 개수)를 리턴하는 함수\n",
    "# max( ) : 인수로 반복 가능한 데이터를 입력받아 그 최댓값을 리턴하는 함수\n",
    "# min( ) :  인수로 반복 가능한 데이터를 입력받아 그 최솟값을 리턴하는 함수\n",
    "# sum( ): 입력 데이터의 합을 리턴하는 함수\n",
    "# type( ) :  입력값의 자료형이 무엇인지 알려주는 함수"
   ]
  },
  {
   "cell_type": "code",
   "execution_count": 11,
   "id": "93f30fe8",
   "metadata": {},
   "outputs": [
    {
     "data": {
      "text/plain": [
       "10"
      ]
     },
     "execution_count": 11,
     "metadata": {},
     "output_type": "execute_result"
    }
   ],
   "source": [
    "abs(-10)"
   ]
  },
  {
   "cell_type": "code",
   "execution_count": 1,
   "id": "244584d0",
   "metadata": {},
   "outputs": [
    {
     "data": {
      "text/plain": [
       "int"
      ]
     },
     "execution_count": 1,
     "metadata": {},
     "output_type": "execute_result"
    }
   ],
   "source": [
    "# 정수의 사례\n",
    "type(100)"
   ]
  },
  {
   "cell_type": "code",
   "execution_count": 8,
   "id": "354d3053",
   "metadata": {},
   "outputs": [
    {
     "data": {
      "text/plain": [
       "str"
      ]
     },
     "execution_count": 8,
     "metadata": {},
     "output_type": "execute_result"
    }
   ],
   "source": [
    "type('안산대')"
   ]
  },
  {
   "cell_type": "code",
   "execution_count": 2,
   "id": "fda80de3",
   "metadata": {},
   "outputs": [
    {
     "data": {
      "text/plain": [
       "int"
      ]
     },
     "execution_count": 2,
     "metadata": {},
     "output_type": "execute_result"
    }
   ],
   "source": [
    "type(-100)"
   ]
  },
  {
   "cell_type": "code",
   "execution_count": 3,
   "id": "dd00abb3",
   "metadata": {},
   "outputs": [
    {
     "data": {
      "text/plain": [
       "float"
      ]
     },
     "execution_count": 3,
     "metadata": {},
     "output_type": "execute_result"
    }
   ],
   "source": [
    "# 부동 소수점 사례\n",
    "type(100.5)"
   ]
  },
  {
   "cell_type": "code",
   "execution_count": 4,
   "id": "1c7b3d14",
   "metadata": {},
   "outputs": [
    {
     "data": {
      "text/plain": [
       "float"
      ]
     },
     "execution_count": 4,
     "metadata": {},
     "output_type": "execute_result"
    }
   ],
   "source": [
    "type(100.54444)"
   ]
  },
  {
   "cell_type": "code",
   "execution_count": 5,
   "id": "96e54968",
   "metadata": {},
   "outputs": [
    {
     "data": {
      "text/plain": [
       "str"
      ]
     },
     "execution_count": 5,
     "metadata": {},
     "output_type": "execute_result"
    }
   ],
   "source": [
    "# 문자형 사례 ; 따옴표로 ('') , (\"\")  작은따옴표, 큰 따옴표 불문\n",
    "type(\"\")"
   ]
  },
  {
   "cell_type": "code",
   "execution_count": 1,
   "id": "9ab53d2b",
   "metadata": {},
   "outputs": [
    {
     "data": {
      "text/plain": [
       "str"
      ]
     },
     "execution_count": 1,
     "metadata": {},
     "output_type": "execute_result"
    }
   ],
   "source": [
    "type(\"경찰행정학과\")"
   ]
  },
  {
   "cell_type": "code",
   "execution_count": 8,
   "id": "27ef1c3d",
   "metadata": {},
   "outputs": [
    {
     "data": {
      "text/plain": [
       "str"
      ]
     },
     "execution_count": 8,
     "metadata": {},
     "output_type": "execute_result"
    }
   ],
   "source": [
    "type(\"police\")"
   ]
  },
  {
   "cell_type": "code",
   "execution_count": 13,
   "id": "5ab62444",
   "metadata": {},
   "outputs": [
    {
     "data": {
      "text/plain": [
       "str"
      ]
     },
     "execution_count": 13,
     "metadata": {},
     "output_type": "execute_result"
    }
   ],
   "source": [
    "#문자형을 변수로 설정 한 사례\n",
    "\n",
    "a = \"안산대학교 경찰행정학과\"\n",
    "type(a)"
   ]
  },
  {
   "cell_type": "code",
   "execution_count": 14,
   "id": "757d52b0",
   "metadata": {},
   "outputs": [
    {
     "data": {
      "text/plain": [
       "12"
      ]
     },
     "execution_count": 14,
     "metadata": {},
     "output_type": "execute_result"
    }
   ],
   "source": [
    "len(a)"
   ]
  },
  {
   "cell_type": "code",
   "execution_count": 4,
   "id": "f5a1b1ba",
   "metadata": {},
   "outputs": [],
   "source": [
    "b= \"안산대학교\""
   ]
  },
  {
   "cell_type": "code",
   "execution_count": 5,
   "id": "6247a53e",
   "metadata": {},
   "outputs": [
    {
     "data": {
      "text/plain": [
       "str"
      ]
     },
     "execution_count": 5,
     "metadata": {},
     "output_type": "execute_result"
    }
   ],
   "source": [
    "type(b)"
   ]
  },
  {
   "cell_type": "code",
   "execution_count": 6,
   "id": "6ce82cf9",
   "metadata": {},
   "outputs": [
    {
     "data": {
      "text/plain": [
       "'안산대학교 경찰행정학과'"
      ]
     },
     "execution_count": 6,
     "metadata": {},
     "output_type": "execute_result"
    }
   ],
   "source": [
    "a"
   ]
  },
  {
   "cell_type": "code",
   "execution_count": 7,
   "id": "ec6b234d",
   "metadata": {},
   "outputs": [
    {
     "data": {
      "text/plain": [
       "'안산대학교'"
      ]
     },
     "execution_count": 7,
     "metadata": {},
     "output_type": "execute_result"
    }
   ],
   "source": [
    "b"
   ]
  },
  {
   "cell_type": "code",
   "execution_count": 15,
   "id": "936dd76b",
   "metadata": {},
   "outputs": [
    {
     "data": {
      "text/plain": [
       "True"
      ]
     },
     "execution_count": 15,
     "metadata": {},
     "output_type": "execute_result"
    }
   ],
   "source": [
    "# boolean  식에 대하여 참과 거짓을 판단\n",
    "x=5>2\n",
    "x"
   ]
  },
  {
   "cell_type": "code",
   "execution_count": 16,
   "id": "1ae8258a",
   "metadata": {},
   "outputs": [
    {
     "data": {
      "text/plain": [
       "False"
      ]
     },
     "execution_count": 16,
     "metadata": {},
     "output_type": "execute_result"
    }
   ],
   "source": [
    "# # boolean  식에 대하여 참과 거짓을 판단\n",
    "y=5<2\n",
    "y"
   ]
  },
  {
   "cell_type": "code",
   "execution_count": 10,
   "id": "f3026873",
   "metadata": {},
   "outputs": [],
   "source": [
    "##문자열 따옴표를 출력하기¶\n",
    "#파이썬에서 두 가지 종류(큰, 작은)의  쓸 수 있는 것운 문자열이 따옴표를 포함하는 경우가 있기 때문이다. \n",
    "#만약 따옴표로 둘러싸인 문자열에 따옴표가 포함되어 있다면 파이썬은 그 부분에서 문자열이 끝난다고 인식하여 오류가 발생 \n",
    "# ==> 문자열 안에 따옴표는 필요한 경우 큰따옴표, 작은따옴표 따로 작성"
   ]
  },
  {
   "cell_type": "code",
   "execution_count": 11,
   "id": "d1c29cff",
   "metadata": {},
   "outputs": [
    {
     "name": "stdout",
     "output_type": "stream",
     "text": [
      "학교앞에서 누군가가  \"경찰행정학과 학생여러분! 화이팅하세요\" 라고 외치고 있었다\n"
     ]
    }
   ],
   "source": [
    "print('학교앞에서 누군가가  \"경찰행정학과 학생여러분! 화이팅하세요\" 라고 외치고 있었다')"
   ]
  },
  {
   "cell_type": "markdown",
   "id": "74debf24",
   "metadata": {},
   "source": [
    "## 문자열 치환"
   ]
  },
  {
   "cell_type": "code",
   "execution_count": 10,
   "id": "8077df70",
   "metadata": {},
   "outputs": [],
   "source": [
    "# 의미 : 문자열에서 특정 문자를 다른 문자로 바꾸려면 replace 메서드 사용"
   ]
  },
  {
   "cell_type": "code",
   "execution_count": 17,
   "id": "8a745747",
   "metadata": {},
   "outputs": [
    {
     "data": {
      "text/plain": [
       "'2024-09-06'"
      ]
     },
     "execution_count": 17,
     "metadata": {},
     "output_type": "execute_result"
    }
   ],
   "source": [
    "\"2024.09.06\".replace(\".\", \"-\")"
   ]
  },
  {
   "cell_type": "code",
   "execution_count": 18,
   "id": "3647053e",
   "metadata": {},
   "outputs": [
    {
     "data": {
      "text/plain": [
       "'2024/09/06'"
      ]
     },
     "execution_count": 18,
     "metadata": {},
     "output_type": "execute_result"
    }
   ],
   "source": [
    "\"2024.09.06\".replace(\".\", \"/\")"
   ]
  },
  {
   "cell_type": "markdown",
   "id": "e49587ba",
   "metadata": {},
   "source": [
    "## 문자열의 길이 확인"
   ]
  },
  {
   "cell_type": "code",
   "execution_count": 20,
   "id": "866773f4",
   "metadata": {},
   "outputs": [
    {
     "data": {
      "text/plain": [
       "'seoul'"
      ]
     },
     "execution_count": 20,
     "metadata": {},
     "output_type": "execute_result"
    }
   ],
   "source": [
    "abc=\"seoul\"\n",
    "abc"
   ]
  },
  {
   "cell_type": "code",
   "execution_count": 21,
   "id": "975c2dc4",
   "metadata": {},
   "outputs": [
    {
     "name": "stdout",
     "output_type": "stream",
     "text": [
      "seoul\n"
     ]
    }
   ],
   "source": [
    "print(abc)"
   ]
  },
  {
   "cell_type": "code",
   "execution_count": 3,
   "id": "ee38f9b2",
   "metadata": {},
   "outputs": [
    {
     "data": {
      "text/plain": [
       "5"
      ]
     },
     "execution_count": 3,
     "metadata": {},
     "output_type": "execute_result"
    }
   ],
   "source": [
    "len(abc)"
   ]
  },
  {
   "cell_type": "code",
   "execution_count": 29,
   "id": "523e8bf2",
   "metadata": {},
   "outputs": [],
   "source": [
    "# len : 길이 확인\n",
    "abcd=\"안산대학교 경찰행정학과\"\n"
   ]
  },
  {
   "cell_type": "code",
   "execution_count": 31,
   "id": "0ded3a1b",
   "metadata": {},
   "outputs": [
    {
     "name": "stdout",
     "output_type": "stream",
     "text": [
      "안산대학교 경찰행정학과\n"
     ]
    }
   ],
   "source": [
    "print(abcd)"
   ]
  },
  {
   "cell_type": "code",
   "execution_count": 32,
   "id": "ee3c8fc8",
   "metadata": {},
   "outputs": [
    {
     "data": {
      "text/plain": [
       "12"
      ]
     },
     "execution_count": 32,
     "metadata": {},
     "output_type": "execute_result"
    }
   ],
   "source": [
    "len(abcd)"
   ]
  },
  {
   "cell_type": "code",
   "execution_count": 7,
   "id": "7dec4f4d",
   "metadata": {},
   "outputs": [],
   "source": [
    "# len : 길이 확인시 띠어쓰기를 인식한다.\n",
    "\n",
    "loc1=\"안산대학교 경찰행정학과\""
   ]
  },
  {
   "cell_type": "code",
   "execution_count": 8,
   "id": "82930cea",
   "metadata": {},
   "outputs": [
    {
     "data": {
      "text/plain": [
       "'안산대학교 경찰행정학과'"
      ]
     },
     "execution_count": 8,
     "metadata": {},
     "output_type": "execute_result"
    }
   ],
   "source": [
    "loc1"
   ]
  },
  {
   "cell_type": "code",
   "execution_count": 9,
   "id": "de8a83a8",
   "metadata": {},
   "outputs": [
    {
     "data": {
      "text/plain": [
       "12"
      ]
     },
     "execution_count": 9,
     "metadata": {},
     "output_type": "execute_result"
    }
   ],
   "source": [
    "len(loc1)"
   ]
  },
  {
   "cell_type": "markdown",
   "id": "6895d97d",
   "metadata": {},
   "source": [
    "## 문자 중 인덱스 찾기"
   ]
  },
  {
   "cell_type": "code",
   "execution_count": 12,
   "id": "6ead82de",
   "metadata": {},
   "outputs": [],
   "source": [
    "## 변수명 다음에 대괄호[ ] -> 대괄호 안에 확인할 인덱스 기입\n",
    "# 인덱스는 0 부터 시작을 주의 할 것"
   ]
  },
  {
   "cell_type": "code",
   "execution_count": 33,
   "id": "85e6047a",
   "metadata": {},
   "outputs": [
    {
     "data": {
      "text/plain": [
       "'s'"
      ]
     },
     "execution_count": 33,
     "metadata": {},
     "output_type": "execute_result"
    }
   ],
   "source": [
    "loc=\"soeul\" \n",
    "loc[0]"
   ]
  },
  {
   "cell_type": "code",
   "execution_count": 37,
   "id": "f14215ec",
   "metadata": {},
   "outputs": [
    {
     "data": {
      "text/plain": [
       "'l'"
      ]
     },
     "execution_count": 37,
     "metadata": {},
     "output_type": "execute_result"
    }
   ],
   "source": [
    "loc=\"soeul\" \n",
    "loc[4]"
   ]
  },
  {
   "cell_type": "markdown",
   "id": "55972d91",
   "metadata": {},
   "source": [
    "## 문자 중 일부 잘라내기(slice)"
   ]
  },
  {
   "cell_type": "code",
   "execution_count": null,
   "id": "df0aa38f",
   "metadata": {},
   "outputs": [],
   "source": [
    "## slice[:] \n",
    "# : 숫자사이에 있는 경우는 구간으로 이해"
   ]
  },
  {
   "cell_type": "code",
   "execution_count": 40,
   "id": "2b79a1b9",
   "metadata": {},
   "outputs": [
    {
     "data": {
      "text/plain": [
       "'seou'"
      ]
     },
     "execution_count": 40,
     "metadata": {},
     "output_type": "execute_result"
    }
   ],
   "source": [
    "loc=\"seoul\" \n",
    "loc[0:4]  # 처음(인뎃스 0) 부터 인덱스 4 전까지를 반환한다."
   ]
  },
  {
   "cell_type": "code",
   "execution_count": 41,
   "id": "e4a3033f",
   "metadata": {},
   "outputs": [
    {
     "data": {
      "text/plain": [
       "'eou'"
      ]
     },
     "execution_count": 41,
     "metadata": {},
     "output_type": "execute_result"
    }
   ],
   "source": [
    "loc=\"seoul\" \n",
    "loc[1:4] # 인덱스 1부터 4 전까지 를 반환한다."
   ]
  },
  {
   "cell_type": "code",
   "execution_count": 42,
   "id": "a87cf915",
   "metadata": {},
   "outputs": [
    {
     "data": {
      "text/plain": [
       "'안산대학교'"
      ]
     },
     "execution_count": 42,
     "metadata": {},
     "output_type": "execute_result"
    }
   ],
   "source": [
    "loc1=\"안산대학교 경찰행정학과\"\n",
    "loc1[0:5]"
   ]
  },
  {
   "cell_type": "code",
   "execution_count": 43,
   "id": "17775f18",
   "metadata": {},
   "outputs": [
    {
     "data": {
      "text/plain": [
       "'eoul'"
      ]
     },
     "execution_count": 43,
     "metadata": {},
     "output_type": "execute_result"
    }
   ],
   "source": [
    "## slice[:] \n",
    "# : 숫자 다음에 있는 경우는 해당 인덱스 부터 출력\n",
    "loc=\"seoul\"\n",
    "loc[1:]"
   ]
  },
  {
   "cell_type": "markdown",
   "id": "0072ae9b",
   "metadata": {},
   "source": [
    "#  파이썬 연속 데이터 구조"
   ]
  },
  {
   "cell_type": "code",
   "execution_count": 23,
   "id": "b6640383",
   "metadata": {},
   "outputs": [],
   "source": [
    "# 연속데이터 구조 : 데이터가 여러 개 있을 때 효과적으로 관리하는 데 사용되는 자료구조\n",
    "# 대표적으로 가장 많이 사용되는 리스트(list), 튜플(tuple), 사전(dict), 집합(set)"
   ]
  },
  {
   "cell_type": "markdown",
   "id": "d8bac7ff",
   "metadata": {},
   "source": [
    "####리스트(list), 튜플(tuple), 사전(dict), 집합(set)"
   ]
  },
  {
   "cell_type": "markdown",
   "id": "19b08565",
   "metadata": {},
   "source": [
    "## 리스트(List)"
   ]
  },
  {
   "cell_type": "code",
   "execution_count": 24,
   "id": "6ee9c594",
   "metadata": {},
   "outputs": [],
   "source": [
    "# 리스트: 순서가 있는 변경 가능한 시퀀스 데이터 타입을 말한다.\n",
    "# 파이썬에서 변수가 어떤 값을 바인딩(binding)하고 있는 경우\n",
    "# 바인딩(binding) :  프로그램에 사용된 구성 요소의 실제 값 또는 프로퍼티를 결정짓는 행위를 의미한다.\n",
    "# 프롬프트 상에서 변수명을 입력한 후 엔터 키를 누르면 해당 변수가 가리키는 값이 반환한다."
   ]
  },
  {
   "cell_type": "code",
   "execution_count": 44,
   "id": "9772d595",
   "metadata": {},
   "outputs": [
    {
     "data": {
      "text/plain": [
       "'살인'"
      ]
     },
     "execution_count": 44,
     "metadata": {},
     "output_type": "execute_result"
    }
   ],
   "source": [
    "a= \"살인\"\n",
    "a"
   ]
  },
  {
   "cell_type": "code",
   "execution_count": 45,
   "id": "90314ec0",
   "metadata": {},
   "outputs": [
    {
     "data": {
      "text/plain": [
       "'강도'"
      ]
     },
     "execution_count": 45,
     "metadata": {},
     "output_type": "execute_result"
    }
   ],
   "source": [
    "b= \"강도\"\n",
    "b"
   ]
  },
  {
   "cell_type": "code",
   "execution_count": 46,
   "id": "1071e894",
   "metadata": {},
   "outputs": [
    {
     "data": {
      "text/plain": [
       "'절도'"
      ]
     },
     "execution_count": 46,
     "metadata": {},
     "output_type": "execute_result"
    }
   ],
   "source": [
    "c= \"절도\"\n",
    "c"
   ]
  },
  {
   "cell_type": "markdown",
   "id": "432fd3ee",
   "metadata": {},
   "source": [
    "### 리스트"
   ]
  },
  {
   "cell_type": "code",
   "execution_count": 28,
   "id": "af0d447f",
   "metadata": {},
   "outputs": [],
   "source": [
    "# 파이썬에서는 리스트(list) 이용하면 여러 데이터를 한 번에 저장 가능--> 변수명을 여러 개 사용할 필요가 없다.\n",
    "# 여러 데이터를 리스트에 담으려면 대괄호'[]' 사이에 데이터를 쉼표로 구분해서 넣으면 됨.\n",
    "\n",
    "# 리스트 :  대괄호'[] 로 요소를 기입한다.  튜플 : 소괄호() , 디셔너리 : 중괄호{}\n",
    "\n",
    "# 요소(element) : list 를 이루는 값을 말한다.\n",
    "# 인덱스(index) : 오소들의 순서에 따른 번호 --> 시작은 0 부터 !!!!!"
   ]
  },
  {
   "cell_type": "code",
   "execution_count": 52,
   "id": "5a341f6e",
   "metadata": {},
   "outputs": [],
   "source": [
    "crime = [\"살인\", \"강도\", \"절도\"]"
   ]
  },
  {
   "cell_type": "code",
   "execution_count": 53,
   "id": "c4ead9f2",
   "metadata": {},
   "outputs": [
    {
     "data": {
      "text/plain": [
       "['살인', '강도', '절도']"
      ]
     },
     "execution_count": 53,
     "metadata": {},
     "output_type": "execute_result"
    }
   ],
   "source": [
    "crime"
   ]
  },
  {
   "cell_type": "code",
   "execution_count": 54,
   "id": "f7b850aa",
   "metadata": {},
   "outputs": [
    {
     "data": {
      "text/plain": [
       "list"
      ]
     },
     "execution_count": 54,
     "metadata": {},
     "output_type": "execute_result"
    }
   ],
   "source": [
    "type(crime)"
   ]
  },
  {
   "cell_type": "code",
   "execution_count": 22,
   "id": "21aa9fca",
   "metadata": {},
   "outputs": [],
   "source": [
    "# 인덱싱으로 원하는 데이터 만 가죠오기\n",
    "# [0], [1], [2]라는 인덱스 값을 통해 리스트에 있는 원하는 데이터를 언을 수 있음"
   ]
  },
  {
   "cell_type": "code",
   "execution_count": 55,
   "id": "9c0bb66b",
   "metadata": {},
   "outputs": [
    {
     "data": {
      "text/plain": [
       "'살인'"
      ]
     },
     "execution_count": 55,
     "metadata": {},
     "output_type": "execute_result"
    }
   ],
   "source": [
    "crime[0]"
   ]
  },
  {
   "cell_type": "code",
   "execution_count": 58,
   "id": "0a870b50",
   "metadata": {},
   "outputs": [
    {
     "data": {
      "text/plain": [
       "'절도'"
      ]
     },
     "execution_count": 58,
     "metadata": {},
     "output_type": "execute_result"
    }
   ],
   "source": [
    "crime[2]"
   ]
  },
  {
   "cell_type": "code",
   "execution_count": 25,
   "id": "4fb2c23e",
   "metadata": {},
   "outputs": [],
   "source": [
    "# append : 데이터를 추가하기"
   ]
  },
  {
   "cell_type": "code",
   "execution_count": 62,
   "id": "b278f85f",
   "metadata": {},
   "outputs": [
    {
     "data": {
      "text/plain": [
       "['살인', '강도', '절도', '사기']"
      ]
     },
     "execution_count": 62,
     "metadata": {},
     "output_type": "execute_result"
    }
   ],
   "source": [
    "crime = [\"살인\", \"강도\", \"절도\"]\n",
    "crime.append(\"사기\")\n",
    "crime"
   ]
  },
  {
   "cell_type": "code",
   "execution_count": 63,
   "id": "b223fe7b",
   "metadata": {},
   "outputs": [
    {
     "data": {
      "text/plain": [
       "['살인', '강도', '사기']"
      ]
     },
     "execution_count": 63,
     "metadata": {},
     "output_type": "execute_result"
    }
   ],
   "source": [
    "# 원소를 삭제하기 : del\n",
    "del crime [2] \n",
    "crime "
   ]
  },
  {
   "cell_type": "code",
   "execution_count": 64,
   "id": "5193817f",
   "metadata": {},
   "outputs": [
    {
     "name": "stdout",
     "output_type": "stream",
     "text": [
      "['one', 'two', 'three', 'four', 'five']\n"
     ]
    }
   ],
   "source": [
    "## 리스트값에 추가 :  append( ) 마지막에 추가 됨.\n",
    "number=['one','two','three','four'] \n",
    "number.append('five') \n",
    "print(number)\n"
   ]
  },
  {
   "cell_type": "code",
   "execution_count": 65,
   "id": "20b3bb76",
   "metadata": {},
   "outputs": [
    {
     "name": "stdout",
     "output_type": "stream",
     "text": [
      "['one', 'two', 'four']\n"
     ]
    }
   ],
   "source": [
    "## 리스트값 중 일부 삭제 del \n",
    "number=['one','two','three','four'] \n",
    "del number[2] \n",
    "print(number)"
   ]
  },
  {
   "cell_type": "code",
   "execution_count": 68,
   "id": "d9c7472d",
   "metadata": {},
   "outputs": [
    {
     "name": "stdout",
     "output_type": "stream",
     "text": [
      "['one', 'two', 'three', 'four', 'six', 'seven', 'eight', 'nine']\n"
     ]
    }
   ],
   "source": [
    "## 2개의 리스트를 병합하는 경우 extend( ) \n",
    "number1=['one','two','three','four'] \n",
    "number2=['six','seven','eight','nine'] \n",
    "number1.extend(number2) \n",
    "print(number1)"
   ]
  },
  {
   "cell_type": "code",
   "execution_count": 69,
   "id": "db05bb89",
   "metadata": {},
   "outputs": [
    {
     "name": "stdout",
     "output_type": "stream",
     "text": [
      "['six', 'seven', 'eight', 'nine', 'one', 'two', 'three', 'four']\n"
     ]
    }
   ],
   "source": [
    "## 2개의 리스트를 병합하는 경우.순서가 반대 extend( ) \n",
    "number1=['one','two','three','four']\n",
    "number2=['six','seven','eight','nine'] \n",
    "number2.extend(number1) \n",
    "print(number2)"
   ]
  },
  {
   "cell_type": "code",
   "execution_count": 32,
   "id": "845bac2e",
   "metadata": {},
   "outputs": [
    {
     "name": "stdout",
     "output_type": "stream",
     "text": [
      "['one', 'two', 'three', 'four', 'six', 'seven', 'eight', 'nine', 'one', 'two', 'three', 'four']\n"
     ]
    }
   ],
   "source": [
    "number1.extend(number2) \n",
    "print(number1)"
   ]
  },
  {
   "cell_type": "code",
   "execution_count": 70,
   "id": "8599401c",
   "metadata": {},
   "outputs": [
    {
     "name": "stdout",
     "output_type": "stream",
     "text": [
      "['four', 'one', 'three', 'two']\n"
     ]
    }
   ],
   "source": [
    "## 정렬하기 sort( ) 는 알파벳순서로 정렬하기 \n",
    "number=['one','two','three','four'] \n",
    "number.sort() \n",
    "print(number)"
   ]
  },
  {
   "cell_type": "code",
   "execution_count": 71,
   "id": "e80893e5",
   "metadata": {},
   "outputs": [
    {
     "name": "stdout",
     "output_type": "stream",
     "text": [
      "['four', 'one', 'three', 'two']\n"
     ]
    }
   ],
   "source": [
    "## 정렬하기 sorted( ) \n",
    "number=['one','two','three','four'] \n",
    "newnumber=sorted(number) \n",
    "print(newnumber)"
   ]
  },
  {
   "cell_type": "code",
   "execution_count": 72,
   "id": "c092970c",
   "metadata": {},
   "outputs": [
    {
     "name": "stdout",
     "output_type": "stream",
     "text": [
      "['four', 'one', 'three', 'two']\n",
      "['one', 'two', 'three', 'four']\n"
     ]
    }
   ],
   "source": [
    "## 정렬하기 sorted( ) \n",
    "number=['one','two','three','four'] \n",
    "newnumber=sorted(number) \n",
    "print(newnumber) \n",
    "print(number)"
   ]
  },
  {
   "cell_type": "code",
   "execution_count": 73,
   "id": "d73a4af6",
   "metadata": {},
   "outputs": [
    {
     "name": "stdout",
     "output_type": "stream",
     "text": [
      "[4, 3, 2, 1]\n"
     ]
    }
   ],
   "source": [
    "## sort(reverse=True) \n",
    "number=[1,2,3,4] \n",
    "number.sort(reverse=True) \n",
    "print(number)\n"
   ]
  },
  {
   "cell_type": "code",
   "execution_count": 75,
   "id": "1f818a2c",
   "metadata": {},
   "outputs": [
    {
     "data": {
      "text/plain": [
       "4"
      ]
     },
     "execution_count": 75,
     "metadata": {},
     "output_type": "execute_result"
    }
   ],
   "source": [
    "##리스트 항목개수 확인  len( ) \n",
    "number1=['one','two','three','four'] \n",
    "len(number1)\n"
   ]
  },
  {
   "cell_type": "code",
   "execution_count": null,
   "id": "0c1050b1",
   "metadata": {},
   "outputs": [],
   "source": []
  },
  {
   "cell_type": "markdown",
   "id": "050e4e42",
   "metadata": {},
   "source": [
    "###  list 데이터 구조 활용"
   ]
  },
  {
   "cell_type": "code",
   "execution_count": 38,
   "id": "4e89db12",
   "metadata": {},
   "outputs": [],
   "source": [
    "# 리스트는 언제 활용? :  여러 개의 데이터를 ‘순서대로’ 저장하고 이를 관리해야 하는 경우"
   ]
  },
  {
   "cell_type": "code",
   "execution_count": 79,
   "id": "60c97d04",
   "metadata": {},
   "outputs": [
    {
     "data": {
      "text/plain": [
       "56200"
      ]
     },
     "execution_count": 79,
     "metadata": {},
     "output_type": "execute_result"
    }
   ],
   "source": [
    "# 변수명 설정 --> 대괄호 --> 원소들을 기입한다.(원소 사이에는 쉽표로 표시한다.)\n",
    "crime2 = [54100, 55000, 56200, 56900, 57000]\n",
    "crime2[2]"
   ]
  },
  {
   "cell_type": "code",
   "execution_count": 80,
   "id": "e1d459e0",
   "metadata": {},
   "outputs": [
    {
     "name": "stdout",
     "output_type": "stream",
     "text": [
      "[54100, 55000, 56200, 56900, 57000]\n"
     ]
    }
   ],
   "source": [
    "print(crime2)"
   ]
  },
  {
   "cell_type": "code",
   "execution_count": 82,
   "id": "fd75d68d",
   "metadata": {},
   "outputs": [
    {
     "data": {
      "text/plain": [
       "279200"
      ]
     },
     "execution_count": 82,
     "metadata": {},
     "output_type": "execute_result"
    }
   ],
   "source": [
    "sum(crime2)"
   ]
  },
  {
   "cell_type": "code",
   "execution_count": 81,
   "id": "5a7e1cba",
   "metadata": {},
   "outputs": [
    {
     "name": "stdout",
     "output_type": "stream",
     "text": [
      "279200\n"
     ]
    }
   ],
   "source": [
    "# 리스트 안에있는 값들의 합(sum)을 계산\n",
    "# 변수명 설정 --> sum-> 괄호안에 합을 계산하고자하는 변수명 입력\n",
    "result = sum(crime2)\n",
    "print(result)"
   ]
  },
  {
   "cell_type": "code",
   "execution_count": 83,
   "id": "908422c5",
   "metadata": {},
   "outputs": [
    {
     "data": {
      "text/plain": [
       "279200"
      ]
     },
     "execution_count": 83,
     "metadata": {},
     "output_type": "execute_result"
    }
   ],
   "source": [
    "# 변수명은 임의로 설정 \n",
    "crime3=sum(crime2)\n",
    "crime3"
   ]
  },
  {
   "cell_type": "markdown",
   "id": "2584a4be",
   "metadata": {},
   "source": [
    "### 통계 기초 "
   ]
  },
  {
   "cell_type": "code",
   "execution_count": 43,
   "id": "c0d5702c",
   "metadata": {},
   "outputs": [],
   "source": [
    "# 중심경향치(central tendency measures)?\n",
    "# 자료의 중심을 나타내는 숫자\n",
    "# 자료 전체를 대표\n",
    "# 평균, 중간값, 최빈값 등"
   ]
  },
  {
   "cell_type": "markdown",
   "id": "bdcf9569",
   "metadata": {},
   "source": [
    "#### 중심경향치 "
   ]
  },
  {
   "cell_type": "markdown",
   "id": "edc7b4e8",
   "metadata": {},
   "source": [
    "##### 1)리스트 데이터 평균 (mean)"
   ]
  },
  {
   "cell_type": "code",
   "execution_count": 86,
   "id": "87e90d3c",
   "metadata": {},
   "outputs": [
    {
     "data": {
      "text/plain": [
       "np.float64(577.7777777777778)"
      ]
     },
     "execution_count": 86,
     "metadata": {},
     "output_type": "execute_result"
    }
   ],
   "source": [
    "# numpy 라이브러리를 이용\n",
    "# Numarray와 Numeric이라는 Python 패키지를 계승해서 나온 수학 및 과학 연산을 위한 파이썬 패키지\n",
    "# Numerical Python의 줄임말\n",
    "import numpy\n",
    "\n",
    "# 아래 리스트 데이터 : 리스트데이터는 대괄호로 , 변수 설정(데이터를 담다)\n",
    "\n",
    "# 평균 : mean\n",
    "\n",
    "b = [100, 200, 400, 500,600,700,800,900,1000]\n",
    "numpy.mean(b)"
   ]
  },
  {
   "cell_type": "code",
   "execution_count": 87,
   "id": "7df5a9d2",
   "metadata": {},
   "outputs": [
    {
     "data": {
      "text/plain": [
       "np.float64(577.7777777777778)"
      ]
     },
     "execution_count": 87,
     "metadata": {},
     "output_type": "execute_result"
    }
   ],
   "source": [
    "# 만약 , 라이브러리를 별칭(alias)으로 호춣한 경우\n",
    "import numpy as np\n",
    "b = [100, 200, 400, 500,600,700,800,900,1000]\n",
    "np.mean(b)"
   ]
  },
  {
   "cell_type": "code",
   "execution_count": 88,
   "id": "28501f39",
   "metadata": {},
   "outputs": [
    {
     "data": {
      "text/plain": [
       "np.float64(1000520.0)"
      ]
     },
     "execution_count": 88,
     "metadata": {},
     "output_type": "execute_result"
    }
   ],
   "source": [
    "# 이상치 영향\n",
    "# 데이터 전처리 과정 (데이터 탐색과정:EDA) 에서 반드시 체크해야 함.\n",
    "# numpy.mean(변수명)으로 계산 가능\n",
    "\n",
    "b_1 = [100, 200, 400, 500,600,700,800,900,1000, 10000000]\n",
    "np.mean(b_1)"
   ]
  },
  {
   "cell_type": "markdown",
   "id": "6688d1b8",
   "metadata": {},
   "source": [
    "##### 2) 리스트 데이터 중앙값 (median 중간값)"
   ]
  },
  {
   "cell_type": "code",
   "execution_count": 47,
   "id": "e706dfdb",
   "metadata": {},
   "outputs": [],
   "source": [
    "# 중간값(median): 자료를 크기 순으로 정렬했을 때 정 가운데에 있는 값\n",
    "# '중앙값' 또는 '중위수'\n",
    "# numpy.median(변수명)으로 계산 가능\n",
    "# 서열척도/등간척도/비율척도에서 쓸 수 있다. 명명척도 사용 불가"
   ]
  },
  {
   "cell_type": "code",
   "execution_count": 89,
   "id": "cfe583cc",
   "metadata": {},
   "outputs": [
    {
     "data": {
      "text/plain": [
       "np.float64(5.5)"
      ]
     },
     "execution_count": 89,
     "metadata": {},
     "output_type": "execute_result"
    }
   ],
   "source": [
    "# 인자 숫자가 짝수인 경우\n",
    "\n",
    "c=[1,2,3,4,5,6,7,8,9,10]\n",
    "np.median(c)"
   ]
  },
  {
   "cell_type": "code",
   "execution_count": 90,
   "id": "da783af5",
   "metadata": {},
   "outputs": [
    {
     "data": {
      "text/plain": [
       "np.float64(6.0)"
      ]
     },
     "execution_count": 90,
     "metadata": {},
     "output_type": "execute_result"
    }
   ],
   "source": [
    "# 인자 숫자가 홀수인 경우\n",
    "\n",
    "c=[1,2,3,4,5,6,7,8,9,10,11]\n",
    "np.median(c)"
   ]
  },
  {
   "cell_type": "code",
   "execution_count": 50,
   "id": "5bec8f77",
   "metadata": {},
   "outputs": [
    {
     "data": {
      "text/plain": [
       "np.float64(6.0)"
      ]
     },
     "execution_count": 50,
     "metadata": {},
     "output_type": "execute_result"
    }
   ],
   "source": [
    "# 이상치 영향이 평균 값보다 적게 받는다.\n",
    "\n",
    "c_1=[1,2,3,4,5,6,7,8,9,10,100Q0]\n",
    "numpy.median(c_1)"
   ]
  },
  {
   "cell_type": "markdown",
   "id": "98f9eb23",
   "metadata": {},
   "source": [
    "##### 3) 최빈값 (mode)"
   ]
  },
  {
   "cell_type": "code",
   "execution_count": 51,
   "id": "0c6c0bc5",
   "metadata": {},
   "outputs": [],
   "source": [
    "# 최빈값(mode): 가장 빈번하게 관찰/측정되는 값"
   ]
  },
  {
   "cell_type": "code",
   "execution_count": 52,
   "id": "0f6f5562",
   "metadata": {},
   "outputs": [
    {
     "ename": "AttributeError",
     "evalue": "module 'numpy' has no attribute 'mode'",
     "output_type": "error",
     "traceback": [
      "\u001b[1;31m---------------------------------------------------------------------------\u001b[0m",
      "\u001b[1;31mAttributeError\u001b[0m                            Traceback (most recent call last)",
      "\u001b[1;32m~\\AppData\\Local\\Temp/ipykernel_21076/203619838.py\u001b[0m in \u001b[0;36m<module>\u001b[1;34m\u001b[0m\n\u001b[0;32m      1\u001b[0m \u001b[0md\u001b[0m\u001b[1;33m=\u001b[0m\u001b[1;33m[\u001b[0m\u001b[1;36m1\u001b[0m\u001b[1;33m,\u001b[0m\u001b[1;36m2\u001b[0m\u001b[1;33m,\u001b[0m\u001b[1;36m2\u001b[0m\u001b[1;33m,\u001b[0m\u001b[1;36m3\u001b[0m\u001b[1;33m,\u001b[0m\u001b[1;36m5\u001b[0m\u001b[1;33m,\u001b[0m\u001b[1;36m5\u001b[0m\u001b[1;33m,\u001b[0m\u001b[1;36m5\u001b[0m\u001b[1;33m,\u001b[0m\u001b[1;36m5\u001b[0m\u001b[1;33m,\u001b[0m\u001b[1;36m10\u001b[0m\u001b[1;33m,\u001b[0m\u001b[1;36m1000\u001b[0m\u001b[1;33m]\u001b[0m\u001b[1;33m\u001b[0m\u001b[1;33m\u001b[0m\u001b[0m\n\u001b[1;32m----> 2\u001b[1;33m \u001b[0mnumpy\u001b[0m\u001b[1;33m.\u001b[0m\u001b[0mmode\u001b[0m\u001b[1;33m(\u001b[0m\u001b[0md\u001b[0m\u001b[1;33m)\u001b[0m\u001b[1;33m\u001b[0m\u001b[1;33m\u001b[0m\u001b[0m\n\u001b[0m",
      "\u001b[1;32mc:\\users\\jyb\\appdata\\local\\programs\\python\\python39\\lib\\site-packages\\numpy\\__init__.py\u001b[0m in \u001b[0;36m__getattr__\u001b[1;34m(attr)\u001b[0m\n\u001b[0;32m    437\u001b[0m             \u001b[1;32mreturn\u001b[0m \u001b[0mchar\u001b[0m\u001b[1;33m.\u001b[0m\u001b[0mchararray\u001b[0m\u001b[1;33m\u001b[0m\u001b[1;33m\u001b[0m\u001b[0m\n\u001b[0;32m    438\u001b[0m \u001b[1;33m\u001b[0m\u001b[0m\n\u001b[1;32m--> 439\u001b[1;33m         raise AttributeError(\"module {!r} has no attribute \"\n\u001b[0m\u001b[0;32m    440\u001b[0m                              \"{!r}\".format(__name__, attr))\n\u001b[0;32m    441\u001b[0m \u001b[1;33m\u001b[0m\u001b[0m\n",
      "\u001b[1;31mAttributeError\u001b[0m: module 'numpy' has no attribute 'mode'"
     ]
    }
   ],
   "source": [
    "d=[1,2,2,3,5,5,5,5,10,1000]\n",
    "numpy.mode(d)"
   ]
  },
  {
   "cell_type": "code",
   "execution_count": 54,
   "id": "2eeef8a8",
   "metadata": {},
   "outputs": [
    {
     "data": {
      "text/plain": [
       "ModeResult(mode=np.int64(5), count=np.int64(4))"
      ]
     },
     "execution_count": 54,
     "metadata": {},
     "output_type": "execute_result"
    }
   ],
   "source": [
    "# 사이파이(SciPy): 수치해석기능을 제공하는 파이썬 패키지\n",
    "# 여러 서브패키지로 구성\n",
    "# stats 서브패키지 :  확률분포 분석을 위한 다양한 기능을 제공\n",
    "from scipy.stats import mode\n",
    "\n",
    "d=[1,2,2,3,5,5,5,5,10,1000]\n",
    "mode(d)"
   ]
  },
  {
   "cell_type": "code",
   "execution_count": 55,
   "id": "16ff384b",
   "metadata": {},
   "outputs": [
    {
     "data": {
      "text/plain": [
       "ModeResult(mode=np.int64(7), count=np.int64(6))"
      ]
     },
     "execution_count": 55,
     "metadata": {},
     "output_type": "execute_result"
    }
   ],
   "source": [
    "e=[1,2,2,3,4,4,4,4,7,7,7,7,7,7,10,1000]\n",
    "mode(e)"
   ]
  },
  {
   "cell_type": "markdown",
   "id": "5dc3ac0d",
   "metadata": {},
   "source": [
    "#### 분산도 "
   ]
  },
  {
   "cell_type": "code",
   "execution_count": 56,
   "id": "8122d19c",
   "metadata": {},
   "outputs": [],
   "source": [
    "# 분산도 의미 : 데이터가 흩어져 있는 정도\n",
    "# 범위, 분산(표준편차), 사분위간 범위"
   ]
  },
  {
   "cell_type": "markdown",
   "id": "13aa5228",
   "metadata": {},
   "source": [
    "##### 1) 범위 (range)"
   ]
  },
  {
   "cell_type": "code",
   "execution_count": 57,
   "id": "7f09634b",
   "metadata": {},
   "outputs": [],
   "source": [
    "# 대상 데티어의  최대값과 최소값 사이의 거리\n",
    "# 범위 계산 = 최댓값 - 최솟값"
   ]
  },
  {
   "cell_type": "code",
   "execution_count": 91,
   "id": "0156fe0e",
   "metadata": {},
   "outputs": [
    {
     "data": {
      "text/plain": [
       "np.int64(900)"
      ]
     },
     "execution_count": 91,
     "metadata": {},
     "output_type": "execute_result"
    }
   ],
   "source": [
    "b = [100, 200, 400, 500,600,700,800,900,1000]\n",
    "\n",
    "import numpy as np\n",
    "\n",
    "# 범위 계산 : 최대값에서 최소값을 차감하여 계산'\n",
    "#최댓값:\n",
    "np.max(b)\n",
    "# 최소값\n",
    "np.min(b)\n",
    "\n",
    "# 범위:\n",
    "np.max(b) - np.min(b)"
   ]
  },
  {
   "cell_type": "markdown",
   "id": "efcdc8a8",
   "metadata": {},
   "source": [
    "##### 2) 분산 "
   ]
  },
  {
   "cell_type": "code",
   "execution_count": 59,
   "id": "07411104",
   "metadata": {},
   "outputs": [],
   "source": [
    "# 평균에서 데이터가 벗어난 정도를 수치화한 값 ==> 데이터의 분포를 정규분포 가정\n",
    "# 계산 : 편차의 제곱 합에 대한 평균 개념"
   ]
  },
  {
   "cell_type": "code",
   "execution_count": 92,
   "id": "cb5b65fd",
   "metadata": {},
   "outputs": [
    {
     "data": {
      "text/plain": [
       "np.float64(83950.61728395062)"
      ]
     },
     "execution_count": 92,
     "metadata": {},
     "output_type": "execute_result"
    }
   ],
   "source": [
    "# 분산값 확인 : var (Variance :분산)\n",
    "np.var(b)"
   ]
  },
  {
   "cell_type": "markdown",
   "id": "f4be93f3",
   "metadata": {},
   "source": [
    "##### 3) 표준편차 "
   ]
  },
  {
   "cell_type": "code",
   "execution_count": 61,
   "id": "718a0a81",
   "metadata": {},
   "outputs": [],
   "source": [
    "# 분산값을 제곱근한 값이 표준편차 (standard deviation)\n",
    "# np.std(변수명)"
   ]
  },
  {
   "cell_type": "code",
   "execution_count": 62,
   "id": "0db21d77",
   "metadata": {},
   "outputs": [
    {
     "data": {
      "text/plain": [
       "np.float64(289.74232912011774)"
      ]
     },
     "execution_count": 62,
     "metadata": {},
     "output_type": "execute_result"
    }
   ],
   "source": [
    "# 표준편차 확인\n",
    "np.std(b)"
   ]
  },
  {
   "cell_type": "code",
   "execution_count": 93,
   "id": "ace7e700",
   "metadata": {},
   "outputs": [
    {
     "data": {
      "text/plain": [
       "np.float64(289.74232912011774)"
      ]
     },
     "execution_count": 93,
     "metadata": {},
     "output_type": "execute_result"
    }
   ],
   "source": [
    "# 표준편차는 분산의 제곱근하여도 무방\n",
    "\n",
    "numpy.sqrt(numpy.var(b))"
   ]
  },
  {
   "cell_type": "markdown",
   "id": "4216b460",
   "metadata": {},
   "source": [
    "##### 4) 사분위간 범위 "
   ]
  },
  {
   "cell_type": "code",
   "execution_count": 64,
   "id": "d624b660",
   "metadata": {},
   "outputs": [],
   "source": [
    "# 사분위간 범위(IQR, InterQuartile Range) ; 제3사분위수에서 제1사분위수 간의 범위\n",
    "# 사분위수란 전체 데이터를 작은 값부터 큰 값까지 순서대로 나열한 후 4등분 하였을 때, 각 지점에 해당하는 값\n",
    "\n",
    "# 제1사분위수(Q1): 25% 지점\n",
    "# 제2사분위수(Q2): 50% 지점\n",
    "# 제3사분위수(Q3): 75%\n",
    "# 제1사분위수와 제3사분위수 사이의 구간에는 항상 전체 데이터의 50%가 포함 됨\n",
    "# b = [100, 200, 400, 500,600,700,800,900,1000]"
   ]
  },
  {
   "cell_type": "code",
   "execution_count": 65,
   "id": "20c7e080",
   "metadata": {},
   "outputs": [
    {
     "data": {
      "text/plain": [
       "np.float64(400.0)"
      ]
     },
     "execution_count": 65,
     "metadata": {},
     "output_type": "execute_result"
    }
   ],
   "source": [
    "# 제1사분위수\n",
    "\n",
    "numpy.quantile(b, 0.25)\n"
   ]
  },
  {
   "cell_type": "code",
   "execution_count": 66,
   "id": "8e3a2bbe",
   "metadata": {},
   "outputs": [
    {
     "data": {
      "text/plain": [
       "np.float64(600.0)"
      ]
     },
     "execution_count": 66,
     "metadata": {},
     "output_type": "execute_result"
    }
   ],
   "source": [
    "# 제2사분위수(50% 지점)\n",
    "# 중간값:\n",
    "\n",
    "numpy.quantile(b, 0.5)"
   ]
  },
  {
   "cell_type": "code",
   "execution_count": 67,
   "id": "11718c9c",
   "metadata": {},
   "outputs": [
    {
     "data": {
      "text/plain": [
       "np.float64(600.0)"
      ]
     },
     "execution_count": 67,
     "metadata": {},
     "output_type": "execute_result"
    }
   ],
   "source": [
    "numpy.median(b)"
   ]
  },
  {
   "cell_type": "code",
   "execution_count": 68,
   "id": "6b33c150",
   "metadata": {},
   "outputs": [
    {
     "data": {
      "text/plain": [
       "np.float64(800.0)"
      ]
     },
     "execution_count": 68,
     "metadata": {},
     "output_type": "execute_result"
    }
   ],
   "source": [
    "# 제3사분위수(75% 지점)\n",
    "\n",
    "numpy.quantile(b, 0.75)"
   ]
  },
  {
   "cell_type": "code",
   "execution_count": 69,
   "id": "54ddabb6",
   "metadata": {},
   "outputs": [
    {
     "data": {
      "text/plain": [
       "np.float64(400.0)"
      ]
     },
     "execution_count": 69,
     "metadata": {},
     "output_type": "execute_result"
    }
   ],
   "source": [
    "# 사분위간 범위(Q3 - Q1):\n",
    "\n",
    "numpy.quantile(b, 0.75) - numpy.quantile(b, 0.25)"
   ]
  },
  {
   "cell_type": "code",
   "execution_count": null,
   "id": "6cced007",
   "metadata": {},
   "outputs": [],
   "source": []
  },
  {
   "cell_type": "markdown",
   "id": "611d2ca5",
   "metadata": {},
   "source": [
    "#### 사례 : 평균 구하기"
   ]
  },
  {
   "cell_type": "code",
   "execution_count": 70,
   "id": "90ad8b6c",
   "metadata": {},
   "outputs": [
    {
     "name": "stdout",
     "output_type": "stream",
     "text": [
      "average : 55840.0\n"
     ]
    }
   ],
   "source": [
    "# 평균 구하기 : 위에서 사용한 crime2\n",
    "# 첫번째 방법\n",
    "\n",
    "print(f\"average : {result / len(crime2)}\")"
   ]
  },
  {
   "cell_type": "code",
   "execution_count": 71,
   "id": "6e6d5ba2",
   "metadata": {},
   "outputs": [
    {
     "name": "stdout",
     "output_type": "stream",
     "text": [
      "55840.0\n"
     ]
    }
   ],
   "source": [
    "# 두번째 방법\n",
    "import numpy\n",
    "\n",
    "# 평균 구하기\n",
    "average = numpy.mean(crime2)\n",
    "print(average)"
   ]
  },
  {
   "cell_type": "code",
   "execution_count": 72,
   "id": "a29b70b7",
   "metadata": {},
   "outputs": [
    {
     "name": "stdout",
     "output_type": "stream",
     "text": [
      "average1 : 55840\n"
     ]
    }
   ],
   "source": [
    "# 세번째 : 파이썬  statiscics 라이브러리를 이용\n",
    "import statistics\n",
    "\n",
    "# 평균 구하기\n",
    "result1 = statistics.mean(crime2)\n",
    "# 출력\n",
    "print(f\"average1 : {result1}\")"
   ]
  },
  {
   "cell_type": "markdown",
   "id": "e1d61a5f",
   "metadata": {},
   "source": [
    "###  전처리\n",
    "#### 리스트 인덱싱"
   ]
  },
  {
   "cell_type": "code",
   "execution_count": 94,
   "id": "d02ce370",
   "metadata": {},
   "outputs": [
    {
     "data": {
      "text/plain": [
       "55300"
      ]
     },
     "execution_count": 94,
     "metadata": {},
     "output_type": "execute_result"
    }
   ],
   "source": [
    "# 리스트의 인덱스 값을 통해 리스트가 가리키는 값에 접근\n",
    "# 리스트에 있는 데이터에 한개씩 접근할 때는 인덱싱 사용\n",
    "# 리스트의 인덱싱은 문자열 인덱싱과 동일\n",
    "crime3 = [55300, 55800, 56400, 56200, 56000]\n",
    "crime3[0]"
   ]
  },
  {
   "cell_type": "code",
   "execution_count": 95,
   "id": "d9750469",
   "metadata": {},
   "outputs": [
    {
     "data": {
      "text/plain": [
       "56000"
      ]
     },
     "execution_count": 95,
     "metadata": {},
     "output_type": "execute_result"
    }
   ],
   "source": [
    "# 리스트 5번째 값\n",
    "# 인덱스는 0 으로 부터 시작하는 것으로 잊지말자.\n",
    "\n",
    "crime3[4]"
   ]
  },
  {
   "cell_type": "code",
   "execution_count": 75,
   "id": "ca9bea22",
   "metadata": {},
   "outputs": [],
   "source": [
    "# 리스트를 인덱싱할 때 [-1]은 리스트의 데이터 중 맨 마지막에 있는 데이터"
   ]
  },
  {
   "cell_type": "code",
   "execution_count": 96,
   "id": "21d51037",
   "metadata": {},
   "outputs": [
    {
     "data": {
      "text/plain": [
       "56000"
      ]
     },
     "execution_count": 96,
     "metadata": {},
     "output_type": "execute_result"
    }
   ],
   "source": [
    "# 리스트 맨 끝값\n",
    "crime3[-1]"
   ]
  },
  {
   "cell_type": "code",
   "execution_count": 97,
   "id": "86cf7a88",
   "metadata": {},
   "outputs": [
    {
     "data": {
      "text/plain": [
       "56200"
      ]
     },
     "execution_count": 97,
     "metadata": {},
     "output_type": "execute_result"
    }
   ],
   "source": [
    "# 리스트 뒤에서 2번째 값\n",
    "crime3[-2]"
   ]
  },
  {
   "cell_type": "markdown",
   "id": "d3d1d77e",
   "metadata": {},
   "source": [
    "#### 리스트 슬라이싱"
   ]
  },
  {
   "cell_type": "code",
   "execution_count": 78,
   "id": "d2669572",
   "metadata": {},
   "outputs": [],
   "source": [
    "#  리스트에 있는 여러 개의 데이터에 동시에 접근 하는 경우 슬라이싱 이용 \n",
    "# 리스트의 슬라이싱은 문자열 슬라이싱과 동일"
   ]
  },
  {
   "cell_type": "code",
   "execution_count": 98,
   "id": "4f81d9bb",
   "metadata": {},
   "outputs": [],
   "source": [
    "crime = [\"살인\", \"강도\", \"절도\"]\n"
   ]
  },
  {
   "cell_type": "code",
   "execution_count": 99,
   "id": "1ce474fb",
   "metadata": {},
   "outputs": [
    {
     "name": "stdout",
     "output_type": "stream",
     "text": [
      "['살인', '강도', '절도']\n"
     ]
    }
   ],
   "source": [
    "print(crime)"
   ]
  },
  {
   "cell_type": "code",
   "execution_count": 100,
   "id": "99289e08",
   "metadata": {},
   "outputs": [
    {
     "name": "stdout",
     "output_type": "stream",
     "text": [
      "절도\n"
     ]
    }
   ],
   "source": [
    "# 리스트 3번째 값 확인\n",
    "# print --> 소괄호() 안에 --> 변수명, 대괄호[]안에 슬라이싱하고자 하는 것을 입력\n",
    "print( crime[2])"
   ]
  },
  {
   "cell_type": "code",
   "execution_count": 102,
   "id": "c047bce4",
   "metadata": {},
   "outputs": [],
   "source": [
    "# 리스트에서 1개만 갖고 오기\n",
    "crime7=crime[0:1] # 처음(인데스=0)부터 인덱스 1전까지 불러온다.\n"
   ]
  },
  {
   "cell_type": "code",
   "execution_count": 103,
   "id": "d03297d2",
   "metadata": {},
   "outputs": [
    {
     "name": "stdout",
     "output_type": "stream",
     "text": [
      "['살인']\n"
     ]
    }
   ],
   "source": [
    "print(crime7)"
   ]
  },
  {
   "cell_type": "code",
   "execution_count": 104,
   "id": "b8deddc0",
   "metadata": {},
   "outputs": [
    {
     "name": "stdout",
     "output_type": "stream",
     "text": [
      "['살인', '강도']\n"
     ]
    }
   ],
   "source": [
    "# 2개만 갖고 오기\n",
    "crime=crime[0:2]\n",
    "print(crime)"
   ]
  },
  {
   "cell_type": "markdown",
   "id": "da3ce93f",
   "metadata": {},
   "source": [
    "#### 리스트에 데이터(원소) 추가"
   ]
  },
  {
   "cell_type": "code",
   "execution_count": 85,
   "id": "a7933a82",
   "metadata": {},
   "outputs": [],
   "source": [
    "# 리스트에 데이터(원소) 추가\n",
    "# 기존 리스트에 새로운 데이터를 추가 : append 메서드 사용 ==> 이 경우 데이터 맨 뒷줄에 추가"
   ]
  },
  {
   "cell_type": "code",
   "execution_count": 105,
   "id": "98219759",
   "metadata": {},
   "outputs": [
    {
     "data": {
      "text/plain": [
       "['살인', '강도', '절도', '사기']"
      ]
     },
     "execution_count": 105,
     "metadata": {},
     "output_type": "execute_result"
    }
   ],
   "source": [
    "crime = [\"살인\", \"강도\", \"절도\"]\n",
    "crime.append(\"사기\")\n",
    "crime"
   ]
  },
  {
   "cell_type": "code",
   "execution_count": 106,
   "id": "2f90dd0e",
   "metadata": {},
   "outputs": [
    {
     "data": {
      "text/plain": [
       "['살인', '강도', '절도', '사기', '도박']"
      ]
     },
     "execution_count": 106,
     "metadata": {},
     "output_type": "execute_result"
    }
   ],
   "source": [
    "# 리스트에 리스트로 추가하는 경우\n",
    "# extend메소드 : 리스트.extend(추가할리스트)\n",
    "crime = [\"살인\", \"강도\", \"절도\"]\n",
    "crime.extend([\"사기\", \"도박\"])\n",
    "crime"
   ]
  },
  {
   "cell_type": "code",
   "execution_count": 107,
   "id": "e201a2d6",
   "metadata": {},
   "outputs": [
    {
     "data": {
      "text/plain": [
       "['살인', '강도', '절도', '사기', '도박']"
      ]
     },
     "execution_count": 107,
     "metadata": {},
     "output_type": "execute_result"
    }
   ],
   "source": [
    "# 위의 경우 추가된 리스트를 새롭게 명명하는게 적절\n",
    "crime4 = crime.copy()\n",
    "crime4"
   ]
  },
  {
   "cell_type": "code",
   "execution_count": 108,
   "id": "7665c9fd",
   "metadata": {},
   "outputs": [],
   "source": [
    "# 리스트에 데이터를 사용자가 원하는 특정 위치에 추가 \n",
    "# insert 메서드를 사용 "
   ]
  },
  {
   "cell_type": "code",
   "execution_count": 109,
   "id": "a54174d6",
   "metadata": {},
   "outputs": [
    {
     "data": {
      "text/plain": [
       "['살인', '강도', '폭력', '절도', '사기', '도박']"
      ]
     },
     "execution_count": 109,
     "metadata": {},
     "output_type": "execute_result"
    }
   ],
   "source": [
    "# 리스트 2번째 자리에 삽입\n",
    "crime4.insert(2, '폭력')\n",
    "crime4"
   ]
  },
  {
   "cell_type": "markdown",
   "id": "40614a10",
   "metadata": {},
   "source": [
    "#### 리스트에 데이터 삭제"
   ]
  },
  {
   "cell_type": "code",
   "execution_count": 110,
   "id": "9415c9b5",
   "metadata": {},
   "outputs": [],
   "source": [
    "# 리스트 마지막 데이터를 삭제하기 위해 del 사용 \n",
    "# 이때 한 가지 주의할 점은 del 다음에 빈칸을 주고 그다음에 삭제할 데이터를 입력해야 한다"
   ]
  },
  {
   "cell_type": "code",
   "execution_count": 111,
   "id": "2459f5f7",
   "metadata": {},
   "outputs": [],
   "source": [
    "#  데이터 삭제\n",
    "del crime4[-1]"
   ]
  },
  {
   "cell_type": "code",
   "execution_count": 112,
   "id": "5bac0256",
   "metadata": {},
   "outputs": [
    {
     "data": {
      "text/plain": [
       "['살인', '강도', '폭력', '절도', '사기']"
      ]
     },
     "execution_count": 112,
     "metadata": {},
     "output_type": "execute_result"
    }
   ],
   "source": [
    "# 결과확인\n",
    ">>> crime4\n"
   ]
  },
  {
   "cell_type": "code",
   "execution_count": 113,
   "id": "550ede57",
   "metadata": {},
   "outputs": [
    {
     "data": {
      "text/plain": [
       "5"
      ]
     },
     "execution_count": 113,
     "metadata": {},
     "output_type": "execute_result"
    }
   ],
   "source": [
    "len(crime4)"
   ]
  },
  {
   "cell_type": "markdown",
   "id": "91a0271e",
   "metadata": {},
   "source": [
    "##### 주의사항"
   ]
  },
  {
   "cell_type": "code",
   "execution_count": 114,
   "id": "fe95a0ed",
   "metadata": {},
   "outputs": [
    {
     "data": {
      "text/plain": [
       "[1, 2, 3, 5, 6, 7]"
      ]
     },
     "execution_count": 114,
     "metadata": {},
     "output_type": "execute_result"
    }
   ],
   "source": [
    "# 리스트 + 리스트 덧셈연산은 ?\n",
    "\n",
    "[1,2,3]+[5,6,7]"
   ]
  },
  {
   "cell_type": "code",
   "execution_count": 115,
   "id": "915d75f3",
   "metadata": {},
   "outputs": [
    {
     "data": {
      "text/plain": [
       "[1, 5, 3]"
      ]
     },
     "execution_count": 115,
     "metadata": {},
     "output_type": "execute_result"
    }
   ],
   "source": [
    "# 리스트 안에 원소 변경\n",
    "abc=[1,2,3]\n",
    "abc[1]=5\n",
    "abc"
   ]
  },
  {
   "cell_type": "code",
   "execution_count": 97,
   "id": "d1948f5c",
   "metadata": {},
   "outputs": [
    {
     "data": {
      "text/plain": [
       "[1, 5, 3, 10]"
      ]
     },
     "execution_count": 97,
     "metadata": {},
     "output_type": "execute_result"
    }
   ],
   "source": [
    "# 리스트 안에 원소를 추가\n",
    "abc.append(10)\n",
    "abc"
   ]
  },
  {
   "cell_type": "markdown",
   "id": "5c22a46a",
   "metadata": {},
   "source": [
    "## 튜플(tuple)"
   ]
  },
  {
   "cell_type": "markdown",
   "id": "e327173e",
   "metadata": {},
   "source": [
    "### 튜플 이해? "
   ]
  },
  {
   "cell_type": "code",
   "execution_count": 101,
   "id": "0a9940e8",
   "metadata": {},
   "outputs": [],
   "source": [
    "# 설명: 순서가 있는 변경 불가능한 시퀀스 데이터 타입을 말한다."
   ]
  },
  {
   "cell_type": "code",
   "execution_count": 102,
   "id": "51ef9734",
   "metadata": {},
   "outputs": [],
   "source": [
    "# 리스트는 대괄호'[]' 사용, 튜플은 소괄호'()' 사용에 인자를 담아 연속형 데이터를 처리하는데 사용\n",
    "# 튜플과 리스트 차이 :  리스트는 리스트 내의 요소를 변경할 수 있지만 튜플은 요소를 변경할 수 없다. \n",
    "# 튜플은 리스트보다 속도가 빠르다는 장점 ; 요소 수정이 필요 없는 경우는 리스트보다는 튜플을 사용하는 것이 효율적"
   ]
  },
  {
   "cell_type": "code",
   "execution_count": 116,
   "id": "2a1c966d",
   "metadata": {},
   "outputs": [
    {
     "data": {
      "text/plain": [
       "['살인', '강도', '절도', '도박', '사기']"
      ]
     },
     "execution_count": 116,
     "metadata": {},
     "output_type": "execute_result"
    }
   ],
   "source": [
    "crime = [\"살인\", \"강도\", \"절도\"]\n",
    "crime5=[\"살인\", \"강도\", \"절도\", \"도박\"]\n",
    "crime5.append(\"사기\")\n",
    "crime5\n"
   ]
  },
  {
   "cell_type": "code",
   "execution_count": null,
   "id": "db77a0e7",
   "metadata": {},
   "outputs": [],
   "source": []
  },
  {
   "cell_type": "code",
   "execution_count": 117,
   "id": "745b15f9",
   "metadata": {},
   "outputs": [
    {
     "data": {
      "text/plain": [
       "list"
      ]
     },
     "execution_count": 117,
     "metadata": {},
     "output_type": "execute_result"
    }
   ],
   "source": [
    "# 데이터 타입 확인 \n",
    "type(crime5)"
   ]
  },
  {
   "cell_type": "code",
   "execution_count": 118,
   "id": "27d520ba",
   "metadata": {},
   "outputs": [
    {
     "data": {
      "text/plain": [
       "['살인', '강도', '폭력', '절도', '사기', '도박']"
      ]
     },
     "execution_count": 118,
     "metadata": {},
     "output_type": "execute_result"
    }
   ],
   "source": [
    "crime10 = ['살인', '강도', '폭력', '절도', '사기', '도박']\n",
    "crime10"
   ]
  },
  {
   "cell_type": "code",
   "execution_count": 119,
   "id": "399debac",
   "metadata": {},
   "outputs": [
    {
     "data": {
      "text/plain": [
       "list"
      ]
     },
     "execution_count": 119,
     "metadata": {},
     "output_type": "execute_result"
    }
   ],
   "source": [
    "type(crime10)"
   ]
  },
  {
   "cell_type": "markdown",
   "id": "94d08372",
   "metadata": {},
   "source": [
    "###  튜플 데이터 확인 "
   ]
  },
  {
   "cell_type": "code",
   "execution_count": 120,
   "id": "5c96abeb",
   "metadata": {},
   "outputs": [
    {
     "data": {
      "text/plain": [
       "5"
      ]
     },
     "execution_count": 120,
     "metadata": {},
     "output_type": "execute_result"
    }
   ],
   "source": [
    "# 갯수 확인 : len\n",
    "len(crime5)"
   ]
  },
  {
   "cell_type": "code",
   "execution_count": 121,
   "id": "bcdc0ed4",
   "metadata": {},
   "outputs": [
    {
     "data": {
      "text/plain": [
       "'살인'"
      ]
     },
     "execution_count": 121,
     "metadata": {},
     "output_type": "execute_result"
    }
   ],
   "source": [
    "# 튜플데이터 인덱싱\n",
    "\n",
    "crime5[0]"
   ]
  },
  {
   "cell_type": "code",
   "execution_count": 122,
   "id": "1a34c853",
   "metadata": {},
   "outputs": [
    {
     "data": {
      "text/plain": [
       "'사기'"
      ]
     },
     "execution_count": 122,
     "metadata": {},
     "output_type": "execute_result"
    }
   ],
   "source": [
    "crime5[-1]"
   ]
  },
  {
   "cell_type": "code",
   "execution_count": 123,
   "id": "3a3a0ebe",
   "metadata": {},
   "outputs": [
    {
     "data": {
      "text/plain": [
       "'도박'"
      ]
     },
     "execution_count": 123,
     "metadata": {},
     "output_type": "execute_result"
    }
   ],
   "source": [
    "crime5[-2]"
   ]
  },
  {
   "cell_type": "markdown",
   "id": "bbfa5f50",
   "metadata": {},
   "source": [
    "### 튜플 슬라이싱"
   ]
  },
  {
   "cell_type": "code",
   "execution_count": 124,
   "id": "da1513d3",
   "metadata": {},
   "outputs": [],
   "source": [
    "# 튜플도 리스트와 동일하게 슬라이싱 가능"
   ]
  },
  {
   "cell_type": "code",
   "execution_count": 125,
   "id": "0e1bd050",
   "metadata": {},
   "outputs": [
    {
     "data": {
      "text/plain": [
       "['살인', '강도']"
      ]
     },
     "execution_count": 125,
     "metadata": {},
     "output_type": "execute_result"
    }
   ],
   "source": [
    "# 시작 인덱스와 끝 인덱스를 지정\n",
    "crime5[0:2]\n",
    "    "
   ]
  },
  {
   "cell_type": "code",
   "execution_count": 126,
   "id": "f1310069",
   "metadata": {},
   "outputs": [
    {
     "ename": "AttributeError",
     "evalue": "'tuple' object has no attribute 'append'",
     "output_type": "error",
     "traceback": [
      "\u001b[1;31m---------------------------------------------------------------------------\u001b[0m",
      "\u001b[1;31mAttributeError\u001b[0m                            Traceback (most recent call last)",
      "\u001b[1;32m~\\AppData\\Local\\Temp/ipykernel_21496/123329114.py\u001b[0m in \u001b[0;36m<module>\u001b[1;34m\u001b[0m\n\u001b[0;32m      1\u001b[0m \u001b[0mcrime8\u001b[0m \u001b[1;33m=\u001b[0m \u001b[1;33m(\u001b[0m\u001b[1;34m\"살인\"\u001b[0m\u001b[1;33m,\u001b[0m \u001b[1;34m\"강도\"\u001b[0m\u001b[1;33m,\u001b[0m \u001b[1;34m\"절도\"\u001b[0m\u001b[1;33m,\u001b[0m \u001b[1;34m\"학교\"\u001b[0m\u001b[1;33m)\u001b[0m\u001b[1;33m\u001b[0m\u001b[1;33m\u001b[0m\u001b[0m\n\u001b[1;32m----> 2\u001b[1;33m \u001b[0mcrime8\u001b[0m\u001b[1;33m.\u001b[0m\u001b[0mappend\u001b[0m\u001b[1;33m(\u001b[0m\u001b[1;34m\"사기\"\u001b[0m\u001b[1;33m)\u001b[0m\u001b[1;33m\u001b[0m\u001b[1;33m\u001b[0m\u001b[0m\n\u001b[0m\u001b[0;32m      3\u001b[0m \u001b[0mcrime8\u001b[0m\u001b[1;33m\u001b[0m\u001b[1;33m\u001b[0m\u001b[0m\n",
      "\u001b[1;31mAttributeError\u001b[0m: 'tuple' object has no attribute 'append'"
     ]
    }
   ],
   "source": [
    "crime8 = (\"살인\", \"강도\", \"절도\", \"학교\")\n",
    "crime8.append(\"사기\")\n",
    "crime8"
   ]
  },
  {
   "cell_type": "markdown",
   "id": "823af6e9",
   "metadata": {},
   "source": [
    "## 딕셔너리(dictionary)"
   ]
  },
  {
   "cell_type": "markdown",
   "id": "c2fccdcb",
   "metadata": {},
   "source": [
    "### 딕셔너리(dictionary) 이해 "
   ]
  },
  {
   "cell_type": "code",
   "execution_count": 123,
   "id": "6dd9aeb6",
   "metadata": {},
   "outputs": [],
   "source": [
    "# 딕셔너리 : 키(key)와 값(value)이라는 것을 쌍으로 저장함으로써 더 쉽게 저장된 값을 찾을 수 있는 구조를 말한다.\n",
    "\n",
    "# key : 중복 값을 사용할 수 없고, 변경이 불가하다.\n",
    "# value : key에 해당하는 값으로 수정이 가능하다.\n",
    "\n",
    "# 딕셔너리는 중괄호 '{}' 기호 사용  : 리스트 대괄호[] , 튜플 소괄호() \n",
    "# 요소가 여러개인 경우 콤마(,)로 구분\n",
    "# 딕셔너리는 리스트와 튜플과 달리 인덱싱을 지원 않음.\n",
    "# 사례 : 범죄종류별 나이, 범죄별 소득수준, "
   ]
  },
  {
   "cell_type": "code",
   "execution_count": 124,
   "id": "7f9dc2d0",
   "metadata": {},
   "outputs": [
    {
     "data": {
      "text/plain": [
       "[54100, 55000, 56200, 56900, 57000]"
      ]
     },
     "execution_count": 124,
     "metadata": {},
     "output_type": "execute_result"
    }
   ],
   "source": [
    "crime2"
   ]
  },
  {
   "cell_type": "code",
   "execution_count": 125,
   "id": "7291f1f0",
   "metadata": {},
   "outputs": [
    {
     "data": {
      "text/plain": [
       "['살인', '강도', '절도']"
      ]
     },
     "execution_count": 125,
     "metadata": {},
     "output_type": "execute_result"
    }
   ],
   "source": [
    "crime"
   ]
  },
  {
   "cell_type": "code",
   "execution_count": 134,
   "id": "e366a48f",
   "metadata": {},
   "outputs": [],
   "source": [
    "# 직접 입력하기\n",
    "# key : 살인 value : 54100.......\n",
    "\n",
    "crime6 = {'살인': 54100, '강도': 55000, '절도': 56200, '사기': 56900, '도박': 57000}"
   ]
  },
  {
   "cell_type": "code",
   "execution_count": 135,
   "id": "f4091616",
   "metadata": {},
   "outputs": [
    {
     "data": {
      "text/plain": [
       "dict"
      ]
     },
     "execution_count": 135,
     "metadata": {},
     "output_type": "execute_result"
    }
   ],
   "source": [
    "type(crime6) "
   ]
  },
  {
   "cell_type": "code",
   "execution_count": 136,
   "id": "1cd63702",
   "metadata": {},
   "outputs": [
    {
     "data": {
      "text/plain": [
       "{'살인': 54100, '강도': 55000, '절도': 56200, '사기': 56900, '도박': 57000}"
      ]
     },
     "execution_count": 136,
     "metadata": {},
     "output_type": "execute_result"
    }
   ],
   "source": [
    "crime6"
   ]
  },
  {
   "cell_type": "code",
   "execution_count": 137,
   "id": "d97906cb",
   "metadata": {},
   "outputs": [
    {
     "data": {
      "text/plain": [
       "55000"
      ]
     },
     "execution_count": 137,
     "metadata": {},
     "output_type": "execute_result"
    }
   ],
   "source": [
    "crime6[\"강도\"]"
   ]
  },
  {
   "cell_type": "code",
   "execution_count": 138,
   "id": "c42af2c5",
   "metadata": {},
   "outputs": [
    {
     "data": {
      "text/plain": [
       "{'살인': 54100, '강도': 55000, '절도': 56200}"
      ]
     },
     "execution_count": 138,
     "metadata": {},
     "output_type": "execute_result"
    }
   ],
   "source": [
    "# zip 활용한 딕셔너리 만들기\n",
    "crime6 = dict(zip(crime,crime2))\n",
    "crime6"
   ]
  },
  {
   "cell_type": "code",
   "execution_count": null,
   "id": "8d6dfea9",
   "metadata": {},
   "outputs": [],
   "source": []
  },
  {
   "cell_type": "code",
   "execution_count": 139,
   "id": "3e43f8af",
   "metadata": {},
   "outputs": [],
   "source": [
    "score ={}"
   ]
  },
  {
   "cell_type": "code",
   "execution_count": 140,
   "id": "c9600cf3",
   "metadata": {},
   "outputs": [
    {
     "data": {
      "text/plain": [
       "dict"
      ]
     },
     "execution_count": 140,
     "metadata": {},
     "output_type": "execute_result"
    }
   ],
   "source": [
    "type(score) "
   ]
  },
  {
   "cell_type": "code",
   "execution_count": 141,
   "id": "429c651f",
   "metadata": {},
   "outputs": [],
   "source": [
    "score[\"경찰청\"] =100"
   ]
  },
  {
   "cell_type": "code",
   "execution_count": 142,
   "id": "20ce2767",
   "metadata": {},
   "outputs": [
    {
     "data": {
      "text/plain": [
       "100"
      ]
     },
     "execution_count": 142,
     "metadata": {},
     "output_type": "execute_result"
    }
   ],
   "source": [
    "score[\"경찰청\"]"
   ]
  },
  {
   "cell_type": "code",
   "execution_count": 143,
   "id": "db749b78",
   "metadata": {},
   "outputs": [
    {
     "data": {
      "text/plain": [
       "{'경찰청': 100}"
      ]
     },
     "execution_count": 143,
     "metadata": {},
     "output_type": "execute_result"
    }
   ],
   "source": [
    "score"
   ]
  },
  {
   "cell_type": "code",
   "execution_count": 144,
   "id": "8d4d5269",
   "metadata": {},
   "outputs": [
    {
     "data": {
      "text/plain": [
       "dict"
      ]
     },
     "execution_count": 144,
     "metadata": {},
     "output_type": "execute_result"
    }
   ],
   "source": [
    "type(score)"
   ]
  },
  {
   "cell_type": "code",
   "execution_count": 145,
   "id": "b1a06b25",
   "metadata": {},
   "outputs": [
    {
     "data": {
      "text/plain": [
       "1"
      ]
     },
     "execution_count": 145,
     "metadata": {},
     "output_type": "execute_result"
    }
   ],
   "source": [
    "len(score)"
   ]
  },
  {
   "cell_type": "code",
   "execution_count": 146,
   "id": "be93c9a0",
   "metadata": {},
   "outputs": [
    {
     "data": {
      "text/plain": [
       "100"
      ]
     },
     "execution_count": 146,
     "metadata": {},
     "output_type": "execute_result"
    }
   ],
   "source": [
    "score[\"경찰청\"]"
   ]
  },
  {
   "cell_type": "markdown",
   "id": "7cf6e74b",
   "metadata": {},
   "source": [
    "### 딕셔너리(dictionary) 확인 "
   ]
  },
  {
   "cell_type": "code",
   "execution_count": 147,
   "id": "dfb73587",
   "metadata": {},
   "outputs": [
    {
     "data": {
      "text/plain": [
       "3"
      ]
     },
     "execution_count": 147,
     "metadata": {},
     "output_type": "execute_result"
    }
   ],
   "source": [
    "len(crime6)"
   ]
  },
  {
   "cell_type": "code",
   "execution_count": 148,
   "id": "42353ad7",
   "metadata": {},
   "outputs": [
    {
     "data": {
      "text/plain": [
       "56200"
      ]
     },
     "execution_count": 148,
     "metadata": {},
     "output_type": "execute_result"
    }
   ],
   "source": [
    "crime6['절도']"
   ]
  },
  {
   "cell_type": "code",
   "execution_count": 149,
   "id": "83d03a4c",
   "metadata": {},
   "outputs": [],
   "source": [
    "score[\"경찰청\"]=10"
   ]
  },
  {
   "cell_type": "code",
   "execution_count": 150,
   "id": "a811cf49",
   "metadata": {},
   "outputs": [
    {
     "data": {
      "text/plain": [
       "{'경찰청': 10}"
      ]
     },
     "execution_count": 150,
     "metadata": {},
     "output_type": "execute_result"
    }
   ],
   "source": [
    "score"
   ]
  },
  {
   "cell_type": "code",
   "execution_count": 151,
   "id": "f2eb423e",
   "metadata": {},
   "outputs": [],
   "source": [
    "del score[\"경찰청\"]"
   ]
  },
  {
   "cell_type": "code",
   "execution_count": 152,
   "id": "65946ad3",
   "metadata": {},
   "outputs": [
    {
     "data": {
      "text/plain": [
       "{}"
      ]
     },
     "execution_count": 152,
     "metadata": {},
     "output_type": "execute_result"
    }
   ],
   "source": [
    "score"
   ]
  },
  {
   "cell_type": "code",
   "execution_count": 153,
   "id": "a0dee7db",
   "metadata": {},
   "outputs": [
    {
     "name": "stdout",
     "output_type": "stream",
     "text": [
      "{}\n"
     ]
    }
   ],
   "source": [
    "print(score)"
   ]
  },
  {
   "cell_type": "markdown",
   "id": "553e4e2a",
   "metadata": {},
   "source": [
    "### 딕셔너리에 데이터 삽입 "
   ]
  },
  {
   "cell_type": "code",
   "execution_count": 154,
   "id": "c456691f",
   "metadata": {},
   "outputs": [],
   "source": [
    "#딕셔너리는 리스트의 append나 insert 같은 메서드를 지원하지 않음.. \n",
    "# 리스트와는 달리 Dictionary변수에 추가하고자하는 데이터에 대한 key와 value를 추가 입력하여야 함."
   ]
  },
  {
   "cell_type": "code",
   "execution_count": 155,
   "id": "7deaf617",
   "metadata": {},
   "outputs": [
    {
     "data": {
      "text/plain": [
       "{'살인': 54100, '강도': 55000, '절도': 56200, '마약': 51000}"
      ]
     },
     "execution_count": 155,
     "metadata": {},
     "output_type": "execute_result"
    }
   ],
   "source": [
    "# naver 추가\n",
    "crime6['마약'] = 51000\n",
    "crime6"
   ]
  },
  {
   "cell_type": "markdown",
   "id": "40ad053e",
   "metadata": {},
   "source": [
    "### 딕셔너리에 데이터 삭제 "
   ]
  },
  {
   "cell_type": "code",
   "execution_count": 156,
   "id": "e00027db",
   "metadata": {},
   "outputs": [],
   "source": [
    "# 리스트와 마찬가지로 del을 사용 \n",
    "del crime6['마약']"
   ]
  },
  {
   "cell_type": "code",
   "execution_count": 157,
   "id": "1f44c83c",
   "metadata": {},
   "outputs": [
    {
     "data": {
      "text/plain": [
       "{'살인': 54100, '강도': 55000, '절도': 56200}"
      ]
     },
     "execution_count": 157,
     "metadata": {},
     "output_type": "execute_result"
    }
   ],
   "source": [
    "crime6"
   ]
  },
  {
   "cell_type": "markdown",
   "id": "57f4c3c2",
   "metadata": {},
   "source": [
    "### 딕셔너리로부터 key-value 구하기 "
   ]
  },
  {
   "cell_type": "code",
   "execution_count": 158,
   "id": "2b5b2434",
   "metadata": {},
   "outputs": [],
   "source": [
    "crime6['강도'] = 80000"
   ]
  },
  {
   "cell_type": "code",
   "execution_count": 159,
   "id": "e3ac9881",
   "metadata": {},
   "outputs": [
    {
     "data": {
      "text/plain": [
       "{'살인': 54100, '강도': 80000, '절도': 56200}"
      ]
     },
     "execution_count": 159,
     "metadata": {},
     "output_type": "execute_result"
    }
   ],
   "source": [
    "crime6"
   ]
  },
  {
   "cell_type": "code",
   "execution_count": 162,
   "id": "58000dff",
   "metadata": {},
   "outputs": [
    {
     "data": {
      "text/plain": [
       "dict_keys(['살인', '강도', '절도'])"
      ]
     },
     "execution_count": 162,
     "metadata": {},
     "output_type": "execute_result"
    }
   ],
   "source": [
    "# key 값 만 보는 사례\n",
    "crime6.keys()"
   ]
  },
  {
   "cell_type": "code",
   "execution_count": 163,
   "id": "bed113ea",
   "metadata": {},
   "outputs": [
    {
     "data": {
      "text/plain": [
       "dict_values([54100, 80000, 56200])"
      ]
     },
     "execution_count": 163,
     "metadata": {},
     "output_type": "execute_result"
    }
   ],
   "source": [
    "# value 만 리스트로 나타내는 사례\n",
    "crime6.values()"
   ]
  },
  {
   "cell_type": "markdown",
   "id": "b120a865",
   "metadata": {},
   "source": [
    "### 딕셔너리의 key와 value 를 리스트로 가져오기 "
   ]
  },
  {
   "cell_type": "code",
   "execution_count": 162,
   "id": "4855e818",
   "metadata": {},
   "outputs": [],
   "source": [
    "# items"
   ]
  },
  {
   "cell_type": "code",
   "execution_count": 163,
   "id": "a1553c35",
   "metadata": {},
   "outputs": [
    {
     "data": {
      "text/plain": [
       "dict_items([('살인', 54100), ('강도', 80000), ('절도', 56200)])"
      ]
     },
     "execution_count": 163,
     "metadata": {},
     "output_type": "execute_result"
    }
   ],
   "source": [
    "crime6.items()"
   ]
  },
  {
   "cell_type": "markdown",
   "id": "97743dbc",
   "metadata": {},
   "source": [
    "### 딕셔너리의 key 값만 리스트로 가져오기"
   ]
  },
  {
   "cell_type": "code",
   "execution_count": 164,
   "id": "22916c7d",
   "metadata": {},
   "outputs": [
    {
     "data": {
      "text/plain": [
       "dict_keys(['살인', '강도', '절도'])"
      ]
     },
     "execution_count": 164,
     "metadata": {},
     "output_type": "execute_result"
    }
   ],
   "source": [
    "crime6.keys()"
   ]
  },
  {
   "cell_type": "markdown",
   "id": "7c65c643",
   "metadata": {},
   "source": [
    "### 딕셔너리의 value 값만 리스트로 가져오기"
   ]
  },
  {
   "cell_type": "code",
   "execution_count": 165,
   "id": "5c26cdb9",
   "metadata": {},
   "outputs": [
    {
     "data": {
      "text/plain": [
       "dict_values([54100, 80000, 56200])"
      ]
     },
     "execution_count": 165,
     "metadata": {},
     "output_type": "execute_result"
    }
   ],
   "source": [
    "crime6.values()"
   ]
  },
  {
   "cell_type": "markdown",
   "id": "7c7a691f",
   "metadata": {},
   "source": [
    "## 집합 (Set)"
   ]
  },
  {
   "cell_type": "markdown",
   "id": "3aa40f1d",
   "metadata": {},
   "source": [
    "### 세트 이해 "
   ]
  },
  {
   "cell_type": "code",
   "execution_count": 170,
   "id": "8d446c2b",
   "metadata": {},
   "outputs": [],
   "source": [
    "# 집합 성격 데이터\n",
    "# 설명: 순서가 없고 중복을 허용하지 않는 데이터 타입을 말한다.\n",
    "# 중괄호 {} 이용\n",
    "# 중괄호 안에 여러개 데이터인 경우 : 콤마로 구분\n",
    "# 데이터의 중복을 허용하지 않는다.!!!!\n",
    "# 집합 성격이므로  연산관련 함수 제공 (합집합, 교집합, 차집합 등)"
   ]
  },
  {
   "cell_type": "markdown",
   "id": "3fa5aec2",
   "metadata": {},
   "source": [
    "### 세트와 리스트 비교 "
   ]
  },
  {
   "cell_type": "code",
   "execution_count": 164,
   "id": "3d6c74a8",
   "metadata": {},
   "outputs": [
    {
     "data": {
      "text/plain": [
       "{'강도', '살인', '폭력'}"
      ]
     },
     "execution_count": 164,
     "metadata": {},
     "output_type": "execute_result"
    }
   ],
   "source": [
    "# 집합으로 만든 경우 : 중괄호 사용\n",
    "crime8 = {'살인', '강도', '폭력' }\n",
    "crime8"
   ]
  },
  {
   "cell_type": "code",
   "execution_count": 166,
   "id": "169897de",
   "metadata": {},
   "outputs": [
    {
     "data": {
      "text/plain": [
       "['살인', '강도', '폭력']"
      ]
     },
     "execution_count": 166,
     "metadata": {},
     "output_type": "execute_result"
    }
   ],
   "source": [
    "# 리스트로 만든 경우 : 대괄호 사용\n",
    "crime8 = ['살인', '강도', '폭력' ]\n",
    "crime8"
   ]
  },
  {
   "cell_type": "code",
   "execution_count": 167,
   "id": "643036ff",
   "metadata": {},
   "outputs": [
    {
     "data": {
      "text/plain": [
       "{'강도', '살인', '폭력'}"
      ]
     },
     "execution_count": 167,
     "metadata": {},
     "output_type": "execute_result"
    }
   ],
   "source": [
    "# set은 중복은 허용하지 않는다.\n",
    "crime8 = {'살인', '강도', '폭력','살인' }\n",
    "crime8"
   ]
  },
  {
   "cell_type": "code",
   "execution_count": 168,
   "id": "1162e856",
   "metadata": {},
   "outputs": [
    {
     "data": {
      "text/plain": [
       "['살인', '강도', '폭력', '살인']"
      ]
     },
     "execution_count": 168,
     "metadata": {},
     "output_type": "execute_result"
    }
   ],
   "source": [
    "# 리스트로 만든 경우 : 중복을 허용한다.\n",
    "crime8 = ['살인', '강도', '폭력','살인' ]\n",
    "crime8"
   ]
  },
  {
   "cell_type": "markdown",
   "id": "6fb3c25f",
   "metadata": {},
   "source": [
    "### 세트 데이터 확인하기 "
   ]
  },
  {
   "cell_type": "code",
   "execution_count": 175,
   "id": "9ee21189",
   "metadata": {},
   "outputs": [],
   "source": [
    "# 데이터 추가하기\n",
    "# 세트 명을 기입하고 add(추가할 데이터)"
   ]
  },
  {
   "cell_type": "code",
   "execution_count": 169,
   "id": "373a1668",
   "metadata": {},
   "outputs": [
    {
     "data": {
      "text/plain": [
       "{'강도', '살인', '폭력'}"
      ]
     },
     "execution_count": 169,
     "metadata": {},
     "output_type": "execute_result"
    }
   ],
   "source": [
    "crime8 = {'살인', '강도', '폭력','살인' }\n",
    "crime8"
   ]
  },
  {
   "cell_type": "code",
   "execution_count": 170,
   "id": "6f168055",
   "metadata": {},
   "outputs": [],
   "source": [
    "# 다른 세트에 데이터 업데이트 하기\n",
    "# 다른 세트 명을 기입하고 update(추가할 데이터)"
   ]
  },
  {
   "cell_type": "code",
   "execution_count": 171,
   "id": "278e5ead",
   "metadata": {},
   "outputs": [
    {
     "data": {
      "text/plain": [
       "{'마약', '살인', '절도'}"
      ]
     },
     "execution_count": 171,
     "metadata": {},
     "output_type": "execute_result"
    }
   ],
   "source": [
    "crime9 = {'절도','마약', '살인'}\n",
    "crime9"
   ]
  },
  {
   "cell_type": "markdown",
   "id": "657d2eee",
   "metadata": {},
   "source": [
    "### 합집합, 교집합, 차집합 "
   ]
  },
  {
   "cell_type": "code",
   "execution_count": 172,
   "id": "cb0cceea",
   "metadata": {},
   "outputs": [],
   "source": [
    "# 합집합 : 두 집합의 모든 원소를 보여준다\n",
    "# union\n"
   ]
  },
  {
   "cell_type": "code",
   "execution_count": 175,
   "id": "7719a153",
   "metadata": {},
   "outputs": [],
   "source": [
    "a={1,2,3,4,5,6}\n",
    "b={1,3,5,7,8}\n"
   ]
  },
  {
   "cell_type": "code",
   "execution_count": 176,
   "id": "4c8dcc3c",
   "metadata": {},
   "outputs": [
    {
     "data": {
      "text/plain": [
       "set"
      ]
     },
     "execution_count": 176,
     "metadata": {},
     "output_type": "execute_result"
    }
   ],
   "source": [
    "type(a)"
   ]
  },
  {
   "cell_type": "code",
   "execution_count": 177,
   "id": "eac004b1",
   "metadata": {},
   "outputs": [
    {
     "data": {
      "text/plain": [
       "set"
      ]
     },
     "execution_count": 177,
     "metadata": {},
     "output_type": "execute_result"
    }
   ],
   "source": [
    "type(b)"
   ]
  },
  {
   "cell_type": "code",
   "execution_count": 178,
   "id": "3a1f86f9",
   "metadata": {},
   "outputs": [
    {
     "data": {
      "text/plain": [
       "{1, 2, 3, 4, 5, 6, 7, 8}"
      ]
     },
     "execution_count": 178,
     "metadata": {},
     "output_type": "execute_result"
    }
   ],
   "source": [
    "a.union(b)"
   ]
  },
  {
   "cell_type": "code",
   "execution_count": 179,
   "id": "a444ef82",
   "metadata": {},
   "outputs": [
    {
     "data": {
      "text/plain": [
       "{1, 2, 3, 4, 5, 6, 7, 8}"
      ]
     },
     "execution_count": 179,
     "metadata": {},
     "output_type": "execute_result"
    }
   ],
   "source": [
    "# 합집합 다른 표현\n",
    "a|b"
   ]
  },
  {
   "cell_type": "code",
   "execution_count": 181,
   "id": "f9f493f3",
   "metadata": {},
   "outputs": [
    {
     "data": {
      "text/plain": [
       "{1, 3, 5}"
      ]
     },
     "execution_count": 181,
     "metadata": {},
     "output_type": "execute_result"
    }
   ],
   "source": [
    "# 교집합 : 공통 요소 반환한다.\n",
    "# intersection\n",
    "a.intersection(b)\n",
    "\n"
   ]
  },
  {
   "cell_type": "code",
   "execution_count": 182,
   "id": "3b5b6644",
   "metadata": {},
   "outputs": [
    {
     "data": {
      "text/plain": [
       "{1, 3, 5}"
      ]
     },
     "execution_count": 182,
     "metadata": {},
     "output_type": "execute_result"
    }
   ],
   "source": [
    "# 교집합 다른 표현\n",
    "\n",
    "a&b"
   ]
  },
  {
   "cell_type": "code",
   "execution_count": 183,
   "id": "97b4a781",
   "metadata": {},
   "outputs": [],
   "source": [
    "# 차집합 : 두 개의 집합에서 하나 만 들어 간 요소\n",
    "# difference"
   ]
  },
  {
   "cell_type": "code",
   "execution_count": 184,
   "id": "63cf25e1",
   "metadata": {},
   "outputs": [
    {
     "data": {
      "text/plain": [
       "{2, 4, 6}"
      ]
     },
     "execution_count": 184,
     "metadata": {},
     "output_type": "execute_result"
    }
   ],
   "source": [
    "a.difference(b)"
   ]
  },
  {
   "cell_type": "code",
   "execution_count": 185,
   "id": "8af6fc1b",
   "metadata": {},
   "outputs": [
    {
     "data": {
      "text/plain": [
       "{2, 4, 6}"
      ]
     },
     "execution_count": 185,
     "metadata": {},
     "output_type": "execute_result"
    }
   ],
   "source": [
    "# 차집합 다른 표현\n",
    "a-b"
   ]
  },
  {
   "cell_type": "code",
   "execution_count": 186,
   "id": "3f72e436",
   "metadata": {},
   "outputs": [
    {
     "data": {
      "text/plain": [
       "{7, 8}"
      ]
     },
     "execution_count": 186,
     "metadata": {},
     "output_type": "execute_result"
    }
   ],
   "source": [
    "b.difference(a)"
   ]
  },
  {
   "cell_type": "markdown",
   "id": "76a384cc",
   "metadata": {},
   "source": [
    "# 날짜와 시간 설정¶"
   ]
  },
  {
   "cell_type": "code",
   "execution_count": 191,
   "id": "ac55a599",
   "metadata": {},
   "outputs": [],
   "source": [
    "# datetime 패키지\n",
    "# 날짜와 시간을 함께 저장하는 datetime 클래스\n",
    "# 날짜만 저장하는 date 클래스, \n",
    "# 시간만 저장하는 time 클래스, \n",
    "# 시간 구간 정보를 저장하는 timedelta 클래스 등을 제공"
   ]
  },
  {
   "cell_type": "code",
   "execution_count": 192,
   "id": "591ee14b",
   "metadata": {},
   "outputs": [
    {
     "name": "stdout",
     "output_type": "stream",
     "text": [
      "2024-08-22 12:38:58.862639\n"
     ]
    }
   ],
   "source": [
    "import datetime as dt\n",
    "x = dt.datetime.now()\n",
    "print(x)\n",
    "\n",
    "# now 클래스 메서드는 컴퓨터의 현재 시각을 datetime 클래스 객체로 만들어 반환한다. \n",
    "# datetime 클래스 객체는 다음과 같은 속성을 가진다.\n",
    "# year: 연도\n",
    "# month: 월\n",
    "# day: 일\n",
    "# hour: 시\n",
    "# minute: 분\n",
    "# second: 초\n",
    "# microsecond: 마이크로초(micro seconds, 백만분의 일초)"
   ]
  },
  {
   "cell_type": "code",
   "execution_count": 193,
   "id": "4f3b5e95",
   "metadata": {},
   "outputs": [
    {
     "data": {
      "text/plain": [
       "datetime.datetime(2024, 8, 22, 12, 38, 59, 334479)"
      ]
     },
     "execution_count": 193,
     "metadata": {},
     "output_type": "execute_result"
    }
   ],
   "source": [
    "import datetime as dt\n",
    "x = dt.datetime.now()\n",
    "x"
   ]
  },
  {
   "cell_type": "code",
   "execution_count": 194,
   "id": "2bde1e8b",
   "metadata": {},
   "outputs": [],
   "source": [
    "# 다음과 같은 메서드도 제공\n",
    "# weekday: 요일 반환 (0:월, 1:화, 2:수, 3:목, 4:금, 5:토, 6:일)\n",
    "# strftime: 문자열 반환\n",
    "# date: 날짜 정보만 가지는 date 클래스 객체 반환\n",
    "# time: 시간 정보만 가지는 time 클래스 객체 반환"
   ]
  },
  {
   "cell_type": "code",
   "execution_count": 195,
   "id": "4ca247f8",
   "metadata": {},
   "outputs": [
    {
     "data": {
      "text/plain": [
       "3"
      ]
     },
     "execution_count": 195,
     "metadata": {},
     "output_type": "execute_result"
    }
   ],
   "source": [
    "x.weekday()"
   ]
  },
  {
   "cell_type": "code",
   "execution_count": 196,
   "id": "2b5aa372",
   "metadata": {},
   "outputs": [
    {
     "data": {
      "text/plain": [
       "datetime.date(2024, 8, 22)"
      ]
     },
     "execution_count": 196,
     "metadata": {},
     "output_type": "execute_result"
    }
   ],
   "source": [
    "# 날짜\n",
    "x.date()"
   ]
  },
  {
   "cell_type": "code",
   "execution_count": 197,
   "id": "a9099c52",
   "metadata": {},
   "outputs": [
    {
     "data": {
      "text/plain": [
       "datetime.time(12, 38, 59, 334479)"
      ]
     },
     "execution_count": 197,
     "metadata": {},
     "output_type": "execute_result"
    }
   ],
   "source": [
    "# 시간\n",
    "x.time()"
   ]
  },
  {
   "cell_type": "code",
   "execution_count": null,
   "id": "f6aae14b",
   "metadata": {},
   "outputs": [],
   "source": []
  }
 ],
 "metadata": {
  "kernelspec": {
   "display_name": "Python 3 (ipykernel)",
   "language": "python",
   "name": "python3"
  },
  "language_info": {
   "codemirror_mode": {
    "name": "ipython",
    "version": 3
   },
   "file_extension": ".py",
   "mimetype": "text/x-python",
   "name": "python",
   "nbconvert_exporter": "python",
   "pygments_lexer": "ipython3",
   "version": "3.9.11"
  },
  "toc": {
   "base_numbering": 1,
   "nav_menu": {},
   "number_sections": true,
   "sideBar": true,
   "skip_h1_title": false,
   "title_cell": "Table of Contents",
   "title_sidebar": "Contents",
   "toc_cell": false,
   "toc_position": {
    "height": "calc(100% - 180px)",
    "left": "10px",
    "top": "150px",
    "width": "264.807px"
   },
   "toc_section_display": true,
   "toc_window_display": true
  }
 },
 "nbformat": 4,
 "nbformat_minor": 5
}
