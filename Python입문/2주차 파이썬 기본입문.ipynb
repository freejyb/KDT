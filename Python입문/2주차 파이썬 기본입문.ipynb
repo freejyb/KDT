{
 "cells": [
  {
   "cell_type": "markdown",
   "id": "344d6497",
   "metadata": {},
   "source": [
    "## 라이브러리 "
   ]
  },
  {
   "cell_type": "markdown",
   "id": "7a025db6",
   "metadata": {},
   "source": [
    "### 라이브러리 필요성"
   ]
  },
  {
   "cell_type": "code",
   "execution_count": 4,
   "id": "c2952014",
   "metadata": {},
   "outputs": [],
   "source": [
    "# 왜 필요하지? "
   ]
  },
  {
   "cell_type": "code",
   "execution_count": 73,
   "id": "5eb01d15",
   "metadata": {},
   "outputs": [],
   "source": [
    "# + - *  ** / "
   ]
  },
  {
   "cell_type": "code",
   "execution_count": 6,
   "id": "39a424f2",
   "metadata": {},
   "outputs": [
    {
     "data": {
      "text/plain": [
       "7"
      ]
     },
     "execution_count": 6,
     "metadata": {},
     "output_type": "execute_result"
    }
   ],
   "source": [
    "3+4\n"
   ]
  },
  {
   "cell_type": "code",
   "execution_count": 7,
   "id": "3e2dc242",
   "metadata": {},
   "outputs": [
    {
     "data": {
      "text/plain": [
       "200"
      ]
     },
     "execution_count": 7,
     "metadata": {},
     "output_type": "execute_result"
    }
   ],
   "source": [
    "100*2"
   ]
  },
  {
   "cell_type": "code",
   "execution_count": 8,
   "id": "b2492e21",
   "metadata": {},
   "outputs": [
    {
     "data": {
      "text/plain": [
       "20"
      ]
     },
     "execution_count": 8,
     "metadata": {},
     "output_type": "execute_result"
    }
   ],
   "source": [
    "10*2"
   ]
  },
  {
   "cell_type": "code",
   "execution_count": 11,
   "id": "ad65b5bd",
   "metadata": {},
   "outputs": [
    {
     "data": {
      "text/plain": [
       "100"
      ]
     },
     "execution_count": 11,
     "metadata": {},
     "output_type": "execute_result"
    }
   ],
   "source": [
    "10**2"
   ]
  },
  {
   "cell_type": "code",
   "execution_count": 78,
   "id": "2961c93c",
   "metadata": {},
   "outputs": [
    {
     "data": {
      "text/plain": [
       "1000"
      ]
     },
     "execution_count": 78,
     "metadata": {},
     "output_type": "execute_result"
    }
   ],
   "source": [
    "10**3"
   ]
  },
  {
   "cell_type": "code",
   "execution_count": 12,
   "id": "becd45de",
   "metadata": {},
   "outputs": [
    {
     "ename": "NameError",
     "evalue": "name 'log' is not defined",
     "output_type": "error",
     "traceback": [
      "\u001b[1;31m---------------------------------------------------------------------------\u001b[0m",
      "\u001b[1;31mNameError\u001b[0m                                 Traceback (most recent call last)",
      "\u001b[1;32m~\\AppData\\Local\\Temp/ipykernel_3892/2112665081.py\u001b[0m in \u001b[0;36m<module>\u001b[1;34m\u001b[0m\n\u001b[0;32m      1\u001b[0m \u001b[1;31m# 오류 발생\u001b[0m\u001b[1;33m\u001b[0m\u001b[1;33m\u001b[0m\u001b[0m\n\u001b[1;32m----> 2\u001b[1;33m \u001b[0mlog\u001b[0m\u001b[1;33m(\u001b[0m\u001b[1;36m10\u001b[0m\u001b[1;33m)\u001b[0m\u001b[1;33m\u001b[0m\u001b[1;33m\u001b[0m\u001b[0m\n\u001b[0m",
      "\u001b[1;31mNameError\u001b[0m: name 'log' is not defined"
     ]
    }
   ],
   "source": [
    "# 오류 발생\n",
    "log(10)"
   ]
  },
  {
   "cell_type": "code",
   "execution_count": 80,
   "id": "6334f61e",
   "metadata": {},
   "outputs": [
    {
     "name": "stdout",
     "output_type": "stream",
     "text": [
      "The Zen of Python, by Tim Peters\n",
      "\n",
      "Beautiful is better than ugly.\n",
      "Explicit is better than implicit.\n",
      "Simple is better than complex.\n",
      "Complex is better than complicated.\n",
      "Flat is better than nested.\n",
      "Sparse is better than dense.\n",
      "Readability counts.\n",
      "Special cases aren't special enough to break the rules.\n",
      "Although practicality beats purity.\n",
      "Errors should never pass silently.\n",
      "Unless explicitly silenced.\n",
      "In the face of ambiguity, refuse the temptation to guess.\n",
      "There should be one-- and preferably only one --obvious way to do it.\n",
      "Although that way may not be obvious at first unless you're Dutch.\n",
      "Now is better than never.\n",
      "Although never is often better than *right* now.\n",
      "If the implementation is hard to explain, it's a bad idea.\n",
      "If the implementation is easy to explain, it may be a good idea.\n",
      "Namespaces are one honking great idea -- let's do more of those!\n"
     ]
    }
   ],
   "source": [
    "import this"
   ]
  },
  {
   "cell_type": "code",
   "execution_count": 14,
   "id": "fce931d5",
   "metadata": {},
   "outputs": [],
   "source": [
    "import math"
   ]
  },
  {
   "cell_type": "code",
   "execution_count": 17,
   "id": "61c28d83",
   "metadata": {},
   "outputs": [
    {
     "data": {
      "text/plain": [
       "2.302585092994046"
      ]
     },
     "execution_count": 17,
     "metadata": {},
     "output_type": "execute_result"
    }
   ],
   "source": [
    "# math 모듈(Math Module)\n",
    "# 복잡한 연산이 필요한 경우 math 모듈을 사용\n",
    "import math\n",
    "math.log(10)"
   ]
  },
  {
   "cell_type": "code",
   "execution_count": 83,
   "id": "dba8e870",
   "metadata": {},
   "outputs": [],
   "source": [
    "# 스타임포트 방식(한꺼번에 임포트함. 이름공간과 관련된 모호성 문제)\n",
    "# from 모듈명 import 뒤에 * 을 입력 : 그 모듈에 내포된 모든 함수를 로드하여 별다른 수식 없이 함수를 모두 사용 가능\n",
    "from math import *  "
   ]
  },
  {
   "cell_type": "code",
   "execution_count": 84,
   "id": "5ba68ccc",
   "metadata": {},
   "outputs": [
    {
     "data": {
      "text/plain": [
       "2.302585092994046"
      ]
     },
     "execution_count": 84,
     "metadata": {},
     "output_type": "execute_result"
    }
   ],
   "source": [
    "log(10)"
   ]
  },
  {
   "cell_type": "markdown",
   "id": "72e6f9e8",
   "metadata": {},
   "source": [
    "### 라이브러리 (Library) /패키지/모듈"
   ]
  },
  {
   "cell_type": "code",
   "execution_count": 85,
   "id": "2d06380a",
   "metadata": {},
   "outputs": [],
   "source": [
    "# 함수:  미리 정한 동작을 수행하는 코드를 묶은 것을 의미 "
   ]
  },
  {
   "cell_type": "code",
   "execution_count": 86,
   "id": "c0bab039",
   "metadata": {},
   "outputs": [],
   "source": [
    "# 모듈(module) : 전역변수, 함수, 클래스 등을 모아놓은 .py 확장자를 가진 파일"
   ]
  },
  {
   "cell_type": "code",
   "execution_count": 87,
   "id": "e9c8ab20",
   "metadata": {},
   "outputs": [],
   "source": [
    "# 패키지(package)\n",
    "#: 모듈의 묶음; 여러 모듈들을 하나의 상위 폴더에 넣어 놓은 것\n",
    "\n"
   ]
  },
  {
   "cell_type": "code",
   "execution_count": 88,
   "id": "5520b281",
   "metadata": {},
   "outputs": [],
   "source": [
    "# 라이브러리 (Library) \n",
    "\n",
    "# 개발자가 코드를 처음부터 작성할 필요가 없도록 Python 프로그램에 포함시킬 수 있는 자주 사용되는 코드 모음(도서관) \n",
    "\n",
    "# 라이브러리는 개발자가 반복적으로 사용하는 기능을 모듈화하여 재사용 가능하도록 한 것으로, 이를 통해 코드의 효율성을 높이고 개발 시간을 단축할 수 있습니다.\n",
    "\n",
    "# 라이브러리는 일반적으로 특정 목적을 달성하기 위한 여러 모듈과 함수로 구성되며, 다양한 형태와 규모로 제공됩니다. 예를 들어, 데이터 분석을 위한 라이브러리, 웹 개발을 위한 라이브러리, 그래픽을 위한 라이브러리 등이 있습니다.\n",
    "\n",
    "\n",
    "# Python에는 재사용 가능한 많은 함수를 포함하는 표준 라이브러리가 제공\n",
    "# 필요할 때마다 설치 하면 됨\n",
    "# 라이브러리 > 패키지 > 모듈 "
   ]
  },
  {
   "cell_type": "code",
   "execution_count": 89,
   "id": "56eb9e4b",
   "metadata": {},
   "outputs": [],
   "source": [
    "# 라이브러리를 사용하는 이유와 장점은 다음과 같습니다:\n",
    "\n",
    "# 재사용성:\n",
    "\n",
    "# 이미 검증된 코드를 사용하여 신뢰성을 높일 수 있습니다.\n",
    "# 반복적인 코딩 작업을 줄여 개발 효율성을 높일 수 있습니다.\n",
    "# 생산성 향상:\n",
    "\n",
    "# 복잡한 기능을 직접 구현하는 대신 라이브러리를 사용하여 개발 속도를 높일 수 있습니다.\n",
    "# 풍부한 기능을 제공하는 라이브러리를 통해 다양한 문제를 신속하게 해결할 수 있습니다.\n",
    "# 코드 품질 향상:\n",
    "\n",
    "# 라이브러리는 여러 개발자들에 의해 테스트되고 개선되므로, 높은 품질의 코드를 제공받을 수 있습니다.\n",
    "# 표준화된 방식으로 작성된 코드를 사용함으로써 일관성을 유지할 수 있습니다.\n",
    "# 커뮤니티 및 지원:\n",
    "\n",
    "# 인기 있는 라이브러리는 대규모 커뮤니티가 있어 다양한 문서, 튜토리얼, 포럼 등을 통해 지원을 받을 수 있습니다.\n",
    "# 정기적인 업데이트와 버그 수정이 이루어져 안정성과 기능이 지속적으로 향상됩니다."
   ]
  },
  {
   "cell_type": "markdown",
   "id": "77e2044b",
   "metadata": {},
   "source": [
    "### 설치되어 있는 라이브러리 보기"
   ]
  },
  {
   "cell_type": "code",
   "execution_count": 90,
   "id": "4a80d5fe",
   "metadata": {},
   "outputs": [
    {
     "name": "stdout",
     "output_type": "stream",
     "text": [
      "Package                      Version\n",
      "---------------------------- ------------\n",
      "absl-py                      2.1.0\n",
      "ansi2html                    1.6.0\n",
      "appdirs                      1.4.4\n",
      "arelle                       2.2Note: you may need to restart the kernel to use updated packages.\n",
      "argon2-cffi                  20.1.0\n",
      "astor                        0.8.1\n",
      "\n"
     ]
    },
    {
     "name": "stderr",
     "output_type": "stream",
     "text": [
      "WARNING: Ignoring invalid distribution -atplotlib (c:\\users\\jyb\\appdata\\local\\programs\\python\\python39\\lib\\site-packages)\n",
      "WARNING: Ignoring invalid distribution -illow (c:\\users\\jyb\\appdata\\local\\programs\\python\\python39\\lib\\site-packages)\n"
     ]
    },
    {
     "name": "stdout",
     "output_type": "stream",
     "text": [
      "astunparse                   1.6.3\n",
      "async-generator              1.10\n",
      "atomicwrites                 1.4.0\n",
      "attrs                        21.2.0\n",
      "backcall                     0.2.0\n",
      "Backtesting                  0.3.2\n",
      "backtrader                   1.9.76.123\n",
      "beautifulsoup4               4.9.3\n",
      "bleach                       3.3.0\n",
      "bokeh                        2.4.2\n",
      "branca                       0.5.0\n",
      "Brotli                       1.0.9\n",
      "bs4                          0.0.1\n",
      "bt                           0.2.9\n",
      "cachetools                   4.2.2\n",
      "certifi                      2021.5.30\n",
      "cffi                         1.14.6\n",
      "chardet                      4.0.0\n",
      "charset-normalizer           2.0.1\n",
      "chart-studio                 1.1.0\n",
      "clarabel                     0.6.0\n",
      "click                        8.0.1\n",
      "cloudpickle                  3.0.0\n",
      "cmdstanpy                    1.1.0\n",
      "colorama                     0.4.4\n",
      "colorlover                   0.3.0\n",
      "colour                       0.1.5\n",
      "contourpy                    1.2.1\n",
      "convertdate                  2.3.2\n",
      "cssselect                    1.1.0\n",
      "cufflinks                    0.17.3\n",
      "cvxopt                       1.3.2\n",
      "cvxpy                        1.4.1\n",
      "cycler                       0.12.1\n",
      "Cython                       0.29.24\n",
      "dart-fss                     0.3.17\n",
      "dash                         1.21.0\n",
      "dash-core-components         1.17.1\n",
      "dash-html-components         1.1.4\n",
      "dash-table                   4.12.0\n",
      "datapungi_fed                0.3.1\n",
      "DateTime                     4.3\n",
      "debugpy                      1.3.0\n",
      "decorator                    5.0.9\n",
      "defusedxml                   0.7.1\n",
      "Deprecated                   1.2.12\n",
      "dtreeviz                     2.2.2\n",
      "ecos                         2.0.12\n",
      "empyrical                    0.5.5\n",
      "entrypoints                  0.3\n",
      "ephem                        4.0.0.2\n",
      "et-xmlfile                   1.1.0\n",
      "fake-useragent               0.1.11\n",
      "feedparser                   6.0.8\n",
      "ffn                          0.3.6\n",
      "finance-datareader           0.9.50\n",
      "Flask                        2.0.1\n",
      "Flask-Compress               1.10.1\n",
      "flatbuffers                  24.3.25\n",
      "folium                       0.12.1.post1\n",
      "fonttools                    4.53.1\n",
      "formulaic                    0.2.4\n",
      "fredapi                      0.4.3\n",
      "fsspec                       2021.8.1\n",
      "full-fred                    0.0.9a3\n",
      "future                       0.18.2\n",
      "gast                         0.4.0\n",
      "google-auth                  1.33.1\n",
      "google-auth-oauthlib         0.4.4\n",
      "google-pasta                 0.2.0\n",
      "graphviz                     0.20.1\n",
      "grpcio                       1.64.1\n",
      "h5py                         3.11.0\n",
      "halo                         0.0.31\n",
      "hijri-converter              2.1.3\n",
      "holidays                     0.21\n",
      "html5lib                     1.1\n",
      "idna                         3.2\n",
      "imageio                      2.34.1\n",
      "importlib-metadata           4.10.0\n",
      "importlib_resources          6.4.3\n",
      "inflection                   0.5.1\n",
      "iniconfig                    1.1.1\n",
      "interface-meta               1.2.4\n",
      "ipykernel                    6.0.1\n",
      "ipython                      7.25.0\n",
      "ipython-genutils             0.2.0\n",
      "ipywidgets                   7.6.4\n",
      "isodate                      0.6.1\n",
      "itsdangerous                 2.0.1\n",
      "jedi                         0.18.0\n",
      "Jinja2                       3.0.1\n",
      "joblib                       1.0.1\n",
      "jsonschema                   3.2.0\n",
      "jupyter                      1.0.0\n",
      "jupyter-client               6.1.12\n",
      "jupyter-console              6.4.0\n",
      "jupyter-core                 4.7.1\n",
      "jupyter-dash                 0.4.0\n",
      "jupyterlab-pygments          0.1.2\n",
      "jupyterlab-widgets           1.0.1\n",
      "keras                        3.3.3\n",
      "keyring                      23.5.0\n",
      "kiwisolver                   1.4.5\n",
      "korean-lunar-calendar        0.2.1\n",
      "lazy_loader                  0.4\n",
      "libclang                     18.1.1\n",
      "lightgbm                     4.3.0\n",
      "lime                         0.2.0.1\n",
      "linearmodels                 4.25\n",
      "littleutils                  0.2.2\n",
      "llvmlite                     0.42.0\n",
      "log-symbols                  0.0.14\n",
      "LunarCalendar                0.0.9\n",
      "lxml                         4.6.3\n",
      "Markdown                     3.3.4\n",
      "markdown-it-py               3.0.0\n",
      "MarkupSafe                   2.0.1\n",
      "matplotlib                   3.9.2\n",
      "matplotlib-inline            0.1.7\n",
      "mdurl                        0.1.2\n",
      "missingno                    0.5.1\n",
      "mistune                      0.8.4\n",
      "ml-dtypes                    0.3.2\n",
      "more-itertools               10.1.0\n",
      "mpl-finance                  0.10.1\n",
      "mplcyberpunk                 0.7.1\n",
      "mplfinance                   0.12.9b1\n",
      "multitasking                 0.0.9\n",
      "mypy-extensions              0.4.3\n",
      "namex                        0.0.8\n",
      "Nasdaq-Data-Link             1.0.4\n",
      "nbclient                     0.5.3\n",
      "nbconvert                    6.1.0\n",
      "nbformat                     5.1.3\n",
      "nest-asyncio                 1.5.1\n",
      "networkx                     3.2.1\n",
      "nltk                         3.7\n",
      "notebook                     6.4.0\n",
      "numba                        0.59.1\n",
      "numpy                        2.0.1\n",
      "oauthlib                     3.1.1\n",
      "OpenDartReader               0.1.1\n",
      "openpyxl                     3.1.5\n",
      "opstrat                      0.1.7\n",
      "opt-einsum                   3.3.0\n",
      "optree                       0.11.0\n",
      "osqp                         0.6.3\n",
      "outdated                     0.2.1\n",
      "packaging                    24.1\n",
      "pandas                       2.2.2\n",
      "pandas-datareader            0.10.0\n",
      "pandocfilters                1.4.3\n",
      "parse                        1.19.0\n",
      "parso                        0.8.2\n",
      "patsy                        0.5.6\n",
      "pickleshare                  0.7.5\n",
      "pillow                       10.4.0\n",
      "pingouin                     0.5.3\n",
      "pip                          24.2\n",
      "plotly                       5.14.1\n",
      "plotly-express               0.4.1\n",
      "pluggy                       1.0.0\n",
      "prometheus-client            0.11.0\n"
     ]
    }
   ],
   "source": [
    "pip list"
   ]
  },
  {
   "cell_type": "markdown",
   "id": "e79ca9af",
   "metadata": {},
   "source": [
    "### 필요한 라이브러리 설치"
   ]
  },
  {
   "cell_type": "code",
   "execution_count": 91,
   "id": "83597ad2",
   "metadata": {},
   "outputs": [
    {
     "name": "stdout",
     "output_type": "stream",
     "text": [
      "prompt-toolkit               3.0.19\n",
      "property-cached              1.6.4\n",
      "prophet                      1.1.2\n",
      "protobuf                     3.20.3\n",
      "psycopg2                     2.9.3\n",
      "PuLP                         2.7.0\n",
      "py                           1.11.0\n",
      "pyasn1                       0.4.8\n",
      "pyasn1-modules               0.2.8\n",
      "pybind11                     2.11.1\n",
      "pycparser                    2.20\n",
      "pyee                         8.2.2\n",
      "pyfolio                      0.9.2\n",
      "Pygments                     2.18.0\n",
      "pyhdfe                       0.1.0\n",
      "pykrx                        1.0.17\n",
      "PyMeeus                      0.5.11\n",
      "pyparsing                    3.1.2\n",
      "pyperclip                    1.8.2\n",
      "pypi                         2.1\n",
      "pyppeteer                    0.2.6\n",
      "PyPrind                      2.11.3\n",
      "pyquery                      1.4.3\n",
      "pyrsistent                   0.18.0\n",
      "pytest                       6.2.5\n",
      "pytest-html                  3.1.1\n",
      "pytest-metadata              1.11.0\n",
      "python-dateutil              2.9.0.post0\n",
      "pytz                         2021.1\n",
      "pywin32                      301\n",
      "pywin32-ctypes               0.2.0\n",
      "pywinpty                     1.1.3\n",
      "PyYAML                       6.0\n",
      "pyzmq                        22.1.0\n",
      "qdldl                        0.1.7.post0\n",
      "qtconsole                    5.1.1\n",
      "QtPy                         1.11.0\n",
      "QuantLib                     1.25\n",
      "QuantLib-Python              1.18\n",
      "regex                        2022.1.18\n",
      "requests                     2.26.0\n",
      "requests-file                1.5.1\n",
      "requests-ftp                 0.3.1\n",
      "requests-html                0.10.0\n",
      "requests-oauthlib            1.3.0\n",
      "retrying                     1.3.3\n",
      "rich                         13.7.1\n",
      "rsa                          4.7.2\n",
      "scikit-image                 0.22.0\n",
      "scikit-learn                 0.24.2\n",
      "scipy                        1.13.1\n",
      "scs                          3.2.4.post1\n",
      "seaborn                      0.11.1\n",
      "Send2Trash                   1.7.1\n",
      "setuptools                   73.0.1\n",
      "setuptools-git               1.2\n",
      "sgmllib3k                    1.0.0\n",
      "shap                         0.45.1\n",
      "six                          1.16.0\n",
      "sklearn                      0.0\n",
      "slicer                       0.0.8\n",
      "soupsieve                    2.2.1\n",
      "spinners                     0.0.24\n",
      "statsmodels                  0.14.2\n",
      "tabulate                     0.8.9\n",
      "tenacity                     8.0.1\n",
      "tensorboard                  2.16.2\n",
      "tensorboard-data-server      0.7.2\n",
      "tensorboard-plugin-wit       1.8.0\n",
      "tensorflow                   2.16.1\n",
      "tensorflow-intel             2.16.1\n",
      "tensorflow-io-gcs-filesystem 0.31.0\n",
      "termcolor                    1.1.0\n",
      "terminado                    0.10.1\n",
      "testpath                     0.5.0\n",
      "threadpoolctl                2.2.0\n",
      "tifffile                     2024.5.10\n",
      "toml                         0.10.2\n",
      "torch                        1.10.2\n",
      "tornado                      6.1\n",
      "tqdm                         4.61.2\n",
      "traitlets                    5.0.5\n",
      "typing_extensions            4.12.2\n",
      "tzdata                       2022.7\n",
      "ujson                        4.0.2\n",
      "urllib3                      1.26.6\n",
      "w3lib                        1.22.0\n",
      "wcwidth                      0.2.5\n",
      "webencodings                 0.5.1\n",
      "websockets                   9.1\n",
      "Werkzeug                     2.0.1\n",
      "wheel                        0.44.0\n",
      "widgetsnbextension           3.5.1\n",
      "wrapt                        1.12.1\n",
      "xarray                       0.20.2\n",
      "xgboost                      2.0.3\n",
      "xlrd                         2.0.1\n",
      "xmltodict                    0.13.0\n",
      "yahoo-fin                    0.8.9.1\n",
      "yahoofinancials              1.6\n",
      "yfinance                     0.1.63\n",
      "zipp                         3.20.0\n",
      "zope.interface               5.4.0\n"
     ]
    }
   ],
   "source": [
    "# pip install 필요한 라이브러리 명칭"
   ]
  },
  {
   "cell_type": "code",
   "execution_count": 92,
   "id": "ff888bcc",
   "metadata": {},
   "outputs": [
    {
     "name": "stdout",
     "output_type": "stream",
     "text": [
      "Requirement already satisfied: pandas in c:\\users\\jyb\\appdata\\local\\programs\\python\\python39\\lib\\site-packages (2.2.2)\n",
      "Requirement already satisfied: numpy>=1.22.4 in c:\\users\\jyb\\appdata\\local\\programs\\python\\python39\\lib\\site-packages (from pandas) (2.0.1)\n",
      "Requirement already satisfied: python-dateutil>=2.8.2 in c:\\users\\jyb\\appdata\\local\\programs\\python\\python39\\lib\\site-packages (from pandas) (2.9.0.post0)\n",
      "Requirement already satisfied: pytz>=2020.1 in c:\\users\\jyb\\appdata\\local\\programs\\python\\python39\\lib\\site-packages (from pandas) (2021.1)\n",
      "Requirement already satisfied: tzdata>=2022.7 in c:\\users\\jyb\\appdata\\local\\programs\\python\\python39\\lib\\site-packages (from pandas) (2022.7)\n",
      "Requirement already satisfied: six>=1.5 in c:\\users\\jyb\\appdata\\local\\programs\\python\\python39\\lib\\site-packages (from python-dateutil>=2.8.2->pandas) (1.16.0)\n"
     ]
    },
    {
     "name": "stderr",
     "output_type": "stream",
     "text": [
      "WARNING: Ignoring invalid distribution -atplotlib (c:\\users\\jyb\\appdata\\local\\programs\\python\\python39\\lib\\site-packages)\n",
      "WARNING: Ignoring invalid distribution -illow (c:\\users\\jyb\\appdata\\local\\programs\\python\\python39\\lib\\site-packages)\n",
      "WARNING: Error parsing dependencies of ipykernel: Expected matching RIGHT_PARENTHESIS for LEFT_PARENTHESIS, after version specifier\n",
      "    matplotlib-inline (<0.2.0appnope,>=0.1.0) ; platform_system == \"Darwin\"\n",
      "                      ~~~~~~~~^\n",
      "WARNING: Ignoring invalid distribution -atplotlib (c:\\users\\jyb\\appdata\\local\\programs\\python\\python39\\lib\\site-packages)\n",
      "WARNING: Ignoring invalid distribution -illow (c:\\users\\jyb\\appdata\\local\\programs\\python\\python39\\lib\\site-packages)\n",
      "WARNING: Ignoring invalid distribution -atplotlib (c:\\users\\jyb\\appdata\\local\\programs\\python\\python39\\lib\\site-packages)\n",
      "WARNING: Ignoring invalid distribution -illow (c:\\users\\jyb\\appdata\\local\\programs\\python\\python39\\lib\\site-packages)\n"
     ]
    }
   ],
   "source": [
    "# pandas 설치\n",
    "!pip install pandas"
   ]
  },
  {
   "cell_type": "markdown",
   "id": "29adf628",
   "metadata": {},
   "source": [
    "### 라이브러리 불러오기"
   ]
  },
  {
   "cell_type": "markdown",
   "id": "72ae6353",
   "metadata": {},
   "source": [
    "#### 1. import 라이브러리\n",
    "#### 2. import 라이브러리 as 별칭\n",
    "#### 3. from 라이브러리 import 함수명칭"
   ]
  },
  {
   "cell_type": "code",
   "execution_count": 19,
   "id": "82b526ae",
   "metadata": {},
   "outputs": [],
   "source": [
    "# 1. import 방법 :  import 모듈명\n",
    "import numpy"
   ]
  },
  {
   "cell_type": "code",
   "execution_count": 94,
   "id": "33667416",
   "metadata": {},
   "outputs": [],
   "source": [
    "# 2. 별칭 (alias) 를 as로 지정하여 간편하게 불러오는 방법"
   ]
  },
  {
   "cell_type": "code",
   "execution_count": 22,
   "id": "2a10977f",
   "metadata": {},
   "outputs": [],
   "source": [
    "import numpy as np   "
   ]
  },
  {
   "cell_type": "code",
   "execution_count": 23,
   "id": "32a21b7f",
   "metadata": {},
   "outputs": [],
   "source": [
    "import pandas as pd  "
   ]
  },
  {
   "cell_type": "code",
   "execution_count": 97,
   "id": "cb6a024a",
   "metadata": {},
   "outputs": [],
   "source": [
    "# from 모듈명 import 뒤에 * 을 입력 : 그 모듈에 내포된 모든 함수를 로드하여 별다른 수식 없이 함수를 모두 사용 가능\n",
    "from math import* "
   ]
  },
  {
   "cell_type": "code",
   "execution_count": 98,
   "id": "5f6a9b7a",
   "metadata": {},
   "outputs": [],
   "source": [
    "# 금융데이터분석/범죄데이터분석 등 실무에서 주로 사용되는 라이브러이\n",
    "# import pandas as pd\n",
    "# import numpy as np\n",
    "# import statsmodels.api as sm\n",
    "# import seaborn as sns"
   ]
  },
  {
   "cell_type": "code",
   "execution_count": 24,
   "id": "31f49bc0",
   "metadata": {},
   "outputs": [
    {
     "data": {
      "text/plain": [
       "['False_',\n",
       " 'ScalarType',\n",
       " 'True_',\n",
       " '_CopyMode',\n",
       " '_NoValue',\n",
       " '__NUMPY_SETUP__',\n",
       " '__all__',\n",
       " '__array_api_version__',\n",
       " '__builtins__',\n",
       " '__cached__',\n",
       " '__config__',\n",
       " '__dir__',\n",
       " '__doc__',\n",
       " '__expired_attributes__',\n",
       " '__file__',\n",
       " '__former_attrs__',\n",
       " '__future_scalars__',\n",
       " '__getattr__',\n",
       " '__loader__',\n",
       " '__name__',\n",
       " '__numpy_submodules__',\n",
       " '__package__',\n",
       " '__path__',\n",
       " '__spec__',\n",
       " '__version__',\n",
       " '_core',\n",
       " '_distributor_init',\n",
       " '_expired_attrs_2_0',\n",
       " '_get_promotion_state',\n",
       " '_globals',\n",
       " '_int_extended_msg',\n",
       " '_mat',\n",
       " '_msg',\n",
       " '_no_nep50_warning',\n",
       " '_pyinstaller_hooks_dir',\n",
       " '_pytesttester',\n",
       " '_set_promotion_state',\n",
       " '_specific_msg',\n",
       " '_type_info',\n",
       " '_typing',\n",
       " '_utils',\n",
       " 'abs',\n",
       " 'absolute',\n",
       " 'acos',\n",
       " 'acosh',\n",
       " 'add',\n",
       " 'all',\n",
       " 'allclose',\n",
       " 'amax',\n",
       " 'amin',\n",
       " 'angle',\n",
       " 'any',\n",
       " 'append',\n",
       " 'apply_along_axis',\n",
       " 'apply_over_axes',\n",
       " 'arange',\n",
       " 'arccos',\n",
       " 'arccosh',\n",
       " 'arcsin',\n",
       " 'arcsinh',\n",
       " 'arctan',\n",
       " 'arctan2',\n",
       " 'arctanh',\n",
       " 'argmax',\n",
       " 'argmin',\n",
       " 'argpartition',\n",
       " 'argsort',\n",
       " 'argwhere',\n",
       " 'around',\n",
       " 'array',\n",
       " 'array2string',\n",
       " 'array_equal',\n",
       " 'array_equiv',\n",
       " 'array_repr',\n",
       " 'array_split',\n",
       " 'array_str',\n",
       " 'asanyarray',\n",
       " 'asarray',\n",
       " 'asarray_chkfinite',\n",
       " 'ascontiguousarray',\n",
       " 'asfortranarray',\n",
       " 'asin',\n",
       " 'asinh',\n",
       " 'asmatrix',\n",
       " 'astype',\n",
       " 'atan',\n",
       " 'atan2',\n",
       " 'atanh',\n",
       " 'atleast_1d',\n",
       " 'atleast_2d',\n",
       " 'atleast_3d',\n",
       " 'average',\n",
       " 'bartlett',\n",
       " 'base_repr',\n",
       " 'binary_repr',\n",
       " 'bincount',\n",
       " 'bitwise_and',\n",
       " 'bitwise_count',\n",
       " 'bitwise_invert',\n",
       " 'bitwise_left_shift',\n",
       " 'bitwise_not',\n",
       " 'bitwise_or',\n",
       " 'bitwise_right_shift',\n",
       " 'bitwise_xor',\n",
       " 'blackman',\n",
       " 'block',\n",
       " 'bmat',\n",
       " 'bool',\n",
       " 'bool_',\n",
       " 'broadcast',\n",
       " 'broadcast_arrays',\n",
       " 'broadcast_shapes',\n",
       " 'broadcast_to',\n",
       " 'busday_count',\n",
       " 'busday_offset',\n",
       " 'busdaycalendar',\n",
       " 'byte',\n",
       " 'bytes_',\n",
       " 'c_',\n",
       " 'can_cast',\n",
       " 'cbrt',\n",
       " 'cdouble',\n",
       " 'ceil',\n",
       " 'char',\n",
       " 'character',\n",
       " 'choose',\n",
       " 'clip',\n",
       " 'clongdouble',\n",
       " 'column_stack',\n",
       " 'common_type',\n",
       " 'complex128',\n",
       " 'complex64',\n",
       " 'complexfloating',\n",
       " 'compress',\n",
       " 'concat',\n",
       " 'concatenate',\n",
       " 'conj',\n",
       " 'conjugate',\n",
       " 'convolve',\n",
       " 'copy',\n",
       " 'copysign',\n",
       " 'copyto',\n",
       " 'core',\n",
       " 'corrcoef',\n",
       " 'correlate',\n",
       " 'cos',\n",
       " 'cosh',\n",
       " 'count_nonzero',\n",
       " 'cov',\n",
       " 'cross',\n",
       " 'csingle',\n",
       " 'ctypeslib',\n",
       " 'cumprod',\n",
       " 'cumsum',\n",
       " 'datetime64',\n",
       " 'datetime_as_string',\n",
       " 'datetime_data',\n",
       " 'deg2rad',\n",
       " 'degrees',\n",
       " 'delete',\n",
       " 'diag',\n",
       " 'diag_indices',\n",
       " 'diag_indices_from',\n",
       " 'diagflat',\n",
       " 'diagonal',\n",
       " 'diff',\n",
       " 'digitize',\n",
       " 'divide',\n",
       " 'divmod',\n",
       " 'dot',\n",
       " 'double',\n",
       " 'dsplit',\n",
       " 'dstack',\n",
       " 'dtype',\n",
       " 'dtypes',\n",
       " 'e',\n",
       " 'ediff1d',\n",
       " 'einsum',\n",
       " 'einsum_path',\n",
       " 'emath',\n",
       " 'empty',\n",
       " 'empty_like',\n",
       " 'equal',\n",
       " 'errstate',\n",
       " 'euler_gamma',\n",
       " 'exceptions',\n",
       " 'exp',\n",
       " 'exp2',\n",
       " 'expand_dims',\n",
       " 'expm1',\n",
       " 'extract',\n",
       " 'eye',\n",
       " 'f2py',\n",
       " 'fabs',\n",
       " 'fft',\n",
       " 'fill_diagonal',\n",
       " 'finfo',\n",
       " 'fix',\n",
       " 'flatiter',\n",
       " 'flatnonzero',\n",
       " 'flexible',\n",
       " 'flip',\n",
       " 'fliplr',\n",
       " 'flipud',\n",
       " 'float16',\n",
       " 'float32',\n",
       " 'float64',\n",
       " 'float_power',\n",
       " 'floating',\n",
       " 'floor',\n",
       " 'floor_divide',\n",
       " 'fmax',\n",
       " 'fmin',\n",
       " 'fmod',\n",
       " 'format_float_positional',\n",
       " 'format_float_scientific',\n",
       " 'frexp',\n",
       " 'from_dlpack',\n",
       " 'frombuffer',\n",
       " 'fromfile',\n",
       " 'fromfunction',\n",
       " 'fromiter',\n",
       " 'frompyfunc',\n",
       " 'fromregex',\n",
       " 'fromstring',\n",
       " 'full',\n",
       " 'full_like',\n",
       " 'gcd',\n",
       " 'generic',\n",
       " 'genfromtxt',\n",
       " 'geomspace',\n",
       " 'get_include',\n",
       " 'get_printoptions',\n",
       " 'getbufsize',\n",
       " 'geterr',\n",
       " 'geterrcall',\n",
       " 'gradient',\n",
       " 'greater',\n",
       " 'greater_equal',\n",
       " 'half',\n",
       " 'hamming',\n",
       " 'hanning',\n",
       " 'heaviside',\n",
       " 'histogram',\n",
       " 'histogram2d',\n",
       " 'histogram_bin_edges',\n",
       " 'histogramdd',\n",
       " 'hsplit',\n",
       " 'hstack',\n",
       " 'hypot',\n",
       " 'i0',\n",
       " 'identity',\n",
       " 'iinfo',\n",
       " 'imag',\n",
       " 'in1d',\n",
       " 'index_exp',\n",
       " 'indices',\n",
       " 'inexact',\n",
       " 'inf',\n",
       " 'info',\n",
       " 'inner',\n",
       " 'insert',\n",
       " 'int16',\n",
       " 'int32',\n",
       " 'int64',\n",
       " 'int8',\n",
       " 'int_',\n",
       " 'intc',\n",
       " 'integer',\n",
       " 'interp',\n",
       " 'intersect1d',\n",
       " 'intp',\n",
       " 'invert',\n",
       " 'is_busday',\n",
       " 'isclose',\n",
       " 'iscomplex',\n",
       " 'iscomplexobj',\n",
       " 'isdtype',\n",
       " 'isfinite',\n",
       " 'isfortran',\n",
       " 'isin',\n",
       " 'isinf',\n",
       " 'isnan',\n",
       " 'isnat',\n",
       " 'isneginf',\n",
       " 'isposinf',\n",
       " 'isreal',\n",
       " 'isrealobj',\n",
       " 'isscalar',\n",
       " 'issubdtype',\n",
       " 'iterable',\n",
       " 'ix_',\n",
       " 'kaiser',\n",
       " 'kron',\n",
       " 'lcm',\n",
       " 'ldexp',\n",
       " 'left_shift',\n",
       " 'less',\n",
       " 'less_equal',\n",
       " 'lexsort',\n",
       " 'lib',\n",
       " 'linalg',\n",
       " 'linspace',\n",
       " 'little_endian',\n",
       " 'load',\n",
       " 'loadtxt',\n",
       " 'log',\n",
       " 'log10',\n",
       " 'log1p',\n",
       " 'log2',\n",
       " 'logaddexp',\n",
       " 'logaddexp2',\n",
       " 'logical_and',\n",
       " 'logical_not',\n",
       " 'logical_or',\n",
       " 'logical_xor',\n",
       " 'logspace',\n",
       " 'long',\n",
       " 'longdouble',\n",
       " 'longlong',\n",
       " 'ma',\n",
       " 'mask_indices',\n",
       " 'matmul',\n",
       " 'matrix',\n",
       " 'matrix_transpose',\n",
       " 'max',\n",
       " 'maximum',\n",
       " 'may_share_memory',\n",
       " 'mean',\n",
       " 'median',\n",
       " 'memmap',\n",
       " 'meshgrid',\n",
       " 'mgrid',\n",
       " 'min',\n",
       " 'min_scalar_type',\n",
       " 'minimum',\n",
       " 'mintypecode',\n",
       " 'mod',\n",
       " 'modf',\n",
       " 'moveaxis',\n",
       " 'multiply',\n",
       " 'nan',\n",
       " 'nan_to_num',\n",
       " 'nanargmax',\n",
       " 'nanargmin',\n",
       " 'nancumprod',\n",
       " 'nancumsum',\n",
       " 'nanmax',\n",
       " 'nanmean',\n",
       " 'nanmedian',\n",
       " 'nanmin',\n",
       " 'nanpercentile',\n",
       " 'nanprod',\n",
       " 'nanquantile',\n",
       " 'nanstd',\n",
       " 'nansum',\n",
       " 'nanvar',\n",
       " 'ndarray',\n",
       " 'ndenumerate',\n",
       " 'ndim',\n",
       " 'ndindex',\n",
       " 'nditer',\n",
       " 'negative',\n",
       " 'nested_iters',\n",
       " 'newaxis',\n",
       " 'nextafter',\n",
       " 'nonzero',\n",
       " 'not_equal',\n",
       " 'number',\n",
       " 'object_',\n",
       " 'ogrid',\n",
       " 'ones',\n",
       " 'ones_like',\n",
       " 'outer',\n",
       " 'packbits',\n",
       " 'pad',\n",
       " 'partition',\n",
       " 'percentile',\n",
       " 'permute_dims',\n",
       " 'pi',\n",
       " 'piecewise',\n",
       " 'place',\n",
       " 'poly',\n",
       " 'poly1d',\n",
       " 'polyadd',\n",
       " 'polyder',\n",
       " 'polydiv',\n",
       " 'polyfit',\n",
       " 'polyint',\n",
       " 'polymul',\n",
       " 'polynomial',\n",
       " 'polysub',\n",
       " 'polyval',\n",
       " 'positive',\n",
       " 'pow',\n",
       " 'power',\n",
       " 'printoptions',\n",
       " 'prod',\n",
       " 'promote_types',\n",
       " 'ptp',\n",
       " 'put',\n",
       " 'put_along_axis',\n",
       " 'putmask',\n",
       " 'quantile',\n",
       " 'r_',\n",
       " 'rad2deg',\n",
       " 'radians',\n",
       " 'random',\n",
       " 'ravel',\n",
       " 'ravel_multi_index',\n",
       " 'real',\n",
       " 'real_if_close',\n",
       " 'rec',\n",
       " 'recarray',\n",
       " 'reciprocal',\n",
       " 'record',\n",
       " 'remainder',\n",
       " 'repeat',\n",
       " 'require',\n",
       " 'reshape',\n",
       " 'resize',\n",
       " 'result_type',\n",
       " 'right_shift',\n",
       " 'rint',\n",
       " 'roll',\n",
       " 'rollaxis',\n",
       " 'roots',\n",
       " 'rot90',\n",
       " 'round',\n",
       " 'row_stack',\n",
       " 's_',\n",
       " 'save',\n",
       " 'savetxt',\n",
       " 'savez',\n",
       " 'savez_compressed',\n",
       " 'sctypeDict',\n",
       " 'searchsorted',\n",
       " 'select',\n",
       " 'set_printoptions',\n",
       " 'setbufsize',\n",
       " 'setdiff1d',\n",
       " 'seterr',\n",
       " 'seterrcall',\n",
       " 'setxor1d',\n",
       " 'shape',\n",
       " 'shares_memory',\n",
       " 'short',\n",
       " 'show_config',\n",
       " 'show_runtime',\n",
       " 'sign',\n",
       " 'signbit',\n",
       " 'signedinteger',\n",
       " 'sin',\n",
       " 'sinc',\n",
       " 'single',\n",
       " 'sinh',\n",
       " 'size',\n",
       " 'sort',\n",
       " 'sort_complex',\n",
       " 'spacing',\n",
       " 'split',\n",
       " 'sqrt',\n",
       " 'square',\n",
       " 'squeeze',\n",
       " 'stack',\n",
       " 'std',\n",
       " 'str_',\n",
       " 'strings',\n",
       " 'subtract',\n",
       " 'sum',\n",
       " 'swapaxes',\n",
       " 'take',\n",
       " 'take_along_axis',\n",
       " 'tan',\n",
       " 'tanh',\n",
       " 'tensordot',\n",
       " 'test',\n",
       " 'testing',\n",
       " 'tile',\n",
       " 'timedelta64',\n",
       " 'trace',\n",
       " 'transpose',\n",
       " 'trapezoid',\n",
       " 'trapz',\n",
       " 'tri',\n",
       " 'tril',\n",
       " 'tril_indices',\n",
       " 'tril_indices_from',\n",
       " 'trim_zeros',\n",
       " 'triu',\n",
       " 'triu_indices',\n",
       " 'triu_indices_from',\n",
       " 'true_divide',\n",
       " 'trunc',\n",
       " 'typecodes',\n",
       " 'typename',\n",
       " 'typing',\n",
       " 'ubyte',\n",
       " 'ufunc',\n",
       " 'uint',\n",
       " 'uint16',\n",
       " 'uint32',\n",
       " 'uint64',\n",
       " 'uint8',\n",
       " 'uintc',\n",
       " 'uintp',\n",
       " 'ulong',\n",
       " 'ulonglong',\n",
       " 'union1d',\n",
       " 'unique',\n",
       " 'unique_all',\n",
       " 'unique_counts',\n",
       " 'unique_inverse',\n",
       " 'unique_values',\n",
       " 'unpackbits',\n",
       " 'unravel_index',\n",
       " 'unsignedinteger',\n",
       " 'unwrap',\n",
       " 'ushort',\n",
       " 'vander',\n",
       " 'var',\n",
       " 'vdot',\n",
       " 'vecdot',\n",
       " 'vectorize',\n",
       " 'void',\n",
       " 'vsplit',\n",
       " 'vstack',\n",
       " 'where',\n",
       " 'zeros',\n",
       " 'zeros_like']"
      ]
     },
     "execution_count": 24,
     "metadata": {},
     "output_type": "execute_result"
    }
   ],
   "source": [
    "dir(numpy)"
   ]
  },
  {
   "cell_type": "code",
   "execution_count": 25,
   "id": "acd2cb49",
   "metadata": {},
   "outputs": [
    {
     "data": {
      "text/plain": [
       "['False_',\n",
       " 'ScalarType',\n",
       " 'True_',\n",
       " '_CopyMode',\n",
       " '_NoValue',\n",
       " '__NUMPY_SETUP__',\n",
       " '__all__',\n",
       " '__array_api_version__',\n",
       " '__builtins__',\n",
       " '__cached__',\n",
       " '__config__',\n",
       " '__dir__',\n",
       " '__doc__',\n",
       " '__expired_attributes__',\n",
       " '__file__',\n",
       " '__former_attrs__',\n",
       " '__future_scalars__',\n",
       " '__getattr__',\n",
       " '__loader__',\n",
       " '__name__',\n",
       " '__numpy_submodules__',\n",
       " '__package__',\n",
       " '__path__',\n",
       " '__spec__',\n",
       " '__version__',\n",
       " '_core',\n",
       " '_distributor_init',\n",
       " '_expired_attrs_2_0',\n",
       " '_get_promotion_state',\n",
       " '_globals',\n",
       " '_int_extended_msg',\n",
       " '_mat',\n",
       " '_msg',\n",
       " '_no_nep50_warning',\n",
       " '_pyinstaller_hooks_dir',\n",
       " '_pytesttester',\n",
       " '_set_promotion_state',\n",
       " '_specific_msg',\n",
       " '_type_info',\n",
       " '_typing',\n",
       " '_utils',\n",
       " 'abs',\n",
       " 'absolute',\n",
       " 'acos',\n",
       " 'acosh',\n",
       " 'add',\n",
       " 'all',\n",
       " 'allclose',\n",
       " 'amax',\n",
       " 'amin',\n",
       " 'angle',\n",
       " 'any',\n",
       " 'append',\n",
       " 'apply_along_axis',\n",
       " 'apply_over_axes',\n",
       " 'arange',\n",
       " 'arccos',\n",
       " 'arccosh',\n",
       " 'arcsin',\n",
       " 'arcsinh',\n",
       " 'arctan',\n",
       " 'arctan2',\n",
       " 'arctanh',\n",
       " 'argmax',\n",
       " 'argmin',\n",
       " 'argpartition',\n",
       " 'argsort',\n",
       " 'argwhere',\n",
       " 'around',\n",
       " 'array',\n",
       " 'array2string',\n",
       " 'array_equal',\n",
       " 'array_equiv',\n",
       " 'array_repr',\n",
       " 'array_split',\n",
       " 'array_str',\n",
       " 'asanyarray',\n",
       " 'asarray',\n",
       " 'asarray_chkfinite',\n",
       " 'ascontiguousarray',\n",
       " 'asfortranarray',\n",
       " 'asin',\n",
       " 'asinh',\n",
       " 'asmatrix',\n",
       " 'astype',\n",
       " 'atan',\n",
       " 'atan2',\n",
       " 'atanh',\n",
       " 'atleast_1d',\n",
       " 'atleast_2d',\n",
       " 'atleast_3d',\n",
       " 'average',\n",
       " 'bartlett',\n",
       " 'base_repr',\n",
       " 'binary_repr',\n",
       " 'bincount',\n",
       " 'bitwise_and',\n",
       " 'bitwise_count',\n",
       " 'bitwise_invert',\n",
       " 'bitwise_left_shift',\n",
       " 'bitwise_not',\n",
       " 'bitwise_or',\n",
       " 'bitwise_right_shift',\n",
       " 'bitwise_xor',\n",
       " 'blackman',\n",
       " 'block',\n",
       " 'bmat',\n",
       " 'bool',\n",
       " 'bool_',\n",
       " 'broadcast',\n",
       " 'broadcast_arrays',\n",
       " 'broadcast_shapes',\n",
       " 'broadcast_to',\n",
       " 'busday_count',\n",
       " 'busday_offset',\n",
       " 'busdaycalendar',\n",
       " 'byte',\n",
       " 'bytes_',\n",
       " 'c_',\n",
       " 'can_cast',\n",
       " 'cbrt',\n",
       " 'cdouble',\n",
       " 'ceil',\n",
       " 'char',\n",
       " 'character',\n",
       " 'choose',\n",
       " 'clip',\n",
       " 'clongdouble',\n",
       " 'column_stack',\n",
       " 'common_type',\n",
       " 'complex128',\n",
       " 'complex64',\n",
       " 'complexfloating',\n",
       " 'compress',\n",
       " 'concat',\n",
       " 'concatenate',\n",
       " 'conj',\n",
       " 'conjugate',\n",
       " 'convolve',\n",
       " 'copy',\n",
       " 'copysign',\n",
       " 'copyto',\n",
       " 'core',\n",
       " 'corrcoef',\n",
       " 'correlate',\n",
       " 'cos',\n",
       " 'cosh',\n",
       " 'count_nonzero',\n",
       " 'cov',\n",
       " 'cross',\n",
       " 'csingle',\n",
       " 'ctypeslib',\n",
       " 'cumprod',\n",
       " 'cumsum',\n",
       " 'datetime64',\n",
       " 'datetime_as_string',\n",
       " 'datetime_data',\n",
       " 'deg2rad',\n",
       " 'degrees',\n",
       " 'delete',\n",
       " 'diag',\n",
       " 'diag_indices',\n",
       " 'diag_indices_from',\n",
       " 'diagflat',\n",
       " 'diagonal',\n",
       " 'diff',\n",
       " 'digitize',\n",
       " 'divide',\n",
       " 'divmod',\n",
       " 'dot',\n",
       " 'double',\n",
       " 'dsplit',\n",
       " 'dstack',\n",
       " 'dtype',\n",
       " 'dtypes',\n",
       " 'e',\n",
       " 'ediff1d',\n",
       " 'einsum',\n",
       " 'einsum_path',\n",
       " 'emath',\n",
       " 'empty',\n",
       " 'empty_like',\n",
       " 'equal',\n",
       " 'errstate',\n",
       " 'euler_gamma',\n",
       " 'exceptions',\n",
       " 'exp',\n",
       " 'exp2',\n",
       " 'expand_dims',\n",
       " 'expm1',\n",
       " 'extract',\n",
       " 'eye',\n",
       " 'f2py',\n",
       " 'fabs',\n",
       " 'fft',\n",
       " 'fill_diagonal',\n",
       " 'finfo',\n",
       " 'fix',\n",
       " 'flatiter',\n",
       " 'flatnonzero',\n",
       " 'flexible',\n",
       " 'flip',\n",
       " 'fliplr',\n",
       " 'flipud',\n",
       " 'float16',\n",
       " 'float32',\n",
       " 'float64',\n",
       " 'float_power',\n",
       " 'floating',\n",
       " 'floor',\n",
       " 'floor_divide',\n",
       " 'fmax',\n",
       " 'fmin',\n",
       " 'fmod',\n",
       " 'format_float_positional',\n",
       " 'format_float_scientific',\n",
       " 'frexp',\n",
       " 'from_dlpack',\n",
       " 'frombuffer',\n",
       " 'fromfile',\n",
       " 'fromfunction',\n",
       " 'fromiter',\n",
       " 'frompyfunc',\n",
       " 'fromregex',\n",
       " 'fromstring',\n",
       " 'full',\n",
       " 'full_like',\n",
       " 'gcd',\n",
       " 'generic',\n",
       " 'genfromtxt',\n",
       " 'geomspace',\n",
       " 'get_include',\n",
       " 'get_printoptions',\n",
       " 'getbufsize',\n",
       " 'geterr',\n",
       " 'geterrcall',\n",
       " 'gradient',\n",
       " 'greater',\n",
       " 'greater_equal',\n",
       " 'half',\n",
       " 'hamming',\n",
       " 'hanning',\n",
       " 'heaviside',\n",
       " 'histogram',\n",
       " 'histogram2d',\n",
       " 'histogram_bin_edges',\n",
       " 'histogramdd',\n",
       " 'hsplit',\n",
       " 'hstack',\n",
       " 'hypot',\n",
       " 'i0',\n",
       " 'identity',\n",
       " 'iinfo',\n",
       " 'imag',\n",
       " 'in1d',\n",
       " 'index_exp',\n",
       " 'indices',\n",
       " 'inexact',\n",
       " 'inf',\n",
       " 'info',\n",
       " 'inner',\n",
       " 'insert',\n",
       " 'int16',\n",
       " 'int32',\n",
       " 'int64',\n",
       " 'int8',\n",
       " 'int_',\n",
       " 'intc',\n",
       " 'integer',\n",
       " 'interp',\n",
       " 'intersect1d',\n",
       " 'intp',\n",
       " 'invert',\n",
       " 'is_busday',\n",
       " 'isclose',\n",
       " 'iscomplex',\n",
       " 'iscomplexobj',\n",
       " 'isdtype',\n",
       " 'isfinite',\n",
       " 'isfortran',\n",
       " 'isin',\n",
       " 'isinf',\n",
       " 'isnan',\n",
       " 'isnat',\n",
       " 'isneginf',\n",
       " 'isposinf',\n",
       " 'isreal',\n",
       " 'isrealobj',\n",
       " 'isscalar',\n",
       " 'issubdtype',\n",
       " 'iterable',\n",
       " 'ix_',\n",
       " 'kaiser',\n",
       " 'kron',\n",
       " 'lcm',\n",
       " 'ldexp',\n",
       " 'left_shift',\n",
       " 'less',\n",
       " 'less_equal',\n",
       " 'lexsort',\n",
       " 'lib',\n",
       " 'linalg',\n",
       " 'linspace',\n",
       " 'little_endian',\n",
       " 'load',\n",
       " 'loadtxt',\n",
       " 'log',\n",
       " 'log10',\n",
       " 'log1p',\n",
       " 'log2',\n",
       " 'logaddexp',\n",
       " 'logaddexp2',\n",
       " 'logical_and',\n",
       " 'logical_not',\n",
       " 'logical_or',\n",
       " 'logical_xor',\n",
       " 'logspace',\n",
       " 'long',\n",
       " 'longdouble',\n",
       " 'longlong',\n",
       " 'ma',\n",
       " 'mask_indices',\n",
       " 'matmul',\n",
       " 'matrix',\n",
       " 'matrix_transpose',\n",
       " 'max',\n",
       " 'maximum',\n",
       " 'may_share_memory',\n",
       " 'mean',\n",
       " 'median',\n",
       " 'memmap',\n",
       " 'meshgrid',\n",
       " 'mgrid',\n",
       " 'min',\n",
       " 'min_scalar_type',\n",
       " 'minimum',\n",
       " 'mintypecode',\n",
       " 'mod',\n",
       " 'modf',\n",
       " 'moveaxis',\n",
       " 'multiply',\n",
       " 'nan',\n",
       " 'nan_to_num',\n",
       " 'nanargmax',\n",
       " 'nanargmin',\n",
       " 'nancumprod',\n",
       " 'nancumsum',\n",
       " 'nanmax',\n",
       " 'nanmean',\n",
       " 'nanmedian',\n",
       " 'nanmin',\n",
       " 'nanpercentile',\n",
       " 'nanprod',\n",
       " 'nanquantile',\n",
       " 'nanstd',\n",
       " 'nansum',\n",
       " 'nanvar',\n",
       " 'ndarray',\n",
       " 'ndenumerate',\n",
       " 'ndim',\n",
       " 'ndindex',\n",
       " 'nditer',\n",
       " 'negative',\n",
       " 'nested_iters',\n",
       " 'newaxis',\n",
       " 'nextafter',\n",
       " 'nonzero',\n",
       " 'not_equal',\n",
       " 'number',\n",
       " 'object_',\n",
       " 'ogrid',\n",
       " 'ones',\n",
       " 'ones_like',\n",
       " 'outer',\n",
       " 'packbits',\n",
       " 'pad',\n",
       " 'partition',\n",
       " 'percentile',\n",
       " 'permute_dims',\n",
       " 'pi',\n",
       " 'piecewise',\n",
       " 'place',\n",
       " 'poly',\n",
       " 'poly1d',\n",
       " 'polyadd',\n",
       " 'polyder',\n",
       " 'polydiv',\n",
       " 'polyfit',\n",
       " 'polyint',\n",
       " 'polymul',\n",
       " 'polynomial',\n",
       " 'polysub',\n",
       " 'polyval',\n",
       " 'positive',\n",
       " 'pow',\n",
       " 'power',\n",
       " 'printoptions',\n",
       " 'prod',\n",
       " 'promote_types',\n",
       " 'ptp',\n",
       " 'put',\n",
       " 'put_along_axis',\n",
       " 'putmask',\n",
       " 'quantile',\n",
       " 'r_',\n",
       " 'rad2deg',\n",
       " 'radians',\n",
       " 'random',\n",
       " 'ravel',\n",
       " 'ravel_multi_index',\n",
       " 'real',\n",
       " 'real_if_close',\n",
       " 'rec',\n",
       " 'recarray',\n",
       " 'reciprocal',\n",
       " 'record',\n",
       " 'remainder',\n",
       " 'repeat',\n",
       " 'require',\n",
       " 'reshape',\n",
       " 'resize',\n",
       " 'result_type',\n",
       " 'right_shift',\n",
       " 'rint',\n",
       " 'roll',\n",
       " 'rollaxis',\n",
       " 'roots',\n",
       " 'rot90',\n",
       " 'round',\n",
       " 'row_stack',\n",
       " 's_',\n",
       " 'save',\n",
       " 'savetxt',\n",
       " 'savez',\n",
       " 'savez_compressed',\n",
       " 'sctypeDict',\n",
       " 'searchsorted',\n",
       " 'select',\n",
       " 'set_printoptions',\n",
       " 'setbufsize',\n",
       " 'setdiff1d',\n",
       " 'seterr',\n",
       " 'seterrcall',\n",
       " 'setxor1d',\n",
       " 'shape',\n",
       " 'shares_memory',\n",
       " 'short',\n",
       " 'show_config',\n",
       " 'show_runtime',\n",
       " 'sign',\n",
       " 'signbit',\n",
       " 'signedinteger',\n",
       " 'sin',\n",
       " 'sinc',\n",
       " 'single',\n",
       " 'sinh',\n",
       " 'size',\n",
       " 'sort',\n",
       " 'sort_complex',\n",
       " 'spacing',\n",
       " 'split',\n",
       " 'sqrt',\n",
       " 'square',\n",
       " 'squeeze',\n",
       " 'stack',\n",
       " 'std',\n",
       " 'str_',\n",
       " 'strings',\n",
       " 'subtract',\n",
       " 'sum',\n",
       " 'swapaxes',\n",
       " 'take',\n",
       " 'take_along_axis',\n",
       " 'tan',\n",
       " 'tanh',\n",
       " 'tensordot',\n",
       " 'test',\n",
       " 'testing',\n",
       " 'tile',\n",
       " 'timedelta64',\n",
       " 'trace',\n",
       " 'transpose',\n",
       " 'trapezoid',\n",
       " 'trapz',\n",
       " 'tri',\n",
       " 'tril',\n",
       " 'tril_indices',\n",
       " 'tril_indices_from',\n",
       " 'trim_zeros',\n",
       " 'triu',\n",
       " 'triu_indices',\n",
       " 'triu_indices_from',\n",
       " 'true_divide',\n",
       " 'trunc',\n",
       " 'typecodes',\n",
       " 'typename',\n",
       " 'typing',\n",
       " 'ubyte',\n",
       " 'ufunc',\n",
       " 'uint',\n",
       " 'uint16',\n",
       " 'uint32',\n",
       " 'uint64',\n",
       " 'uint8',\n",
       " 'uintc',\n",
       " 'uintp',\n",
       " 'ulong',\n",
       " 'ulonglong',\n",
       " 'union1d',\n",
       " 'unique',\n",
       " 'unique_all',\n",
       " 'unique_counts',\n",
       " 'unique_inverse',\n",
       " 'unique_values',\n",
       " 'unpackbits',\n",
       " 'unravel_index',\n",
       " 'unsignedinteger',\n",
       " 'unwrap',\n",
       " 'ushort',\n",
       " 'vander',\n",
       " 'var',\n",
       " 'vdot',\n",
       " 'vecdot',\n",
       " 'vectorize',\n",
       " 'void',\n",
       " 'vsplit',\n",
       " 'vstack',\n",
       " 'where',\n",
       " 'zeros',\n",
       " 'zeros_like']"
      ]
     },
     "execution_count": 25,
     "metadata": {},
     "output_type": "execute_result"
    }
   ],
   "source": [
    "# import된 라이브러리(패키지) 내용을 살펴보는 경우 \n",
    "\n",
    "dir(np)"
   ]
  },
  {
   "cell_type": "code",
   "execution_count": 26,
   "id": "d30c84fe",
   "metadata": {},
   "outputs": [],
   "source": [
    "import pandas as pd"
   ]
  },
  {
   "cell_type": "code",
   "execution_count": 27,
   "id": "6f17aca6",
   "metadata": {},
   "outputs": [
    {
     "data": {
      "text/plain": [
       "['ArrowDtype',\n",
       " 'BooleanDtype',\n",
       " 'Categorical',\n",
       " 'CategoricalDtype',\n",
       " 'CategoricalIndex',\n",
       " 'DataFrame',\n",
       " 'DateOffset',\n",
       " 'DatetimeIndex',\n",
       " 'DatetimeTZDtype',\n",
       " 'ExcelFile',\n",
       " 'ExcelWriter',\n",
       " 'Flags',\n",
       " 'Float32Dtype',\n",
       " 'Float64Dtype',\n",
       " 'Grouper',\n",
       " 'HDFStore',\n",
       " 'Index',\n",
       " 'IndexSlice',\n",
       " 'Int16Dtype',\n",
       " 'Int32Dtype',\n",
       " 'Int64Dtype',\n",
       " 'Int8Dtype',\n",
       " 'Interval',\n",
       " 'IntervalDtype',\n",
       " 'IntervalIndex',\n",
       " 'MultiIndex',\n",
       " 'NA',\n",
       " 'NaT',\n",
       " 'NamedAgg',\n",
       " 'Period',\n",
       " 'PeriodDtype',\n",
       " 'PeriodIndex',\n",
       " 'RangeIndex',\n",
       " 'Series',\n",
       " 'SparseDtype',\n",
       " 'StringDtype',\n",
       " 'Timedelta',\n",
       " 'TimedeltaIndex',\n",
       " 'Timestamp',\n",
       " 'UInt16Dtype',\n",
       " 'UInt32Dtype',\n",
       " 'UInt64Dtype',\n",
       " 'UInt8Dtype',\n",
       " '__all__',\n",
       " '__builtins__',\n",
       " '__cached__',\n",
       " '__doc__',\n",
       " '__docformat__',\n",
       " '__file__',\n",
       " '__git_version__',\n",
       " '__loader__',\n",
       " '__name__',\n",
       " '__package__',\n",
       " '__path__',\n",
       " '__spec__',\n",
       " '__version__',\n",
       " '_built_with_meson',\n",
       " '_config',\n",
       " '_is_numpy_dev',\n",
       " '_libs',\n",
       " '_pandas_datetime_CAPI',\n",
       " '_pandas_parser_CAPI',\n",
       " '_testing',\n",
       " '_typing',\n",
       " '_version_meson',\n",
       " 'annotations',\n",
       " 'api',\n",
       " 'array',\n",
       " 'arrays',\n",
       " 'bdate_range',\n",
       " 'compat',\n",
       " 'concat',\n",
       " 'core',\n",
       " 'crosstab',\n",
       " 'cut',\n",
       " 'date_range',\n",
       " 'describe_option',\n",
       " 'errors',\n",
       " 'eval',\n",
       " 'factorize',\n",
       " 'from_dummies',\n",
       " 'get_dummies',\n",
       " 'get_option',\n",
       " 'infer_freq',\n",
       " 'interval_range',\n",
       " 'io',\n",
       " 'isna',\n",
       " 'isnull',\n",
       " 'json_normalize',\n",
       " 'lreshape',\n",
       " 'melt',\n",
       " 'merge',\n",
       " 'merge_asof',\n",
       " 'merge_ordered',\n",
       " 'notna',\n",
       " 'notnull',\n",
       " 'offsets',\n",
       " 'option_context',\n",
       " 'options',\n",
       " 'pandas',\n",
       " 'period_range',\n",
       " 'pivot',\n",
       " 'pivot_table',\n",
       " 'plotting',\n",
       " 'qcut',\n",
       " 'read_clipboard',\n",
       " 'read_csv',\n",
       " 'read_excel',\n",
       " 'read_feather',\n",
       " 'read_fwf',\n",
       " 'read_gbq',\n",
       " 'read_hdf',\n",
       " 'read_html',\n",
       " 'read_json',\n",
       " 'read_orc',\n",
       " 'read_parquet',\n",
       " 'read_pickle',\n",
       " 'read_sas',\n",
       " 'read_spss',\n",
       " 'read_sql',\n",
       " 'read_sql_query',\n",
       " 'read_sql_table',\n",
       " 'read_stata',\n",
       " 'read_table',\n",
       " 'read_xml',\n",
       " 'reset_option',\n",
       " 'set_eng_float_format',\n",
       " 'set_option',\n",
       " 'show_versions',\n",
       " 'test',\n",
       " 'testing',\n",
       " 'timedelta_range',\n",
       " 'to_datetime',\n",
       " 'to_numeric',\n",
       " 'to_pickle',\n",
       " 'to_timedelta',\n",
       " 'tseries',\n",
       " 'unique',\n",
       " 'util',\n",
       " 'value_counts',\n",
       " 'wide_to_long']"
      ]
     },
     "execution_count": 27,
     "metadata": {},
     "output_type": "execute_result"
    }
   ],
   "source": [
    "dir(pd)"
   ]
  },
  {
   "cell_type": "code",
   "execution_count": null,
   "id": "3ab109d1",
   "metadata": {},
   "outputs": [],
   "source": []
  },
  {
   "cell_type": "markdown",
   "id": "5d0c1ac3",
   "metadata": {},
   "source": [
    "## 사칙연산 연산자"
   ]
  },
  {
   "cell_type": "code",
   "execution_count": 103,
   "id": "fe33b482",
   "metadata": {},
   "outputs": [],
   "source": [
    "# 기본\n",
    "#  +, - , * , /"
   ]
  },
  {
   "cell_type": "code",
   "execution_count": 29,
   "id": "b3c6ba75",
   "metadata": {},
   "outputs": [
    {
     "data": {
      "text/plain": [
       "3"
      ]
     },
     "execution_count": 29,
     "metadata": {},
     "output_type": "execute_result"
    }
   ],
   "source": [
    "#덧셈\n",
    "1+2"
   ]
  },
  {
   "cell_type": "code",
   "execution_count": 30,
   "id": "73a87417",
   "metadata": {},
   "outputs": [
    {
     "data": {
      "text/plain": [
       "2"
      ]
     },
     "execution_count": 30,
     "metadata": {},
     "output_type": "execute_result"
    }
   ],
   "source": [
    "# 뺄셈\n",
    "5-3"
   ]
  },
  {
   "cell_type": "code",
   "execution_count": 31,
   "id": "5aa0e0b4",
   "metadata": {},
   "outputs": [
    {
     "data": {
      "text/plain": [
       "2"
      ]
     },
     "execution_count": 31,
     "metadata": {},
     "output_type": "execute_result"
    }
   ],
   "source": [
    "# 순서에서 아랫쪽\n",
    "1+2\n",
    "5-3"
   ]
  },
  {
   "cell_type": "code",
   "execution_count": 32,
   "id": "e7168b03",
   "metadata": {},
   "outputs": [
    {
     "data": {
      "text/plain": [
       "15"
      ]
     },
     "execution_count": 32,
     "metadata": {},
     "output_type": "execute_result"
    }
   ],
   "source": [
    "# 곱셈\n",
    "5*3"
   ]
  },
  {
   "cell_type": "code",
   "execution_count": 33,
   "id": "ca36a569",
   "metadata": {},
   "outputs": [
    {
     "data": {
      "text/plain": [
       "2.0"
      ]
     },
     "execution_count": 33,
     "metadata": {},
     "output_type": "execute_result"
    }
   ],
   "source": [
    "# 나눗셈\n",
    "6/3"
   ]
  },
  {
   "cell_type": "code",
   "execution_count": 34,
   "id": "a1b6f317",
   "metadata": {},
   "outputs": [
    {
     "data": {
      "text/plain": [
       "25"
      ]
     },
     "execution_count": 34,
     "metadata": {},
     "output_type": "execute_result"
    }
   ],
   "source": [
    "# 거듭제곱\n",
    "5**2"
   ]
  },
  {
   "cell_type": "code",
   "execution_count": 35,
   "id": "d8ec2d02",
   "metadata": {},
   "outputs": [
    {
     "data": {
      "text/plain": [
       "9765625"
      ]
     },
     "execution_count": 35,
     "metadata": {},
     "output_type": "execute_result"
    }
   ],
   "source": [
    "5**10"
   ]
  },
  {
   "cell_type": "code",
   "execution_count": 36,
   "id": "f62fdb09",
   "metadata": {},
   "outputs": [
    {
     "data": {
      "text/plain": [
       "88817841970012523233890533447265625"
      ]
     },
     "execution_count": 36,
     "metadata": {},
     "output_type": "execute_result"
    }
   ],
   "source": [
    "5**50"
   ]
  },
  {
   "cell_type": "code",
   "execution_count": 37,
   "id": "47823516",
   "metadata": {},
   "outputs": [
    {
     "data": {
      "text/plain": [
       "3.5"
      ]
     },
     "execution_count": 37,
     "metadata": {},
     "output_type": "execute_result"
    }
   ],
   "source": [
    "7/2"
   ]
  },
  {
   "cell_type": "code",
   "execution_count": 38,
   "id": "4f24db94",
   "metadata": {},
   "outputs": [
    {
     "data": {
      "text/plain": [
       "3"
      ]
     },
     "execution_count": 38,
     "metadata": {},
     "output_type": "execute_result"
    }
   ],
   "source": [
    "# //  : 나눗셈에서 몫만 \n",
    "7//2"
   ]
  },
  {
   "cell_type": "code",
   "execution_count": 39,
   "id": "d9ef53cb",
   "metadata": {},
   "outputs": [
    {
     "data": {
      "text/plain": [
       "1"
      ]
     },
     "execution_count": 39,
     "metadata": {},
     "output_type": "execute_result"
    }
   ],
   "source": [
    "# % : 나누기 연산 후 몫이 아닌 나머지를 구함\n",
    "7%2"
   ]
  },
  {
   "cell_type": "code",
   "execution_count": 115,
   "id": "4d1214d3",
   "metadata": {},
   "outputs": [],
   "source": [
    "#파이썬에서도 일반 수학의 연산 순서를 따른다. \n",
    "#곱셈과 나눗셈이 덧셈이나 뺄셈보다 먼저 연산이 된다.\n",
    "#(   ) 괄호가 있으면 괄호안을 먼저 계산한다. "
   ]
  },
  {
   "cell_type": "code",
   "execution_count": 40,
   "id": "115da4e5",
   "metadata": {},
   "outputs": [
    {
     "data": {
      "text/plain": [
       "8"
      ]
     },
     "execution_count": 40,
     "metadata": {},
     "output_type": "execute_result"
    }
   ],
   "source": [
    "2+3*2"
   ]
  },
  {
   "cell_type": "code",
   "execution_count": 41,
   "id": "1d8711fe",
   "metadata": {},
   "outputs": [
    {
     "data": {
      "text/plain": [
       "13.0"
      ]
     },
     "execution_count": 41,
     "metadata": {},
     "output_type": "execute_result"
    }
   ],
   "source": [
    "10+6/2"
   ]
  },
  {
   "cell_type": "code",
   "execution_count": 42,
   "id": "a0cf137b",
   "metadata": {},
   "outputs": [
    {
     "data": {
      "text/plain": [
       "2"
      ]
     },
     "execution_count": 42,
     "metadata": {},
     "output_type": "execute_result"
    }
   ],
   "source": [
    "10-(3*3-1)"
   ]
  },
  {
   "cell_type": "code",
   "execution_count": 119,
   "id": "cf0f3ee6",
   "metadata": {},
   "outputs": [],
   "source": [
    "##부등식의 참과 거짓 계산¶True, False\n",
    "## 파이썬은 참과 거짓을 계산하는 부등식 연산도 가능하다."
   ]
  },
  {
   "cell_type": "code",
   "execution_count": 120,
   "id": "6ee94d65",
   "metadata": {},
   "outputs": [],
   "source": [
    "# 부등호 기호 : >  , <  "
   ]
  },
  {
   "cell_type": "code",
   "execution_count": 43,
   "id": "a3e58f36",
   "metadata": {},
   "outputs": [
    {
     "data": {
      "text/plain": [
       "True"
      ]
     },
     "execution_count": 43,
     "metadata": {},
     "output_type": "execute_result"
    }
   ],
   "source": [
    "3 > 1"
   ]
  },
  {
   "cell_type": "code",
   "execution_count": 44,
   "id": "69a8accf",
   "metadata": {},
   "outputs": [
    {
     "data": {
      "text/plain": [
       "False"
      ]
     },
     "execution_count": 44,
     "metadata": {},
     "output_type": "execute_result"
    }
   ],
   "source": [
    "3 < 1"
   ]
  },
  {
   "cell_type": "code",
   "execution_count": 123,
   "id": "8df1300a",
   "metadata": {},
   "outputs": [],
   "source": [
    "# 등호 기호 :  ==\n",
    "# 등호(=) 를 한번만 표시하면 변수 설정으로 인식을 하게 된다."
   ]
  },
  {
   "cell_type": "code",
   "execution_count": 45,
   "id": "2fcd4526",
   "metadata": {},
   "outputs": [
    {
     "data": {
      "text/plain": [
       "False"
      ]
     },
     "execution_count": 45,
     "metadata": {},
     "output_type": "execute_result"
    }
   ],
   "source": [
    "2==3"
   ]
  },
  {
   "cell_type": "code",
   "execution_count": 46,
   "id": "77291a7b",
   "metadata": {},
   "outputs": [
    {
     "data": {
      "text/plain": [
       "True"
      ]
     },
     "execution_count": 46,
     "metadata": {},
     "output_type": "execute_result"
    }
   ],
   "source": [
    "2 == 2"
   ]
  },
  {
   "cell_type": "code",
   "execution_count": 126,
   "id": "0ed4900b",
   "metadata": {},
   "outputs": [],
   "source": [
    "# 같지 않다. !="
   ]
  },
  {
   "cell_type": "code",
   "execution_count": 47,
   "id": "2d72aa2c",
   "metadata": {},
   "outputs": [
    {
     "data": {
      "text/plain": [
       "False"
      ]
     },
     "execution_count": 47,
     "metadata": {},
     "output_type": "execute_result"
    }
   ],
   "source": [
    "2 != 2 "
   ]
  },
  {
   "cell_type": "code",
   "execution_count": 48,
   "id": "d9a92be0",
   "metadata": {},
   "outputs": [
    {
     "data": {
      "text/plain": [
       "True"
      ]
     },
     "execution_count": 48,
     "metadata": {},
     "output_type": "execute_result"
    }
   ],
   "source": [
    "2 != 3 "
   ]
  },
  {
   "cell_type": "code",
   "execution_count": 49,
   "id": "fe1000fe",
   "metadata": {},
   "outputs": [
    {
     "data": {
      "text/plain": [
       "True"
      ]
     },
     "execution_count": 49,
     "metadata": {},
     "output_type": "execute_result"
    }
   ],
   "source": [
    "#2는 3보다 작거나 같다\n",
    "2 <= 3"
   ]
  },
  {
   "cell_type": "code",
   "execution_count": 50,
   "id": "a355557f",
   "metadata": {},
   "outputs": [
    {
     "data": {
      "text/plain": [
       "False"
      ]
     },
     "execution_count": 50,
     "metadata": {},
     "output_type": "execute_result"
    }
   ],
   "source": [
    "#2는 3보다 크거나 같다\n",
    "2>=3"
   ]
  },
  {
   "cell_type": "code",
   "execution_count": 51,
   "id": "1ac1f869",
   "metadata": {},
   "outputs": [
    {
     "data": {
      "text/plain": [
       "True"
      ]
     },
     "execution_count": 51,
     "metadata": {},
     "output_type": "execute_result"
    }
   ],
   "source": [
    "3>=3"
   ]
  },
  {
   "cell_type": "code",
   "execution_count": 52,
   "id": "d07f206b",
   "metadata": {},
   "outputs": [
    {
     "data": {
      "text/plain": [
       "False"
      ]
     },
     "execution_count": 52,
     "metadata": {},
     "output_type": "execute_result"
    }
   ],
   "source": [
    "3<=1"
   ]
  },
  {
   "cell_type": "markdown",
   "id": "4c71a29d",
   "metadata": {},
   "source": [
    "## 변수 설정\n"
   ]
  },
  {
   "cell_type": "code",
   "execution_count": 133,
   "id": "ce910169",
   "metadata": {},
   "outputs": [],
   "source": [
    "#일상생활에서 복잡한 값을 프로그램을 작성할 때 의미가 있는 값을 저장하거니, 해당 값들을 가리키는 역할을 하는 것."
   ]
  },
  {
   "cell_type": "markdown",
   "id": "5a50cca6",
   "metadata": {},
   "source": [
    "### 변수 설정 방법"
   ]
  },
  {
   "cell_type": "code",
   "execution_count": 134,
   "id": "7fa28cb5",
   "metadata": {},
   "outputs": [],
   "source": [
    "# 변수명 입력하고 다음에 등호(=) 다음에 변수에 넣코자하는 데이터를 입력한다.\n",
    "# 등호 표시(=) 파이썬에서는 바인딩(binding)을 의미 --. 가리키는 것’의미"
   ]
  },
  {
   "cell_type": "code",
   "execution_count": 53,
   "id": "3893ad8a",
   "metadata": {},
   "outputs": [],
   "source": [
    "ABC=5\n"
   ]
  },
  {
   "cell_type": "code",
   "execution_count": 54,
   "id": "3216ef5f",
   "metadata": {},
   "outputs": [
    {
     "data": {
      "text/plain": [
       "5"
      ]
     },
     "execution_count": 54,
     "metadata": {},
     "output_type": "execute_result"
    }
   ],
   "source": [
    "ABC"
   ]
  },
  {
   "cell_type": "code",
   "execution_count": 57,
   "id": "80befe46",
   "metadata": {},
   "outputs": [],
   "source": [
    "a=100\n",
    "b=10\n",
    "c=1"
   ]
  },
  {
   "cell_type": "markdown",
   "id": "041230b6",
   "metadata": {},
   "source": [
    "### 변수 명 설정시 주의 사항"
   ]
  },
  {
   "cell_type": "code",
   "execution_count": 138,
   "id": "56ced89f",
   "metadata": {},
   "outputs": [],
   "source": [
    "# 다음의 경우 변숨\n",
    "# 1. 변수명 첫글자는 영어 또는 언더스코어(_)로 시작 \n",
    "# 2. 숫자로 시작하는 변수명 사용 불가\n",
    "# 3. 변수명에 공백이 있는 경우 사용 불가 : 경찰 행정학과= '최고'\n",
    "# 4. 기호로 시작하는 변수명 사용 불가\n",
    "# 5. 키워드(예약어)는 변수명으로 사용 불가"
   ]
  },
  {
   "cell_type": "code",
   "execution_count": 139,
   "id": "637f4293",
   "metadata": {},
   "outputs": [],
   "source": [
    "#대소문자 구분"
   ]
  },
  {
   "cell_type": "code",
   "execution_count": 140,
   "id": "be963340",
   "metadata": {},
   "outputs": [
    {
     "data": {
      "text/plain": [
       "5"
      ]
     },
     "execution_count": 140,
     "metadata": {},
     "output_type": "execute_result"
    }
   ],
   "source": [
    "ABC=5\n",
    "ABC"
   ]
  },
  {
   "cell_type": "code",
   "execution_count": 141,
   "id": "f6f97470",
   "metadata": {},
   "outputs": [
    {
     "data": {
      "text/plain": [
       "5"
      ]
     },
     "execution_count": 141,
     "metadata": {},
     "output_type": "execute_result"
    }
   ],
   "source": [
    "# 대소문자가 다르게 지정되면 오류 발생\n",
    "ABC"
   ]
  },
  {
   "cell_type": "code",
   "execution_count": 142,
   "id": "9c7b8cc4",
   "metadata": {},
   "outputs": [
    {
     "data": {
      "text/plain": [
       "10"
      ]
     },
     "execution_count": 142,
     "metadata": {},
     "output_type": "execute_result"
    }
   ],
   "source": [
    "abc=10\n",
    "abc"
   ]
  },
  {
   "cell_type": "code",
   "execution_count": 143,
   "id": "79f49980",
   "metadata": {},
   "outputs": [],
   "source": [
    "# 여러개 변수를 한꺼번에 설정"
   ]
  },
  {
   "cell_type": "code",
   "execution_count": 64,
   "id": "0d5fe718",
   "metadata": {},
   "outputs": [],
   "source": [
    "# 변수명 사이에 쉼표(,)= 숫자 사이에 쉼표(,를 해주어야 한다.\n",
    "a,b,c=3,5,6"
   ]
  },
  {
   "cell_type": "code",
   "execution_count": 65,
   "id": "c21afe7b",
   "metadata": {},
   "outputs": [
    {
     "data": {
      "text/plain": [
       "3"
      ]
     },
     "execution_count": 65,
     "metadata": {},
     "output_type": "execute_result"
    }
   ],
   "source": [
    "a"
   ]
  },
  {
   "cell_type": "code",
   "execution_count": 66,
   "id": "273d0c63",
   "metadata": {},
   "outputs": [
    {
     "data": {
      "text/plain": [
       "5"
      ]
     },
     "execution_count": 66,
     "metadata": {},
     "output_type": "execute_result"
    }
   ],
   "source": [
    "b"
   ]
  },
  {
   "cell_type": "code",
   "execution_count": 67,
   "id": "5949ffd0",
   "metadata": {},
   "outputs": [
    {
     "data": {
      "text/plain": [
       "6"
      ]
     },
     "execution_count": 67,
     "metadata": {},
     "output_type": "execute_result"
    }
   ],
   "source": [
    "c"
   ]
  },
  {
   "cell_type": "code",
   "execution_count": 148,
   "id": "f77d3fcc",
   "metadata": {},
   "outputs": [],
   "source": [
    "# 문자인 경우 따옴표(\"\")로 무꺼줘야 한다.\n",
    "# 변수명 사이에 따옴표('')= 숫자 사이에 따옴표('')를 해준다."
   ]
  },
  {
   "cell_type": "code",
   "execution_count": 68,
   "id": "628052be",
   "metadata": {},
   "outputs": [
    {
     "data": {
      "text/plain": [
       "'경찰청'"
      ]
     },
     "execution_count": 68,
     "metadata": {},
     "output_type": "execute_result"
    }
   ],
   "source": [
    "x=\"경찰청\"\n",
    "x"
   ]
  },
  {
   "cell_type": "code",
   "execution_count": 69,
   "id": "afc5c986",
   "metadata": {},
   "outputs": [],
   "source": [
    "y=\"안산경찰서\""
   ]
  },
  {
   "cell_type": "code",
   "execution_count": 70,
   "id": "bb2ce860",
   "metadata": {},
   "outputs": [
    {
     "data": {
      "text/plain": [
       "'안산경찰서'"
      ]
     },
     "execution_count": 70,
     "metadata": {},
     "output_type": "execute_result"
    }
   ],
   "source": [
    "y"
   ]
  },
  {
   "cell_type": "code",
   "execution_count": 73,
   "id": "62e0b3e1",
   "metadata": {},
   "outputs": [
    {
     "data": {
      "text/plain": [
       "'안산대학교 경찰행정학과'"
      ]
     },
     "execution_count": 73,
     "metadata": {},
     "output_type": "execute_result"
    }
   ],
   "source": [
    "c=\"안산대학교 경찰행정학과\"\n",
    "c"
   ]
  },
  {
   "cell_type": "code",
   "execution_count": 152,
   "id": "60d8953c",
   "metadata": {},
   "outputs": [],
   "source": [
    "# 변수명 사이에 쉼표('')= 숫자 사이에 쉼표('')를 해준다.\n",
    "x,y,z=3,5,6"
   ]
  },
  {
   "cell_type": "code",
   "execution_count": 153,
   "id": "32b190e7",
   "metadata": {},
   "outputs": [
    {
     "data": {
      "text/plain": [
       "3"
      ]
     },
     "execution_count": 153,
     "metadata": {},
     "output_type": "execute_result"
    }
   ],
   "source": [
    "x"
   ]
  },
  {
   "cell_type": "code",
   "execution_count": 154,
   "id": "dc8c760d",
   "metadata": {},
   "outputs": [
    {
     "data": {
      "text/plain": [
       "5"
      ]
     },
     "execution_count": 154,
     "metadata": {},
     "output_type": "execute_result"
    }
   ],
   "source": [
    "y"
   ]
  },
  {
   "cell_type": "code",
   "execution_count": 155,
   "id": "afe4bc0e",
   "metadata": {},
   "outputs": [
    {
     "data": {
      "text/plain": [
       "6"
      ]
     },
     "execution_count": 155,
     "metadata": {},
     "output_type": "execute_result"
    }
   ],
   "source": [
    "z"
   ]
  },
  {
   "cell_type": "code",
   "execution_count": 156,
   "id": "2dedaaf7",
   "metadata": {},
   "outputs": [],
   "source": [
    "# 변수명이 중복되면 나중에 변수명으로 인식"
   ]
  },
  {
   "cell_type": "code",
   "execution_count": 74,
   "id": "52cfecea",
   "metadata": {},
   "outputs": [
    {
     "data": {
      "text/plain": [
       "3"
      ]
     },
     "execution_count": 74,
     "metadata": {},
     "output_type": "execute_result"
    }
   ],
   "source": [
    "a=3\n",
    "a"
   ]
  },
  {
   "cell_type": "code",
   "execution_count": 75,
   "id": "6674b1f4",
   "metadata": {},
   "outputs": [
    {
     "data": {
      "text/plain": [
       "10"
      ]
     },
     "execution_count": 75,
     "metadata": {},
     "output_type": "execute_result"
    }
   ],
   "source": [
    "# 위와 동일하게 변수명을 a 로  명명하면 a에 담아 있던 3을 사라지고 새롭게 입력된 데이터를 인식한다.\n",
    "a=10\n",
    "a"
   ]
  },
  {
   "cell_type": "code",
   "execution_count": 76,
   "id": "190be9ff",
   "metadata": {},
   "outputs": [],
   "source": [
    "# 변수명을 지정하여 사칙연산"
   ]
  },
  {
   "cell_type": "code",
   "execution_count": 160,
   "id": "8c1a3964",
   "metadata": {},
   "outputs": [],
   "source": [
    "# 사칙연산\n",
    "# + , -, * , /"
   ]
  },
  {
   "cell_type": "code",
   "execution_count": 77,
   "id": "a4bbf657",
   "metadata": {},
   "outputs": [
    {
     "data": {
      "text/plain": [
       "10100"
      ]
     },
     "execution_count": 77,
     "metadata": {},
     "output_type": "execute_result"
    }
   ],
   "source": [
    "# 정숫값(Integer) 중 자주 사용할 것 같은 범위의 정숫값은 메모리에 한 번만 올려두고 \n",
    "# 이를 여러 변수가 가리키게 함으로써 메모리를 효과적으로 사용\n",
    "안산서 = 10000\n",
    "상록서 = 100\n",
    "안산서+상록서"
   ]
  },
  {
   "cell_type": "code",
   "execution_count": 79,
   "id": "97bb73e6",
   "metadata": {},
   "outputs": [],
   "source": [
    "안산경찰서 = 100"
   ]
  },
  {
   "cell_type": "code",
   "execution_count": 80,
   "id": "77194dd1",
   "metadata": {},
   "outputs": [
    {
     "data": {
      "text/plain": [
       "10000"
      ]
     },
     "execution_count": 80,
     "metadata": {},
     "output_type": "execute_result"
    }
   ],
   "source": [
    "안산경찰서*100"
   ]
  },
  {
   "cell_type": "code",
   "execution_count": 164,
   "id": "b9ea104d",
   "metadata": {},
   "outputs": [
    {
     "data": {
      "text/plain": [
       "50"
      ]
     },
     "execution_count": 164,
     "metadata": {},
     "output_type": "execute_result"
    }
   ],
   "source": [
    "안산경찰서-50"
   ]
  },
  {
   "cell_type": "markdown",
   "id": "059c021e",
   "metadata": {},
   "source": [
    "## print 하기"
   ]
  },
  {
   "cell_type": "code",
   "execution_count": 81,
   "id": "14ec4765",
   "metadata": {},
   "outputs": [
    {
     "name": "stdout",
     "output_type": "stream",
     "text": [
      "Hello Python!\n"
     ]
    }
   ],
   "source": [
    "##문자열을 출력 : 따옴표 필요--> 큰따옴표, 작은따옴표 모두 가능 \n",
    "print('Hello Python!')"
   ]
  },
  {
   "cell_type": "code",
   "execution_count": 82,
   "id": "7be2bf07",
   "metadata": {},
   "outputs": [
    {
     "name": "stdout",
     "output_type": "stream",
     "text": [
      "디지털실습\n"
     ]
    }
   ],
   "source": [
    "print(\"디지털실습\")"
   ]
  },
  {
   "cell_type": "code",
   "execution_count": 83,
   "id": "ef8bc84d",
   "metadata": {},
   "outputs": [
    {
     "name": "stdout",
     "output_type": "stream",
     "text": [
      "안산대학교\n"
     ]
    }
   ],
   "source": [
    "print(\"안산대학교\")"
   ]
  },
  {
   "cell_type": "code",
   "execution_count": 85,
   "id": "d109595e",
   "metadata": {},
   "outputs": [
    {
     "name": "stdout",
     "output_type": "stream",
     "text": [
      "경찰핼정학과\n"
     ]
    }
   ],
   "source": [
    "print(\"경찰핼정학과\")"
   ]
  },
  {
   "cell_type": "code",
   "execution_count": 86,
   "id": "2b99ed2e",
   "metadata": {},
   "outputs": [
    {
     "name": "stdout",
     "output_type": "stream",
     "text": [
      "1\n"
     ]
    }
   ],
   "source": [
    "# 숫자를 출력\n",
    "print(1)"
   ]
  },
  {
   "cell_type": "code",
   "execution_count": 87,
   "id": "eeca0843",
   "metadata": {},
   "outputs": [
    {
     "name": "stdout",
     "output_type": "stream",
     "text": [
      "123\n"
     ]
    }
   ],
   "source": [
    "print(123)"
   ]
  },
  {
   "cell_type": "code",
   "execution_count": 88,
   "id": "15465f3b",
   "metadata": {},
   "outputs": [
    {
     "name": "stdout",
     "output_type": "stream",
     "text": [
      "[1, 2, 3]\n"
     ]
    }
   ],
   "source": [
    "print([1, 2, 3])"
   ]
  },
  {
   "cell_type": "markdown",
   "id": "af0e98ef",
   "metadata": {},
   "source": [
    "## 키워드(Keyword, 예약어)"
   ]
  },
  {
   "cell_type": "code",
   "execution_count": 172,
   "id": "b6d41ff6",
   "metadata": {},
   "outputs": [
    {
     "name": "stdout",
     "output_type": "stream",
     "text": [
      "['False', 'None', 'True', '__peg_parser__', 'and', 'as', 'assert', 'async', 'await', 'break', 'class', 'continue', 'def', 'del', 'elif', 'else', 'except', 'finally', 'for', 'from', 'global', 'if', 'import', 'in', 'is', 'lambda', 'nonlocal', 'not', 'or', 'pass', 'raise', 'return', 'try', 'while', 'with', 'yield']\n"
     ]
    }
   ],
   "source": [
    "# 이미 예약어로 사용하고 있는 경우이므로 변수명으로로 설정해서는 안 된다.\n",
    "\n",
    "import keyword\n",
    "print(keyword.kwlist)"
   ]
  },
  {
   "cell_type": "markdown",
   "id": "ffe2a34a",
   "metadata": {},
   "source": [
    "### 작업 저장하기 "
   ]
  },
  {
   "cell_type": "code",
   "execution_count": 173,
   "id": "ff9c698b",
   "metadata": {},
   "outputs": [],
   "source": [
    "# 저장하기 위하여는 사전에 별도 폴더에 만들어 두고 저장하기\n",
    "# 확장자 : 파이썬 파일 .py  ,  주피터노트북을 사용하는 경우  .ipynb\n",
    "# 주피터 노트북 작성 파일 확장자 변경 : File --> Download as --> Python(.py)"
   ]
  },
  {
   "cell_type": "code",
   "execution_count": null,
   "id": "cb60d37e",
   "metadata": {},
   "outputs": [],
   "source": []
  },
  {
   "cell_type": "markdown",
   "id": "639df1f7",
   "metadata": {},
   "source": [
    "## 파이썬을 이용해서 외부 데이터 읽어오기 "
   ]
  },
  {
   "cell_type": "markdown",
   "id": "24d51931",
   "metadata": {},
   "source": [
    "### CSV(Comma Separated Value) 파일 불러오기"
   ]
  },
  {
   "cell_type": "code",
   "execution_count": 174,
   "id": "35637a71",
   "metadata": {},
   "outputs": [],
   "source": [
    "#  CSV(Comma Separated Value) 포맷 입출력\n",
    "#  --> CSV 파일 포맷은 데이터 값이 쉽표(comma)로 구분되는 텍스트 파일이다.\n",
    "\n",
    "# CSV 파일 입력¶\n",
    "# CSV 파일로부터 데이터를 읽어 데이터프레임을 만들 때는 pandas.read_csv 함수를 사용한다. \n",
    "# 변수명 = pd.read_csv('파일경로/파일이름.csv')\n",
    "# 함수의 입력값으로 파일 이름을 넣는다."
   ]
  },
  {
   "cell_type": "code",
   "execution_count": 89,
   "id": "0191f889",
   "metadata": {},
   "outputs": [],
   "source": [
    "import pandas as pd\n",
    "\n",
    "data=pd.read_csv(\"crime_list.csv\")"
   ]
  },
  {
   "cell_type": "code",
   "execution_count": 90,
   "id": "4aa07f89",
   "metadata": {},
   "outputs": [
    {
     "data": {
      "text/html": [
       "<div>\n",
       "<style scoped>\n",
       "    .dataframe tbody tr th:only-of-type {\n",
       "        vertical-align: middle;\n",
       "    }\n",
       "\n",
       "    .dataframe tbody tr th {\n",
       "        vertical-align: top;\n",
       "    }\n",
       "\n",
       "    .dataframe thead th {\n",
       "        text-align: right;\n",
       "    }\n",
       "</style>\n",
       "<table border=\"1\" class=\"dataframe\">\n",
       "  <thead>\n",
       "    <tr style=\"text-align: right;\">\n",
       "      <th></th>\n",
       "      <th>날짜</th>\n",
       "      <th>ID</th>\n",
       "      <th>나이</th>\n",
       "      <th>성별</th>\n",
       "      <th>소득</th>\n",
       "      <th>범죄건수</th>\n",
       "    </tr>\n",
       "  </thead>\n",
       "  <tbody>\n",
       "    <tr>\n",
       "      <th>0</th>\n",
       "      <td>2022-11-24</td>\n",
       "      <td>1</td>\n",
       "      <td>71</td>\n",
       "      <td>여성</td>\n",
       "      <td>141440</td>\n",
       "      <td>5</td>\n",
       "    </tr>\n",
       "    <tr>\n",
       "      <th>1</th>\n",
       "      <td>2022-02-27</td>\n",
       "      <td>2</td>\n",
       "      <td>67</td>\n",
       "      <td>남성</td>\n",
       "      <td>122769</td>\n",
       "      <td>4</td>\n",
       "    </tr>\n",
       "    <tr>\n",
       "      <th>2</th>\n",
       "      <td>2022-01-13</td>\n",
       "      <td>3</td>\n",
       "      <td>67</td>\n",
       "      <td>남성</td>\n",
       "      <td>122908</td>\n",
       "      <td>2</td>\n",
       "    </tr>\n",
       "    <tr>\n",
       "      <th>3</th>\n",
       "      <td>2022-05-21</td>\n",
       "      <td>4</td>\n",
       "      <td>21</td>\n",
       "      <td>여성</td>\n",
       "      <td>79638</td>\n",
       "      <td>7</td>\n",
       "    </tr>\n",
       "    <tr>\n",
       "      <th>4</th>\n",
       "      <td>2022-05-06</td>\n",
       "      <td>5</td>\n",
       "      <td>32</td>\n",
       "      <td>남성</td>\n",
       "      <td>57388</td>\n",
       "      <td>8</td>\n",
       "    </tr>\n",
       "    <tr>\n",
       "      <th>...</th>\n",
       "      <td>...</td>\n",
       "      <td>...</td>\n",
       "      <td>...</td>\n",
       "      <td>...</td>\n",
       "      <td>...</td>\n",
       "      <td>...</td>\n",
       "    </tr>\n",
       "    <tr>\n",
       "      <th>95</th>\n",
       "      <td>2022-12-19</td>\n",
       "      <td>96</td>\n",
       "      <td>29</td>\n",
       "      <td>남성</td>\n",
       "      <td>65745</td>\n",
       "      <td>5</td>\n",
       "    </tr>\n",
       "    <tr>\n",
       "      <th>96</th>\n",
       "      <td>2022-10-13</td>\n",
       "      <td>97</td>\n",
       "      <td>50</td>\n",
       "      <td>여성</td>\n",
       "      <td>135456</td>\n",
       "      <td>4</td>\n",
       "    </tr>\n",
       "    <tr>\n",
       "      <th>97</th>\n",
       "      <td>2022-04-23</td>\n",
       "      <td>98</td>\n",
       "      <td>76</td>\n",
       "      <td>남성</td>\n",
       "      <td>29016</td>\n",
       "      <td>3</td>\n",
       "    </tr>\n",
       "    <tr>\n",
       "      <th>98</th>\n",
       "      <td>2022-12-17</td>\n",
       "      <td>99</td>\n",
       "      <td>24</td>\n",
       "      <td>여성</td>\n",
       "      <td>135247</td>\n",
       "      <td>3</td>\n",
       "    </tr>\n",
       "    <tr>\n",
       "      <th>99</th>\n",
       "      <td>2022-06-16</td>\n",
       "      <td>100</td>\n",
       "      <td>73</td>\n",
       "      <td>여성</td>\n",
       "      <td>52018</td>\n",
       "      <td>0</td>\n",
       "    </tr>\n",
       "  </tbody>\n",
       "</table>\n",
       "<p>100 rows × 6 columns</p>\n",
       "</div>"
      ],
      "text/plain": [
       "            날짜   ID  나이  성별      소득  범죄건수\n",
       "0   2022-11-24    1  71  여성  141440     5\n",
       "1   2022-02-27    2  67  남성  122769     4\n",
       "2   2022-01-13    3  67  남성  122908     2\n",
       "3   2022-05-21    4  21  여성   79638     7\n",
       "4   2022-05-06    5  32  남성   57388     8\n",
       "..         ...  ...  ..  ..     ...   ...\n",
       "95  2022-12-19   96  29  남성   65745     5\n",
       "96  2022-10-13   97  50  여성  135456     4\n",
       "97  2022-04-23   98  76  남성   29016     3\n",
       "98  2022-12-17   99  24  여성  135247     3\n",
       "99  2022-06-16  100  73  여성   52018     0\n",
       "\n",
       "[100 rows x 6 columns]"
      ]
     },
     "execution_count": 90,
     "metadata": {},
     "output_type": "execute_result"
    }
   ],
   "source": [
    "data"
   ]
  },
  {
   "cell_type": "markdown",
   "id": "57e138d7",
   "metadata": {},
   "source": [
    "### 엑셀데이터 불러오기"
   ]
  },
  {
   "cell_type": "code",
   "execution_count": 177,
   "id": "028800a4",
   "metadata": {},
   "outputs": [],
   "source": [
    "# 변수명 = read_excel( 엑셀파일명)"
   ]
  },
  {
   "cell_type": "code",
   "execution_count": 91,
   "id": "b91d7031",
   "metadata": {},
   "outputs": [],
   "source": [
    "import pandas as pd\n",
    "\n",
    "from pandas import read_excel\n",
    "data1=read_excel(\"연도별범죄_excel.xlsx\")"
   ]
  },
  {
   "cell_type": "code",
   "execution_count": 92,
   "id": "688363de",
   "metadata": {},
   "outputs": [
    {
     "data": {
      "text/html": [
       "<div>\n",
       "<style scoped>\n",
       "    .dataframe tbody tr th:only-of-type {\n",
       "        vertical-align: middle;\n",
       "    }\n",
       "\n",
       "    .dataframe tbody tr th {\n",
       "        vertical-align: top;\n",
       "    }\n",
       "\n",
       "    .dataframe thead th {\n",
       "        text-align: right;\n",
       "    }\n",
       "</style>\n",
       "<table border=\"1\" class=\"dataframe\">\n",
       "  <thead>\n",
       "    <tr style=\"text-align: right;\">\n",
       "      <th></th>\n",
       "      <th>통계표명:</th>\n",
       "      <th>형법범죄율</th>\n",
       "      <th>Unnamed: 2</th>\n",
       "      <th>Unnamed: 3</th>\n",
       "      <th>Unnamed: 4</th>\n",
       "      <th>Unnamed: 5</th>\n",
       "      <th>Unnamed: 6</th>\n",
       "      <th>Unnamed: 7</th>\n",
       "      <th>Unnamed: 8</th>\n",
       "      <th>Unnamed: 9</th>\n",
       "      <th>Unnamed: 10</th>\n",
       "      <th>Unnamed: 11</th>\n",
       "      <th>Unnamed: 12</th>\n",
       "      <th>Unnamed: 13</th>\n",
       "    </tr>\n",
       "  </thead>\n",
       "  <tbody>\n",
       "    <tr>\n",
       "      <th>0</th>\n",
       "      <td>단위:</td>\n",
       "      <td>건/인구 십만 명당</td>\n",
       "      <td>NaN</td>\n",
       "      <td>NaN</td>\n",
       "      <td>NaN</td>\n",
       "      <td>NaN</td>\n",
       "      <td>NaN</td>\n",
       "      <td>NaN</td>\n",
       "      <td>NaN</td>\n",
       "      <td>NaN</td>\n",
       "      <td>NaN</td>\n",
       "      <td>NaN</td>\n",
       "      <td>NaN</td>\n",
       "      <td>NaN</td>\n",
       "    </tr>\n",
       "    <tr>\n",
       "      <th>1</th>\n",
       "      <td>NaN</td>\n",
       "      <td>NaN</td>\n",
       "      <td>2010</td>\n",
       "      <td>2011</td>\n",
       "      <td>2012</td>\n",
       "      <td>2013</td>\n",
       "      <td>2014</td>\n",
       "      <td>2015</td>\n",
       "      <td>2016</td>\n",
       "      <td>2017</td>\n",
       "      <td>2018</td>\n",
       "      <td>2019</td>\n",
       "      <td>2020</td>\n",
       "      <td>2021</td>\n",
       "    </tr>\n",
       "    <tr>\n",
       "      <th>2</th>\n",
       "      <td>전체 형법범죄</td>\n",
       "      <td>NaN</td>\n",
       "      <td>1,895</td>\n",
       "      <td>1,997</td>\n",
       "      <td>2,069</td>\n",
       "      <td>2,098</td>\n",
       "      <td>2,003</td>\n",
       "      <td>2,054</td>\n",
       "      <td>1,964</td>\n",
       "      <td>1,867</td>\n",
       "      <td>1,916</td>\n",
       "      <td>2,012</td>\n",
       "      <td>2,015</td>\n",
       "      <td>1,774</td>\n",
       "    </tr>\n",
       "    <tr>\n",
       "      <th>3</th>\n",
       "      <td>주요 형법범죄</td>\n",
       "      <td>살인</td>\n",
       "      <td>2.5</td>\n",
       "      <td>2.4</td>\n",
       "      <td>2.0</td>\n",
       "      <td>1.9</td>\n",
       "      <td>1.8</td>\n",
       "      <td>1.9</td>\n",
       "      <td>1.9</td>\n",
       "      <td>1.7</td>\n",
       "      <td>1.6</td>\n",
       "      <td>1.6</td>\n",
       "      <td>1.6</td>\n",
       "      <td>1.3</td>\n",
       "    </tr>\n",
       "    <tr>\n",
       "      <th>4</th>\n",
       "      <td>NaN</td>\n",
       "      <td>강도</td>\n",
       "      <td>8.9</td>\n",
       "      <td>8.1</td>\n",
       "      <td>5.3</td>\n",
       "      <td>4.0</td>\n",
       "      <td>3.2</td>\n",
       "      <td>2.9</td>\n",
       "      <td>2.3</td>\n",
       "      <td>1.9</td>\n",
       "      <td>1.6</td>\n",
       "      <td>1.6</td>\n",
       "      <td>1.3</td>\n",
       "      <td>1.0</td>\n",
       "    </tr>\n",
       "    <tr>\n",
       "      <th>5</th>\n",
       "      <td>NaN</td>\n",
       "      <td>성폭력(강간 포함)</td>\n",
       "      <td>40.2</td>\n",
       "      <td>44.1</td>\n",
       "      <td>42.5</td>\n",
       "      <td>53.4</td>\n",
       "      <td>58.8</td>\n",
       "      <td>60.9</td>\n",
       "      <td>57.3</td>\n",
       "      <td>63.9</td>\n",
       "      <td>62.2</td>\n",
       "      <td>61.9</td>\n",
       "      <td>58.1</td>\n",
       "      <td>63.6</td>\n",
       "    </tr>\n",
       "    <tr>\n",
       "      <th>6</th>\n",
       "      <td>NaN</td>\n",
       "      <td>폭행</td>\n",
       "      <td>221.1</td>\n",
       "      <td>246.9</td>\n",
       "      <td>255.2</td>\n",
       "      <td>250.9</td>\n",
       "      <td>288.9</td>\n",
       "      <td>316.8</td>\n",
       "      <td>336.0</td>\n",
       "      <td>322.2</td>\n",
       "      <td>318.9</td>\n",
       "      <td>312.8</td>\n",
       "      <td>277.0</td>\n",
       "      <td>231.0</td>\n",
       "    </tr>\n",
       "    <tr>\n",
       "      <th>7</th>\n",
       "      <td>NaN</td>\n",
       "      <td>절도</td>\n",
       "      <td>540.8</td>\n",
       "      <td>563.8</td>\n",
       "      <td>583.8</td>\n",
       "      <td>576.7</td>\n",
       "      <td>525.7</td>\n",
       "      <td>483.0</td>\n",
       "      <td>397.5</td>\n",
       "      <td>358.9</td>\n",
       "      <td>344.0</td>\n",
       "      <td>362.5</td>\n",
       "      <td>347.4</td>\n",
       "      <td>322.3</td>\n",
       "    </tr>\n",
       "    <tr>\n",
       "      <th>8</th>\n",
       "      <td>출처:</td>\n",
       "      <td>검찰청, 「범죄분석통계」,  통계청, 「장래인구추계」</td>\n",
       "      <td>NaN</td>\n",
       "      <td>NaN</td>\n",
       "      <td>NaN</td>\n",
       "      <td>NaN</td>\n",
       "      <td>NaN</td>\n",
       "      <td>NaN</td>\n",
       "      <td>NaN</td>\n",
       "      <td>NaN</td>\n",
       "      <td>NaN</td>\n",
       "      <td>NaN</td>\n",
       "      <td>NaN</td>\n",
       "      <td>NaN</td>\n",
       "    </tr>\n",
       "    <tr>\n",
       "      <th>9</th>\n",
       "      <td>NaN</td>\n",
       "      <td>*자료 : 검찰청, 「범죄분석」 각 연도,  통계청, 「장래인구추계(2020년 기준)」</td>\n",
       "      <td>NaN</td>\n",
       "      <td>NaN</td>\n",
       "      <td>NaN</td>\n",
       "      <td>NaN</td>\n",
       "      <td>NaN</td>\n",
       "      <td>NaN</td>\n",
       "      <td>NaN</td>\n",
       "      <td>NaN</td>\n",
       "      <td>NaN</td>\n",
       "      <td>NaN</td>\n",
       "      <td>NaN</td>\n",
       "      <td>NaN</td>\n",
       "    </tr>\n",
       "    <tr>\n",
       "      <th>10</th>\n",
       "      <td>주석:</td>\n",
       "      <td>1) 형법범죄율 = (형법범죄 발생건수 ÷ 총인구) × 100,000.</td>\n",
       "      <td>NaN</td>\n",
       "      <td>NaN</td>\n",
       "      <td>NaN</td>\n",
       "      <td>NaN</td>\n",
       "      <td>NaN</td>\n",
       "      <td>NaN</td>\n",
       "      <td>NaN</td>\n",
       "      <td>NaN</td>\n",
       "      <td>NaN</td>\n",
       "      <td>NaN</td>\n",
       "      <td>NaN</td>\n",
       "      <td>NaN</td>\n",
       "    </tr>\n",
       "    <tr>\n",
       "      <th>11</th>\n",
       "      <td>NaN</td>\n",
       "      <td>2) 2002년부터 강간에 성폭력범이 포함되며, 2014년부터는 성폭력으로 분류명이...</td>\n",
       "      <td>NaN</td>\n",
       "      <td>NaN</td>\n",
       "      <td>NaN</td>\n",
       "      <td>NaN</td>\n",
       "      <td>NaN</td>\n",
       "      <td>NaN</td>\n",
       "      <td>NaN</td>\n",
       "      <td>NaN</td>\n",
       "      <td>NaN</td>\n",
       "      <td>NaN</td>\n",
       "      <td>NaN</td>\n",
       "      <td>NaN</td>\n",
       "    </tr>\n",
       "  </tbody>\n",
       "</table>\n",
       "</div>"
      ],
      "text/plain": [
       "      통계표명:                                              형법범죄율 Unnamed: 2  \\\n",
       "0       단위:                                         건/인구 십만 명당        NaN   \n",
       "1       NaN                                                NaN       2010   \n",
       "2   전체 형법범죄                                                NaN      1,895   \n",
       "3   주요 형법범죄                                                 살인        2.5   \n",
       "4       NaN                                                 강도        8.9   \n",
       "5       NaN                                         성폭력(강간 포함)       40.2   \n",
       "6       NaN                                                 폭행      221.1   \n",
       "7       NaN                                                 절도      540.8   \n",
       "8       출처:                      검찰청, 「범죄분석통계」,  통계청, 「장래인구추계」        NaN   \n",
       "9       NaN   *자료 : 검찰청, 「범죄분석」 각 연도,  통계청, 「장래인구추계(2020년 기준)」        NaN   \n",
       "10      주석:            1) 형법범죄율 = (형법범죄 발생건수 ÷ 총인구) × 100,000.        NaN   \n",
       "11      NaN  2) 2002년부터 강간에 성폭력범이 포함되며, 2014년부터는 성폭력으로 분류명이...        NaN   \n",
       "\n",
       "   Unnamed: 3 Unnamed: 4 Unnamed: 5 Unnamed: 6 Unnamed: 7 Unnamed: 8  \\\n",
       "0         NaN        NaN        NaN        NaN        NaN        NaN   \n",
       "1        2011       2012       2013       2014       2015       2016   \n",
       "2       1,997      2,069      2,098      2,003      2,054      1,964   \n",
       "3         2.4        2.0        1.9        1.8        1.9        1.9   \n",
       "4         8.1        5.3        4.0        3.2        2.9        2.3   \n",
       "5        44.1       42.5       53.4       58.8       60.9       57.3   \n",
       "6       246.9      255.2      250.9      288.9      316.8      336.0   \n",
       "7       563.8      583.8      576.7      525.7      483.0      397.5   \n",
       "8         NaN        NaN        NaN        NaN        NaN        NaN   \n",
       "9         NaN        NaN        NaN        NaN        NaN        NaN   \n",
       "10        NaN        NaN        NaN        NaN        NaN        NaN   \n",
       "11        NaN        NaN        NaN        NaN        NaN        NaN   \n",
       "\n",
       "   Unnamed: 9 Unnamed: 10 Unnamed: 11 Unnamed: 12 Unnamed: 13  \n",
       "0         NaN         NaN         NaN         NaN         NaN  \n",
       "1        2017        2018        2019        2020        2021  \n",
       "2       1,867       1,916       2,012       2,015       1,774  \n",
       "3         1.7         1.6         1.6         1.6         1.3  \n",
       "4         1.9         1.6         1.6         1.3         1.0  \n",
       "5        63.9        62.2        61.9        58.1        63.6  \n",
       "6       322.2       318.9       312.8       277.0       231.0  \n",
       "7       358.9       344.0       362.5       347.4       322.3  \n",
       "8         NaN         NaN         NaN         NaN         NaN  \n",
       "9         NaN         NaN         NaN         NaN         NaN  \n",
       "10        NaN         NaN         NaN         NaN         NaN  \n",
       "11        NaN         NaN         NaN         NaN         NaN  "
      ]
     },
     "execution_count": 92,
     "metadata": {},
     "output_type": "execute_result"
    }
   ],
   "source": [
    "data1"
   ]
  },
  {
   "cell_type": "code",
   "execution_count": null,
   "id": "064ab97a",
   "metadata": {},
   "outputs": [],
   "source": []
  }
 ],
 "metadata": {
  "kernelspec": {
   "display_name": "Python 3 (ipykernel)",
   "language": "python",
   "name": "python3"
  },
  "language_info": {
   "codemirror_mode": {
    "name": "ipython",
    "version": 3
   },
   "file_extension": ".py",
   "mimetype": "text/x-python",
   "name": "python",
   "nbconvert_exporter": "python",
   "pygments_lexer": "ipython3",
   "version": "3.9.11"
  },
  "toc": {
   "base_numbering": 1,
   "nav_menu": {},
   "number_sections": true,
   "sideBar": true,
   "skip_h1_title": false,
   "title_cell": "Table of Contents",
   "title_sidebar": "Contents",
   "toc_cell": false,
   "toc_position": {},
   "toc_section_display": true,
   "toc_window_display": false
  }
 },
 "nbformat": 4,
 "nbformat_minor": 5
}
