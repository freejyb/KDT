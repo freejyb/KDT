{
 "cells": [
  {
   "cell_type": "markdown",
   "id": "cd8b1e4f",
   "metadata": {},
   "source": [
    "## Pandas 의 자료구조 "
   ]
  },
  {
   "cell_type": "code",
   "execution_count": null,
   "id": "4cfd8843",
   "metadata": {},
   "outputs": [],
   "source": [
    "# pandas 에는 2개의 데이터 타입 \n",
    "# 1) Series : 1차원 데이터 구조. Series 데이터가 2차원이 되면 Dataframe 자료구조와 같다. value 와 index 포함\n",
    "# 2) DataFrame  : 엑셀, DBMS 테이블과 비슷한 형태를 가진 2차원 구조. Column 과 Row 단위로 작업"
   ]
  },
  {
   "cell_type": "code",
   "execution_count": null,
   "id": "5a2d1733",
   "metadata": {},
   "outputs": [],
   "source": [
    "# Series : 1차원 데이터 구조"
   ]
  },
  {
   "cell_type": "code",
   "execution_count": 1,
   "id": "ca844ccc",
   "metadata": {},
   "outputs": [
    {
     "data": {
      "text/plain": [
       "0    1\n",
       "1    2\n",
       "2    3\n",
       "3    4\n",
       "dtype: int64"
      ]
     },
     "execution_count": 1,
     "metadata": {},
     "output_type": "execute_result"
    }
   ],
   "source": [
    "import pandas as pd\n",
    "obj = pd.Series([1,2,3,4])\n",
    "obj"
   ]
  },
  {
   "cell_type": "code",
   "execution_count": 2,
   "id": "6e2b16df",
   "metadata": {},
   "outputs": [
    {
     "data": {
      "text/plain": [
       "RangeIndex(start=0, stop=4, step=1)"
      ]
     },
     "execution_count": 2,
     "metadata": {},
     "output_type": "execute_result"
    }
   ],
   "source": [
    "obj.values\n",
    "obj.index"
   ]
  },
  {
   "cell_type": "code",
   "execution_count": 5,
   "id": "6d423642",
   "metadata": {},
   "outputs": [],
   "source": [
    "# DataFrame  : 2차원 구조. Column 과 Row 단위"
   ]
  },
  {
   "cell_type": "code",
   "execution_count": 7,
   "id": "ba8489ca",
   "metadata": {},
   "outputs": [
    {
     "name": "stdout",
     "output_type": "stream",
     "text": [
      "   Fruits   Color\n",
      "0   Apple     Red\n",
      "1   Melon   Green\n",
      "2  Orange  Orange\n",
      "3  Banana   Yello\n"
     ]
    }
   ],
   "source": [
    "import pandas as pd\n",
    "\n",
    "frame = pd.DataFrame({'Fruits':['Apple','Melon','Orange','Banana'],\n",
    "                      'Color':['Red','Green','Orange','Yello']})\n",
    "\n",
    "print(frame)"
   ]
  },
  {
   "cell_type": "code",
   "execution_count": 8,
   "id": "c2e83a9a",
   "metadata": {},
   "outputs": [
    {
     "data": {
      "text/html": [
       "<div>\n",
       "<style scoped>\n",
       "    .dataframe tbody tr th:only-of-type {\n",
       "        vertical-align: middle;\n",
       "    }\n",
       "\n",
       "    .dataframe tbody tr th {\n",
       "        vertical-align: top;\n",
       "    }\n",
       "\n",
       "    .dataframe thead th {\n",
       "        text-align: right;\n",
       "    }\n",
       "</style>\n",
       "<table border=\"1\" class=\"dataframe\">\n",
       "  <thead>\n",
       "    <tr style=\"text-align: right;\">\n",
       "      <th></th>\n",
       "      <th>Fruits</th>\n",
       "      <th>Color</th>\n",
       "    </tr>\n",
       "  </thead>\n",
       "  <tbody>\n",
       "    <tr>\n",
       "      <th>0</th>\n",
       "      <td>Apple</td>\n",
       "      <td>Red</td>\n",
       "    </tr>\n",
       "    <tr>\n",
       "      <th>1</th>\n",
       "      <td>Melon</td>\n",
       "      <td>Green</td>\n",
       "    </tr>\n",
       "    <tr>\n",
       "      <th>2</th>\n",
       "      <td>Orange</td>\n",
       "      <td>Orange</td>\n",
       "    </tr>\n",
       "    <tr>\n",
       "      <th>3</th>\n",
       "      <td>Banana</td>\n",
       "      <td>Yello</td>\n",
       "    </tr>\n",
       "  </tbody>\n",
       "</table>\n",
       "</div>"
      ],
      "text/plain": [
       "   Fruits   Color\n",
       "0   Apple     Red\n",
       "1   Melon   Green\n",
       "2  Orange  Orange\n",
       "3  Banana   Yello"
      ]
     },
     "execution_count": 8,
     "metadata": {},
     "output_type": "execute_result"
    }
   ],
   "source": [
    "import pandas as pd\n",
    "\n",
    "frame = pd.DataFrame({'Fruits':['Apple','Melon','Orange','Banana'],\n",
    "                      'Color':['Red','Green','Orange','Yello']})\n",
    "\n",
    "frame"
   ]
  },
  {
   "cell_type": "code",
   "execution_count": null,
   "id": "347f3601",
   "metadata": {},
   "outputs": [],
   "source": [
    "# to_csv : csv 파일로 저장 \n",
    "\n",
    "# read_csv : csv 파일 읽어오기"
   ]
  },
  {
   "cell_type": "code",
   "execution_count": 17,
   "id": "e3e6bbf7",
   "metadata": {},
   "outputs": [],
   "source": [
    "import pandas as pd\n",
    "import sys\n",
    "\n",
    "names = ['a','b','c','d']\n",
    "births = [848,33,45,22]\n",
    "custom = [1,5,44,222]\n",
    "\n",
    "BabyDataSet = list(zip(names,births))\n",
    "BabyDataSet\n",
    "\n",
    "\n",
    "df = pd.DataFrame(data = BabyDataSet,columns=['Names','Births'])"
   ]
  },
  {
   "cell_type": "code",
   "execution_count": 18,
   "id": "c8d8bfae",
   "metadata": {},
   "outputs": [],
   "source": [
    "names = ['a','b','c','d']\n",
    "births = [848,33,45,22]\n",
    "\n",
    "BabyDataSet = list(zip(names,births))"
   ]
  },
  {
   "cell_type": "code",
   "execution_count": 20,
   "id": "dd9fc5f6",
   "metadata": {},
   "outputs": [],
   "source": [
    "df.to_csv('births.csv', index=True, header=True)\n",
    "df.to_csv('births.csv', index=False, header=True)\n",
    "newdf = pd.read_csv('births.csv')\n",
    "newdf = pd.read_csv('births.csv', names=['Names','Births'])"
   ]
  },
  {
   "cell_type": "code",
   "execution_count": null,
   "id": "0b159b09",
   "metadata": {},
   "outputs": [],
   "source": [
    "# 파일 삭제"
   ]
  },
  {
   "cell_type": "code",
   "execution_count": 21,
   "id": "6ea560a8",
   "metadata": {},
   "outputs": [],
   "source": [
    "import os\n",
    "os.remove('births.csv')"
   ]
  },
  {
   "cell_type": "code",
   "execution_count": null,
   "id": "bf4fa9cb",
   "metadata": {},
   "outputs": [],
   "source": [
    "# 데이터 살펴보기"
   ]
  },
  {
   "cell_type": "code",
   "execution_count": 24,
   "id": "771a5bc0",
   "metadata": {},
   "outputs": [
    {
     "name": "stdout",
     "output_type": "stream",
     "text": [
      "<class 'pandas.core.frame.DataFrame'>\n",
      "RangeIndex: 4 entries, 0 to 3\n",
      "Data columns (total 2 columns):\n",
      " #   Column  Non-Null Count  Dtype \n",
      "---  ------  --------------  ----- \n",
      " 0   Names   4 non-null      object\n",
      " 1   Births  4 non-null      int64 \n",
      "dtypes: int64(1), object(1)\n",
      "memory usage: 192.0+ bytes\n"
     ]
    }
   ],
   "source": [
    " #Concise summary of a DataFrame.\n",
    "df.info() \n"
   ]
  },
  {
   "cell_type": "code",
   "execution_count": 25,
   "id": "6a3da7bd",
   "metadata": {},
   "outputs": [
    {
     "data": {
      "text/html": [
       "<div>\n",
       "<style scoped>\n",
       "    .dataframe tbody tr th:only-of-type {\n",
       "        vertical-align: middle;\n",
       "    }\n",
       "\n",
       "    .dataframe tbody tr th {\n",
       "        vertical-align: top;\n",
       "    }\n",
       "\n",
       "    .dataframe thead th {\n",
       "        text-align: right;\n",
       "    }\n",
       "</style>\n",
       "<table border=\"1\" class=\"dataframe\">\n",
       "  <thead>\n",
       "    <tr style=\"text-align: right;\">\n",
       "      <th></th>\n",
       "      <th>Names</th>\n",
       "      <th>Births</th>\n",
       "    </tr>\n",
       "  </thead>\n",
       "  <tbody>\n",
       "    <tr>\n",
       "      <th>3</th>\n",
       "      <td>d</td>\n",
       "      <td>22</td>\n",
       "    </tr>\n",
       "  </tbody>\n",
       "</table>\n",
       "</div>"
      ],
      "text/plain": [
       "  Names  Births\n",
       "3     d      22"
      ]
     },
     "execution_count": 25,
     "metadata": {},
     "output_type": "execute_result"
    }
   ],
   "source": [
    " #데이터프레임의 인덱스 앞에서부터 n 개의 row 를 가져옴\n",
    "df.head(3) \n",
    " #데이터프레임의 인덱스 끝에서부터 n개의 row 를 가져옴\n",
    "df.tail(1) \n"
   ]
  },
  {
   "cell_type": "code",
   "execution_count": 26,
   "id": "dcbcfe0a",
   "metadata": {},
   "outputs": [
    {
     "data": {
      "text/plain": [
       "count     4\n",
       "unique    4\n",
       "top       a\n",
       "freq      1\n",
       "Name: Names, dtype: object"
      ]
     },
     "execution_count": 26,
     "metadata": {},
     "output_type": "execute_result"
    }
   ],
   "source": [
    "#Dataframe 의 statistic 과 data summary 를 보여준다.\n",
    "df['Names'].describe()  "
   ]
  },
  {
   "cell_type": "code",
   "execution_count": 27,
   "id": "514d8430",
   "metadata": {},
   "outputs": [
    {
     "data": {
      "text/plain": [
       "array(['a', 'b', 'c', 'd'], dtype=object)"
      ]
     },
     "execution_count": 27,
     "metadata": {},
     "output_type": "execute_result"
    }
   ],
   "source": [
    " #중복된 값을 삭제한 array 를 반환한다. (Sort 되지 않은 값). \n",
    "df['Names'].unique()   \n"
   ]
  },
  {
   "cell_type": "code",
   "execution_count": 28,
   "id": "35f666e9",
   "metadata": {},
   "outputs": [
    {
     "data": {
      "text/html": [
       "<div>\n",
       "<style scoped>\n",
       "    .dataframe tbody tr th:only-of-type {\n",
       "        vertical-align: middle;\n",
       "    }\n",
       "\n",
       "    .dataframe tbody tr th {\n",
       "        vertical-align: top;\n",
       "    }\n",
       "\n",
       "    .dataframe thead th {\n",
       "        text-align: right;\n",
       "    }\n",
       "</style>\n",
       "<table border=\"1\" class=\"dataframe\">\n",
       "  <thead>\n",
       "    <tr style=\"text-align: right;\">\n",
       "      <th></th>\n",
       "      <th>Names</th>\n",
       "      <th>Births</th>\n",
       "    </tr>\n",
       "  </thead>\n",
       "  <tbody>\n",
       "    <tr>\n",
       "      <th>0</th>\n",
       "      <td>a</td>\n",
       "      <td>848</td>\n",
       "    </tr>\n",
       "  </tbody>\n",
       "</table>\n",
       "</div>"
      ],
      "text/plain": [
       "  Names  Births\n",
       "0     a     848"
      ]
     },
     "execution_count": 28,
     "metadata": {},
     "output_type": "execute_result"
    }
   ],
   "source": [
    "   # 큰 순서대로 sortedarray 에 저장 \n",
    "Sorted = df.sort_values(['Births'], ascending=False) \n",
    "\n",
    "Sorted.head(1)   \n"
   ]
  },
  {
   "cell_type": "code",
   "execution_count": 29,
   "id": "0857aa85",
   "metadata": {},
   "outputs": [
    {
     "data": {
      "text/plain": [
       "848"
      ]
     },
     "execution_count": 29,
     "metadata": {},
     "output_type": "execute_result"
    }
   ],
   "source": [
    "  #가장 큰 값 \n",
    "df['Births'].max()  "
   ]
  },
  {
   "cell_type": "code",
   "execution_count": null,
   "id": "6cd3a7ff",
   "metadata": {},
   "outputs": [],
   "source": []
  }
 ],
 "metadata": {
  "kernelspec": {
   "display_name": "Python 3 (ipykernel)",
   "language": "python",
   "name": "python3"
  },
  "language_info": {
   "codemirror_mode": {
    "name": "ipython",
    "version": 3
   },
   "file_extension": ".py",
   "mimetype": "text/x-python",
   "name": "python",
   "nbconvert_exporter": "python",
   "pygments_lexer": "ipython3",
   "version": "3.9.6"
  }
 },
 "nbformat": 4,
 "nbformat_minor": 5
}
