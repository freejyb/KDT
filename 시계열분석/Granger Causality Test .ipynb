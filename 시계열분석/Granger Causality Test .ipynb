{
 "cells": [
  {
   "cell_type": "markdown",
   "id": "084a5ea8-f12d-4123-8560-91ff6183152a",
   "metadata": {},
   "source": [
    "## Granger 인과성"
   ]
  },
  {
   "cell_type": "code",
   "execution_count": 2,
   "id": "ed5589a6-8fbf-4dd7-826d-38220ef7c2a8",
   "metadata": {},
   "outputs": [],
   "source": [
    "# 검정 방향:\n",
    "# 반도체 → 삼성전자\n",
    "# 삼성전자 → 반도체"
   ]
  },
  {
   "cell_type": "code",
   "execution_count": null,
   "id": "3a633da1-6c2a-4dd9-9fce-d39c1fa10620",
   "metadata": {},
   "outputs": [],
   "source": [
    "# 종목\t설명\n",
    "# 005930\t삼성전자 (KOSPI)\n",
    "# 091160\tKODEX 반도체 ETF (국내 상장, 반도체 업황 지표 대용 가능)"
   ]
  },
  {
   "cell_type": "code",
   "execution_count": null,
   "id": "cbb2dea8-71b0-4330-9403-47786d3b1b39",
   "metadata": {},
   "outputs": [],
   "source": []
  },
  {
   "cell_type": "code",
   "execution_count": 1,
   "id": "15fd71c0-bea7-47d3-a535-11a3e0eb6c77",
   "metadata": {},
   "outputs": [
    {
     "name": "stderr",
     "output_type": "stream",
     "text": [
      "C:\\Users\\JYB\\AppData\\Local\\Programs\\Python\\Python39\\lib\\site-packages\\pykrx\\__init__.py:4: UserWarning: pkg_resources is deprecated as an API. See https://setuptools.pypa.io/en/latest/pkg_resources.html. The pkg_resources package is slated for removal as early as 2025-11-30. Refrain from using this package or pin to Setuptools<81.\n",
      "  import pkg_resources\n"
     ]
    },
    {
     "name": "stdout",
     "output_type": "stream",
     "text": [
      "\n",
      "📈 Granger Causality Test: Does Semiconductor lead Samsung?\n",
      "\n",
      "Granger Causality\n",
      "number of lags (no zero) 1\n",
      "ssr based F test:         F=0.2275  , p=0.6336  , df_denom=599, df_num=1\n",
      "ssr based chi2 test:   chi2=0.2286  , p=0.6325  , df=1\n",
      "likelihood ratio test: chi2=0.2286  , p=0.6326  , df=1\n",
      "parameter F test:         F=0.2275  , p=0.6336  , df_denom=599, df_num=1\n",
      "\n",
      "Granger Causality\n",
      "number of lags (no zero) 2\n",
      "ssr based F test:         F=1.1152  , p=0.3285  , df_denom=596, df_num=2\n",
      "ssr based chi2 test:   chi2=2.2490  , p=0.3248  , df=2\n",
      "likelihood ratio test: chi2=2.2448  , p=0.3255  , df=2\n",
      "parameter F test:         F=1.1152  , p=0.3285  , df_denom=596, df_num=2\n",
      "\n",
      "Granger Causality\n",
      "number of lags (no zero) 3\n",
      "ssr based F test:         F=0.7605  , p=0.5165  , df_denom=593, df_num=3\n",
      "ssr based chi2 test:   chi2=2.3085  , p=0.5109  , df=3\n",
      "likelihood ratio test: chi2=2.3041  , p=0.5117  , df=3\n",
      "parameter F test:         F=0.7605  , p=0.5165  , df_denom=593, df_num=3\n",
      "\n",
      "Granger Causality\n",
      "number of lags (no zero) 4\n",
      "ssr based F test:         F=0.7274  , p=0.5735  , df_denom=590, df_num=4\n",
      "ssr based chi2 test:   chi2=2.9539  , p=0.5656  , df=4\n",
      "likelihood ratio test: chi2=2.9466  , p=0.5668  , df=4\n",
      "parameter F test:         F=0.7274  , p=0.5735  , df_denom=590, df_num=4\n",
      "\n",
      "Granger Causality\n",
      "number of lags (no zero) 5\n",
      "ssr based F test:         F=0.6417  , p=0.6679  , df_denom=587, df_num=5\n",
      "ssr based chi2 test:   chi2=3.2688  , p=0.6586  , df=5\n",
      "likelihood ratio test: chi2=3.2599  , p=0.6600  , df=5\n",
      "parameter F test:         F=0.6417  , p=0.6679  , df_denom=587, df_num=5\n",
      "\n",
      "📈 Granger Causality Test: Does Samsung lead Semiconductor?\n",
      "\n",
      "Granger Causality\n",
      "number of lags (no zero) 1\n",
      "ssr based F test:         F=0.1067  , p=0.7441  , df_denom=599, df_num=1\n",
      "ssr based chi2 test:   chi2=0.1072  , p=0.7434  , df=1\n",
      "likelihood ratio test: chi2=0.1072  , p=0.7434  , df=1\n",
      "parameter F test:         F=0.1067  , p=0.7441  , df_denom=599, df_num=1\n",
      "\n",
      "Granger Causality\n",
      "number of lags (no zero) 2\n",
      "ssr based F test:         F=1.0898  , p=0.3369  , df_denom=596, df_num=2\n",
      "ssr based chi2 test:   chi2=2.1980  , p=0.3332  , df=2\n",
      "likelihood ratio test: chi2=2.1939  , p=0.3339  , df=2\n",
      "parameter F test:         F=1.0898  , p=0.3369  , df_denom=596, df_num=2\n",
      "\n",
      "Granger Causality\n",
      "number of lags (no zero) 3\n",
      "ssr based F test:         F=0.7684  , p=0.5120  , df_denom=593, df_num=3\n",
      "ssr based chi2 test:   chi2=2.3325  , p=0.5063  , df=3\n",
      "likelihood ratio test: chi2=2.3280  , p=0.5072  , df=3\n",
      "parameter F test:         F=0.7684  , p=0.5120  , df_denom=593, df_num=3\n",
      "\n",
      "Granger Causality\n",
      "number of lags (no zero) 4\n",
      "ssr based F test:         F=1.4736  , p=0.2087  , df_denom=590, df_num=4\n",
      "ssr based chi2 test:   chi2=5.9843  , p=0.2003  , df=4\n",
      "likelihood ratio test: chi2=5.9546  , p=0.2026  , df=4\n",
      "parameter F test:         F=1.4736  , p=0.2087  , df_denom=590, df_num=4\n",
      "\n",
      "Granger Causality\n",
      "number of lags (no zero) 5\n",
      "ssr based F test:         F=1.2483  , p=0.2850  , df_denom=587, df_num=5\n",
      "ssr based chi2 test:   chi2=6.3583  , p=0.2729  , df=5\n",
      "likelihood ratio test: chi2=6.3248  , p=0.2759  , df=5\n",
      "parameter F test:         F=1.2483  , p=0.2850  , df_denom=587, df_num=5\n"
     ]
    },
    {
     "name": "stderr",
     "output_type": "stream",
     "text": [
      "C:\\Users\\JYB\\AppData\\Local\\Programs\\Python\\Python39\\lib\\site-packages\\statsmodels\\tsa\\stattools.py:1545: FutureWarning: verbose is deprecated since functions should not print results\n",
      "  warnings.warn(\n",
      "C:\\Users\\JYB\\AppData\\Local\\Programs\\Python\\Python39\\lib\\site-packages\\statsmodels\\tsa\\stattools.py:1545: FutureWarning: verbose is deprecated since functions should not print results\n",
      "  warnings.warn(\n"
     ]
    },
    {
     "data": {
      "text/plain": [
       "{1: ({'ssr_ftest': (0.10666433863086919, 0.7440882563944562, 599.0, 1),\n",
       "   'ssr_chi2test': (0.10719855067743449, 0.743356368963896, 1),\n",
       "   'lrtest': (0.1071890073517352, 0.7433673906537899, 1),\n",
       "   'params_ftest': (0.10666433863105289, 0.744088256394225, 599.0, 1.0)},\n",
       "  [<statsmodels.regression.linear_model.RegressionResultsWrapper at 0x26604c33e50>,\n",
       "   <statsmodels.regression.linear_model.RegressionResultsWrapper at 0x26604c33f40>,\n",
       "   array([[0., 1., 0.]])]),\n",
       " 2: ({'ssr_ftest': (1.0898354199527327, 0.3369410091347403, 596.0, 2),\n",
       "   'ssr_chi2test': (2.1979566690993035, 0.33321134036835937, 2),\n",
       "   'lrtest': (2.1939472953990844, 0.3338799947581036, 2),\n",
       "   'params_ftest': (1.0898354199526665, 0.3369410091347594, 596.0, 2.0)},\n",
       "  [<statsmodels.regression.linear_model.RegressionResultsWrapper at 0x26604c338b0>,\n",
       "   <statsmodels.regression.linear_model.RegressionResultsWrapper at 0x26604c331c0>,\n",
       "   array([[0., 0., 1., 0., 0.],\n",
       "          [0., 0., 0., 1., 0.]])]),\n",
       " 3: ({'ssr_ftest': (0.7684401337663683, 0.511986824828556, 593.0, 3),\n",
       "   'ssr_chi2test': (2.3325332896786897, 0.506317058634483, 3),\n",
       "   'lrtest': (2.3280110798277747, 0.5071759770685238, 3),\n",
       "   'params_ftest': (0.768440133766387, 0.511986824828556, 593.0, 3.0)},\n",
       "  [<statsmodels.regression.linear_model.RegressionResultsWrapper at 0x26604c33370>,\n",
       "   <statsmodels.regression.linear_model.RegressionResultsWrapper at 0x26604c33610>,\n",
       "   array([[0., 0., 0., 1., 0., 0., 0.],\n",
       "          [0., 0., 0., 0., 1., 0., 0.],\n",
       "          [0., 0., 0., 0., 0., 1., 0.]])]),\n",
       " 4: ({'ssr_ftest': (1.4735948830752292, 0.2086756040171987, 590.0, 4),\n",
       "   'ssr_chi2test': (5.984293796352965, 0.20032429667099805, 4),\n",
       "   'lrtest': (5.954598447822718, 0.2025646423455638, 4),\n",
       "   'params_ftest': (1.4735948830752081, 0.20867560401721064, 590.0, 4.0)},\n",
       "  [<statsmodels.regression.linear_model.RegressionResultsWrapper at 0x26604c33160>,\n",
       "   <statsmodels.regression.linear_model.RegressionResultsWrapper at 0x26604c336d0>,\n",
       "   array([[0., 0., 0., 0., 1., 0., 0., 0., 0.],\n",
       "          [0., 0., 0., 0., 0., 1., 0., 0., 0.],\n",
       "          [0., 0., 0., 0., 0., 0., 1., 0., 0.],\n",
       "          [0., 0., 0., 0., 0., 0., 0., 1., 0.]])]),\n",
       " 5: ({'ssr_ftest': (1.2482738928579484, 0.28500535649524067, 587.0, 5),\n",
       "   'ssr_chi2test': (6.358328687640999, 0.2728963167959997, 5),\n",
       "   'lrtest': (6.324763440221432, 0.275888049677261, 5),\n",
       "   'params_ftest': (1.2482738928579504, 0.28500535649524067, 587.0, 5.0)},\n",
       "  [<statsmodels.regression.linear_model.RegressionResultsWrapper at 0x26604ba90a0>,\n",
       "   <statsmodels.regression.linear_model.RegressionResultsWrapper at 0x26604ba9250>,\n",
       "   array([[0., 0., 0., 0., 0., 1., 0., 0., 0., 0., 0.],\n",
       "          [0., 0., 0., 0., 0., 0., 1., 0., 0., 0., 0.],\n",
       "          [0., 0., 0., 0., 0., 0., 0., 1., 0., 0., 0.],\n",
       "          [0., 0., 0., 0., 0., 0., 0., 0., 1., 0., 0.],\n",
       "          [0., 0., 0., 0., 0., 0., 0., 0., 0., 1., 0.]])])}"
      ]
     },
     "execution_count": 1,
     "metadata": {},
     "output_type": "execute_result"
    }
   ],
   "source": [
    "import pandas as pd\n",
    "import numpy as np\n",
    "from statsmodels.tsa.stattools import grangercausalitytests\n",
    "from pykrx import stock\n",
    "import datetime\n",
    "\n",
    "# 1. 날짜 범위 설정\n",
    "start = \"2023-01-01\"\n",
    "end = \"2025-06-25\"\n",
    "start_fmt = datetime.datetime.strptime(start, \"%Y-%m-%d\").strftime(\"%Y%m%d\")\n",
    "end_fmt = datetime.datetime.strptime(end, \"%Y-%m-%d\").strftime(\"%Y%m%d\")\n",
    "\n",
    "# 2. 삼성전자 주가 데이터 가져오기\n",
    "samsung = stock.get_market_ohlcv_by_date(start_fmt, end_fmt, \"005930\")\n",
    "samsung['log_return'] = np.log(samsung['종가'] / samsung['종가'].shift(1))\n",
    "\n",
    "# 3. KODEX 반도체 ETF (국내 대표 반도체 업황 ETF) 데이터 가져오기\n",
    "semiconductor = stock.get_market_ohlcv_by_date(start_fmt, end_fmt, \"091160\")  # KODEX 반도체\n",
    "semiconductor['log_return'] = np.log(semiconductor['종가'] / semiconductor['종가'].shift(1))\n",
    "\n",
    "# 4. 병합 및 정리\n",
    "data = pd.concat([samsung['log_return'], semiconductor['log_return']], axis=1)\n",
    "data.columns = ['samsung_ret', 'semi_ret']\n",
    "data.dropna(inplace=True)\n",
    "\n",
    "# 5. Granger Causality Test\n",
    "print(\"\\n📈 Granger Causality Test: Does Semiconductor lead Samsung?\")\n",
    "grangercausalitytests(data[['samsung_ret', 'semi_ret']], maxlag=5, verbose=True)\n",
    "\n",
    "print(\"\\n📈 Granger Causality Test: Does Samsung lead Semiconductor?\")\n",
    "grangercausalitytests(data[['semi_ret', 'samsung_ret']], maxlag=5, verbose=True)\n"
   ]
  },
  {
   "cell_type": "code",
   "execution_count": null,
   "id": "77a2c257-cafd-4a04-87d9-5f8f0829cd3d",
   "metadata": {},
   "outputs": [],
   "source": [
    "# 결과 해석 팁\n",
    "# 각 시차(lag)에 대해 F-test의 P-value가 출력됩니다.\n",
    "\n",
    "# P < 0.05이면 통계적으로 유의미 → X가 Y를 Granger-cause 한다고 해석"
   ]
  },
  {
   "cell_type": "code",
   "execution_count": null,
   "id": "dfa5e14c-c143-45fd-a93a-8c88c933f12c",
   "metadata": {},
   "outputs": [],
   "source": [
    "# Lags\t반도체 → 삼성전자\t삼성전자 → 반도체\n",
    "# 1 \tp = 0.6336\tp = 0.7441\n",
    "# 2 \tp = 0.3285\tp = 0.3369\n",
    "# 3\t   p = 0.5165\tp = 0.5120\n",
    "# 4\t   p = 0.5735\tp = 0.2087\n",
    "# 5\t   p = 0.6679\tp = 0.2850\n",
    "\n",
    "# 기준: p < 0.05 → 통계적으로 유의한 Granger 인과성 존재"
   ]
  },
  {
   "cell_type": "code",
   "execution_count": null,
   "id": "469252b1-0443-46b9-8bd5-3f8442fc71c1",
   "metadata": {},
   "outputs": [],
   "source": [
    "# 해석\n",
    "# 1. 반도체 → 삼성전자 (예측 가능성 검정)\n",
    "# 모든 시차(lag)에서 p > 0.05\n",
    "# 즉, 반도체 ETF의 수익률이 삼성전자 수익률을 통계적으로 유의미하게 예측하지 않음\n",
    "# → \"Granger 인과성 없음\"**으로 판단\n",
    "# 2. 삼성전자 → 반도체\n",
    "# 마찬가지로 모든 시차에서 p > 0.05\n",
    "# 삼성전자 주가 수익률 역시 반도체 ETF 수익률을 Granger-cause 하지 않음"
   ]
  }
 ],
 "metadata": {
  "kernelspec": {
   "display_name": "Python 3 (ipykernel)",
   "language": "python",
   "name": "python3"
  },
  "language_info": {
   "codemirror_mode": {
    "name": "ipython",
    "version": 3
   },
   "file_extension": ".py",
   "mimetype": "text/x-python",
   "name": "python",
   "nbconvert_exporter": "python",
   "pygments_lexer": "ipython3",
   "version": "3.9.11"
  }
 },
 "nbformat": 4,
 "nbformat_minor": 5
}
