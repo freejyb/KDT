{
 "cells": [
  {
   "cell_type": "markdown",
   "id": "f6aae325-90c5-4667-b58a-ad2d6cbac6e6",
   "metadata": {},
   "source": [
    "## 1. DLinear 모델 "
   ]
  },
  {
   "cell_type": "markdown",
   "id": "6527ffe2-1d62-4a08-b2b0-df9ecd3f5fc0",
   "metadata": {},
   "source": [
    "DLinear 모델은 시계열 데이터의 예측을 위해 설계된 딥러닝 모델\n",
    "\n",
    "주로 롱 시퀀스 예측(Long Sequence Forecasting) 문제에서 사용됩니다. \n",
    "\n",
    "\"DLinear\"는 \"Decomposition-based Linear Model\"의 약자\n",
    "\n",
    "시계열 데이터를 분해하여 보다 단순한 선형 회귀를 통해 예측하는 접근 방식\n",
    "\n",
    "이 모델은 특히 복잡한 모델이 오히려 예측 성능을 저하할 수 있는 긴 시계열 문제에서 효과적인 성능을 보이는 것으로 알려져 있습니다."
   ]
  },
  {
   "cell_type": "code",
   "execution_count": null,
   "id": "ac077fb9-1269-4c3a-b5f7-ceaa8b7818eb",
   "metadata": {},
   "outputs": [],
   "source": [
    "# DLinear 클래스는 input_size를 받아서 output_size로 변환하는 두 개의 선형 레이어 (trend_linear와 seasonality_linear)를 가지고 있습니다.\n",
    "# 모델은 입력 데이터를 **추세(trend)**와 **계절성(seasonality)**으로 분해하여 예측하는 방식으로 동작합니다.\n",
    "# forward 함수는 주어진 입력 x를 추세와 계절성 레이어에 각각 통과시키고, 그 결과를 합산하여 최종 예측 값을 만듭니다."
   ]
  },
  {
   "cell_type": "code",
   "execution_count": null,
   "id": "b5c086ea-b091-4820-a5b9-6ac4523b2923",
   "metadata": {},
   "outputs": [],
   "source": [
    "# 데이터 준비\n",
    "# input_size는 10이고, output_size는 1입니다. 즉, 입력 데이터의 길이는 10이며, 이를 하나의 출력 값으로 예측하려고 합니다.\n",
    "# x는 크기 (1, 10)인 난수로 생성된 입력 데이터입니다. 이는 배치 크기 1, 길이 10인 벡터입니다."
   ]
  },
  {
   "cell_type": "code",
   "execution_count": null,
   "id": "2953f79d-647d-42ca-9ebb-d29744c3ed3b",
   "metadata": {},
   "outputs": [],
   "source": [
    "# 모델 및 학습 설정\n",
    "# DLinear 객체 dmodel을 생성하여 모델을 초기화합니다.\n",
    "# nn.MSELoss()는 평균 제곱 오차(MSE) 손실 함수를 사용해 모델의 예측 값과 실제 값 사이의 오차를 계산합니다.\n",
    "# optim.SGD는 **확률적 경사하강법(SGD)**을 사용해 모델의 파라미터를 업데이트하는 최적화기입니다. 학습률은 0.01로 설정되어 있습니다."
   ]
  },
  {
   "cell_type": "code",
   "execution_count": null,
   "id": "3f20e1dd-722a-4722-82e1-8725db7c587c",
   "metadata": {},
   "outputs": [],
   "source": [
    "# 단일 학습 스텝 실행\n",
    "# y_true는 모델이 예측하고자 하는 실제 값으로, 크기 (1, 1)인 난수로 생성되었습니다.\n",
    "# optimizer.zero_grad()는 이전 학습에서 계산된 기울기를 초기화합니다.\n",
    "# y_pred = dmodel(x)는 모델을 통해 예측 값을 계산합니다.\n",
    "# loss = criterion(y_pred, y_true)를 통해 예측 값과 실제 값 사이의 손실을 계산합니다.\n",
    "# loss.backward()는 손실 함수에 대한 기울기를 계산하는 과정입니다. 이를 통해 각 파라미터의 변화 방향을 알 수 있습니다.\n",
    "# optimizer.step()은 앞에서 계산된 기울기를 사용해 모델의 파라미터를 업데이트합니다."
   ]
  },
  {
   "cell_type": "code",
   "execution_count": 1,
   "id": "f67aafb8-216c-4788-8d8a-0a265806d550",
   "metadata": {},
   "outputs": [
    {
     "name": "stdout",
     "output_type": "stream",
     "text": [
      "예측 값: 0.33053064346313477, 손실 값: 0.21795296669006348\n"
     ]
    }
   ],
   "source": [
    "import torch\n",
    "import torch.nn as nn\n",
    "import torch.optim as optim\n",
    "\n",
    "class DLinear(nn.Module):\n",
    "    def __init__(self, input_size, output_size):\n",
    "        super(DLinear, self).__init__()\n",
    "        # 선형 레이어를 사용하여 추세와 계절성을 학습합니다.\n",
    "        self.trend_linear = nn.Linear(input_size, output_size)\n",
    "        self.seasonality_linear = nn.Linear(input_size, output_size)\n",
    "\n",
    "    def forward(self, x):\n",
    "        # 입력 x를 추세와 계절성으로 분해하여 예측\n",
    "        trend = self.trend_linear(x)\n",
    "        seasonality = self.seasonality_linear(x)\n",
    "        return trend + seasonality\n",
    "\n",
    "# 데이터 예시 (배치 크기: 1, 입력 길이: 10)\n",
    "input_size = 10\n",
    "output_size = 1\n",
    "x = torch.randn(1, input_size)\n",
    "\n",
    "dmodel = DLinear(input_size, output_size)\n",
    "criterion = nn.MSELoss()\n",
    "optimizer = optim.SGD(dmodel.parameters(), lr=0.01)\n",
    "\n",
    "# 학습 예시 (단일 스텝)\n",
    "y_true = torch.randn(1, output_size)  # 실제 값\n",
    "optimizer.zero_grad()\n",
    "y_pred = dmodel(x)  # 예측 값\n",
    "loss = criterion(y_pred, y_true)  # 손실 계산\n",
    "loss.backward()  # 역전파\n",
    "optimizer.step()  # 가중치 업데이트\n",
    "\n",
    "print(f'예측 값: {y_pred.item()}, 손실 값: {loss.item()}')\n"
   ]
  },
  {
   "cell_type": "code",
   "execution_count": null,
   "id": "d2ca99cb-9b95-43e6-bd46-0ede679daf08",
   "metadata": {},
   "outputs": [],
   "source": [
    "# 출력 결과\n",
    "\n",
    "# print(f'예측 값: {y_pred.item()}, 손실 값: {loss.item()}')는 학습 후 예측 값(y_pred)과 손실 값(loss)을 출력합니다.\n",
    "# 예측 값: 모델이 입력 데이터를 바탕으로 계산한 예측 값입니다.\n",
    "# 손실 값: 예측 값과 실제 값 사이의 오차를 의미하며, 이 값이 작을수록 모델의 예측이 정확하다는 것을 나타냅니다."
   ]
  },
  {
   "cell_type": "code",
   "execution_count": null,
   "id": "1431141b-1706-4c16-a0c8-8c324127492e",
   "metadata": {},
   "outputs": [],
   "source": [
    "예측 값의 의미\n",
    "\n",
    "예측 값 (y_pred.item()):  이 값은 삼성전자의 주가 수익률을 예측한 결과입니다. \n",
    "\n",
    "    구체적으로, 최근 10일간의 수익률 데이터를 입력으로 받아서 다음 날의 수익률(즉, 종가가 얼마나 변동할지를 비율로 나타낸 값)을 예측한 것입니다.\n",
    "\n",
    "예를 들어, 예측 값이 0.33이면 이는 주가가 다음 날 33% 상승할 것으로 예상한다는 의미입니다. 반대로 예측 값이 -0.02라면 주가가 2% 하락할 것으로 예측하는 것입니다."
   ]
  },
  {
   "cell_type": "markdown",
   "id": "833b451a-fd56-41ee-8c4a-f7d25b4e895e",
   "metadata": {},
   "source": [
    "## 2. 삼성전자 일별 데이터"
   ]
  },
  {
   "cell_type": "code",
   "execution_count": null,
   "id": "a0d97deb-5d61-455f-afaf-50bbae139f5d",
   "metadata": {},
   "outputs": [],
   "source": []
  },
  {
   "cell_type": "code",
   "execution_count": 2,
   "id": "5293ef3b-84f5-4814-a7f7-cbbd9eafb2b8",
   "metadata": {},
   "outputs": [
    {
     "name": "stderr",
     "output_type": "stream",
     "text": [
      "[*********************100%***********************]  1 of 1 completed"
     ]
    },
    {
     "name": "stdout",
     "output_type": "stream",
     "text": [
      "예측 값: 0.22544682025909424, 손실 값: 0.027434535324573517\n"
     ]
    },
    {
     "name": "stderr",
     "output_type": "stream",
     "text": [
      "\n"
     ]
    }
   ],
   "source": [
    "import torch\n",
    "import torch.nn as nn\n",
    "import torch.optim as optim\n",
    "import yfinance as yf\n",
    "import numpy as np\n",
    "\n",
    "class DLinear(nn.Module):\n",
    "    def __init__(self, input_size, output_size):\n",
    "        super(DLinear, self).__init__()\n",
    "        # 선형 레이어를 사용하여 추세와 계절성을 학습합니다.\n",
    "        self.trend_linear = nn.Linear(input_size, output_size)\n",
    "        self.seasonality_linear = nn.Linear(input_size, output_size)\n",
    "\n",
    "    def forward(self, x):\n",
    "        # 입력 x를 추세와 계절성으로 분해하여 예측\n",
    "        trend = self.trend_linear(x)\n",
    "        seasonality = self.seasonality_linear(x)\n",
    "        return trend + seasonality\n",
    "\n",
    "# 삼성전자 주가 데이터 가져오기\n",
    "ticker = '005930.KS'\n",
    "start_date = '2023-01-01'\n",
    "end_date = '2024-11-19'\n",
    "\n",
    "df = yf.download(ticker, start=start_date, end=end_date)\n",
    "\n",
    "# 종가 데이터를 사용하여 입력 데이터 준비\n",
    "df['Return'] = df['Close'].pct_change()\n",
    "df = df.dropna()\n",
    "\n",
    "# 시계열 데이터 준비 (배치 크기: 1, 입력 길이: 10)\n",
    "input_size = 10\n",
    "output_size = 1\n",
    "\n",
    "# 최근 10일간의 수익률을 입력으로 사용\n",
    "x = torch.tensor(df['Return'].values[-input_size:], dtype=torch.float32).view(1, -1)\n",
    "\n",
    "# DLinear 모델 초기화 및 학습 설정\n",
    "dmodel = DLinear(input_size, output_size)\n",
    "criterion = nn.MSELoss()\n",
    "optimizer = optim.SGD(dmodel.parameters(), lr=0.01)\n",
    "\n",
    "# 실제 값 (다음 날의 수익률을 예측)\n",
    "y_true = torch.tensor([df['Return'].values[-1]], dtype=torch.float32).view(1, -1)\n",
    "\n",
    "# 학습 예시 (단일 스텝)\n",
    "optimizer.zero_grad()\n",
    "y_pred = dmodel(x)  # 예측 값\n",
    "loss = criterion(y_pred, y_true)  # 손실 계산\n",
    "loss.backward()  # 역전파\n",
    "optimizer.step()  # 가중치 업데이트\n",
    "\n",
    "print(f'예측 값: {y_pred.item()}, 손실 값: {loss.item()}')\n"
   ]
  },
  {
   "cell_type": "code",
   "execution_count": null,
   "id": "f2a2ca25-5e17-4b1b-be31-dcbaf8d15ae1",
   "metadata": {},
   "outputs": [],
   "source": []
  }
 ],
 "metadata": {
  "kernelspec": {
   "display_name": "Python 3 (ipykernel)",
   "language": "python",
   "name": "python3"
  },
  "language_info": {
   "codemirror_mode": {
    "name": "ipython",
    "version": 3
   },
   "file_extension": ".py",
   "mimetype": "text/x-python",
   "name": "python",
   "nbconvert_exporter": "python",
   "pygments_lexer": "ipython3",
   "version": "3.9.11"
  }
 },
 "nbformat": 4,
 "nbformat_minor": 5
}
