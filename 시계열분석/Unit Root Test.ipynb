{
 "cells": [
  {
   "cell_type": "markdown",
   "id": "02c324b5-ae7f-4f6b-aa79-3c487cd48102",
   "metadata": {},
   "source": [
    "### 단위근 검정(Unit Root Test)"
   ]
  },
  {
   "cell_type": "markdown",
   "id": "d3bca04a-9361-4cbf-a6d6-95f562304a1c",
   "metadata": {},
   "source": [
    "단위근 검정은 시계열 데이터가 정상성(Stationarity)을 만족하는지 검증하는 통계적 방법입니다. \n",
    "\n",
    "비정상성을 가진 데이터는 평균이나 분산이 시간에 따라 변하며, 분석 및 예측 모델링에 적합하지 않을 수 있습니다. \n",
    "    \n",
    "    단위근 검정은 데이터가 정상 시계열인지, 비정상 시계열인지 판단하는 데 필수적입니다."
   ]
  },
  {
   "cell_type": "markdown",
   "id": "787d2f02-df61-4a35-8373-50315cce3abf",
   "metadata": {},
   "source": [
    "###  Augmented Dickey-Fuller (ADF) Test"
   ]
  },
  {
   "cell_type": "code",
   "execution_count": 1,
   "id": "680b4c76-40d5-4f2c-b51a-eca1716ce1cb",
   "metadata": {},
   "outputs": [
    {
     "name": "stdout",
     "output_type": "stream",
     "text": [
      "ADF Statistic: -1.3583317659818985\n",
      "p-value: 0.6020814791099101\n",
      "Critical Values: {'1%': -3.498198082189098, '5%': -2.891208211860468, '10%': -2.5825959973472097}\n",
      "귀무가설 채택: 데이터는 단위근이 있습니다 (비정상성).\n"
     ]
    }
   ],
   "source": [
    "from statsmodels.tsa.stattools import adfuller\n",
    "import numpy as np\n",
    "import pandas as pd\n",
    "\n",
    "# 데이터 생성 (비정상 데이터)\n",
    "np.random.seed(42)\n",
    "data = np.cumsum(np.random.normal(0, 1, 100))  # 누적합 데이터 (랜덤 워크)\n",
    "df = pd.Series(data)\n",
    "\n",
    "# ADF 테스트 수행\n",
    "result = adfuller(df)\n",
    "print(\"ADF Statistic:\", result[0])\n",
    "print(\"p-value:\", result[1])\n",
    "print(\"Critical Values:\", result[4])\n",
    "\n",
    "# 결과 해석\n",
    "if result[1] < 0.05:\n",
    "    print(\"귀무가설 기각: 데이터는 단위근이 없습니다 (정상성).\")\n",
    "else:\n",
    "    print(\"귀무가설 채택: 데이터는 단위근이 있습니다 (비정상성).\")\n"
   ]
  },
  {
   "cell_type": "code",
   "execution_count": null,
   "id": "c79f9cb4-f5d7-4902-b937-23b968c8a862",
   "metadata": {},
   "outputs": [],
   "source": [
    "# p-값이 0.05보다 작으면 귀무가설을 기각 → 데이터는 정상성을 가진다.\n",
    "\n",
    "# p-값이 0.05보다 크면 귀무가설을 채택 → 데이터는 단위근을 가진다 (비정상성)."
   ]
  },
  {
   "cell_type": "code",
   "execution_count": null,
   "id": "4afc6991-b1c7-4e14-8768-000438824303",
   "metadata": {},
   "outputs": [],
   "source": []
  },
  {
   "cell_type": "markdown",
   "id": "0c7bec32-2d81-4b4c-85d1-14b67b4e0990",
   "metadata": {},
   "source": [
    "### Phillips-Perron (PP) Test"
   ]
  },
  {
   "cell_type": "code",
   "execution_count": 3,
   "id": "7f85dcc9-6ec3-496a-b39b-368366c4c612",
   "metadata": {},
   "outputs": [
    {
     "name": "stdout",
     "output_type": "stream",
     "text": [
      "Phillips-Perron Test Statistic: -1.3110251324578213\n",
      "p-value: 0.6241133288275903\n",
      "Critical Values: {'1%': -3.498198082189098, '5%': -2.891208211860468, '10%': -2.5825959973472097}\n",
      "귀무가설 채택: 데이터는 단위근이 있습니다 (비정상성).\n"
     ]
    }
   ],
   "source": [
    "# 필요한 라이브러리 설치 (arch)\n",
    "# pip install arch\n",
    "\n",
    "from arch.unitroot import PhillipsPerron\n",
    "import numpy as np\n",
    "import pandas as pd\n",
    "\n",
    "# 1. 데이터 생성 (비정상 데이터)\n",
    "np.random.seed(42)\n",
    "data = np.cumsum(np.random.normal(0, 1, 100))  # 랜덤 워크 데이터 (누적합)\n",
    "df = pd.Series(data)\n",
    "\n",
    "# 2. Phillips-Perron 테스트 수행\n",
    "pp_test = PhillipsPerron(df)\n",
    "print(\"Phillips-Perron Test Statistic:\", pp_test.stat)\n",
    "print(\"p-value:\", pp_test.pvalue)\n",
    "print(\"Critical Values:\", pp_test.critical_values)\n",
    "\n",
    "# 결과 해석\n",
    "if pp_test.pvalue < 0.05:\n",
    "    print(\"귀무가설 기각: 데이터는 단위근이 없습니다 (정상성).\")\n",
    "else:\n",
    "    print(\"귀무가설 채택: 데이터는 단위근이 있습니다 (비정상성).\")\n"
   ]
  },
  {
   "cell_type": "markdown",
   "id": "c9124805-c0e0-42f9-a2ec-8b5c82a8000b",
   "metadata": {},
   "source": [
    "p-value 해석:\n",
    "\n",
    "p-값 < 0.05 → 데이터는 정상성을 만족.\n",
    "\n",
    "p-값 ≥ 0.05 → 데이터는 비정상성을 가짐."
   ]
  },
  {
   "cell_type": "markdown",
   "id": "58358cf6-a6c7-4a38-a2e9-0df53bb9293e",
   "metadata": {},
   "source": [
    "### KPSS Test"
   ]
  },
  {
   "cell_type": "code",
   "execution_count": 4,
   "id": "36734d60-7c84-4168-9262-77ca605bc817",
   "metadata": {},
   "outputs": [
    {
     "name": "stdout",
     "output_type": "stream",
     "text": [
      "KPSS Statistic: 1.2573035522875027\n",
      "p-value: 0.01\n",
      "Critical Values: {'10%': 0.347, '5%': 0.463, '2.5%': 0.574, '1%': 0.739}\n",
      "귀무가설 기각: 데이터는 정상성이 없습니다 (비정상성).\n"
     ]
    },
    {
     "name": "stderr",
     "output_type": "stream",
     "text": [
      "C:\\Users\\JYB\\AppData\\Local\\Temp\\ipykernel_25236\\2378886628.py:4: InterpolationWarning: The test statistic is outside of the range of p-values available in the\n",
      "look-up table. The actual p-value is smaller than the p-value returned.\n",
      "\n",
      "  result_kpss = kpss(df, regression=\"c\")\n"
     ]
    }
   ],
   "source": [
    "from statsmodels.tsa.stattools import kpss\n",
    "\n",
    "# KPSS 테스트 수행\n",
    "result_kpss = kpss(df, regression=\"c\")\n",
    "print(\"KPSS Statistic:\", result_kpss[0])\n",
    "print(\"p-value:\", result_kpss[1])\n",
    "print(\"Critical Values:\", result_kpss[3])\n",
    "\n",
    "# 결과 해석\n",
    "if result_kpss[1] < 0.05:\n",
    "    print(\"귀무가설 기각: 데이터는 정상성이 없습니다 (비정상성).\")\n",
    "else:\n",
    "    print(\"귀무가설 채택: 데이터는 정상성을 만족합니다.\")\n"
   ]
  },
  {
   "cell_type": "code",
   "execution_count": null,
   "id": "dbfdd3cf-3ef0-4f2e-bbc9-5207bb46d189",
   "metadata": {},
   "outputs": [],
   "source": []
  },
  {
   "cell_type": "markdown",
   "id": "f538f33d-3264-4afb-afbf-8777f05c0eda",
   "metadata": {},
   "source": [
    "p-값이 0.05보다 작으면 귀무가설을 기각 → 데이터는 정상성을 만족하지 않는다.\n",
    "\n",
    "p-값이 0.05보다 크면 귀무가설을 채택 → 데이터는 정상성을 만족한다."
   ]
  },
  {
   "cell_type": "code",
   "execution_count": null,
   "id": "12e09e2a-8286-48ee-944f-626ed8f9ea50",
   "metadata": {},
   "outputs": [],
   "source": []
  }
 ],
 "metadata": {
  "kernelspec": {
   "display_name": "Python 3 (ipykernel)",
   "language": "python",
   "name": "python3"
  },
  "language_info": {
   "codemirror_mode": {
    "name": "ipython",
    "version": 3
   },
   "file_extension": ".py",
   "mimetype": "text/x-python",
   "name": "python",
   "nbconvert_exporter": "python",
   "pygments_lexer": "ipython3",
   "version": "3.9.11"
  }
 },
 "nbformat": 4,
 "nbformat_minor": 5
}
