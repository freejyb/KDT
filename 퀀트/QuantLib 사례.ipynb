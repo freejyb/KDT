{
 "cells": [
  {
   "cell_type": "code",
   "execution_count": 1,
   "id": "47d2c6bc",
   "metadata": {},
   "outputs": [
    {
     "name": "stdout",
     "output_type": "stream",
     "text": [
      "Requirement already satisfied: QuantLib-Python in c:\\users\\jyb\\appdata\\local\\programs\\python\\python39\\lib\\site-packages (1.18)\n",
      "Requirement already satisfied: QuantLib in c:\\users\\jyb\\appdata\\local\\programs\\python\\python39\\lib\\site-packages (from QuantLib-Python) (1.25)\n",
      "Note: you may need to restart the kernel to use updated packages.\n"
     ]
    },
    {
     "name": "stderr",
     "output_type": "stream",
     "text": [
      "WARNING: You are using pip version 22.0.4; however, version 24.0 is available.\n",
      "You should consider upgrading via the 'c:\\users\\jyb\\appdata\\local\\programs\\python\\python39\\python.exe -m pip install --upgrade pip' command.\n"
     ]
    }
   ],
   "source": [
    "pip install QuantLib-Python\n"
   ]
  },
  {
   "cell_type": "markdown",
   "id": "ac42de0c",
   "metadata": {},
   "source": [
    "## 옵션의 가격을 계산하는 예시"
   ]
  },
  {
   "cell_type": "markdown",
   "id": "440ff0b2",
   "metadata": {},
   "source": [
    "### 미국형옵션"
   ]
  },
  {
   "cell_type": "code",
   "execution_count": null,
   "id": "5a2b34dc",
   "metadata": {},
   "outputs": [],
   "source": [
    "# 아메리칸 스타일의 콜 옵션 가격을 계산해 보겠습니다. 이 예제에서는 Binomial Tree 모델을 사용"
   ]
  },
  {
   "cell_type": "code",
   "execution_count": null,
   "id": "ce3a7556",
   "metadata": {},
   "outputs": [],
   "source": [
    "# 아메리칸 스타일 콜 옵션의 가격을 계산하기 위해 Binomial Tree 모델(Cox-Ross-Rubinstein 모델)을 사용합니다.\n",
    "# BlackScholesMertonProcess를 설정하고, 이를 바탕으로 BinomialVanillaEngine을 사용하여 옵션의 가격을 계산합니다. \n",
    "# 아메리칸 옵션은 만기 전 언제든지 실행될 수 있기 때문에, 유럽식 옵션보다 가치가 더 높거나 같습니다."
   ]
  },
  {
   "cell_type": "code",
   "execution_count": 9,
   "id": "3269e694",
   "metadata": {},
   "outputs": [
    {
     "name": "stdout",
     "output_type": "stream",
     "text": [
      "American Call Option Price: 5.89\n"
     ]
    }
   ],
   "source": [
    "import QuantLib as ql\n",
    "\n",
    "# 기본 설정\n",
    "valuation_date = ql.Date(15, 3, 2022)\n",
    "ql.Settings.instance().evaluationDate = valuation_date\n",
    "\n",
    "# 옵션 파라미터\n",
    "expiration_date = ql.Date(15, 9, 2022)\n",
    "underlying_price = 100.0  # 기초 자산 가격\n",
    "strike_price = 100.0  # 행사 가격\n",
    "volatility = 0.20  # 변동성 (20%)\n",
    "dividend_rate = 0.0  # 배당률\n",
    "option_type = ql.Option.Call  # 콜 옵션\n",
    "\n",
    "# 이자율 및 배당률 설정\n",
    "risk_free_rate = 0.01  # 무위험 이자율 (1%)\n",
    "day_count = ql.Actual365Fixed()\n",
    "calendar = ql.UnitedStates()\n",
    "\n",
    "# 이자율 곡선 구성\n",
    "yield_curve = ql.FlatForward(valuation_date, risk_free_rate, day_count)\n",
    "yield_curve_handle = ql.YieldTermStructureHandle(yield_curve)\n",
    "\n",
    "# 배당률 곡선 구성\n",
    "dividend_yield = ql.FlatForward(valuation_date, dividend_rate, day_count)\n",
    "dividend_yield_handle = ql.YieldTermStructureHandle(dividend_yield)\n",
    "\n",
    "# 변동성 곡선 구성\n",
    "volatility_curve = ql.BlackConstantVol(valuation_date, calendar, volatility, day_count)\n",
    "volatility_curve_handle = ql.BlackVolTermStructureHandle(volatility_curve)\n",
    "\n",
    "# 아메리칸 옵션 정의\n",
    "payoff = ql.PlainVanillaPayoff(option_type, strike_price)\n",
    "settlement = valuation_date\n",
    "am_exercise = ql.AmericanExercise(settlement, expiration_date)\n",
    "american_option = ql.VanillaOption(payoff, am_exercise)\n",
    "\n",
    "# 블랙-숄즈 프로세스 설정\n",
    "bs_process = ql.BlackScholesMertonProcess(ql.QuoteHandle(ql.SimpleQuote(underlying_price)),\n",
    "                                          dividend_yield_handle,\n",
    "                                          yield_curve_handle,\n",
    "                                          volatility_curve_handle)\n",
    "\n",
    "# Binomial Tree 모델을 사용한 옵션 가격 책정\n",
    "steps = 200\n",
    "binomial_engine = ql.BinomialVanillaEngine(bs_process, \"crr\", steps)\n",
    "american_option.setPricingEngine(binomial_engine)\n",
    "\n",
    "# 옵션 가격 계산\n",
    "option_price = american_option.NPV()\n",
    "\n",
    "print(f\"American Call Option Price: {option_price:.2f}\")\n"
   ]
  },
  {
   "cell_type": "markdown",
   "id": "a969537e",
   "metadata": {},
   "source": [
    "### 유럽형옵션 "
   ]
  },
  {
   "cell_type": "code",
   "execution_count": null,
   "id": "b235cec9",
   "metadata": {},
   "outputs": [],
   "source": [
    "# 유럽식 옵션은 만기일에만 실행할 수 있으므로, EuropeanExercise를 사용하여 옵션의 실행 유형을 정의합니다. \n",
    "# 또한, 유럽식 옵션 가격 계산에는 일반적으로 AnalyticEuropeanEngine을 사용할 수 있습니다. \n",
    "# 이는 블랙-숄즈 모델을 기반으로 한 분석적 해법을 제공합니다."
   ]
  },
  {
   "cell_type": "code",
   "execution_count": null,
   "id": "31c2834f",
   "metadata": {},
   "outputs": [],
   "source": [
    "#  유럽식 콜 옵션의 가격을 계산합니다. EuropeanExercise를 사용하여 옵션의 실행 유형을 정의하고, \n",
    "#     AnalyticEuropeanEngine을 사용하여 옵션의 가격을 계산합니다. \n",
    "#     이 엔진은 블랙-숄즈 모델을 기반으로 한 분석적 해법을 제공하여, 유럽식 옵션의 가격을 효율적으로 계산할 수 있게 합니다."
   ]
  },
  {
   "cell_type": "code",
   "execution_count": 10,
   "id": "59ffa792",
   "metadata": {},
   "outputs": [
    {
     "name": "stdout",
     "output_type": "stream",
     "text": [
      "European Call Option Price: 5.90\n"
     ]
    }
   ],
   "source": [
    "import QuantLib as ql\n",
    "\n",
    "# 기본 설정\n",
    "valuation_date = ql.Date(15, 3, 2022)\n",
    "ql.Settings.instance().evaluationDate = valuation_date\n",
    "\n",
    "# 옵션 파라미터\n",
    "expiration_date = ql.Date(15, 9, 2022)\n",
    "underlying_price = 100.0  # 기초 자산 가격\n",
    "strike_price = 100.0  # 행사 가격\n",
    "volatility = 0.20  # 변동성 (20%)\n",
    "dividend_rate = 0.0  # 배당률\n",
    "option_type = ql.Option.Call  # 콜 옵션\n",
    "\n",
    "# 이자율 및 배당률 설정\n",
    "risk_free_rate = 0.01  # 무위험 이자율 (1%)\n",
    "day_count = ql.Actual365Fixed()\n",
    "calendar = ql.UnitedStates()\n",
    "\n",
    "# 이자율 곡선 구성\n",
    "yield_curve = ql.FlatForward(valuation_date, risk_free_rate, day_count)\n",
    "yield_curve_handle = ql.YieldTermStructureHandle(yield_curve)\n",
    "\n",
    "# 배당률 곡선 구성\n",
    "dividend_yield = ql.FlatForward(valuation_date, dividend_rate, day_count)\n",
    "dividend_yield_handle = ql.YieldTermStructureHandle(dividend_yield)\n",
    "\n",
    "# 변동성 곡선 구성\n",
    "volatility_curve = ql.BlackConstantVol(valuation_date, calendar, volatility, day_count)\n",
    "volatility_curve_handle = ql.BlackVolTermStructureHandle(volatility_curve)\n",
    "\n",
    "# 유럽식 옵션 정의\n",
    "payoff = ql.PlainVanillaPayoff(option_type, strike_price)\n",
    "eu_exercise = ql.EuropeanExercise(expiration_date)\n",
    "european_option = ql.VanillaOption(payoff, eu_exercise)\n",
    "\n",
    "# 블랙-숄즈 프로세스 설정\n",
    "bs_process = ql.BlackScholesMertonProcess(ql.QuoteHandle(ql.SimpleQuote(underlying_price)),\n",
    "                                          dividend_yield_handle,\n",
    "                                          yield_curve_handle,\n",
    "                                          volatility_curve_handle)\n",
    "\n",
    "# 분석적 유럽식 엔진을 사용한 옵션 가격 책정\n",
    "european_option.setPricingEngine(ql.AnalyticEuropeanEngine(bs_process))\n",
    "\n",
    "# 옵션 가격 계산\n",
    "option_price = european_option.NPV()\n",
    "\n",
    "print(f\"European Call Option Price: {option_price:.2f}\")\n"
   ]
  },
  {
   "cell_type": "markdown",
   "id": "18f2e659",
   "metadata": {},
   "source": [
    "## 채권의 내재 수익률(Yield to Maturity, YTM)"
   ]
  },
  {
   "cell_type": "code",
   "execution_count": null,
   "id": "f2f38e16",
   "metadata": {},
   "outputs": [],
   "source": [
    "# 내재 수익률은 채권의 현재 가격이 미래의 모든 현금 흐름(쿠폰 지급 및 만기 시 원금 상환)의 현재 가치와 같게 만드는 할인율입니다. \n",
    "# 이는 투자자가 채권을 현재 가격으로 구매하여 만기까지 보유했을 때 기대할 수 있는 수익률을 나타냅니다."
   ]
  },
  {
   "cell_type": "code",
   "execution_count": null,
   "id": "69528971",
   "metadata": {},
   "outputs": [],
   "source": []
  },
  {
   "cell_type": "code",
   "execution_count": 7,
   "id": "12c1051f",
   "metadata": {},
   "outputs": [
    {
     "name": "stdout",
     "output_type": "stream",
     "text": [
      "채권의 내재 수익률(YTM): 6.89%\n"
     ]
    }
   ],
   "source": [
    "import QuantLib as ql\n",
    "\n",
    "# 기본 설정\n",
    "valuation_date = ql.Date(15, 3, 2022)\n",
    "ql.Settings.instance().evaluationDate = valuation_date\n",
    "\n",
    "# 채권 파라미터\n",
    "issue_date = ql.Date(15, 3, 2020)\n",
    "maturity_date = ql.Date(15, 3, 2025)\n",
    "tenor = ql.Period(ql.Annual)\n",
    "calendar = ql.UnitedStates()\n",
    "business_convention = ql.Unadjusted\n",
    "date_generation = ql.DateGeneration.Backward\n",
    "month_end = False\n",
    "coupon_rate = 0.05  # 5%\n",
    "coupons = [coupon_rate]\n",
    "day_count = ql.Thirty360()\n",
    "face_value = 100\n",
    "\n",
    "# 채권 스케줄 생성\n",
    "schedule = ql.Schedule(issue_date, maturity_date, tenor, calendar, business_convention,\n",
    "                       business_convention, date_generation, month_end)\n",
    "\n",
    "# 고정금리 채권 생성 (settlementDays 인자 제거)\n",
    "fixed_rate_bond = ql.FixedRateBond(3, face_value, schedule, coupons, day_count)\n",
    "\n",
    "# 채권 현재 가격 (시장 가격)\n",
    "market_price = 95.0  # 예: 시장에서 채권의 현재 가격이 95\n",
    "\n",
    "# 내재 수익률 계산\n",
    "ytm = fixed_rate_bond.bondYield(market_price, day_count, ql.Compounded, ql.Annual)\n",
    "\n",
    "print(f\"채권의 내재 수익률(YTM): {ytm:.2%}\")\n"
   ]
  },
  {
   "cell_type": "markdown",
   "id": "afb50177",
   "metadata": {},
   "source": [
    "## 이자율 스왑 계약의 현재 가치를 계산\n"
   ]
  },
  {
   "cell_type": "code",
   "execution_count": null,
   "id": "cb12d985",
   "metadata": {},
   "outputs": [],
   "source": [
    "# 고정 금리와 변동 금리를 교환하는 이자율 스왑의 순현재가치(NPV)를 계산\n",
    "# 여기서는 간단히 고정 금리와 변동 금리(USD LIBOR)에 대한 가정을 바탕으로 스왑 계약을 설정하고, QuantLib의 기능을 사용하여 NPV를 계산합니다. \n",
    "# 실제 환경에서는 시장 데이터를 바탕으로 보다 정교한 이자율 곡선을 구성해야 합니다."
   ]
  },
  {
   "cell_type": "code",
   "execution_count": 8,
   "id": "cda439a7",
   "metadata": {},
   "outputs": [
    {
     "name": "stdout",
     "output_type": "stream",
     "text": [
      "Swap NPV: -21137.18\n"
     ]
    }
   ],
   "source": [
    "import QuantLib as ql\n",
    "\n",
    "# 날짜 설정\n",
    "valuation_date = ql.Date(15, 3, 2022)\n",
    "ql.Settings.instance().evaluationDate = valuation_date\n",
    "\n",
    "# 이자율 곡선 구성\n",
    "calendar = ql.UnitedStates()\n",
    "bussiness_convention = ql.Unadjusted\n",
    "day_count = ql.Thirty360()\n",
    "end_of_month = False\n",
    "settlement_days = 2\n",
    "face_amount = 1000000  # 100만 달러\n",
    "coupon_rate = 0.025  # 고정 금리 2.5%\n",
    "coupons = [coupon_rate]\n",
    "\n",
    "# USD LIBOR 곡선\n",
    "libor_rate = 0.02  # 부동 금리 가정\n",
    "libor_day_count = ql.Actual360()\n",
    "forward_rate = ql.SimpleQuote(libor_rate)\n",
    "libor_curve = ql.FlatForward(valuation_date, ql.QuoteHandle(forward_rate), libor_day_count)\n",
    "libor_curve_handle = ql.YieldTermStructureHandle(libor_curve)\n",
    "\n",
    "# 고정 금리 스왑 스케줄\n",
    "start_date = ql.Date(20, 3, 2022)\n",
    "end_date = ql.Date(15, 3, 2027)\n",
    "fixed_schedule = ql.Schedule(start_date, end_date, ql.Period(ql.Annual), calendar,\n",
    "                             bussiness_convention, bussiness_convention, ql.DateGeneration.Forward, end_of_month)\n",
    "\n",
    "# 부동 금리 스왑 스케줄\n",
    "float_schedule = ql.Schedule(start_date, end_date, ql.Period(ql.Quarterly), calendar,\n",
    "                             bussiness_convention, bussiness_convention, ql.DateGeneration.Forward, end_of_month)\n",
    "\n",
    "# 스왑 정의\n",
    "fixed_leg = ql.FixedRateLeg(fixed_schedule, day_count, [face_amount], coupons)\n",
    "libor_index = ql.USDLibor(ql.Period(3, ql.Months), libor_curve_handle)\n",
    "floating_leg = ql.IborLeg([face_amount], float_schedule, libor_index)\n",
    "\n",
    "# 스왑 가치 평가\n",
    "swap = ql.Swap(fixed_leg, floating_leg)\n",
    "swap.setPricingEngine(ql.DiscountingSwapEngine(libor_curve_handle))\n",
    "\n",
    "# 결과 출력\n",
    "npv = swap.NPV()\n",
    "print(f\"Swap NPV: {npv:.2f}\")\n"
   ]
  },
  {
   "cell_type": "code",
   "execution_count": null,
   "id": "25bacb1c",
   "metadata": {},
   "outputs": [],
   "source": []
  }
 ],
 "metadata": {
  "kernelspec": {
   "display_name": "Python 3 (ipykernel)",
   "language": "python",
   "name": "python3"
  },
  "language_info": {
   "codemirror_mode": {
    "name": "ipython",
    "version": 3
   },
   "file_extension": ".py",
   "mimetype": "text/x-python",
   "name": "python",
   "nbconvert_exporter": "python",
   "pygments_lexer": "ipython3",
   "version": "3.9.11"
  },
  "toc": {
   "base_numbering": 1,
   "nav_menu": {},
   "number_sections": true,
   "sideBar": true,
   "skip_h1_title": false,
   "title_cell": "Table of Contents",
   "title_sidebar": "Contents",
   "toc_cell": false,
   "toc_position": {},
   "toc_section_display": true,
   "toc_window_display": false
  }
 },
 "nbformat": 4,
 "nbformat_minor": 5
}
