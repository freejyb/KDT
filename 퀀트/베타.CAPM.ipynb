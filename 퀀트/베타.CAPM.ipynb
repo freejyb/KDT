{
 "cells": [
  {
   "cell_type": "code",
   "execution_count": null,
   "id": "93c75f6a",
   "metadata": {},
   "outputs": [],
   "source": []
  },
  {
   "cell_type": "markdown",
   "id": "9ef876ed",
   "metadata": {},
   "source": [
    "## 베타 계산하기"
   ]
  },
  {
   "cell_type": "code",
   "execution_count": null,
   "id": "e3b60c04",
   "metadata": {},
   "outputs": [],
   "source": [
    "# pykrx 라이브러리를 사용하여 삼성전자, SK하이닉스, KOSPI 지수의 주가 데이터를 불러옵니다.\n",
    "# 각 주식과 KOSPI 지수의 종가 데이터를 추출하고 일간 수익률을 계산합니다.\n",
    "# statsmodels 라이브러리를 사용하여 회귀 분석을 수행하고, 베타 값을 계산합니다\n",
    "# get_index_data_with_retry 함수를 추가하여 KOSPI 지수 데이터를 가져오는 시도를 여러 번 반복합니다. 이를 통해 일시적인 오류를 회피할 수 있습니다. "
   ]
  },
  {
   "cell_type": "code",
   "execution_count": 5,
   "id": "e0eeffb9",
   "metadata": {},
   "outputs": [
    {
     "name": "stdout",
     "output_type": "stream",
     "text": [
      "삼성전자 베타: 0.9224063180027071\n",
      "SK하이닉스 베타: 1.2593722115341333\n"
     ]
    },
    {
     "name": "stderr",
     "output_type": "stream",
     "text": [
      "C:\\Users\\JYB\\AppData\\Local\\Temp/ipykernel_7900/4112668372.py:55: FutureWarning: Series.__getitem__ treating keys as positions is deprecated. In a future version, integer keys will always be treated as labels (consistent with DataFrame behavior). To access a value by position, use `ser.iloc[pos]`\n",
      "  samsung_beta = model.params[1]\n",
      "C:\\Users\\JYB\\AppData\\Local\\Temp/ipykernel_7900/4112668372.py:60: FutureWarning: Series.__getitem__ treating keys as positions is deprecated. In a future version, integer keys will always be treated as labels (consistent with DataFrame behavior). To access a value by position, use `ser.iloc[pos]`\n",
      "  sk_beta = model.params[1]\n"
     ]
    }
   ],
   "source": [
    "import pandas as pd\n",
    "import numpy as np\n",
    "from pykrx import stock\n",
    "import statsmodels.api as sm\n",
    "import time\n",
    "\n",
    "def get_market_data_with_retry(ticker, start_date, end_date, max_retries=5):\n",
    "    for i in range(max_retries):\n",
    "        try:\n",
    "            df = stock.get_market_ohlcv_by_date(start_date, end_date, ticker)\n",
    "            return df\n",
    "        except Exception as e:\n",
    "            print(f\"Error fetching data for ticker {ticker}, retrying ({i+1}/{max_retries})...\")\n",
    "            time.sleep(1)\n",
    "    raise Exception(f\"Failed to fetch data for ticker {ticker} after {max_retries} retries\")\n",
    "\n",
    "def get_index_data_with_retry(index, start_date, end_date, max_retries=5):\n",
    "    for i in range(max_retries):\n",
    "        try:\n",
    "            df = stock.get_index_ohlcv_by_date(start_date, end_date, index)\n",
    "            return df\n",
    "        except Exception as e:\n",
    "            print(f\"Error fetching data for index {index}, retrying ({i+1}/{max_retries})...\")\n",
    "            time.sleep(1)\n",
    "    raise Exception(f\"Failed to fetch data for index {index} after {max_retries} retries\")\n",
    "\n",
    "# 데이터 불러오기\n",
    "start_date = \"20230101\"\n",
    "end_date = \"20231231\"\n",
    "samsung_ticker = \"005930\"\n",
    "sk_ticker = \"000660\"\n",
    "kospi_index = \"1001\"\n",
    "\n",
    "# 삼성전자, SK하이닉스 주가 데이터 가져오기\n",
    "samsung_df = get_market_data_with_retry(samsung_ticker, start_date, end_date)\n",
    "sk_df = get_market_data_with_retry(sk_ticker, start_date, end_date)\n",
    "# KOSPI 지수 데이터 가져오기\n",
    "kospi_df = get_index_data_with_retry(kospi_index, start_date, end_date)\n",
    "\n",
    "# 종가 데이터만 추출\n",
    "samsung_close = samsung_df['종가']\n",
    "sk_close = sk_df['종가']\n",
    "kospi_close = kospi_df['종가']\n",
    "\n",
    "# 일간 수익률 계산\n",
    "samsung_returns = samsung_close.pct_change().dropna()\n",
    "sk_returns = sk_close.pct_change().dropna()\n",
    "kospi_returns = kospi_close.pct_change().dropna()\n",
    "\n",
    "# 삼성전자 베타 값 계산\n",
    "X = kospi_returns\n",
    "X = sm.add_constant(X)\n",
    "y = samsung_returns\n",
    "model = sm.OLS(y, X).fit()\n",
    "samsung_beta = model.params[1]\n",
    "\n",
    "# SK하이닉스 베타 값 계산\n",
    "y = sk_returns\n",
    "model = sm.OLS(y, X).fit()\n",
    "sk_beta = model.params[1]\n",
    "\n",
    "print(f\"삼성전자 베타: {samsung_beta}\")\n",
    "print(f\"SK하이닉스 베타: {sk_beta}\")\n"
   ]
  },
  {
   "cell_type": "code",
   "execution_count": null,
   "id": "99764435",
   "metadata": {},
   "outputs": [],
   "source": []
  },
  {
   "cell_type": "markdown",
   "id": "308e36bf",
   "metadata": {},
   "source": [
    "## CAPM (Capital Asset Pricing Model)"
   ]
  },
  {
   "cell_type": "code",
   "execution_count": null,
   "id": "b894079f",
   "metadata": {},
   "outputs": [],
   "source": [
    "# Expected Return=Risk-Free Rate+β×(Market Return−Risk-Free Rate)"
   ]
  },
  {
   "cell_type": "code",
   "execution_count": null,
   "id": "50d07e41",
   "metadata": {},
   "outputs": [],
   "source": [
    " # 무위험 수익률이 3%인 경우"
   ]
  },
  {
   "cell_type": "code",
   "execution_count": null,
   "id": "00128a70",
   "metadata": {},
   "outputs": [],
   "source": [
    "# pykrx 라이브러리를 사용하여 삼성전자, SK하이닉스, KOSPI 지수의 주가 데이터를 가져옵니다.\n",
    "# 각 주식과 KOSPI 지수의 일간 수익률을 계산합니다.\n",
    "# statsmodels 라이브러리를 사용하여 회귀 분석을 수행하고, 베타 값을 계산합니다.\n",
    "# 무위험 수익률 3%와 시장 수익률을 사용하여 CAPM 균형수익률을 계산합니다."
   ]
  },
  {
   "cell_type": "code",
   "execution_count": 6,
   "id": "1fb1d160",
   "metadata": {},
   "outputs": [
    {
     "name": "stdout",
     "output_type": "stream",
     "text": [
      "삼성전자 베타: 0.9224063180027071\n",
      "SK하이닉스 베타: 1.2593722115341333\n",
      "삼성전자 CAPM 균형수익률: 0.1813826090183875\n",
      "SK하이닉스 CAPM 균형수익률: 0.23668445931734625\n"
     ]
    },
    {
     "name": "stderr",
     "output_type": "stream",
     "text": [
      "C:\\Users\\JYB\\AppData\\Local\\Temp/ipykernel_7900/1965975666.py:55: FutureWarning: Series.__getitem__ treating keys as positions is deprecated. In a future version, integer keys will always be treated as labels (consistent with DataFrame behavior). To access a value by position, use `ser.iloc[pos]`\n",
      "  samsung_beta = model.params[1]\n",
      "C:\\Users\\JYB\\AppData\\Local\\Temp/ipykernel_7900/1965975666.py:60: FutureWarning: Series.__getitem__ treating keys as positions is deprecated. In a future version, integer keys will always be treated as labels (consistent with DataFrame behavior). To access a value by position, use `ser.iloc[pos]`\n",
      "  sk_beta = model.params[1]\n"
     ]
    }
   ],
   "source": [
    "import pandas as pd\n",
    "import numpy as np\n",
    "from pykrx import stock\n",
    "import statsmodels.api as sm\n",
    "import time\n",
    "\n",
    "def get_market_data_with_retry(ticker, start_date, end_date, max_retries=5):\n",
    "    for i in range(max_retries):\n",
    "        try:\n",
    "            df = stock.get_market_ohlcv_by_date(start_date, end_date, ticker)\n",
    "            return df\n",
    "        except Exception as e:\n",
    "            print(f\"Error fetching data for ticker {ticker}, retrying ({i+1}/{max_retries})...\")\n",
    "            time.sleep(1)\n",
    "    raise Exception(f\"Failed to fetch data for ticker {ticker} after {max_retries} retries\")\n",
    "\n",
    "def get_index_data_with_retry(index, start_date, end_date, max_retries=5):\n",
    "    for i in range(max_retries):\n",
    "        try:\n",
    "            df = stock.get_index_ohlcv_by_date(start_date, end_date, index)\n",
    "            return df\n",
    "        except Exception as e:\n",
    "            print(f\"Error fetching data for index {index}, retrying ({i+1}/{max_retries})...\")\n",
    "            time.sleep(1)\n",
    "    raise Exception(f\"Failed to fetch data for index {index} after {max_retries} retries\")\n",
    "\n",
    "# 데이터 불러오기\n",
    "start_date = \"20230101\"\n",
    "end_date = \"20231231\"\n",
    "samsung_ticker = \"005930\"\n",
    "sk_ticker = \"000660\"\n",
    "kospi_index = \"1001\"\n",
    "\n",
    "# 삼성전자, SK하이닉스 주가 데이터 가져오기\n",
    "samsung_df = get_market_data_with_retry(samsung_ticker, start_date, end_date)\n",
    "sk_df = get_market_data_with_retry(sk_ticker, start_date, end_date)\n",
    "# KOSPI 지수 데이터 가져오기\n",
    "kospi_df = get_index_data_with_retry(kospi_index, start_date, end_date)\n",
    "\n",
    "# 종가 데이터만 추출\n",
    "samsung_close = samsung_df['종가']\n",
    "sk_close = sk_df['종가']\n",
    "kospi_close = kospi_df['종가']\n",
    "\n",
    "# 일간 수익률 계산\n",
    "samsung_returns = samsung_close.pct_change().dropna()\n",
    "sk_returns = sk_close.pct_change().dropna()\n",
    "kospi_returns = kospi_close.pct_change().dropna()\n",
    "\n",
    "# 삼성전자 베타 값 계산\n",
    "X = kospi_returns\n",
    "X = sm.add_constant(X)\n",
    "y = samsung_returns\n",
    "model = sm.OLS(y, X).fit()\n",
    "samsung_beta = model.params[1]\n",
    "\n",
    "# SK하이닉스 베타 값 계산\n",
    "y = sk_returns\n",
    "model = sm.OLS(y, X).fit()\n",
    "sk_beta = model.params[1]\n",
    "\n",
    "print(f\"삼성전자 베타: {samsung_beta}\")\n",
    "print(f\"SK하이닉스 베타: {sk_beta}\")\n",
    "\n",
    "# 무위험 수익률과 시장 수익률 설정\n",
    "risk_free_rate = 0.03  # 3%\n",
    "market_return = kospi_returns.mean() * 252  # 연간 시장 수익률로 변환\n",
    "\n",
    "# CAPM 균형수익률 계산\n",
    "samsung_expected_return = risk_free_rate + samsung_beta * (market_return - risk_free_rate)\n",
    "sk_expected_return = risk_free_rate + sk_beta * (market_return - risk_free_rate)\n",
    "\n",
    "print(f\"삼성전자 CAPM 균형수익률: {samsung_expected_return}\")\n",
    "print(f\"SK하이닉스 CAPM 균형수익률: {sk_expected_return}\")\n"
   ]
  },
  {
   "cell_type": "code",
   "execution_count": null,
   "id": "f2136197",
   "metadata": {},
   "outputs": [],
   "source": [
    "# 결과 해설\n",
    "# 베타는 살아 있다."
   ]
  },
  {
   "cell_type": "code",
   "execution_count": null,
   "id": "c7b3ff6a",
   "metadata": {},
   "outputs": [],
   "source": []
  }
 ],
 "metadata": {
  "kernelspec": {
   "display_name": "Python 3 (ipykernel)",
   "language": "python",
   "name": "python3"
  },
  "language_info": {
   "codemirror_mode": {
    "name": "ipython",
    "version": 3
   },
   "file_extension": ".py",
   "mimetype": "text/x-python",
   "name": "python",
   "nbconvert_exporter": "python",
   "pygments_lexer": "ipython3",
   "version": "3.9.11"
  },
  "toc": {
   "base_numbering": 1,
   "nav_menu": {},
   "number_sections": true,
   "sideBar": true,
   "skip_h1_title": false,
   "title_cell": "Table of Contents",
   "title_sidebar": "Contents",
   "toc_cell": false,
   "toc_position": {},
   "toc_section_display": true,
   "toc_window_display": false
  }
 },
 "nbformat": 4,
 "nbformat_minor": 5
}
