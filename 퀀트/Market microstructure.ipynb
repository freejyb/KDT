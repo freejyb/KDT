{
 "cells": [
  {
   "cell_type": "markdown",
   "id": "c4a9868e-5a97-4660-b78e-85016b7c8193",
   "metadata": {},
   "source": [
    "## Market microstructure"
   ]
  },
  {
   "cell_type": "markdown",
   "id": "300b3c3c-615e-4bfd-b6c6-d4b57f622676",
   "metadata": {},
   "source": [
    "시장 미시구조는 금융시장에서 거래와 가격 형성이 일어나는 과정과 메커니즘을 연구하는 분야입니다. \n",
    "\n",
    "즉, 자산의 가격이 어떻게 결정되고 시장 효율성이 어떻게 영향을 받는지에 대해 설명하는 것입니다. \n",
    "\n",
    "시장 미시구조는 거래 규칙, 시장 참여자, 정보의 흐름 등이 자산 가격과 시장 효율성에 어떤 영향을 미치는지 이해하는 데 중점을 둡니다."
   ]
  },
  {
   "cell_type": "code",
   "execution_count": 36,
   "id": "348e3532-205d-4035-8790-4f0b5c0dbeed",
   "metadata": {},
   "outputs": [
    {
     "name": "stderr",
     "output_type": "stream",
     "text": [
      "[*********************100%***********************]  1 of 1 completed"
     ]
    },
    {
     "name": "stdout",
     "output_type": "stream",
     "text": [
      "가격 변환 실패: 005930.KS\n"
     ]
    },
    {
     "name": "stderr",
     "output_type": "stream",
     "text": [
      "\n",
      "C:\\Users\\JYB\\AppData\\Local\\Temp\\ipykernel_17236\\57477550.py:31: FutureWarning: Calling float on a single element Series is deprecated and will raise a TypeError in the future. Use float(ser.iloc[0]) instead\n",
      "  initial_price = float(data['Close'].dropna().iloc[0])\n"
     ]
    }
   ],
   "source": [
    "import random\n",
    "import pandas as pd\n",
    "import yfinance as yf\n",
    "\n",
    "class MarketMaker:\n",
    "    def __init__(self, initial_price, spread):\n",
    "        self.price = float(initial_price)  # 현재 자산의 가격을 실수로 변환\n",
    "        self.spread = spread        # 매수-매도 스프레드\n",
    "        self.inventory = 0          # 보유 자산 수량\n",
    "\n",
    "    def quote_prices(self):\n",
    "        # 매수 호가와 매도 호가를 계산\n",
    "        bid_price = self.price - (self.spread / 2)\n",
    "        ask_price = self.price + (self.spread / 2)\n",
    "        return bid_price, ask_price\n",
    "\n",
    "    def trade(self, side, amount):\n",
    "        # 거래가 체결될 경우 재고와 가격 조정\n",
    "        if side == 'buy':\n",
    "            self.inventory += amount\n",
    "            print(f\"매수 체결: {amount}개 매수, 재고: {self.inventory}\")\n",
    "        elif side == 'sell':\n",
    "            self.inventory -= amount\n",
    "            print(f\"매도 체결: {amount}개 매도, 재고: {self.inventory}\")\n",
    "        # 가격을 임의로 소폭 변경해 유동성 제공\n",
    "        self.price += random.uniform(-0.5, 0.5)\n",
    "\n",
    "# 실제 주식 데이터 로드 (예: 삼성전자 주식 데이터)\n",
    "data = yf.download('005930.KS', period='5d', interval='1h')\n",
    "if not data['Close'].dropna().empty:\n",
    "    initial_price = float(data['Close'].dropna().iloc[0])\n",
    "else:\n",
    "    initial_price = 0.0\n",
    "\n",
    "spread = 2\n",
    "market_maker = MarketMaker(initial_price, spread)\n",
    "\n",
    "# 시장 조성자의 매수-매도 호가 제시 및 거래 시뮬레이션\n",
    "for price in data['Close'].dropna():\n",
    "    try:\n",
    "        market_maker.price = float(price)\n",
    "    except (ValueError, TypeError, AttributeError):\n",
    "        print(f\"가격 변환 실패: {price}\")\n",
    "        continue\n",
    "    bid_price, ask_price = market_maker.quote_prices()\n",
    "    print(f\"현재 가격: {market_maker.price:.2f}, 매수 호가: {bid_price:.2f}, 매도 호가: {ask_price:.2f}\")\n",
    "    \n",
    "    # 무작위로 거래 발생 (매수 또는 매도)\n",
    "    side = random.choice(['buy', 'sell'])\n",
    "    amount = random.randint(1, 5)  # 거래량은 1에서 5 사이의 임의 값\n",
    "    market_maker.trade(side, amount)\n"
   ]
  },
  {
   "cell_type": "code",
   "execution_count": 37,
   "id": "4fcf48c7-71da-42c5-9eb3-51ceea8db599",
   "metadata": {},
   "outputs": [
    {
     "name": "stderr",
     "output_type": "stream",
     "text": [
      "[*********************100%***********************]  1 of 1 completed"
     ]
    },
    {
     "name": "stdout",
     "output_type": "stream",
     "text": [
      "가격 변환 실패: 005930.KS\n"
     ]
    },
    {
     "name": "stderr",
     "output_type": "stream",
     "text": [
      "\n"
     ]
    }
   ],
   "source": [
    "import random\n",
    "import pandas as pd\n",
    "import yfinance as yf\n",
    "\n",
    "class MarketMaker:\n",
    "    def __init__(self, initial_price, spread):\n",
    "        self.price = float(initial_price)  # 현재 자산의 가격을 실수로 변환\n",
    "        self.spread = spread        # 매수-매도 스프레드\n",
    "        self.inventory = 0          # 보유 자산 수량\n",
    "\n",
    "    def quote_prices(self):\n",
    "        # 매수 호가와 매도 호가를 계산\n",
    "        bid_price = self.price - (self.spread / 2)\n",
    "        ask_price = self.price + (self.spread / 2)\n",
    "        return bid_price, ask_price\n",
    "\n",
    "    def trade(self, side, amount):\n",
    "        # 거래가 체결될 경우 재고와 가격 조정\n",
    "        if side == 'buy':\n",
    "            self.inventory += amount\n",
    "            print(f\"매수 체결: {amount}개 매수, 재고: {self.inventory}\")\n",
    "        elif side == 'sell':\n",
    "            self.inventory -= amount\n",
    "            print(f\"매도 체결: {amount}개 매도, 재고: {self.inventory}\")\n",
    "        # 가격을 임의로 소폭 변경해 유동성 제공\n",
    "        self.price += random.uniform(-0.5, 0.5)\n",
    "\n",
    "# 실제 주식 데이터 로드 (예: 삼성전자 주식 데이터)\n",
    "data = yf.download('005930.KS', period='5d', interval='1h')\n",
    "if not data['Close'].dropna().empty:\n",
    "    initial_price = data['Close'].dropna().iloc[0].item()\n",
    "else:\n",
    "    initial_price = 0.0\n",
    "\n",
    "spread = 2\n",
    "market_maker = MarketMaker(initial_price, spread)\n",
    "\n",
    "# 시장 조성자의 매수-매도 호가 제시 및 거래 시뮬레이션\n",
    "for price in data['Close'].dropna():\n",
    "    try:\n",
    "        market_maker.price = price.item() if hasattr(price, 'item') else float(price)\n",
    "    except (ValueError, TypeError, AttributeError):\n",
    "        print(f\"가격 변환 실패: {price}\")\n",
    "        continue\n",
    "    bid_price, ask_price = market_maker.quote_prices()\n",
    "    print(f\"현재 가격: {market_maker.price:.2f}, 매수 호가: {bid_price:.2f}, 매도 호가: {ask_price:.2f}\")\n",
    "    \n",
    "    # 무작위로 거래 발생 (매수 또는 매도)\n",
    "    side = random.choice(['buy', 'sell'])\n",
    "    amount = random.randint(1, 5)  # 거래량은 1에서 5 사이의 임의 값\n",
    "    market_maker.trade(side, amount)\n"
   ]
  },
  {
   "cell_type": "code",
   "execution_count": null,
   "id": "c8e5f0cf-1168-4018-993d-dd9af18f7e0c",
   "metadata": {},
   "outputs": [],
   "source": []
  },
  {
   "cell_type": "code",
   "execution_count": 32,
   "id": "f2eaa8f0-3681-4afc-aae7-20db4ab7acac",
   "metadata": {},
   "outputs": [
    {
     "name": "stderr",
     "output_type": "stream",
     "text": [
      "[*********************100%***********************]  1 of 1 completed"
     ]
    },
    {
     "name": "stdout",
     "output_type": "stream",
     "text": [
      "가격 변환 실패: 005930.KS\n"
     ]
    },
    {
     "name": "stderr",
     "output_type": "stream",
     "text": [
      "\n"
     ]
    }
   ],
   "source": [
    "import random\n",
    "import pandas as pd\n",
    "import yfinance as yf\n",
    "\n",
    "class MarketMaker:\n",
    "    def __init__(self, initial_price, spread):\n",
    "        self.price = float(initial_price)  # 현재 자산의 가격을 실수로 변환\n",
    "        self.spread = spread        # 매수-매도 스프레드\n",
    "        self.inventory = 0          # 보유 자산 수량\n",
    "\n",
    "    def quote_prices(self):\n",
    "        # 매수 호가와 매도 호가를 계산\n",
    "        bid_price = self.price - (self.spread / 2)\n",
    "        ask_price = self.price + (self.spread / 2)\n",
    "        return bid_price, ask_price\n",
    "\n",
    "    def trade(self, side, amount):\n",
    "        # 거래가 체결될 경우 재고와 가격 조정\n",
    "        if side == 'buy':\n",
    "            self.inventory += amount\n",
    "            print(f\"매수 체결: {amount}개 매수, 재고: {self.inventory}\")\n",
    "        elif side == 'sell':\n",
    "            self.inventory -= amount\n",
    "            print(f\"매도 체결: {amount}개 매도, 재고: {self.inventory}\")\n",
    "        # 가격을 임의로 소폭 변경해 유동성 제공\n",
    "        self.price += random.uniform(-0.5, 0.5)\n",
    "\n",
    "# 실제 주식 데이터 로드 (예: 삼성전자 주식 데이터)\n",
    "data = yf.download('005930.KS', period='5d', interval='1h')\n",
    "if not data['Close'].dropna().empty:\n",
    "    initial_price = data['Close'].dropna().iloc[0]\n",
    "    if isinstance(initial_price, pd.Series):\n",
    "        initial_price = initial_price.iloc[0]\n",
    "    initial_price = float(initial_price)\n",
    "else:\n",
    "    initial_price = 0.0\n",
    "\n",
    "spread = 2\n",
    "market_maker = MarketMaker(initial_price, spread)\n",
    "\n",
    "# 시장 조성자의 매수-매도 호가 제시 및 거래 시뮬레이션\n",
    "for price in data['Close'].dropna():\n",
    "    try:\n",
    "        market_maker.price = price.item() if hasattr(price, 'item') else float(price)\n",
    "    except (ValueError, TypeError, AttributeError):\n",
    "        print(f\"가격 변환 실패: {price}\")\n",
    "        continue\n",
    "    bid_price, ask_price = market_maker.quote_prices()\n",
    "    print(f\"현재 가격: {market_maker.price:.2f}, 매수 호가: {bid_price:.2f}, 매도 호가: {ask_price:.2f}\")\n",
    "    \n",
    "    # 무작위로 거래 발생 (매수 또는 매도)\n",
    "    side = random.choice(['buy', 'sell'])\n",
    "    amount = random.randint(1, 5)  # 거래량은 1에서 5 사이의 임의 값\n",
    "    market_maker.trade(side, amount)\n"
   ]
  },
  {
   "cell_type": "code",
   "execution_count": 33,
   "id": "061db9ac-23e6-4c52-96db-9e1247f09abe",
   "metadata": {},
   "outputs": [
    {
     "name": "stderr",
     "output_type": "stream",
     "text": [
      "[*********************100%***********************]  1 of 1 completed"
     ]
    },
    {
     "name": "stdout",
     "output_type": "stream",
     "text": [
      "가격 변환 실패: 005930.KS\n"
     ]
    },
    {
     "name": "stderr",
     "output_type": "stream",
     "text": [
      "\n"
     ]
    }
   ],
   "source": [
    "import random\n",
    "import pandas as pd\n",
    "import yfinance as yf\n",
    "\n",
    "class MarketMaker:\n",
    "    def __init__(self, initial_price, spread):\n",
    "        self.price = float(initial_price)  # 현재 자산의 가격을 실수로 변환\n",
    "        self.spread = spread        # 매수-매도 스프레드\n",
    "        self.inventory = 0          # 보유 자산 수량\n",
    "\n",
    "    def quote_prices(self):\n",
    "        # 매수 호가와 매도 호가를 계산\n",
    "        bid_price = self.price - (self.spread / 2)\n",
    "        ask_price = self.price + (self.spread / 2)\n",
    "        return bid_price, ask_price\n",
    "\n",
    "    def trade(self, side, amount):\n",
    "        # 거래가 체결될 경우 재고와 가격 조정\n",
    "        if side == 'buy':\n",
    "            self.inventory += amount\n",
    "            print(f\"매수 체결: {amount}개 매수, 재고: {self.inventory}\")\n",
    "        elif side == 'sell':\n",
    "            self.inventory -= amount\n",
    "            print(f\"매도 체결: {amount}개 매도, 재고: {self.inventory}\")\n",
    "        # 가격을 임의로 소폭 변경해 유동성 제공\n",
    "        self.price += random.uniform(-0.5, 0.5)\n",
    "\n",
    "# 실제 주식 데이터 로드 (예: 삼성전자 주식 데이터)\n",
    "data = yf.download('005930.KS', period='5d', interval='1h')\n",
    "if not data['Close'].dropna().empty:\n",
    "    initial_price = data['Close'].dropna().iloc[0]\n",
    "    if isinstance(initial_price, pd.Series):\n",
    "        initial_price = initial_price.iloc[0]\n",
    "    initial_price = float(initial_price)\n",
    "else:\n",
    "    initial_price = 0.0\n",
    "\n",
    "spread = 2\n",
    "market_maker = MarketMaker(initial_price, spread)\n",
    "\n",
    "# 시장 조성자의 매수-매도 호가 제시 및 거래 시뮬레이션\n",
    "for price in data['Close'].dropna():\n",
    "    try:\n",
    "        market_maker.price = float(price)\n",
    "    except (ValueError, TypeError, AttributeError):\n",
    "        print(f\"가격 변환 실패: {price}\")\n",
    "        continue\n",
    "    bid_price, ask_price = market_maker.quote_prices()\n",
    "    print(f\"현재 가격: {market_maker.price:.2f}, 매수 호가: {bid_price:.2f}, 매도 호가: {ask_price:.2f}\")\n",
    "    \n",
    "    # 무작위로 거래 발생 (매수 또는 매도)\n",
    "    side = random.choice(['buy', 'sell'])\n",
    "    amount = random.randint(1, 5)  # 거래량은 1에서 5 사이의 임의 값\n",
    "    market_maker.trade(side, amount)\n"
   ]
  }
 ],
 "metadata": {
  "kernelspec": {
   "display_name": "Python 3 (ipykernel)",
   "language": "python",
   "name": "python3"
  },
  "language_info": {
   "codemirror_mode": {
    "name": "ipython",
    "version": 3
   },
   "file_extension": ".py",
   "mimetype": "text/x-python",
   "name": "python",
   "nbconvert_exporter": "python",
   "pygments_lexer": "ipython3",
   "version": "3.9.11"
  }
 },
 "nbformat": 4,
 "nbformat_minor": 5
}
