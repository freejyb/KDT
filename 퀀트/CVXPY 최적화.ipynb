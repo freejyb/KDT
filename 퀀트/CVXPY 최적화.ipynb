{
 "cells": [
  {
   "cell_type": "code",
   "execution_count": 1,
   "id": "406eb889",
   "metadata": {},
   "outputs": [
    {
     "name": "stdout",
     "output_type": "stream",
     "text": [
      "Requirement already satisfied: cvxpy in c:\\users\\jyb\\appdata\\local\\programs\\python\\python39\\lib\\site-packages (1.4.1)\n",
      "Note: you may need to restart the kernel to use updated packages.Requirement already satisfied: ecos>=2 in c:\\users\\jyb\\appdata\\local\\programs\\python\\python39\\lib\\site-packages (from cvxpy) (2.0.12)\n",
      "Requirement already satisfied: scipy>=1.1.0 in c:\\users\\jyb\\appdata\\local\\programs\\python\\python39\\lib\\site-packages (from cvxpy) (1.7.0)\n",
      "Requirement already satisfied: clarabel>=0.5.0 in c:\\users\\jyb\\appdata\\local\\programs\\python\\python39\\lib\\site-packages (from cvxpy) (0.6.0)\n",
      "Requirement already satisfied: pybind11 in c:\\users\\jyb\\appdata\\local\\programs\\python\\python39\\lib\\site-packages (from cvxpy) (2.11.1)\n",
      "Requirement already satisfied: osqp>=0.6.2 in c:\\users\\jyb\\appdata\\local\\programs\\python\\python39\\lib\\site-packages (from cvxpy) (0.6.3)\n",
      "Requirement already satisfied: numpy>=1.15 in c:\\users\\jyb\\appdata\\local\\programs\\python\\python39\\lib\\site-packages (from cvxpy) (1.21.5)\n",
      "Requirement already satisfied: scs>=3.0 in c:\\users\\jyb\\appdata\\local\\programs\\python\\python39\\lib\\site-packages (from cvxpy) (3.2.4.post1)\n",
      "Requirement already satisfied: qdldl in c:\\users\\jyb\\appdata\\local\\programs\\python\\python39\\lib\\site-packages (from osqp>=0.6.2->cvxpy) (0.1.7.post0)\n",
      "\n"
     ]
    },
    {
     "name": "stderr",
     "output_type": "stream",
     "text": [
      "WARNING: You are using pip version 22.0.4; however, version 24.0 is available.\n",
      "You should consider upgrading via the 'c:\\users\\jyb\\appdata\\local\\programs\\python\\python39\\python.exe -m pip install --upgrade pip' command.\n"
     ]
    }
   ],
   "source": [
    "pip install cvxpy\n"
   ]
  },
  {
   "cell_type": "code",
   "execution_count": 2,
   "id": "146242ea",
   "metadata": {},
   "outputs": [
    {
     "name": "stdout",
     "output_type": "stream",
     "text": [
      "최적값: 1.9999999999505502\n",
      "x1의 최적값: 1.0755723644522493e-10\n",
      "x2의 최적값: 0.49999999990696964\n"
     ]
    },
    {
     "name": "stderr",
     "output_type": "stream",
     "text": [
      "c:\\users\\jyb\\appdata\\local\\programs\\python\\python39\\lib\\site-packages\\cvxpy\\reductions\\solvers\\solving_chain.py:336: FutureWarning: \n",
      "    Your problem is being solved with the ECOS solver by default. Starting in \n",
      "    CVXPY 1.5.0, Clarabel will be used as the default solver instead. To continue \n",
      "    using ECOS, specify the ECOS solver explicitly using the ``solver=cp.ECOS`` \n",
      "    argument to the ``problem.solve`` method.\n",
      "    \n",
      "  warnings.warn(ECOS_DEPRECATION_MSG, FutureWarning)\n"
     ]
    }
   ],
   "source": [
    "import cvxpy as cp\n",
    "\n",
    "# 변수 정의\n",
    "x1 = cp.Variable()\n",
    "x2 = cp.Variable()\n",
    "\n",
    "# 목적 함수 정의\n",
    "objective = cp.Minimize(3*x1 + 4*x2)\n",
    "\n",
    "# 제약 조건 정의\n",
    "constraints = [x1 + 2*x2 >= 1, x1 >= 0, x2 >= 0]\n",
    "\n",
    "# 문제 정의\n",
    "prob = cp.Problem(objective, constraints)\n",
    "\n",
    "# 문제 해결\n",
    "result = prob.solve()\n",
    "\n",
    "# 결과 출력\n",
    "print(\"최적값:\", result)\n",
    "print(\"x1의 최적값:\", x1.value)\n",
    "print(\"x2의 최적값:\", x2.value)\n"
   ]
  },
  {
   "cell_type": "code",
   "execution_count": null,
   "id": "ef62b7bb",
   "metadata": {},
   "outputs": [],
   "source": [
    "# CVXPY를 사용하여 쿼드라틱 프로그래밍 문제를 해결하는 예시. \n",
    "# 쿼드라틱 프로그래밍은 목적 함수가 2차식이고 제약 조건이 선형인 최적화 문제"
   ]
  },
  {
   "cell_type": "code",
   "execution_count": null,
   "id": "4080f47f",
   "metadata": {},
   "outputs": [],
   "source": [
    "# cp.sum_squares(x)를 사용하여 목적 함수를 2차식으로 설정. \n",
    "# 제약 조건은 cp.sum(x) >= 1을 통해 x1 + x2 >= 1을 나타내고, x >= 0을 통해 모든 변수가 0 이상이어야 함을 나타냅니다."
   ]
  },
  {
   "cell_type": "code",
   "execution_count": 3,
   "id": "afe66bf6",
   "metadata": {},
   "outputs": [
    {
     "name": "stdout",
     "output_type": "stream",
     "text": [
      "최적값: 0.5000000000000002\n",
      "x의 최적값: [0.5 0.5]\n"
     ]
    }
   ],
   "source": [
    "import cvxpy as cp\n",
    "import numpy as np\n",
    "\n",
    "# 변수 정의\n",
    "x = cp.Variable(2)\n",
    "\n",
    "# 목적 함수 정의\n",
    "objective = cp.Minimize(cp.sum_squares(x))\n",
    "\n",
    "# 제약 조건 정의\n",
    "constraints = [cp.sum(x) >= 1, x >= 0]\n",
    "\n",
    "# 문제 정의\n",
    "prob = cp.Problem(objective, constraints)\n",
    "\n",
    "# 문제 해결\n",
    "result = prob.solve()\n",
    "\n",
    "# 결과 출력\n",
    "print(\"최적값:\", result)\n",
    "print(\"x의 최적값:\", x.value)\n"
   ]
  },
  {
   "cell_type": "markdown",
   "id": "2f286fe5",
   "metadata": {},
   "source": [
    "## 포트폴리오 최적화 문제를 해결"
   ]
  },
  {
   "cell_type": "code",
   "execution_count": null,
   "id": "b341f8fd",
   "metadata": {},
   "outputs": [],
   "source": [
    "# 포트폴리오 최적화는 주어진 자산들 사이의 최적의 가중치를 찾아, 특정 목표(예: 최소 위험, 최대 수익)를 달성하는 문제"
   ]
  },
  {
   "cell_type": "code",
   "execution_count": null,
   "id": "4f1eac03",
   "metadata": {},
   "outputs": [],
   "source": [
    "# 4개의 자산으로 구성된 포트폴리오의 최소 분산 구성을 찾는 문제\n",
    "# expected_returns :  각 자산의 예상 수익률\n",
    "# cov_matrix :  자산 간의 공분산 행렬\n",
    "#     목적 함수:  포트폴리오의 분산을 최소화하는 것- cp.quad_form(weights, cov_matrix)를 사용하여 계산\n",
    "# 제약 조건 :  포트폴리오의 가중치 합이 1,  모든 가중치가 0 이상이어야 한다."
   ]
  },
  {
   "cell_type": "code",
   "execution_count": 4,
   "id": "c72a9c59",
   "metadata": {},
   "outputs": [
    {
     "name": "stdout",
     "output_type": "stream",
     "text": [
      "최소 분산 포트폴리오의 가중치: [0.02687776 0.03350515 0.27724595 0.66237113]\n"
     ]
    }
   ],
   "source": [
    "import cvxpy as cp\n",
    "import numpy as np\n",
    "\n",
    "# 예상 수익률 (연간)\n",
    "expected_returns = np.array([0.12, 0.10, 0.07, 0.03])\n",
    "\n",
    "# 자산 간 공분산 행렬 (연간)\n",
    "cov_matrix = np.array([\n",
    "    [0.04, 0.006, 0.004, 0.002],\n",
    "    [0.006, 0.025, 0.005, 0.002],\n",
    "    [0.004, 0.005, 0.01, 0.001],\n",
    "    [0.002, 0.002, 0.001, 0.005]\n",
    "])\n",
    "\n",
    "# 변수 정의 (자산 가중치)\n",
    "weights = cp.Variable(4)\n",
    "\n",
    "# 목적 함수 정의 (포트폴리오 분산 최소화)\n",
    "objective = cp.Minimize(cp.quad_form(weights, cov_matrix))\n",
    "\n",
    "# 제약 조건 정의\n",
    "constraints = [cp.sum(weights) == 1,  # 가중치 합은 1이어야 함\n",
    "               weights >= 0]          # 모든 가중치는 0 이상이어야 함\n",
    "\n",
    "# 문제 정의\n",
    "prob = cp.Problem(objective, constraints)\n",
    "\n",
    "# 문제 해결\n",
    "result = prob.solve()\n",
    "\n",
    "# 결과 출력\n",
    "print(\"최소 분산 포트폴리오의 가중치:\", weights.value)\n"
   ]
  },
  {
   "cell_type": "markdown",
   "id": "d2f8ed58",
   "metadata": {},
   "source": [
    "## 포트폴리오 위험 제한"
   ]
  },
  {
   "cell_type": "code",
   "execution_count": null,
   "id": "4027823a",
   "metadata": {},
   "outputs": [],
   "source": [
    "# 이 코드는 포트폴리오의 분산 제한을 0.2로 설정하여, 이전보다 더 높은 위험을 감수하면서도 최대의 기대 수익률을 달성하려고 시도합니다. \n",
    "# cp.quad_form(weights, cov_matrix) <= 0.2는 이제 포트폴리오의 분산이 0.2 이하로 유지되어야 함을 나타냅니다. "
   ]
  },
  {
   "cell_type": "code",
   "execution_count": 5,
   "id": "ec5cc04e",
   "metadata": {},
   "outputs": [
    {
     "name": "stdout",
     "output_type": "stream",
     "text": [
      "최적 포트폴리오의 가중치: [2.13624033e-10 9.99999998e-01 1.28974834e-09]\n"
     ]
    }
   ],
   "source": [
    "import cvxpy as cp\n",
    "import numpy as np\n",
    "\n",
    "# 예상 수익률 (연간)\n",
    "expected_returns = np.array([0.10, 0.20, 0.15])\n",
    "\n",
    "# 자산 간 공분산 행렬 (연간)\n",
    "cov_matrix = np.array([\n",
    "    [0.005, -0.010, 0.004],\n",
    "    [-0.010, 0.040, -0.002],\n",
    "    [0.004, -0.002, 0.023]\n",
    "])\n",
    "\n",
    "# 변수 정의 (자산 가중치)\n",
    "weights = cp.Variable(3)\n",
    "\n",
    "# 목적 함수 정의 (포트폴리오의 기대 수익률 최대화)\n",
    "objective = cp.Maximize(weights.T @ expected_returns)\n",
    "\n",
    "# 제약 조건 정의\n",
    "constraints = [cp.sum(weights) == 1,  # 가중치 합은 1이어야 함\n",
    "               weights >= 0,          # 모든 가중치는 0 이상이어야 함\n",
    "               cp.quad_form(weights, cov_matrix) <= 0.2]  # 포트폴리오의 분산 제한 (0.02에서 0.2로 변경)\n",
    "\n",
    "# 문제 정의\n",
    "prob = cp.Problem(objective, constraints)\n",
    "\n",
    "# 문제 해결\n",
    "result = prob.solve()\n",
    "\n",
    "# 결과 출력\n",
    "print(\"최적 포트폴리오의 가중치:\", weights.value)\n"
   ]
  },
  {
   "cell_type": "markdown",
   "id": "aa0263e9",
   "metadata": {},
   "source": [
    "## 기대수익률을 10% 이상으로 하고 위험을 20% 미만으로 제약"
   ]
  },
  {
   "cell_type": "code",
   "execution_count": 6,
   "id": "ed78539f",
   "metadata": {},
   "outputs": [
    {
     "name": "stdout",
     "output_type": "stream",
     "text": [
      "최적 포트폴리오의 가중치: [0.44267178 0.24808369 0.30924453]\n"
     ]
    }
   ],
   "source": [
    "import cvxpy as cp\n",
    "import numpy as np\n",
    "\n",
    "# 예상 수익률 (연간)\n",
    "expected_returns = np.array([0.10, 0.20, 0.15])\n",
    "\n",
    "# 자산 간 공분산 행렬 (연간)\n",
    "cov_matrix = np.array([\n",
    "    [0.005, -0.010, 0.004],\n",
    "    [-0.010, 0.040, -0.002],\n",
    "    [0.004, -0.002, 0.023]\n",
    "])\n",
    "\n",
    "# 변수 정의 (자산 가중치)\n",
    "weights = cp.Variable(3)\n",
    "\n",
    "# 목적 함수는 이 경우 최소화할 특정 목표가 아니므로, 여기서는 단순히 가중치의 합을 1로 설정합니다.\n",
    "objective = cp.Minimize(0)  # 목적 함수가 필요 없으므로 0을 최소화\n",
    "\n",
    "# 제약 조건 정의\n",
    "constraints = [cp.sum(weights) == 1,  # 가중치 합은 1이어야 함\n",
    "               weights @ expected_returns >= 0.10,  # 기대 수익률이 최소 10% 이상이어야 함\n",
    "               weights >= 0,  # 모든 가중치는 0 이상이어야 함\n",
    "               cp.quad_form(weights, cov_matrix) <= 0.04]  # 포트폴리오의 분산 제한 (20% 미만, 분산이므로 0.2^2 = 0.04)\n",
    "\n",
    "# 문제 정의\n",
    "prob = cp.Problem(objective, constraints)\n",
    "\n",
    "# 문제 해결\n",
    "result = prob.solve()\n",
    "\n",
    "# 결과 출력\n",
    "print(\"최적 포트폴리오의 가중치:\", weights.value)\n"
   ]
  },
  {
   "cell_type": "code",
   "execution_count": null,
   "id": "bc5f3bab",
   "metadata": {},
   "outputs": [],
   "source": []
  },
  {
   "cell_type": "code",
   "execution_count": null,
   "id": "cc2f1782",
   "metadata": {},
   "outputs": [],
   "source": []
  }
 ],
 "metadata": {
  "kernelspec": {
   "display_name": "Python 3 (ipykernel)",
   "language": "python",
   "name": "python3"
  },
  "language_info": {
   "codemirror_mode": {
    "name": "ipython",
    "version": 3
   },
   "file_extension": ".py",
   "mimetype": "text/x-python",
   "name": "python",
   "nbconvert_exporter": "python",
   "pygments_lexer": "ipython3",
   "version": "3.9.11"
  },
  "toc": {
   "base_numbering": 1,
   "nav_menu": {},
   "number_sections": true,
   "sideBar": true,
   "skip_h1_title": false,
   "title_cell": "Table of Contents",
   "title_sidebar": "Contents",
   "toc_cell": false,
   "toc_position": {},
   "toc_section_display": true,
   "toc_window_display": false
  }
 },
 "nbformat": 4,
 "nbformat_minor": 5
}
