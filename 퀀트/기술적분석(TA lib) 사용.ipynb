{
 "cells": [
  {
   "cell_type": "code",
   "execution_count": null,
   "id": "97dfa034",
   "metadata": {},
   "outputs": [],
   "source": [
    "# TA-Lib는 Python 패키지 인덱스(PyPI)를 통해 설치할 수 있다. \n",
    "# 하지만 TA-Lib는 C 라이브러리에 의존하기 때문에, 먼저 시스템에 TA-Lib C 라이브러리를 설치해야 합니다.\n",
    "# C 라이브러리 설치 후, 파이썬 래퍼를 설치할 수 있습니다."
   ]
  },
  {
   "cell_type": "code",
   "execution_count": 2,
   "id": "6ee5c72e",
   "metadata": {},
   "outputs": [
    {
     "ename": "SyntaxError",
     "evalue": "invalid syntax (Temp/ipykernel_17272/2793840247.py, line 2)",
     "output_type": "error",
     "traceback": [
      "\u001b[1;36m  File \u001b[1;32m\"C:\\Users\\JYB\\AppData\\Local\\Temp/ipykernel_17272/2793840247.py\"\u001b[1;36m, line \u001b[1;32m2\u001b[0m\n\u001b[1;33m    sudo apt-get install libta-lib-dev\u001b[0m\n\u001b[1;37m         ^\u001b[0m\n\u001b[1;31mSyntaxError\u001b[0m\u001b[1;31m:\u001b[0m invalid syntax\n"
     ]
    }
   ],
   "source": [
    "# TA-Lib C 라이브러리 설치 예시 (Ubuntu)\n",
    "sudo apt-get install libta-lib-dev\n",
    "\n"
   ]
  },
  {
   "cell_type": "code",
   "execution_count": 3,
   "id": "8c72f20d",
   "metadata": {},
   "outputs": [
    {
     "name": "stdout",
     "output_type": "stream",
     "text": [
      "Collecting TA-Lib\n",
      "  Downloading TA-Lib-0.4.28.tar.gz (357 kB)\n",
      "     -------------------------------------- 357.1/357.1 KB 4.4 MB/s eta 0:00:00\n",
      "Note: you may need to restart the kernel to use updated packages.  Installing build dependencies: started\n",
      "  Installing build dependencies: finished with status 'done'\n",
      "  Getting requirements to build wheel: started\n",
      "  Getting requirements to build wheel: finished with status 'done'\n",
      "  Installing backend dependencies: started\n",
      "  Installing backend dependencies: finished with status 'done'\n",
      "  Preparing metadata (pyproject.toml): started\n",
      "  Preparing metadata (pyproject.toml): finished with status 'done'\n",
      "Requirement already satisfied: numpy in c:\\users\\jyb\\appdata\\local\\programs\\python\\python39\\lib\\site-packages (from TA-Lib) (1.21.5)\n"
     ]
    },
    {
     "name": "stderr",
     "output_type": "stream",
     "text": [
      "  error: subprocess-exited-with-error\n",
      "  \n",
      "  Building wheel for TA-Lib (pyproject.toml) did not run successfully.\n",
      "  exit code: 1\n",
      "  \n",
      "  [14 lines of output]\n",
      "  <string>:77: UserWarning: Cannot find ta-lib library, installation may fail.\n",
      "  running bdist_wheel"
     ]
    },
    {
     "name": "stdout",
     "output_type": "stream",
     "text": [
      "\n",
      "Building wheels for collected packages: TA-Lib\n",
      "  Building wheel for TA-Lib (pyproject.toml): started\n",
      "  Building wheel for TA-Lib (pyproject.toml): finished with status 'error'\n",
      "Failed to build TA-Lib\n"
     ]
    },
    {
     "name": "stderr",
     "output_type": "stream",
     "text": [
      "\n",
      "  running build\n",
      "  running build_py\n",
      "  creating build\n",
      "  creating build\\lib.win-amd64-cpython-39\n",
      "  creating build\\lib.win-amd64-cpython-39\\talib\n",
      "  copying talib\\abstract.py -> build\\lib.win-amd64-cpython-39\\talib\n",
      "  copying talib\\deprecated.py -> build\\lib.win-amd64-cpython-39\\talib\n",
      "  copying talib\\stream.py -> build\\lib.win-amd64-cpython-39\\talib\n",
      "  copying talib\\__init__.py -> build\\lib.win-amd64-cpython-39\\talib\n",
      "  running build_ext\n",
      "  building 'talib._ta_lib' extension\n",
      "  error: Microsoft Visual C++ 14.0 or greater is required. Get it with \"Microsoft C++ Build Tools\": https://visualstudio.microsoft.com/visual-cpp-build-tools/\n",
      "  [end of output]\n",
      "  \n",
      "  note: This error originates from a subprocess, and is likely not a problem with pip.\n",
      "  ERROR: Failed building wheel for TA-Lib\n",
      "ERROR: Could not build wheels for TA-Lib, which is required to install pyproject.toml-based projects\n",
      "WARNING: You are using pip version 22.0.4; however, version 24.0 is available.\n",
      "You should consider upgrading via the 'c:\\users\\jyb\\appdata\\local\\programs\\python\\python39\\python.exe -m pip install --upgrade pip' command.\n"
     ]
    }
   ],
   "source": [
    "pip install TA-Lib"
   ]
  },
  {
   "cell_type": "code",
   "execution_count": 4,
   "id": "4d744944",
   "metadata": {},
   "outputs": [],
   "source": [
    "import talib\n",
    "import numpy as np\n",
    "\n",
    "# 샘플 데이터\n",
    "close_prices = np.random.random(100)\n",
    "\n",
    "# 이동 평균 계산\n",
    "moving_average = talib.SMA(close_prices, timeperiod=30)\n",
    "\n",
    "# RSI 계산\n",
    "rsi = talib.RSI(close_prices)\n"
   ]
  },
  {
   "cell_type": "code",
   "execution_count": 5,
   "id": "9ec14ed6",
   "metadata": {},
   "outputs": [
    {
     "data": {
      "text/plain": [
       "array([        nan,         nan,         nan,         nan,         nan,\n",
       "               nan,         nan,         nan,         nan,         nan,\n",
       "               nan,         nan,         nan,         nan, 46.05322068,\n",
       "       46.33362087, 52.95199797, 48.56207164, 50.61204607, 46.45772387,\n",
       "       47.64313337, 51.31925156, 53.01533046, 47.39638478, 49.25377867,\n",
       "       52.25481701, 47.56213905, 52.51663306, 48.93579255, 45.82246202,\n",
       "       51.12054494, 53.56488387, 51.66054897, 45.78742801, 48.38417831,\n",
       "       52.4384088 , 47.71348493, 49.79125776, 51.73484527, 52.96465251,\n",
       "       48.66176968, 53.98269136, 48.6705159 , 53.07786188, 48.40378388,\n",
       "       52.12003632, 50.16338134, 46.85476713, 50.74143177, 51.10603889,\n",
       "       53.38518246, 50.11083167, 45.26163442, 46.31609052, 53.90555149,\n",
       "       51.9446605 , 45.59948006, 52.35923911, 47.85053481, 50.84799075,\n",
       "       50.16882566, 48.68014363, 45.20307222, 53.82928255, 47.48762265,\n",
       "       48.08794346, 50.17074212, 49.8286765 , 46.84561928, 53.40706094,\n",
       "       46.61809542, 54.11039438, 46.88697978, 46.88068764, 48.10789123,\n",
       "       53.10541933, 51.39414506, 52.21817116, 46.65860283, 46.38071312,\n",
       "       51.76529333, 48.6816208 , 46.18758323, 54.78405377, 52.59164598,\n",
       "       48.04474325, 53.92719917, 49.70308041, 47.62903254, 52.95701298,\n",
       "       51.05819135, 48.01895974, 52.39915574, 50.15429985, 51.12196236,\n",
       "       47.27532571, 54.2450065 , 52.60202478, 53.21192623, 50.30168737])"
      ]
     },
     "execution_count": 5,
     "metadata": {},
     "output_type": "execute_result"
    }
   ],
   "source": [
    "rsi"
   ]
  },
  {
   "cell_type": "code",
   "execution_count": 9,
   "id": "05cd156f",
   "metadata": {},
   "outputs": [
    {
     "data": {
      "image/png": "[encoded data removed]",
      "text/plain": [
       "<Figure size 1080x360 with 1 Axes>"
      ]
     },
     "metadata": {
      "needs_background": "light"
     },
     "output_type": "display_data"
    }
   ],
   "source": [
    "import numpy as np\n",
    "import talib\n",
    "import pandas as pd\n",
    "import matplotlib.pyplot as plt\n",
    "\n",
    "# Load the stock data\n",
    "stock_data = pd.read_csv(\"se.csv\")  #  삼성전자 주가데이터\n",
    "\n",
    "# Calculate the SMA using the close prices\n",
    "sma = talib.SMA(stock_data[\"Close\"], timeperiod=20)\n",
    "\n",
    "# Plot the stock data and SMA\n",
    "plt.figure(figsize=(15, 5))\n",
    "plt.plot(stock_data[\"Close\"])\n",
    "plt.plot(sma, label=\"20-day SMA\")\n",
    "plt.legend()\n",
    "plt.show()"
   ]
  },
  {
   "cell_type": "code",
   "execution_count": null,
   "id": "181c6dd3",
   "metadata": {},
   "outputs": [],
   "source": [
    "# 스토케스틱"
   ]
  },
  {
   "cell_type": "code",
   "execution_count": 15,
   "id": "95a055d1",
   "metadata": {},
   "outputs": [
    {
     "data": {
      "text/plain": [
       "(0            NaN\n",
       " 1            NaN\n",
       " 2            NaN\n",
       " 3            NaN\n",
       " 4            NaN\n",
       "          ...    \n",
       " 485    82.329317\n",
       " 486    77.721141\n",
       " 487    74.325244\n",
       " 488    77.513756\n",
       " 489    79.767058\n",
       " Length: 490, dtype: float64,\n",
       " 0            NaN\n",
       " 1            NaN\n",
       " 2            NaN\n",
       " 3            NaN\n",
       " 4            NaN\n",
       "          ...    \n",
       " 485    86.449864\n",
       " 486    81.983385\n",
       " 487    78.125234\n",
       " 488    76.520047\n",
       " 489    77.202020\n",
       " Length: 490, dtype: float64)"
      ]
     },
     "execution_count": 15,
     "metadata": {},
     "output_type": "execute_result"
    }
   ],
   "source": [
    "stochastic_oscillator = talib.STOCH(stock_data[\"High\"], stock_data[\"Low\"], stock_data[\"Close\"], fastk_period=14, slowk_period=3, slowk_matype=0, slowd_period=3, slowd_matype=0)\n",
    "stochastic_oscillator"
   ]
  },
  {
   "cell_type": "code",
   "execution_count": 17,
   "id": "8c9e0729",
   "metadata": {},
   "outputs": [
    {
     "data": {
      "text/plain": [
       "0            NaN\n",
       "1            NaN\n",
       "2            NaN\n",
       "3            NaN\n",
       "4            NaN\n",
       "         ...    \n",
       "485    65.680174\n",
       "486    61.669482\n",
       "487    63.585225\n",
       "488    68.280268\n",
       "489    62.736885\n",
       "Length: 490, dtype: float64"
      ]
     },
     "execution_count": 17,
     "metadata": {},
     "output_type": "execute_result"
    }
   ],
   "source": [
    "rsi = talib.RSI(stock_data[\"Close\"], timeperiod=14)\n",
    "rsi"
   ]
  },
  {
   "cell_type": "code",
   "execution_count": 19,
   "id": "22aa4e13",
   "metadata": {},
   "outputs": [
    {
     "data": {
      "text/plain": [
       "(0               NaN\n",
       " 1               NaN\n",
       " 2               NaN\n",
       " 3               NaN\n",
       " 4               NaN\n",
       "            ...     \n",
       " 485    57535.682876\n",
       " 486    57782.396880\n",
       " 487    58057.917879\n",
       " 488    58478.477030\n",
       " 489    58685.943299\n",
       " Length: 490, dtype: float64,\n",
       " 0          NaN\n",
       " 1          NaN\n",
       " 2          NaN\n",
       " 3          NaN\n",
       " 4          NaN\n",
       "         ...   \n",
       " 485    52652.5\n",
       " 486    52812.5\n",
       " 487    52972.5\n",
       " 488    53232.5\n",
       " 489    53507.5\n",
       " Length: 490, dtype: float64,\n",
       " 0               NaN\n",
       " 1               NaN\n",
       " 2               NaN\n",
       " 3               NaN\n",
       " 4               NaN\n",
       "            ...     \n",
       " 485    47769.317124\n",
       " 486    47842.603120\n",
       " 487    47887.082121\n",
       " 488    47986.522970\n",
       " 489    48329.056701\n",
       " Length: 490, dtype: float64)"
      ]
     },
     "execution_count": 19,
     "metadata": {},
     "output_type": "execute_result"
    }
   ],
   "source": [
    " upper, middle, lower = talib.BBANDS(stock_data[\"Close\"], timeperiod=20)\n",
    " upper, middle, lower"
   ]
  },
  {
   "cell_type": "code",
   "execution_count": null,
   "id": "b3ef64a4",
   "metadata": {},
   "outputs": [],
   "source": []
  }
 ],
 "metadata": {
  "kernelspec": {
   "display_name": "Python 3 (ipykernel)",
   "language": "python",
   "name": "python3"
  },
  "language_info": {
   "codemirror_mode": {
    "name": "ipython",
    "version": 3
   },
   "file_extension": ".py",
   "mimetype": "text/x-python",
   "name": "python",
   "nbconvert_exporter": "python",
   "pygments_lexer": "ipython3",
   "version": "3.9.11"
  },
  "toc": {
   "base_numbering": 1,
   "nav_menu": {},
   "number_sections": true,
   "sideBar": true,
   "skip_h1_title": false,
   "title_cell": "Table of Contents",
   "title_sidebar": "Contents",
   "toc_cell": false,
   "toc_position": {},
   "toc_section_display": true,
   "toc_window_display": false
  }
 },
 "nbformat": 4,
 "nbformat_minor": 5
}
