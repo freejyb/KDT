{
 "cells": [
  {
   "cell_type": "markdown",
   "metadata": {},
   "source": [
    "주가데이터 자져오기 시각화\n"
   ]
  },
  {
   "cell_type": "code",
   "execution_count": 1,
   "metadata": {},
   "outputs": [
    {
     "name": "stdout",
     "output_type": "stream",
     "text": [
      "Requirement already satisfied: finance-datareader in c:\\users\\jyb\\appdata\\local\\programs\\python\\python39\\lib\\site-packages (0.9.31)\n",
      "Requirement already satisfied: requests>=2.3.0 in c:\\users\\jyb\\appdata\\local\\programs\\python\\python39\\lib\\site-packages (from finance-datareader) (2.26.0)\n",
      "Requirement already satisfied: pandas>=0.19.2 in c:\\users\\jyb\\appdata\\local\\programs\\python\\python39\\lib\\site-packages (from finance-datareader) (1.3.0)\n",
      "Requirement already satisfied: lxml in c:\\users\\jyb\\appdata\\local\\programs\\python\\python39\\lib\\site-packages (from finance-datareader) (4.6.3)\n",
      "Requirement already satisfied: tqdm in c:\\users\\jyb\\appdata\\local\\programs\\python\\python39\\lib\\site-packages (from finance-datareader) (4.61.2)\n",
      "Requirement already satisfied: requests-file in c:\\users\\jyb\\appdata\\local\\programs\\python\\python39\\lib\\site-packages (from finance-datareader) (1.5.1)\n",
      "Requirement already satisfied: numpy>=1.17.3 in c:\\users\\jyb\\appdata\\local\\programs\\python\\python39\\lib\\site-packages (from pandas>=0.19.2->finance-datareader) (1.21.0)\n",
      "Requirement already satisfied: pytz>=2017.3 in c:\\users\\jyb\\appdata\\local\\programs\\python\\python39\\lib\\site-packages (from pandas>=0.19.2->finance-datareader) (2021.1)\n",
      "Requirement already satisfied: python-dateutil>=2.7.3 in c:\\users\\jyb\\appdata\\local\\programs\\python\\python39\\lib\\site-packages (from pandas>=0.19.2->finance-datareader) (2.8.1)\n",
      "Requirement already satisfied: six>=1.5 in c:\\users\\jyb\\appdata\\local\\programs\\python\\python39\\lib\\site-packages (from python-dateutil>=2.7.3->pandas>=0.19.2->finance-datareader) (1.16.0)\n",
      "Requirement already satisfied: charset-normalizer~=2.0.0 in c:\\users\\jyb\\appdata\\local\\programs\\python\\python39\\lib\\site-packages (from requests>=2.3.0->finance-datareader) (2.0.1)\n",
      "Requirement already satisfied: certifi>=2017.4.17 in c:\\users\\jyb\\appdata\\local\\programs\\python\\python39\\lib\\site-packages (from requests>=2.3.0->finance-datareader) (2021.5.30)\n",
      "Requirement already satisfied: idna<4,>=2.5 in c:\\users\\jyb\\appdata\\local\\programs\\python\\python39\\lib\\site-packages (from requests>=2.3.0->finance-datareader) (3.2)\n",
      "Requirement already satisfied: urllib3<1.27,>=1.21.1 in c:\\users\\jyb\\appdata\\local\\programs\\python\\python39\\lib\\site-packages (from requests>=2.3.0->finance-datareader) (1.26.6)\n",
      "Requirement already satisfied: colorama in c:\\users\\jyb\\appdata\\local\\programs\\python\\python39\\lib\\site-packages (from tqdm->finance-datareader) (0.4.4)\n",
      "Note: you may need to restart the kernel to use updated packages.\n"
     ]
    }
   ],
   "source": [
    "pip install -U finance-datareader"
   ]
  },
  {
   "cell_type": "markdown",
   "metadata": {},
   "source": [
    "### FinanceDataReader 사용자 안내서"
   ]
  },
  {
   "cell_type": "markdown",
   "metadata": {},
   "source": [
    "https://financedata.github.io/posts/finance-data-reader-users-guide.html"
   ]
  },
  {
   "cell_type": "code",
   "execution_count": 1,
   "metadata": {},
   "outputs": [
    {
     "data": {
      "text/plain": [
       "'0.9.31'"
      ]
     },
     "execution_count": 1,
     "metadata": {},
     "output_type": "execute_result"
    }
   ],
   "source": [
    "import FinanceDataReader as fdr\n",
    "fdr.__version__"
   ]
  },
  {
   "cell_type": "code",
   "execution_count": 2,
   "metadata": {},
   "outputs": [
    {
     "data": {
      "text/html": [
       "<div>\n",
       "<style scoped>\n",
       "    .dataframe tbody tr th:only-of-type {\n",
       "        vertical-align: middle;\n",
       "    }\n",
       "\n",
       "    .dataframe tbody tr th {\n",
       "        vertical-align: top;\n",
       "    }\n",
       "\n",
       "    .dataframe thead th {\n",
       "        text-align: right;\n",
       "    }\n",
       "</style>\n",
       "<table border=\"1\" class=\"dataframe\">\n",
       "  <thead>\n",
       "    <tr style=\"text-align: right;\">\n",
       "      <th></th>\n",
       "      <th>Open</th>\n",
       "      <th>High</th>\n",
       "      <th>Low</th>\n",
       "      <th>Close</th>\n",
       "      <th>Volume</th>\n",
       "      <th>Change</th>\n",
       "    </tr>\n",
       "    <tr>\n",
       "      <th>Date</th>\n",
       "      <th></th>\n",
       "      <th></th>\n",
       "      <th></th>\n",
       "      <th></th>\n",
       "      <th></th>\n",
       "      <th></th>\n",
       "    </tr>\n",
       "  </thead>\n",
       "  <tbody>\n",
       "    <tr>\n",
       "      <th>2018-01-02</th>\n",
       "      <td>51380</td>\n",
       "      <td>51400</td>\n",
       "      <td>50780</td>\n",
       "      <td>51020</td>\n",
       "      <td>169485</td>\n",
       "      <td>0.001177</td>\n",
       "    </tr>\n",
       "    <tr>\n",
       "      <th>2018-01-03</th>\n",
       "      <td>52540</td>\n",
       "      <td>52560</td>\n",
       "      <td>51420</td>\n",
       "      <td>51620</td>\n",
       "      <td>200270</td>\n",
       "      <td>0.011760</td>\n",
       "    </tr>\n",
       "    <tr>\n",
       "      <th>2018-01-04</th>\n",
       "      <td>52120</td>\n",
       "      <td>52180</td>\n",
       "      <td>50640</td>\n",
       "      <td>51080</td>\n",
       "      <td>233909</td>\n",
       "      <td>-0.010461</td>\n",
       "    </tr>\n",
       "    <tr>\n",
       "      <th>2018-01-05</th>\n",
       "      <td>51300</td>\n",
       "      <td>52120</td>\n",
       "      <td>51200</td>\n",
       "      <td>52120</td>\n",
       "      <td>189623</td>\n",
       "      <td>0.020360</td>\n",
       "    </tr>\n",
       "    <tr>\n",
       "      <th>2018-01-08</th>\n",
       "      <td>52400</td>\n",
       "      <td>52520</td>\n",
       "      <td>51500</td>\n",
       "      <td>52020</td>\n",
       "      <td>167673</td>\n",
       "      <td>-0.001919</td>\n",
       "    </tr>\n",
       "  </tbody>\n",
       "</table>\n",
       "</div>"
      ],
      "text/plain": [
       "             Open   High    Low  Close  Volume    Change\n",
       "Date                                                    \n",
       "2018-01-02  51380  51400  50780  51020  169485  0.001177\n",
       "2018-01-03  52540  52560  51420  51620  200270  0.011760\n",
       "2018-01-04  52120  52180  50640  51080  233909 -0.010461\n",
       "2018-01-05  51300  52120  51200  52120  189623  0.020360\n",
       "2018-01-08  52400  52520  51500  52020  167673 -0.001919"
      ]
     },
     "execution_count": 2,
     "metadata": {},
     "output_type": "execute_result"
    }
   ],
   "source": [
    "import FinanceDataReader as fdr\n",
    "# 삼성전자, 2018년\n",
    "df = fdr.DataReader('005930', \"2018\")\n",
    "import FinanceDataReader as fdr\n",
    "df. head()"
   ]
  },
  {
   "cell_type": "code",
   "execution_count": 3,
   "metadata": {},
   "outputs": [
    {
     "data": {
      "text/plain": [
       "<AxesSubplot:xlabel='Date'>"
      ]
     },
     "execution_count": 3,
     "metadata": {},
     "output_type": "execute_result"
    },
    {
     "data": {
      "image/png": "[encoded data removed]",
      "text/plain": [
       "<Figure size 432x288 with 1 Axes>"
      ]
     },
     "metadata": {
      "needs_background": "light"
     },
     "output_type": "display_data"
    }
   ],
   "source": [
    "import FinanceDataReader as fdr\n",
    "df= fdr.DataReader(\"005930\", \"2018\")\n",
    "df['Close'].plot()\n"
   ]
  },
  {
   "cell_type": "code",
   "execution_count": 4,
   "metadata": {},
   "outputs": [
    {
     "data": {
      "text/html": [
       "<div>\n",
       "<style scoped>\n",
       "    .dataframe tbody tr th:only-of-type {\n",
       "        vertical-align: middle;\n",
       "    }\n",
       "\n",
       "    .dataframe tbody tr th {\n",
       "        vertical-align: top;\n",
       "    }\n",
       "\n",
       "    .dataframe thead th {\n",
       "        text-align: right;\n",
       "    }\n",
       "</style>\n",
       "<table border=\"1\" class=\"dataframe\">\n",
       "  <thead>\n",
       "    <tr style=\"text-align: right;\">\n",
       "      <th></th>\n",
       "      <th>Open</th>\n",
       "      <th>High</th>\n",
       "      <th>Low</th>\n",
       "      <th>Close</th>\n",
       "      <th>Volume</th>\n",
       "      <th>Change</th>\n",
       "    </tr>\n",
       "    <tr>\n",
       "      <th>Date</th>\n",
       "      <th></th>\n",
       "      <th></th>\n",
       "      <th></th>\n",
       "      <th></th>\n",
       "      <th></th>\n",
       "      <th></th>\n",
       "    </tr>\n",
       "  </thead>\n",
       "  <tbody>\n",
       "    <tr>\n",
       "      <th>2018-01-02</th>\n",
       "      <td>51380</td>\n",
       "      <td>51400</td>\n",
       "      <td>50780</td>\n",
       "      <td>51020</td>\n",
       "      <td>169485</td>\n",
       "      <td>0.001177</td>\n",
       "    </tr>\n",
       "    <tr>\n",
       "      <th>2018-01-03</th>\n",
       "      <td>52540</td>\n",
       "      <td>52560</td>\n",
       "      <td>51420</td>\n",
       "      <td>51620</td>\n",
       "      <td>200270</td>\n",
       "      <td>0.011760</td>\n",
       "    </tr>\n",
       "    <tr>\n",
       "      <th>2018-01-04</th>\n",
       "      <td>52120</td>\n",
       "      <td>52180</td>\n",
       "      <td>50640</td>\n",
       "      <td>51080</td>\n",
       "      <td>233909</td>\n",
       "      <td>-0.010461</td>\n",
       "    </tr>\n",
       "    <tr>\n",
       "      <th>2018-01-05</th>\n",
       "      <td>51300</td>\n",
       "      <td>52120</td>\n",
       "      <td>51200</td>\n",
       "      <td>52120</td>\n",
       "      <td>189623</td>\n",
       "      <td>0.020360</td>\n",
       "    </tr>\n",
       "    <tr>\n",
       "      <th>2018-01-08</th>\n",
       "      <td>52400</td>\n",
       "      <td>52520</td>\n",
       "      <td>51500</td>\n",
       "      <td>52020</td>\n",
       "      <td>167673</td>\n",
       "      <td>-0.001919</td>\n",
       "    </tr>\n",
       "  </tbody>\n",
       "</table>\n",
       "</div>"
      ],
      "text/plain": [
       "             Open   High    Low  Close  Volume    Change\n",
       "Date                                                    \n",
       "2018-01-02  51380  51400  50780  51020  169485  0.001177\n",
       "2018-01-03  52540  52560  51420  51620  200270  0.011760\n",
       "2018-01-04  52120  52180  50640  51080  233909 -0.010461\n",
       "2018-01-05  51300  52120  51200  52120  189623  0.020360\n",
       "2018-01-08  52400  52520  51500  52020  167673 -0.001919"
      ]
     },
     "execution_count": 4,
     "metadata": {},
     "output_type": "execute_result"
    }
   ],
   "source": [
    "import FinanceDataReader as fdr\n",
    "# 삼성전자, 2018년\n",
    "df = fdr.DataReader('005930', \"2018\", \"2020\")\n",
    "import FinanceDataReader as fdr\n",
    "df. head()"
   ]
  },
  {
   "cell_type": "code",
   "execution_count": 8,
   "metadata": {},
   "outputs": [],
   "source": [
    "import FinanceDataReader as fdr\n",
    "import pandas as pd\n",
    "df = fdr.DataReader('005930', \"2018\", \"2022\")\n",
    "df.to_csv('se.csv', encoding='utf-8-sig')\n"
   ]
  },
  {
   "cell_type": "code",
   "execution_count": 9,
   "metadata": {},
   "outputs": [
    {
     "data": {
      "text/plain": [
       "<AxesSubplot:xlabel='Date'>"
      ]
     },
     "execution_count": 9,
     "metadata": {},
     "output_type": "execute_result"
    },
    {
     "data": {
      "image/png": "[encoded data removed]",
      "text/plain": [
       "<Figure size 432x288 with 1 Axes>"
      ]
     },
     "metadata": {
      "needs_background": "light"
     },
     "output_type": "display_data"
    }
   ],
   "source": [
    "import FinanceDataReader as fdr\n",
    "df= fdr.DataReader(\"005930\", \"2018\", \"2022\")\n",
    "df['Close'].plot()"
   ]
  },
  {
   "cell_type": "code",
   "execution_count": 10,
   "metadata": {},
   "outputs": [
    {
     "data": {
      "text/plain": [
       "<AxesSubplot:xlabel='Date'>"
      ]
     },
     "execution_count": 10,
     "metadata": {},
     "output_type": "execute_result"
    },
    {
     "data": {
      "image/png": "[encoded data removed]",
      "text/plain": [
       "<Figure size 432x288 with 1 Axes>"
      ]
     },
     "metadata": {
      "needs_background": "light"
     },
     "output_type": "display_data"
    }
   ],
   "source": [
    "import FinanceDataReader as fdr\n",
    "df= fdr.DataReader(\"005930\", \"2018\", \"2022\")\n",
    "df['Close'].plot()"
   ]
  },
  {
   "cell_type": "code",
   "execution_count": 11,
   "metadata": {},
   "outputs": [
    {
     "data": {
      "text/plain": [
       "<AxesSubplot:xlabel='Date'>"
      ]
     },
     "execution_count": 11,
     "metadata": {},
     "output_type": "execute_result"
    },
    {
     "data": {
      "image/png": "[encoded data removed]",
      "text/plain": [
       "<Figure size 432x288 with 1 Axes>"
      ]
     },
     "metadata": {
      "needs_background": "light"
     },
     "output_type": "display_data"
    }
   ],
   "source": [
    "import FinanceDataReader as fdr\n",
    "df= fdr.DataReader(\"005930\", \"2018-01-01\", \"2022-12-31\")\n",
    "df['Close'].plot()"
   ]
  },
  {
   "cell_type": "code",
   "execution_count": 46,
   "metadata": {},
   "outputs": [
    {
     "data": {
      "text/plain": [
       "<matplotlib.axes._subplots.AxesSubplot at 0x1fff7ac4790>"
      ]
     },
     "execution_count": 46,
     "metadata": {},
     "output_type": "execute_result"
    },
    {
     "data": {
      "image/png": "[encoded data removed]",
      "text/plain": [
       "<Figure size 432x288 with 1 Axes>"
      ]
     },
     "metadata": {
      "needs_background": "light"
     },
     "output_type": "display_data"
    }
   ],
   "source": [
    "# 환율 시각화\n",
    "import FinanceDataReader as fdr\n",
    "#원달러환율(USD/KRW)\n",
    "df = fdr.DataReader('USD/KRW', \"1995\")\n",
    "df['Close'].plot()"
   ]
  },
  {
   "cell_type": "code",
   "execution_count": 47,
   "metadata": {},
   "outputs": [
    {
     "data": {
      "text/html": [
       "<div>\n",
       "<style scoped>\n",
       "    .dataframe tbody tr th:only-of-type {\n",
       "        vertical-align: middle;\n",
       "    }\n",
       "\n",
       "    .dataframe tbody tr th {\n",
       "        vertical-align: top;\n",
       "    }\n",
       "\n",
       "    .dataframe thead th {\n",
       "        text-align: right;\n",
       "    }\n",
       "</style>\n",
       "<table border=\"1\" class=\"dataframe\">\n",
       "  <thead>\n",
       "    <tr style=\"text-align: right;\">\n",
       "      <th></th>\n",
       "      <th>Close</th>\n",
       "      <th>Open</th>\n",
       "      <th>High</th>\n",
       "      <th>Low</th>\n",
       "      <th>Volume</th>\n",
       "      <th>Change</th>\n",
       "    </tr>\n",
       "    <tr>\n",
       "      <th>Date</th>\n",
       "      <th></th>\n",
       "      <th></th>\n",
       "      <th></th>\n",
       "      <th></th>\n",
       "      <th></th>\n",
       "      <th></th>\n",
       "    </tr>\n",
       "  </thead>\n",
       "  <tbody>\n",
       "    <tr>\n",
       "      <th>2017-05-23</th>\n",
       "      <td>3206000</td>\n",
       "      <td>3104000</td>\n",
       "      <td>3281000</td>\n",
       "      <td>3081000</td>\n",
       "      <td>21580.0</td>\n",
       "      <td>0.0329</td>\n",
       "    </tr>\n",
       "    <tr>\n",
       "      <th>2017-05-24</th>\n",
       "      <td>4175000</td>\n",
       "      <td>3206000</td>\n",
       "      <td>4314000</td>\n",
       "      <td>3206000</td>\n",
       "      <td>34680.0</td>\n",
       "      <td>0.3022</td>\n",
       "    </tr>\n",
       "    <tr>\n",
       "      <th>2017-05-25</th>\n",
       "      <td>4199000</td>\n",
       "      <td>4175000</td>\n",
       "      <td>4840000</td>\n",
       "      <td>3102000</td>\n",
       "      <td>35910.0</td>\n",
       "      <td>0.0057</td>\n",
       "    </tr>\n",
       "    <tr>\n",
       "      <th>2017-05-26</th>\n",
       "      <td>3227000</td>\n",
       "      <td>4199000</td>\n",
       "      <td>4200000</td>\n",
       "      <td>2900000</td>\n",
       "      <td>36650.0</td>\n",
       "      <td>-0.2315</td>\n",
       "    </tr>\n",
       "    <tr>\n",
       "      <th>2017-05-27</th>\n",
       "      <td>3152000</td>\n",
       "      <td>3227000</td>\n",
       "      <td>3288000</td>\n",
       "      <td>2460000</td>\n",
       "      <td>33750.0</td>\n",
       "      <td>-0.0232</td>\n",
       "    </tr>\n",
       "  </tbody>\n",
       "</table>\n",
       "</div>"
      ],
      "text/plain": [
       "              Close     Open     High      Low   Volume  Change\n",
       "Date                                                           \n",
       "2017-05-23  3206000  3104000  3281000  3081000  21580.0  0.0329\n",
       "2017-05-24  4175000  3206000  4314000  3206000  34680.0  0.3022\n",
       "2017-05-25  4199000  4175000  4840000  3102000  35910.0  0.0057\n",
       "2017-05-26  3227000  4199000  4200000  2900000  36650.0 -0.2315\n",
       "2017-05-27  3152000  3227000  3288000  2460000  33750.0 -0.0232"
      ]
     },
     "execution_count": 47,
     "metadata": {},
     "output_type": "execute_result"
    }
   ],
   "source": [
    "#암호화폐가격 비트코인(빗썸)\n",
    "import FinanceDataReader as fdr\n",
    "df = fdr.DataReader('BTC/KRW', \"2016\")\n",
    "df.head()"
   ]
  },
  {
   "cell_type": "markdown",
   "metadata": {},
   "source": [
    "#암호화폐가격 비트코인(빗썸) 시각화\n",
    "import FinanceDataReader as fdr\n",
    "df = fdr.DataReader('BTC/KRW', \"2016\")\n",
    "df['Close'].plot()"
   ]
  },
  {
   "cell_type": "raw",
   "metadata": {},
   "source": [
    "마켓데이터 크롤링- 개별주식 가격데이터\n",
    "pandas_datareader + morningstar\n",
    "MultiIndex 가격 데이터와 차트 그리기"
   ]
  },
  {
   "cell_type": "code",
   "execution_count": 49,
   "metadata": {},
   "outputs": [
    {
     "data": {
      "text/plain": [
       "'1.0.5'"
      ]
     },
     "execution_count": 49,
     "metadata": {},
     "output_type": "execute_result"
    }
   ],
   "source": [
    "import pandas as pd\n",
    "pd.__version__"
   ]
  },
  {
   "cell_type": "code",
   "execution_count": 50,
   "metadata": {},
   "outputs": [
    {
     "data": {
      "text/plain": [
       "'0.9.0'"
      ]
     },
     "execution_count": 50,
     "metadata": {},
     "output_type": "execute_result"
    }
   ],
   "source": [
    "import pandas_datareader as pdr\n",
    "pdr.__version__"
   ]
  },
  {
   "cell_type": "code",
   "execution_count": null,
   "metadata": {},
   "outputs": [],
   "source": []
  },
  {
   "cell_type": "code",
   "execution_count": null,
   "metadata": {},
   "outputs": [],
   "source": []
  },
  {
   "cell_type": "markdown",
   "metadata": {},
   "source": [
    "데이터 가져오기\n",
    "(Tiingo, Robinhood, Morningstar, IEX, 등)\n"
   ]
  },
  {
   "cell_type": "code",
   "execution_count": null,
   "metadata": {},
   "outputs": [],
   "source": [
    "\n"
   ]
  }
 ],
 "metadata": {
  "kernelspec": {
   "display_name": "Python 3 (ipykernel)",
   "language": "python",
   "name": "python3"
  },
  "language_info": {
   "codemirror_mode": {
    "name": "ipython",
    "version": 3
   },
   "file_extension": ".py",
   "mimetype": "text/x-python",
   "name": "python",
   "nbconvert_exporter": "python",
   "pygments_lexer": "ipython3",
   "version": "3.9.6"
  },
  "toc": {
   "base_numbering": 1,
   "nav_menu": {},
   "number_sections": true,
   "sideBar": true,
   "skip_h1_title": false,
   "title_cell": "Table of Contents",
   "title_sidebar": "Contents",
   "toc_cell": false,
   "toc_position": {},
   "toc_section_display": true,
   "toc_window_display": false
  }
 },
 "nbformat": 4,
 "nbformat_minor": 4
}
