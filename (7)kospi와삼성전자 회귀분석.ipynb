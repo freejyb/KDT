{
 "cells": [
  {
   "cell_type": "code",
   "execution_count": 2,
   "id": "223f3e71",
   "metadata": {},
   "outputs": [
    {
     "data": {
      "text/html": [
       "<div>\n",
       "<style scoped>\n",
       "    .dataframe tbody tr th:only-of-type {\n",
       "        vertical-align: middle;\n",
       "    }\n",
       "\n",
       "    .dataframe tbody tr th {\n",
       "        vertical-align: top;\n",
       "    }\n",
       "\n",
       "    .dataframe thead th {\n",
       "        text-align: right;\n",
       "    }\n",
       "</style>\n",
       "<table border=\"1\" class=\"dataframe\">\n",
       "  <thead>\n",
       "    <tr style=\"text-align: right;\">\n",
       "      <th></th>\n",
       "      <th>High</th>\n",
       "      <th>Low</th>\n",
       "      <th>Open</th>\n",
       "      <th>Close</th>\n",
       "      <th>Volume</th>\n",
       "      <th>Adj Close</th>\n",
       "    </tr>\n",
       "    <tr>\n",
       "      <th>Date</th>\n",
       "      <th></th>\n",
       "      <th></th>\n",
       "      <th></th>\n",
       "      <th></th>\n",
       "      <th></th>\n",
       "      <th></th>\n",
       "    </tr>\n",
       "  </thead>\n",
       "  <tbody>\n",
       "    <tr>\n",
       "      <th>2010-01-04</th>\n",
       "      <td>16180.0</td>\n",
       "      <td>16000.0</td>\n",
       "      <td>16060.0</td>\n",
       "      <td>16180.0</td>\n",
       "      <td>11950800.0</td>\n",
       "      <td>12955.746094</td>\n",
       "    </tr>\n",
       "    <tr>\n",
       "      <th>2010-01-05</th>\n",
       "      <td>16580.0</td>\n",
       "      <td>16300.0</td>\n",
       "      <td>16520.0</td>\n",
       "      <td>16440.0</td>\n",
       "      <td>27925850.0</td>\n",
       "      <td>13163.930664</td>\n",
       "    </tr>\n",
       "    <tr>\n",
       "      <th>2010-01-06</th>\n",
       "      <td>16820.0</td>\n",
       "      <td>16520.0</td>\n",
       "      <td>16580.0</td>\n",
       "      <td>16820.0</td>\n",
       "      <td>22948850.0</td>\n",
       "      <td>13468.208984</td>\n",
       "    </tr>\n",
       "    <tr>\n",
       "      <th>2010-01-07</th>\n",
       "      <td>16820.0</td>\n",
       "      <td>16260.0</td>\n",
       "      <td>16820.0</td>\n",
       "      <td>16260.0</td>\n",
       "      <td>22107950.0</td>\n",
       "      <td>13019.805664</td>\n",
       "    </tr>\n",
       "    <tr>\n",
       "      <th>2010-01-08</th>\n",
       "      <td>16420.0</td>\n",
       "      <td>16120.0</td>\n",
       "      <td>16400.0</td>\n",
       "      <td>16420.0</td>\n",
       "      <td>14777550.0</td>\n",
       "      <td>13147.918945</td>\n",
       "    </tr>\n",
       "    <tr>\n",
       "      <th>...</th>\n",
       "      <td>...</td>\n",
       "      <td>...</td>\n",
       "      <td>...</td>\n",
       "      <td>...</td>\n",
       "      <td>...</td>\n",
       "      <td>...</td>\n",
       "    </tr>\n",
       "    <tr>\n",
       "      <th>2020-12-23</th>\n",
       "      <td>74000.0</td>\n",
       "      <td>72300.0</td>\n",
       "      <td>72400.0</td>\n",
       "      <td>73900.0</td>\n",
       "      <td>19411326.0</td>\n",
       "      <td>70792.843750</td>\n",
       "    </tr>\n",
       "    <tr>\n",
       "      <th>2020-12-24</th>\n",
       "      <td>78800.0</td>\n",
       "      <td>74000.0</td>\n",
       "      <td>74100.0</td>\n",
       "      <td>77800.0</td>\n",
       "      <td>32502870.0</td>\n",
       "      <td>74528.867188</td>\n",
       "    </tr>\n",
       "    <tr>\n",
       "      <th>2020-12-28</th>\n",
       "      <td>80100.0</td>\n",
       "      <td>78200.0</td>\n",
       "      <td>79000.0</td>\n",
       "      <td>78700.0</td>\n",
       "      <td>40085044.0</td>\n",
       "      <td>75391.015625</td>\n",
       "    </tr>\n",
       "    <tr>\n",
       "      <th>2020-12-29</th>\n",
       "      <td>78900.0</td>\n",
       "      <td>77300.0</td>\n",
       "      <td>78800.0</td>\n",
       "      <td>78300.0</td>\n",
       "      <td>30339449.0</td>\n",
       "      <td>76895.539062</td>\n",
       "    </tr>\n",
       "    <tr>\n",
       "      <th>2020-12-30</th>\n",
       "      <td>81300.0</td>\n",
       "      <td>77300.0</td>\n",
       "      <td>77400.0</td>\n",
       "      <td>81000.0</td>\n",
       "      <td>29417421.0</td>\n",
       "      <td>79547.109375</td>\n",
       "    </tr>\n",
       "  </tbody>\n",
       "</table>\n",
       "<p>2713 rows × 6 columns</p>\n",
       "</div>"
      ],
      "text/plain": [
       "               High      Low     Open    Close      Volume     Adj Close\n",
       "Date                                                                    \n",
       "2010-01-04  16180.0  16000.0  16060.0  16180.0  11950800.0  12955.746094\n",
       "2010-01-05  16580.0  16300.0  16520.0  16440.0  27925850.0  13163.930664\n",
       "2010-01-06  16820.0  16520.0  16580.0  16820.0  22948850.0  13468.208984\n",
       "2010-01-07  16820.0  16260.0  16820.0  16260.0  22107950.0  13019.805664\n",
       "2010-01-08  16420.0  16120.0  16400.0  16420.0  14777550.0  13147.918945\n",
       "...             ...      ...      ...      ...         ...           ...\n",
       "2020-12-23  74000.0  72300.0  72400.0  73900.0  19411326.0  70792.843750\n",
       "2020-12-24  78800.0  74000.0  74100.0  77800.0  32502870.0  74528.867188\n",
       "2020-12-28  80100.0  78200.0  79000.0  78700.0  40085044.0  75391.015625\n",
       "2020-12-29  78900.0  77300.0  78800.0  78300.0  30339449.0  76895.539062\n",
       "2020-12-30  81300.0  77300.0  77400.0  81000.0  29417421.0  79547.109375\n",
       "\n",
       "[2713 rows x 6 columns]"
      ]
     },
     "execution_count": 2,
     "metadata": {},
     "output_type": "execute_result"
    }
   ],
   "source": [
    "import numpy as np\n",
    "import pandas as pd\n",
    "import pandas_datareader.data as web\n",
    "import matplotlib.pyplot as plt\n",
    "import datetime\n",
    "\n",
    "start = datetime.datetime(2010, 1, 1)\n",
    "end = datetime.datetime(2020, 12, 31)\n",
    "\n",
    "df_sec = web.get_data_yahoo(\"005930.KS\", start, end)\n",
    "df_kospi = web.get_data_yahoo('^KS11', start, end)\n",
    "df_sec"
   ]
  },
  {
   "cell_type": "code",
   "execution_count": 3,
   "id": "f4f25002",
   "metadata": {},
   "outputs": [],
   "source": [
    "df_kospi[\"ln_diff\"] = (np.log(df_kospi[\"Close\"]) - np.log(df_kospi[\"Close\"]).shift(1))*100\n",
    "df_sec[\"ln_diff\"] = (np.log(df_sec[\"Close\"]) - np.log(df_sec[\"Close\"]).shift(1))*100"
   ]
  },
  {
   "cell_type": "code",
   "execution_count": 4,
   "id": "d2931cc0",
   "metadata": {},
   "outputs": [
    {
     "data": {
      "text/html": [
       "<div>\n",
       "<style scoped>\n",
       "    .dataframe tbody tr th:only-of-type {\n",
       "        vertical-align: middle;\n",
       "    }\n",
       "\n",
       "    .dataframe tbody tr th {\n",
       "        vertical-align: top;\n",
       "    }\n",
       "\n",
       "    .dataframe thead th {\n",
       "        text-align: right;\n",
       "    }\n",
       "</style>\n",
       "<table border=\"1\" class=\"dataframe\">\n",
       "  <thead>\n",
       "    <tr style=\"text-align: right;\">\n",
       "      <th></th>\n",
       "      <th>High</th>\n",
       "      <th>Low</th>\n",
       "      <th>Open</th>\n",
       "      <th>Close</th>\n",
       "      <th>Volume</th>\n",
       "      <th>Adj Close</th>\n",
       "      <th>ln_diff</th>\n",
       "    </tr>\n",
       "    <tr>\n",
       "      <th>Date</th>\n",
       "      <th></th>\n",
       "      <th></th>\n",
       "      <th></th>\n",
       "      <th></th>\n",
       "      <th></th>\n",
       "      <th></th>\n",
       "      <th></th>\n",
       "    </tr>\n",
       "  </thead>\n",
       "  <tbody>\n",
       "    <tr>\n",
       "      <th>2010-01-04</th>\n",
       "      <td>16180.0</td>\n",
       "      <td>16000.0</td>\n",
       "      <td>16060.0</td>\n",
       "      <td>16180.0</td>\n",
       "      <td>11950800.0</td>\n",
       "      <td>12955.746094</td>\n",
       "      <td>NaN</td>\n",
       "    </tr>\n",
       "    <tr>\n",
       "      <th>2010-01-05</th>\n",
       "      <td>16580.0</td>\n",
       "      <td>16300.0</td>\n",
       "      <td>16520.0</td>\n",
       "      <td>16440.0</td>\n",
       "      <td>27925850.0</td>\n",
       "      <td>13163.930664</td>\n",
       "      <td>1.594148</td>\n",
       "    </tr>\n",
       "    <tr>\n",
       "      <th>2010-01-06</th>\n",
       "      <td>16820.0</td>\n",
       "      <td>16520.0</td>\n",
       "      <td>16580.0</td>\n",
       "      <td>16820.0</td>\n",
       "      <td>22948850.0</td>\n",
       "      <td>13468.208984</td>\n",
       "      <td>2.285126</td>\n",
       "    </tr>\n",
       "    <tr>\n",
       "      <th>2010-01-07</th>\n",
       "      <td>16820.0</td>\n",
       "      <td>16260.0</td>\n",
       "      <td>16820.0</td>\n",
       "      <td>16260.0</td>\n",
       "      <td>22107950.0</td>\n",
       "      <td>13019.805664</td>\n",
       "      <td>-3.386055</td>\n",
       "    </tr>\n",
       "    <tr>\n",
       "      <th>2010-01-08</th>\n",
       "      <td>16420.0</td>\n",
       "      <td>16120.0</td>\n",
       "      <td>16400.0</td>\n",
       "      <td>16420.0</td>\n",
       "      <td>14777550.0</td>\n",
       "      <td>13147.918945</td>\n",
       "      <td>0.979200</td>\n",
       "    </tr>\n",
       "    <tr>\n",
       "      <th>...</th>\n",
       "      <td>...</td>\n",
       "      <td>...</td>\n",
       "      <td>...</td>\n",
       "      <td>...</td>\n",
       "      <td>...</td>\n",
       "      <td>...</td>\n",
       "      <td>...</td>\n",
       "    </tr>\n",
       "    <tr>\n",
       "      <th>2020-12-23</th>\n",
       "      <td>74000.0</td>\n",
       "      <td>72300.0</td>\n",
       "      <td>72400.0</td>\n",
       "      <td>73900.0</td>\n",
       "      <td>19411326.0</td>\n",
       "      <td>70792.843750</td>\n",
       "      <td>2.188870</td>\n",
       "    </tr>\n",
       "    <tr>\n",
       "      <th>2020-12-24</th>\n",
       "      <td>78800.0</td>\n",
       "      <td>74000.0</td>\n",
       "      <td>74100.0</td>\n",
       "      <td>77800.0</td>\n",
       "      <td>32502870.0</td>\n",
       "      <td>74528.867188</td>\n",
       "      <td>5.142860</td>\n",
       "    </tr>\n",
       "    <tr>\n",
       "      <th>2020-12-28</th>\n",
       "      <td>80100.0</td>\n",
       "      <td>78200.0</td>\n",
       "      <td>79000.0</td>\n",
       "      <td>78700.0</td>\n",
       "      <td>40085044.0</td>\n",
       "      <td>75391.015625</td>\n",
       "      <td>1.150172</td>\n",
       "    </tr>\n",
       "    <tr>\n",
       "      <th>2020-12-29</th>\n",
       "      <td>78900.0</td>\n",
       "      <td>77300.0</td>\n",
       "      <td>78800.0</td>\n",
       "      <td>78300.0</td>\n",
       "      <td>30339449.0</td>\n",
       "      <td>76895.539062</td>\n",
       "      <td>-0.509555</td>\n",
       "    </tr>\n",
       "    <tr>\n",
       "      <th>2020-12-30</th>\n",
       "      <td>81300.0</td>\n",
       "      <td>77300.0</td>\n",
       "      <td>77400.0</td>\n",
       "      <td>81000.0</td>\n",
       "      <td>29417421.0</td>\n",
       "      <td>79547.109375</td>\n",
       "      <td>3.390155</td>\n",
       "    </tr>\n",
       "  </tbody>\n",
       "</table>\n",
       "<p>2713 rows × 7 columns</p>\n",
       "</div>"
      ],
      "text/plain": [
       "               High      Low     Open    Close      Volume     Adj Close  \\\n",
       "Date                                                                       \n",
       "2010-01-04  16180.0  16000.0  16060.0  16180.0  11950800.0  12955.746094   \n",
       "2010-01-05  16580.0  16300.0  16520.0  16440.0  27925850.0  13163.930664   \n",
       "2010-01-06  16820.0  16520.0  16580.0  16820.0  22948850.0  13468.208984   \n",
       "2010-01-07  16820.0  16260.0  16820.0  16260.0  22107950.0  13019.805664   \n",
       "2010-01-08  16420.0  16120.0  16400.0  16420.0  14777550.0  13147.918945   \n",
       "...             ...      ...      ...      ...         ...           ...   \n",
       "2020-12-23  74000.0  72300.0  72400.0  73900.0  19411326.0  70792.843750   \n",
       "2020-12-24  78800.0  74000.0  74100.0  77800.0  32502870.0  74528.867188   \n",
       "2020-12-28  80100.0  78200.0  79000.0  78700.0  40085044.0  75391.015625   \n",
       "2020-12-29  78900.0  77300.0  78800.0  78300.0  30339449.0  76895.539062   \n",
       "2020-12-30  81300.0  77300.0  77400.0  81000.0  29417421.0  79547.109375   \n",
       "\n",
       "             ln_diff  \n",
       "Date                  \n",
       "2010-01-04       NaN  \n",
       "2010-01-05  1.594148  \n",
       "2010-01-06  2.285126  \n",
       "2010-01-07 -3.386055  \n",
       "2010-01-08  0.979200  \n",
       "...              ...  \n",
       "2020-12-23  2.188870  \n",
       "2020-12-24  5.142860  \n",
       "2020-12-28  1.150172  \n",
       "2020-12-29 -0.509555  \n",
       "2020-12-30  3.390155  \n",
       "\n",
       "[2713 rows x 7 columns]"
      ]
     },
     "execution_count": 4,
     "metadata": {},
     "output_type": "execute_result"
    }
   ],
   "source": [
    "df_sec"
   ]
  },
  {
   "cell_type": "code",
   "execution_count": 5,
   "id": "100d2a11",
   "metadata": {},
   "outputs": [],
   "source": [
    "import statsmodels.api as sm\n"
   ]
  },
  {
   "cell_type": "code",
   "execution_count": 20,
   "id": "5445cf90",
   "metadata": {},
   "outputs": [],
   "source": [
    "SE = df_sec.iloc[1:1000, 6]\n",
    "KOSPI = df_kospi.iloc[1:1000, 6]"
   ]
  },
  {
   "cell_type": "code",
   "execution_count": 21,
   "id": "55170cd6",
   "metadata": {},
   "outputs": [
    {
     "data": {
      "text/plain": [
       "Date\n",
       "2010-01-05    False\n",
       "2010-01-06    False\n",
       "2010-01-07    False\n",
       "2010-01-08    False\n",
       "2010-01-11    False\n",
       "              ...  \n",
       "2014-01-03    False\n",
       "2014-01-06    False\n",
       "2014-01-07    False\n",
       "2014-01-08    False\n",
       "2014-01-09    False\n",
       "Name: ln_diff, Length: 999, dtype: bool"
      ]
     },
     "execution_count": 21,
     "metadata": {},
     "output_type": "execute_result"
    }
   ],
   "source": [
    "SE.isnull()"
   ]
  },
  {
   "cell_type": "code",
   "execution_count": 22,
   "id": "68193f9b",
   "metadata": {},
   "outputs": [
    {
     "data": {
      "text/plain": [
       "(999,)"
      ]
     },
     "execution_count": 22,
     "metadata": {},
     "output_type": "execute_result"
    }
   ],
   "source": [
    "SE.shape"
   ]
  },
  {
   "cell_type": "code",
   "execution_count": 23,
   "id": "f1e0a7a7",
   "metadata": {},
   "outputs": [
    {
     "data": {
      "text/plain": [
       "count    999.000000\n",
       "mean       0.045536\n",
       "std        1.825820\n",
       "min       -7.743174\n",
       "25%       -1.069824\n",
       "50%        0.000000\n",
       "75%        1.102520\n",
       "max        6.739797\n",
       "Name: ln_diff, dtype: float64"
      ]
     },
     "execution_count": 23,
     "metadata": {},
     "output_type": "execute_result"
    }
   ],
   "source": [
    "SE.describe()"
   ]
  },
  {
   "cell_type": "code",
   "execution_count": 24,
   "id": "6cb2b413",
   "metadata": {},
   "outputs": [
    {
     "name": "stdout",
     "output_type": "stream",
     "text": [
      "삼성변화율: count    999.000000\n",
      "mean       0.045536\n",
      "std        1.825820\n",
      "min       -7.743174\n",
      "25%       -1.069824\n",
      "50%        0.000000\n",
      "75%        1.102520\n",
      "max        6.739797\n",
      "Name: ln_diff, dtype: float64  \n",
      " 코스피변화율: count    999.000000\n",
      "mean       0.013371\n",
      "std        1.146222\n",
      "min       -6.420246\n",
      "25%       -0.552635\n",
      "50%        0.021698\n",
      "75%        0.669270\n",
      "max        4.900019\n",
      "Name: ln_diff, dtype: float64\n"
     ]
    }
   ],
   "source": [
    "print(\"삼성변화율:\" ,SE.describe() , \" \\n 코스피변화율:\" , KOSPI.describe())"
   ]
  },
  {
   "cell_type": "code",
   "execution_count": 25,
   "id": "23b63a57",
   "metadata": {},
   "outputs": [
    {
     "data": {
      "image/png": "[encoded data removed]",
      "text/plain": [
       "<Figure size 576x432 with 1 Axes>"
      ]
     },
     "metadata": {
      "needs_background": "light"
     },
     "output_type": "display_data"
    }
   ],
   "source": [
    "\n",
    "plt.figure(figsize  = (8,6))\n",
    "plt.scatter(SE, KOSPI)\n",
    "plt.show()"
   ]
  },
  {
   "cell_type": "code",
   "execution_count": 26,
   "id": "1be86c6e",
   "metadata": {},
   "outputs": [
    {
     "data": {
      "text/html": [
       "<table class=\"simpletable\">\n",
       "<caption>OLS Regression Results</caption>\n",
       "<tr>\n",
       "  <th>Dep. Variable:</th>            <td>y</td>        <th>  R-squared (uncentered):</th>      <td>   0.117</td>\n",
       "</tr>\n",
       "<tr>\n",
       "  <th>Model:</th>                   <td>OLS</td>       <th>  Adj. R-squared (uncentered):</th> <td>   0.116</td>\n",
       "</tr>\n",
       "<tr>\n",
       "  <th>Method:</th>             <td>Least Squares</td>  <th>  F-statistic:       </th>          <td>   132.7</td>\n",
       "</tr>\n",
       "<tr>\n",
       "  <th>Date:</th>             <td>Tue, 15 Feb 2022</td> <th>  Prob (F-statistic):</th>          <td>6.52e-29</td>\n",
       "</tr>\n",
       "<tr>\n",
       "  <th>Time:</th>                 <td>15:28:02</td>     <th>  Log-Likelihood:    </th>          <td> -1491.1</td>\n",
       "</tr>\n",
       "<tr>\n",
       "  <th>No. Observations:</th>      <td>   999</td>      <th>  AIC:               </th>          <td>   2984.</td>\n",
       "</tr>\n",
       "<tr>\n",
       "  <th>Df Residuals:</th>          <td>   998</td>      <th>  BIC:               </th>          <td>   2989.</td>\n",
       "</tr>\n",
       "<tr>\n",
       "  <th>Df Model:</th>              <td>     1</td>      <th>                     </th>              <td> </td>   \n",
       "</tr>\n",
       "<tr>\n",
       "  <th>Covariance Type:</th>      <td>nonrobust</td>    <th>                     </th>              <td> </td>   \n",
       "</tr>\n",
       "</table>\n",
       "<table class=\"simpletable\">\n",
       "<tr>\n",
       "   <td></td>     <th>coef</th>     <th>std err</th>      <th>t</th>      <th>P>|t|</th>  <th>[0.025</th>    <th>0.975]</th>  \n",
       "</tr>\n",
       "<tr>\n",
       "  <th>x1</th> <td>    0.2150</td> <td>    0.019</td> <td>   11.519</td> <td> 0.000</td> <td>    0.178</td> <td>    0.252</td>\n",
       "</tr>\n",
       "</table>\n",
       "<table class=\"simpletable\">\n",
       "<tr>\n",
       "  <th>Omnibus:</th>       <td>109.973</td> <th>  Durbin-Watson:     </th> <td>   2.317</td>\n",
       "</tr>\n",
       "<tr>\n",
       "  <th>Prob(Omnibus):</th> <td> 0.000</td>  <th>  Jarque-Bera (JB):  </th> <td> 424.139</td>\n",
       "</tr>\n",
       "<tr>\n",
       "  <th>Skew:</th>          <td>-0.465</td>  <th>  Prob(JB):          </th> <td>7.93e-93</td>\n",
       "</tr>\n",
       "<tr>\n",
       "  <th>Kurtosis:</th>      <td> 6.054</td>  <th>  Cond. No.          </th> <td>    1.00</td>\n",
       "</tr>\n",
       "</table><br/><br/>Notes:<br/>[1] R² is computed without centering (uncentered) since the model does not contain a constant.<br/>[2] Standard Errors assume that the covariance matrix of the errors is correctly specified."
      ],
      "text/plain": [
       "<class 'statsmodels.iolib.summary.Summary'>\n",
       "\"\"\"\n",
       "                                 OLS Regression Results                                \n",
       "=======================================================================================\n",
       "Dep. Variable:                      y   R-squared (uncentered):                   0.117\n",
       "Model:                            OLS   Adj. R-squared (uncentered):              0.116\n",
       "Method:                 Least Squares   F-statistic:                              132.7\n",
       "Date:                Tue, 15 Feb 2022   Prob (F-statistic):                    6.52e-29\n",
       "Time:                        15:28:02   Log-Likelihood:                         -1491.1\n",
       "No. Observations:                 999   AIC:                                      2984.\n",
       "Df Residuals:                     998   BIC:                                      2989.\n",
       "Df Model:                           1                                                  \n",
       "Covariance Type:            nonrobust                                                  \n",
       "==============================================================================\n",
       "                 coef    std err          t      P>|t|      [0.025      0.975]\n",
       "------------------------------------------------------------------------------\n",
       "x1             0.2150      0.019     11.519      0.000       0.178       0.252\n",
       "==============================================================================\n",
       "Omnibus:                      109.973   Durbin-Watson:                   2.317\n",
       "Prob(Omnibus):                  0.000   Jarque-Bera (JB):              424.139\n",
       "Skew:                          -0.465   Prob(JB):                     7.93e-93\n",
       "Kurtosis:                       6.054   Cond. No.                         1.00\n",
       "==============================================================================\n",
       "\n",
       "Notes:\n",
       "[1] R² is computed without centering (uncentered) since the model does not contain a constant.\n",
       "[2] Standard Errors assume that the covariance matrix of the errors is correctly specified.\n",
       "\"\"\""
      ]
     },
     "execution_count": 26,
     "metadata": {},
     "output_type": "execute_result"
    }
   ],
   "source": [
    "SE_value = df_sec.iloc[1:1000, 6].values\n",
    "KOSPI_value = df_kospi.iloc[1:1000, 6].values\n",
    "\n",
    "model = sm.OLS(KOSPI_value, SE_value).fit()\n",
    "model.summary()"
   ]
  },
  {
   "cell_type": "code",
   "execution_count": 27,
   "id": "36bcd345",
   "metadata": {},
   "outputs": [
    {
     "data": {
      "text/html": [
       "<table class=\"simpletable\">\n",
       "<caption>OLS Regression Results</caption>\n",
       "<tr>\n",
       "  <th>Dep. Variable:</th>            <td>y</td>        <th>  R-squared (uncentered):</th>      <td>   0.117</td>\n",
       "</tr>\n",
       "<tr>\n",
       "  <th>Model:</th>                   <td>OLS</td>       <th>  Adj. R-squared (uncentered):</th> <td>   0.116</td>\n",
       "</tr>\n",
       "<tr>\n",
       "  <th>Method:</th>             <td>Least Squares</td>  <th>  F-statistic:       </th>          <td>   132.7</td>\n",
       "</tr>\n",
       "<tr>\n",
       "  <th>Date:</th>             <td>Tue, 15 Feb 2022</td> <th>  Prob (F-statistic):</th>          <td>6.52e-29</td>\n",
       "</tr>\n",
       "<tr>\n",
       "  <th>Time:</th>                 <td>15:28:15</td>     <th>  Log-Likelihood:    </th>          <td> -1956.4</td>\n",
       "</tr>\n",
       "<tr>\n",
       "  <th>No. Observations:</th>      <td>   999</td>      <th>  AIC:               </th>          <td>   3915.</td>\n",
       "</tr>\n",
       "<tr>\n",
       "  <th>Df Residuals:</th>          <td>   998</td>      <th>  BIC:               </th>          <td>   3920.</td>\n",
       "</tr>\n",
       "<tr>\n",
       "  <th>Df Model:</th>              <td>     1</td>      <th>                     </th>              <td> </td>   \n",
       "</tr>\n",
       "<tr>\n",
       "  <th>Covariance Type:</th>      <td>nonrobust</td>    <th>                     </th>              <td> </td>   \n",
       "</tr>\n",
       "</table>\n",
       "<table class=\"simpletable\">\n",
       "<tr>\n",
       "   <td></td>     <th>coef</th>     <th>std err</th>      <th>t</th>      <th>P>|t|</th>  <th>[0.025</th>    <th>0.975]</th>  \n",
       "</tr>\n",
       "<tr>\n",
       "  <th>x1</th> <td>    0.5458</td> <td>    0.047</td> <td>   11.519</td> <td> 0.000</td> <td>    0.453</td> <td>    0.639</td>\n",
       "</tr>\n",
       "</table>\n",
       "<table class=\"simpletable\">\n",
       "<tr>\n",
       "  <th>Omnibus:</th>       <td>26.987</td> <th>  Durbin-Watson:     </th> <td>   2.289</td>\n",
       "</tr>\n",
       "<tr>\n",
       "  <th>Prob(Omnibus):</th> <td> 0.000</td> <th>  Jarque-Bera (JB):  </th> <td>  59.552</td>\n",
       "</tr>\n",
       "<tr>\n",
       "  <th>Skew:</th>          <td> 0.051</td> <th>  Prob(JB):          </th> <td>1.17e-13</td>\n",
       "</tr>\n",
       "<tr>\n",
       "  <th>Kurtosis:</th>      <td> 4.192</td> <th>  Cond. No.          </th> <td>    1.00</td>\n",
       "</tr>\n",
       "</table><br/><br/>Notes:<br/>[1] R² is computed without centering (uncentered) since the model does not contain a constant.<br/>[2] Standard Errors assume that the covariance matrix of the errors is correctly specified."
      ],
      "text/plain": [
       "<class 'statsmodels.iolib.summary.Summary'>\n",
       "\"\"\"\n",
       "                                 OLS Regression Results                                \n",
       "=======================================================================================\n",
       "Dep. Variable:                      y   R-squared (uncentered):                   0.117\n",
       "Model:                            OLS   Adj. R-squared (uncentered):              0.116\n",
       "Method:                 Least Squares   F-statistic:                              132.7\n",
       "Date:                Tue, 15 Feb 2022   Prob (F-statistic):                    6.52e-29\n",
       "Time:                        15:28:15   Log-Likelihood:                         -1956.4\n",
       "No. Observations:                 999   AIC:                                      3915.\n",
       "Df Residuals:                     998   BIC:                                      3920.\n",
       "Df Model:                           1                                                  \n",
       "Covariance Type:            nonrobust                                                  \n",
       "==============================================================================\n",
       "                 coef    std err          t      P>|t|      [0.025      0.975]\n",
       "------------------------------------------------------------------------------\n",
       "x1             0.5458      0.047     11.519      0.000       0.453       0.639\n",
       "==============================================================================\n",
       "Omnibus:                       26.987   Durbin-Watson:                   2.289\n",
       "Prob(Omnibus):                  0.000   Jarque-Bera (JB):               59.552\n",
       "Skew:                           0.051   Prob(JB):                     1.17e-13\n",
       "Kurtosis:                       4.192   Cond. No.                         1.00\n",
       "==============================================================================\n",
       "\n",
       "Notes:\n",
       "[1] R² is computed without centering (uncentered) since the model does not contain a constant.\n",
       "[2] Standard Errors assume that the covariance matrix of the errors is correctly specified.\n",
       "\"\"\""
      ]
     },
     "execution_count": 27,
     "metadata": {},
     "output_type": "execute_result"
    }
   ],
   "source": [
    "model = sm.OLS(SE_value , KOSPI_value).fit()\n",
    "model.summary()"
   ]
  },
  {
   "cell_type": "code",
   "execution_count": 28,
   "id": "8ea140f9",
   "metadata": {},
   "outputs": [],
   "source": [
    "SE_CLOSE = df_sec.iloc[1:1000, 3]\n",
    "KOSPI_CLOSE= df_kospi.iloc[1:1000, 3]"
   ]
  },
  {
   "cell_type": "code",
   "execution_count": 29,
   "id": "e6bec79c",
   "metadata": {},
   "outputs": [],
   "source": [
    "mean_se = SE_CLOSE.mean()\n",
    "mean_ko = KOSPI_CLOSE.mean()"
   ]
  },
  {
   "cell_type": "code",
   "execution_count": 30,
   "id": "a3869f20",
   "metadata": {},
   "outputs": [],
   "source": [
    "SE_CLOSE = SE_CLOSE.fillna(mean_se)\n",
    "KOSPI_CLOSE = KOSPI_CLOSE.fillna(mean_ko)"
   ]
  },
  {
   "cell_type": "code",
   "execution_count": 31,
   "id": "1f0c3d33",
   "metadata": {},
   "outputs": [
    {
     "name": "stdout",
     "output_type": "stream",
     "text": [
      "삼성종가: count      999.000000\n",
      "mean     21953.053053\n",
      "std       5404.691366\n",
      "min      13600.000000\n",
      "25%      16660.000000\n",
      "50%      21160.000000\n",
      "75%      26800.000000\n",
      "max      31520.000000\n",
      "Name: Close, dtype: float64  \n",
      " 코스피종가: count     999.000000\n",
      "mean     1910.054693\n",
      "std       133.962250\n",
      "min      1552.790039\n",
      "25%      1826.325012\n",
      "50%      1927.680054\n",
      "75%      2001.434998\n",
      "max      2228.959961\n",
      "Name: Close, dtype: float64\n"
     ]
    }
   ],
   "source": [
    "print(\"삼성종가:\" ,SE_CLOSE.describe() , \" \\n 코스피종가:\" , KOSPI_CLOSE.describe())"
   ]
  },
  {
   "cell_type": "code",
   "execution_count": 32,
   "id": "b49e241c",
   "metadata": {},
   "outputs": [
    {
     "data": {
      "image/png": "[encoded data removed]",
      "text/plain": [
       "<Figure size 576x432 with 1 Axes>"
      ]
     },
     "metadata": {
      "needs_background": "light"
     },
     "output_type": "display_data"
    }
   ],
   "source": [
    "plt.figure(figsize  = (8,6))\n",
    "plt.scatter(SE_CLOSE, KOSPI_CLOSE)\n",
    "plt.show()"
   ]
  },
  {
   "cell_type": "code",
   "execution_count": 36,
   "id": "b9160908",
   "metadata": {},
   "outputs": [
    {
     "data": {
      "text/html": [
       "<table class=\"simpletable\">\n",
       "<caption>OLS Regression Results</caption>\n",
       "<tr>\n",
       "  <th>Dep. Variable:</th>            <td>y</td>        <th>  R-squared (uncentered):</th>      <td>   0.951</td> \n",
       "</tr>\n",
       "<tr>\n",
       "  <th>Model:</th>                   <td>OLS</td>       <th>  Adj. R-squared (uncentered):</th> <td>   0.951</td> \n",
       "</tr>\n",
       "<tr>\n",
       "  <th>Method:</th>             <td>Least Squares</td>  <th>  F-statistic:       </th>          <td>1.947e+04</td>\n",
       "</tr>\n",
       "<tr>\n",
       "  <th>Date:</th>             <td>Tue, 15 Feb 2022</td> <th>  Prob (F-statistic):</th>           <td>  0.00</td>  \n",
       "</tr>\n",
       "<tr>\n",
       "  <th>Time:</th>                 <td>15:29:31</td>     <th>  Log-Likelihood:    </th>          <td> -7458.4</td> \n",
       "</tr>\n",
       "<tr>\n",
       "  <th>No. Observations:</th>      <td>   999</td>      <th>  AIC:               </th>          <td>1.492e+04</td>\n",
       "</tr>\n",
       "<tr>\n",
       "  <th>Df Residuals:</th>          <td>   998</td>      <th>  BIC:               </th>          <td>1.492e+04</td>\n",
       "</tr>\n",
       "<tr>\n",
       "  <th>Df Model:</th>              <td>     1</td>      <th>                     </th>              <td> </td>    \n",
       "</tr>\n",
       "<tr>\n",
       "  <th>Covariance Type:</th>      <td>nonrobust</td>    <th>                     </th>              <td> </td>    \n",
       "</tr>\n",
       "</table>\n",
       "<table class=\"simpletable\">\n",
       "<tr>\n",
       "   <td></td>     <th>coef</th>     <th>std err</th>      <th>t</th>      <th>P>|t|</th>  <th>[0.025</th>    <th>0.975]</th>  \n",
       "</tr>\n",
       "<tr>\n",
       "  <th>x1</th> <td>    0.0826</td> <td>    0.001</td> <td>  139.533</td> <td> 0.000</td> <td>    0.081</td> <td>    0.084</td>\n",
       "</tr>\n",
       "</table>\n",
       "<table class=\"simpletable\">\n",
       "<tr>\n",
       "  <th>Omnibus:</th>       <td>8161.171</td> <th>  Durbin-Watson:     </th> <td>   0.007</td>\n",
       "</tr>\n",
       "<tr>\n",
       "  <th>Prob(Omnibus):</th>  <td> 0.000</td>  <th>  Jarque-Bera (JB):  </th> <td>  90.564</td>\n",
       "</tr>\n",
       "<tr>\n",
       "  <th>Skew:</th>           <td>-0.074</td>  <th>  Prob(JB):          </th> <td>2.16e-20</td>\n",
       "</tr>\n",
       "<tr>\n",
       "  <th>Kurtosis:</th>       <td> 1.532</td>  <th>  Cond. No.          </th> <td>    1.00</td>\n",
       "</tr>\n",
       "</table><br/><br/>Notes:<br/>[1] R² is computed without centering (uncentered) since the model does not contain a constant.<br/>[2] Standard Errors assume that the covariance matrix of the errors is correctly specified."
      ],
      "text/plain": [
       "<class 'statsmodels.iolib.summary.Summary'>\n",
       "\"\"\"\n",
       "                                 OLS Regression Results                                \n",
       "=======================================================================================\n",
       "Dep. Variable:                      y   R-squared (uncentered):                   0.951\n",
       "Model:                            OLS   Adj. R-squared (uncentered):              0.951\n",
       "Method:                 Least Squares   F-statistic:                          1.947e+04\n",
       "Date:                Tue, 15 Feb 2022   Prob (F-statistic):                        0.00\n",
       "Time:                        15:29:31   Log-Likelihood:                         -7458.4\n",
       "No. Observations:                 999   AIC:                                  1.492e+04\n",
       "Df Residuals:                     998   BIC:                                  1.492e+04\n",
       "Df Model:                           1                                                  \n",
       "Covariance Type:            nonrobust                                                  \n",
       "==============================================================================\n",
       "                 coef    std err          t      P>|t|      [0.025      0.975]\n",
       "------------------------------------------------------------------------------\n",
       "x1             0.0826      0.001    139.533      0.000       0.081       0.084\n",
       "==============================================================================\n",
       "Omnibus:                     8161.171   Durbin-Watson:                   0.007\n",
       "Prob(Omnibus):                  0.000   Jarque-Bera (JB):               90.564\n",
       "Skew:                          -0.074   Prob(JB):                     2.16e-20\n",
       "Kurtosis:                       1.532   Cond. No.                         1.00\n",
       "==============================================================================\n",
       "\n",
       "Notes:\n",
       "[1] R² is computed without centering (uncentered) since the model does not contain a constant.\n",
       "[2] Standard Errors assume that the covariance matrix of the errors is correctly specified.\n",
       "\"\"\""
      ]
     },
     "execution_count": 36,
     "metadata": {},
     "output_type": "execute_result"
    }
   ],
   "source": [
    "SE_CLOSE_value = df_sec.iloc[1:1000, 3].values\n",
    "KOSPI_CLOSE_value= df_kospi.iloc[1:1000, 3].values\n",
    "model = sm.OLS(KOSPI_CLOSE_value, SE_CLOSE_value).fit()\n",
    "model.summary()"
   ]
  },
  {
   "cell_type": "markdown",
   "id": "8b33f9db",
   "metadata": {},
   "source": [
    "## 랜던자료로 정규성 검증"
   ]
  },
  {
   "cell_type": "code",
   "execution_count": 38,
   "id": "cc440055",
   "metadata": {},
   "outputs": [
    {
     "data": {
      "image/png": "[encoded data removed]",
      "text/plain": [
       "<Figure size 432x288 with 1 Axes>"
      ]
     },
     "metadata": {
      "needs_background": "light"
     },
     "output_type": "display_data"
    }
   ],
   "source": [
    "import numpy as np\n",
    "from matplotlib import pyplot as plt\n",
    "np.random.seed(1234567)\n",
    "x = np.random.rand(200)\n",
    "y = (x * 2) ** 2 + 0.2 * np.random.randn(200)\n",
    "plt.figure()\n",
    "plt.scatter(x,y)\n",
    "plt.show()\n"
   ]
  },
  {
   "cell_type": "code",
   "execution_count": 39,
   "id": "7cd276eb",
   "metadata": {},
   "outputs": [],
   "source": [
    "import pandas as pd\n",
    "import statsmodels.formula.api as sm\n",
    "from statsmodels.sandbox.regression.predstd import wls_prediction_std\n",
    "# 하나의 data frame으로 병합\n",
    "df = pd.concat([pd.DataFrame(x), pd.DataFrame(y)], axis=1)\n",
    "df.columns=['X','Y']\n",
    "# 회귀분석 수행\n",
    "mdl = sm.ols(formula='Y~X', data=df)\n",
    "# 회귀분석 결과에서 잔차만 추출\n",
    "resid = mdl.fit().resid\n"
   ]
  },
  {
   "cell_type": "code",
   "execution_count": 40,
   "id": "f1bd3f0a",
   "metadata": {},
   "outputs": [
    {
     "data": {
      "image/png": "[encoded data removed]",
      "text/plain": [
       "<Figure size 432x288 with 1 Axes>"
      ]
     },
     "metadata": {
      "needs_background": "light"
     },
     "output_type": "display_data"
    }
   ],
   "source": [
    "from scipy.stats import probplot\n",
    "plt.figure()\n",
    "probplot(resid, plot=plt)\n",
    "plt.show()\n"
   ]
  },
  {
   "cell_type": "code",
   "execution_count": 41,
   "id": "e3ff7bb6",
   "metadata": {},
   "outputs": [
    {
     "data": {
      "text/plain": [
       "ShapiroResult(statistic=0.9733986854553223, pvalue=0.0007582974503748119)"
      ]
     },
     "execution_count": 41,
     "metadata": {},
     "output_type": "execute_result"
    }
   ],
   "source": [
    "# sharpiro 검정을 수행 결과\n",
    "from scipy import stats\n",
    "stats.shapiro(resid)\n"
   ]
  },
  {
   "cell_type": "code",
   "execution_count": null,
   "id": "bfe3c28b",
   "metadata": {},
   "outputs": [],
   "source": [
    "#첫번째 값은 검정통계량\n",
    "#두번째 값은 p-value\n",
    "#sharpiro 검정의 경우 귀무가설이 정규분포를 따른다는 것\n",
    "# p-value가 0.05보다 작으므로 귀무가설을 기각, 즉 데이터는 정규성을 만족한다고 볼 수 없다."
   ]
  }
 ],
 "metadata": {
  "kernelspec": {
   "display_name": "Python 3 (ipykernel)",
   "language": "python",
   "name": "python3"
  },
  "language_info": {
   "codemirror_mode": {
    "name": "ipython",
    "version": 3
   },
   "file_extension": ".py",
   "mimetype": "text/x-python",
   "name": "python",
   "nbconvert_exporter": "python",
   "pygments_lexer": "ipython3",
   "version": "3.9.6"
  }
 },
 "nbformat": 4,
 "nbformat_minor": 5
}
