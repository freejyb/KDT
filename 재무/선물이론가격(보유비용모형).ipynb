{
 "cells": [
  {
   "cell_type": "markdown",
   "id": "49e486d1",
   "metadata": {},
   "source": [
    "# KOSPI200 선물가격 사례"
   ]
  },
  {
   "cell_type": "code",
   "execution_count": 7,
   "id": "0a8ad082",
   "metadata": {},
   "outputs": [],
   "source": [
    "import pandas as pd\n",
    "import numpy as np"
   ]
  },
  {
   "cell_type": "code",
   "execution_count": 16,
   "id": "a33f831c",
   "metadata": {},
   "outputs": [
    {
     "data": {
      "text/html": [
       "<div>\n",
       "<style scoped>\n",
       "    .dataframe tbody tr th:only-of-type {\n",
       "        vertical-align: middle;\n",
       "    }\n",
       "\n",
       "    .dataframe tbody tr th {\n",
       "        vertical-align: top;\n",
       "    }\n",
       "\n",
       "    .dataframe thead th {\n",
       "        text-align: right;\n",
       "    }\n",
       "</style>\n",
       "<table border=\"1\" class=\"dataframe\">\n",
       "  <thead>\n",
       "    <tr style=\"text-align: right;\">\n",
       "      <th></th>\n",
       "      <th>선물가격</th>\n",
       "      <th>지수</th>\n",
       "    </tr>\n",
       "    <tr>\n",
       "      <th>일자</th>\n",
       "      <th></th>\n",
       "      <th></th>\n",
       "    </tr>\n",
       "  </thead>\n",
       "  <tbody>\n",
       "    <tr>\n",
       "      <th>2017/09/01</th>\n",
       "      <td>308.40</td>\n",
       "      <td>307.78</td>\n",
       "    </tr>\n",
       "    <tr>\n",
       "      <th>2017/09/04</th>\n",
       "      <td>305.60</td>\n",
       "      <td>304.19</td>\n",
       "    </tr>\n",
       "    <tr>\n",
       "      <th>2017/09/05</th>\n",
       "      <td>304.85</td>\n",
       "      <td>304.06</td>\n",
       "    </tr>\n",
       "    <tr>\n",
       "      <th>2017/09/06</th>\n",
       "      <td>304.30</td>\n",
       "      <td>303.18</td>\n",
       "    </tr>\n",
       "    <tr>\n",
       "      <th>2017/09/07</th>\n",
       "      <td>308.10</td>\n",
       "      <td>306.97</td>\n",
       "    </tr>\n",
       "  </tbody>\n",
       "</table>\n",
       "</div>"
      ],
      "text/plain": [
       "              선물가격      지수\n",
       "일자                        \n",
       "2017/09/01  308.40  307.78\n",
       "2017/09/04  305.60  304.19\n",
       "2017/09/05  304.85  304.06\n",
       "2017/09/06  304.30  303.18\n",
       "2017/09/07  308.10  306.97"
      ]
     },
     "execution_count": 16,
     "metadata": {},
     "output_type": "execute_result"
    }
   ],
   "source": [
    "# 기초자산 KOSPI200 가격 엑셀 자료\n",
    "df = pd.read_excel('09.2 KOSPI200 F 201712.xlsx', 'Sheet1', index_col='일자')\n",
    "df.head()"
   ]
  },
  {
   "cell_type": "code",
   "execution_count": 17,
   "id": "a15bd08d",
   "metadata": {},
   "outputs": [
    {
     "data": {
      "text/plain": [
       "pandas.core.indexes.base.Index"
      ]
     },
     "execution_count": 17,
     "metadata": {},
     "output_type": "execute_result"
    }
   ],
   "source": [
    "type(df.index)"
   ]
  },
  {
   "cell_type": "code",
   "execution_count": 18,
   "id": "0deaa2a6",
   "metadata": {},
   "outputs": [],
   "source": [
    "df.index = pd.to_datetime(df.index)"
   ]
  },
  {
   "cell_type": "code",
   "execution_count": 19,
   "id": "29665a65",
   "metadata": {},
   "outputs": [
    {
     "data": {
      "text/plain": [
       "pandas.core.indexes.datetimes.DatetimeIndex"
      ]
     },
     "execution_count": 19,
     "metadata": {},
     "output_type": "execute_result"
    }
   ],
   "source": [
    "type(df.index)"
   ]
  },
  {
   "cell_type": "code",
   "execution_count": 20,
   "id": "896f1ae7",
   "metadata": {},
   "outputs": [],
   "source": [
    "def futures_price (S, r, d, T, t0):\n",
    "    t = np.busday_count(t0.date(), T.date()) / 252\n",
    "    F = S * np.exp((r-d)*t)\n",
    "    return F"
   ]
  },
  {
   "cell_type": "code",
   "execution_count": 21,
   "id": "49d64c50",
   "metadata": {},
   "outputs": [],
   "source": [
    "T = pd.to_datetime('2017-12-14')     # 최종거래일\n",
    "r = 0.0225     # 이자율\n",
    "d = 0.015     # 배당률\n",
    "for n in (df.index):\n",
    "    t0 = n     \n",
    "    S = df.loc[n, '지수']\n",
    "    F = futures_price (S, r, d, T, t0)\n",
    "    f = '{:,.2f}'.format(F)\n",
    "    df.loc[n, '이론가1'] = f"
   ]
  },
  {
   "cell_type": "code",
   "execution_count": 22,
   "id": "4f451669",
   "metadata": {},
   "outputs": [],
   "source": [
    "# 선물이론가1 : 단리이자율 개념으로 계산하기 \n",
    "def S_futures_price (S, r, d, T, t0):\n",
    "    t = (T - t0).days / 365\n",
    "    F = S * (1 + (r-d) * t)\n",
    "    return F"
   ]
  },
  {
   "cell_type": "code",
   "execution_count": 23,
   "id": "b9da8466",
   "metadata": {},
   "outputs": [],
   "source": [
    "# 선물이론가2 : 연속복리이자율 개념으로 계산하기 \n",
    "\n",
    "T = pd.to_datetime('2017-12-14')     # 최종거래일\n",
    "r = 0.0225     # 이자율\n",
    "d = 0.015     # 배당률\n",
    "for n in (df.index):\n",
    "    t0 = n     \n",
    "    S = df.loc[n, '지수']\n",
    "    F = S_futures_price (S, r, d, T, t0)\n",
    "    f = '{:,.2f}'.format(F)\n",
    "    df.loc[n, '이론가2'] = f"
   ]
  },
  {
   "cell_type": "code",
   "execution_count": 24,
   "id": "92ad9301",
   "metadata": {},
   "outputs": [
    {
     "data": {
      "text/html": [
       "<div>\n",
       "<style scoped>\n",
       "    .dataframe tbody tr th:only-of-type {\n",
       "        vertical-align: middle;\n",
       "    }\n",
       "\n",
       "    .dataframe tbody tr th {\n",
       "        vertical-align: top;\n",
       "    }\n",
       "\n",
       "    .dataframe thead th {\n",
       "        text-align: right;\n",
       "    }\n",
       "</style>\n",
       "<table border=\"1\" class=\"dataframe\">\n",
       "  <thead>\n",
       "    <tr style=\"text-align: right;\">\n",
       "      <th></th>\n",
       "      <th>선물가격</th>\n",
       "      <th>지수</th>\n",
       "      <th>이론가1</th>\n",
       "      <th>이론가2</th>\n",
       "    </tr>\n",
       "    <tr>\n",
       "      <th>일자</th>\n",
       "      <th></th>\n",
       "      <th></th>\n",
       "      <th></th>\n",
       "      <th></th>\n",
       "    </tr>\n",
       "  </thead>\n",
       "  <tbody>\n",
       "    <tr>\n",
       "      <th>2017-09-01</th>\n",
       "      <td>308.40</td>\n",
       "      <td>307.78</td>\n",
       "      <td>308.46</td>\n",
       "      <td>308.44</td>\n",
       "    </tr>\n",
       "    <tr>\n",
       "      <th>2017-09-04</th>\n",
       "      <td>305.60</td>\n",
       "      <td>304.19</td>\n",
       "      <td>304.85</td>\n",
       "      <td>304.82</td>\n",
       "    </tr>\n",
       "    <tr>\n",
       "      <th>2017-09-05</th>\n",
       "      <td>304.85</td>\n",
       "      <td>304.06</td>\n",
       "      <td>304.71</td>\n",
       "      <td>304.68</td>\n",
       "    </tr>\n",
       "    <tr>\n",
       "      <th>2017-09-06</th>\n",
       "      <td>304.30</td>\n",
       "      <td>303.18</td>\n",
       "      <td>303.82</td>\n",
       "      <td>303.80</td>\n",
       "    </tr>\n",
       "    <tr>\n",
       "      <th>2017-09-07</th>\n",
       "      <td>308.10</td>\n",
       "      <td>306.97</td>\n",
       "      <td>307.61</td>\n",
       "      <td>307.59</td>\n",
       "    </tr>\n",
       "    <tr>\n",
       "      <th>...</th>\n",
       "      <td>...</td>\n",
       "      <td>...</td>\n",
       "      <td>...</td>\n",
       "      <td>...</td>\n",
       "    </tr>\n",
       "    <tr>\n",
       "      <th>2017-12-08</th>\n",
       "      <td>324.75</td>\n",
       "      <td>324.68</td>\n",
       "      <td>324.72</td>\n",
       "      <td>324.72</td>\n",
       "    </tr>\n",
       "    <tr>\n",
       "      <th>2017-12-11</th>\n",
       "      <td>324.85</td>\n",
       "      <td>325.09</td>\n",
       "      <td>325.12</td>\n",
       "      <td>325.11</td>\n",
       "    </tr>\n",
       "    <tr>\n",
       "      <th>2017-12-12</th>\n",
       "      <td>323.80</td>\n",
       "      <td>324.07</td>\n",
       "      <td>324.09</td>\n",
       "      <td>324.08</td>\n",
       "    </tr>\n",
       "    <tr>\n",
       "      <th>2017-12-13</th>\n",
       "      <td>326.20</td>\n",
       "      <td>326.18</td>\n",
       "      <td>326.19</td>\n",
       "      <td>326.19</td>\n",
       "    </tr>\n",
       "    <tr>\n",
       "      <th>2017-12-14</th>\n",
       "      <td>327.65</td>\n",
       "      <td>324.74</td>\n",
       "      <td>324.74</td>\n",
       "      <td>324.74</td>\n",
       "    </tr>\n",
       "  </tbody>\n",
       "</table>\n",
       "<p>69 rows × 4 columns</p>\n",
       "</div>"
      ],
      "text/plain": [
       "              선물가격      지수    이론가1    이론가2\n",
       "일자                                        \n",
       "2017-09-01  308.40  307.78  308.46  308.44\n",
       "2017-09-04  305.60  304.19  304.85  304.82\n",
       "2017-09-05  304.85  304.06  304.71  304.68\n",
       "2017-09-06  304.30  303.18  303.82  303.80\n",
       "2017-09-07  308.10  306.97  307.61  307.59\n",
       "...            ...     ...     ...     ...\n",
       "2017-12-08  324.75  324.68  324.72  324.72\n",
       "2017-12-11  324.85  325.09  325.12  325.11\n",
       "2017-12-12  323.80  324.07  324.09  324.08\n",
       "2017-12-13  326.20  326.18  326.19  326.19\n",
       "2017-12-14  327.65  324.74  324.74  324.74\n",
       "\n",
       "[69 rows x 4 columns]"
      ]
     },
     "execution_count": 24,
     "metadata": {},
     "output_type": "execute_result"
    }
   ],
   "source": [
    "# 이론가 1 : 연속복리이자율 , 이론가2 : 단리이자율\n",
    "df"
   ]
  },
  {
   "cell_type": "code",
   "execution_count": null,
   "id": "78e51a95",
   "metadata": {},
   "outputs": [],
   "source": []
  }
 ],
 "metadata": {
  "kernelspec": {
   "display_name": "Python 3 (ipykernel)",
   "language": "python",
   "name": "python3"
  },
  "language_info": {
   "codemirror_mode": {
    "name": "ipython",
    "version": 3
   },
   "file_extension": ".py",
   "mimetype": "text/x-python",
   "name": "python",
   "nbconvert_exporter": "python",
   "pygments_lexer": "ipython3",
   "version": "3.9.6"
  }
 },
 "nbformat": 4,
 "nbformat_minor": 5
}
