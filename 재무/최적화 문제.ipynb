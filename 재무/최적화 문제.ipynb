{
 "cells": [
  {
   "cell_type": "markdown",
   "id": "6eedc8d5-d7fb-4174-9814-8fbc9630f348",
   "metadata": {},
   "source": [
    "라그랑즈 승수법\n",
    "\n",
    "선형계획법\n",
    "\n",
    "이차 계획법"
   ]
  },
  {
   "cell_type": "markdown",
   "id": "3d9bf0bd-c8bb-4d0d-9ab2-c021f2408407",
   "metadata": {},
   "source": [
    "## 라그랑주 승수법 (Lagrange Multiplier Method) 을 사용하여 최적화"
   ]
  },
  {
   "cell_type": "markdown",
   "id": "20a6c272-8394-4e6f-93d6-880290ac0bb8",
   "metadata": {},
   "source": [
    "목적 함수 정의:\n",
    "\n",
    "목적 함수는 f(x, y) = x * y로 정의되었고, 최대화를 위해 -1을 곱한 형태로 사용됩니다. \n",
    "\n",
    "이 함수의 목표는 x와 y의 곱을 최대화하는 것입니다.\n",
    "\n",
    "제약 조건:\n",
    "\n",
    "제약 조건은 x + y = 10으로 정의됩니다. 즉, x와 y의 합이 항상 10이 되어야 합니다.\n",
    "최적화 수행:\n",
    "\n",
    "초기 추정값은 [1, 1]로 설정됩니다.\n",
    "    \n",
    "scipy.optimize.minimize 함수를 사용하여 목적 함수의 최대 값을 찾습니다. 여기서 사용된 방법은 SLSQP(Sequential Least Squares Programming)입니다.\n",
    "\n",
    "결과 출력:\n",
    "\n",
    "최적화된 x와 y 값을 출력합니다.\n",
    "    \n",
    "x와 y의 최적화된 값에서의 목적 함수 값도 출력합니다.  \n"
   ]
  },
  {
   "cell_type": "code",
   "execution_count": null,
   "id": "a0688ebf-8414-4396-9297-f8bd365b5133",
   "metadata": {},
   "outputs": [],
   "source": [
    "# 라이브러리 임포트\n",
    "# import matplotlib.pyplot as plt\n",
    "# from scipy.optimize import minimize\n",
    "# numpy는 수학적 계산을 돕기 위한 라이브러리입니다.\n",
    "# matplotlib.pyplot은 그래프를 그리는 데 사용됩니다.\n",
    "# scipy.optimize.minimize는 최적화 문제를 해결하는 함수입니다."
   ]
  },
  {
   "cell_type": "code",
   "execution_count": null,
   "id": "8f946575-aeda-47ea-930e-b16341c8d0ed",
   "metadata": {},
   "outputs": [],
   "source": [
    "# 목적 함수 정의\n",
    "# def objective_function(x):\n",
    "#     return -1 * (x[0] * x[1])  # 예: 최대화하려는 목적 함수 (f(x, y) = x * y)\n",
    "# 목적 함수는 f(x, y) = x * y입니다. 우리는 이 함수를 최대화하려고 합니다.\n",
    "# minimize 함수는 최소화 문제를 풀기 때문에, 최대화를 위해 -1을 곱해줍니다. 이렇게 하면 minimize 함수가 최대화 결과를 도출합니다."
   ]
  },
  {
   "cell_type": "code",
   "execution_count": null,
   "id": "ec13e62a-2b5f-4b38-8a04-d4d952fedffb",
   "metadata": {},
   "outputs": [],
   "source": [
    "# 제약 조건 정의\n",
    "# def constraint1(x):\n",
    "#     return x[0] + x[1] - 10  # 예: x + y = 10이라는 제약조건\n",
    "# 이 함수는 x + y = 10이라는 제약 조건을 정의합니다.\n",
    "# 여기서 x[0]은 x 값, x[1]은 y 값을 나타냅니다. 제약 조건이 0이 되어야 하므로 x + y - 10으로 설정합니다."
   ]
  },
  {
   "cell_type": "code",
   "execution_count": null,
   "id": "a27eab0a-29e7-4f40-98cb-c06be42d6db5",
   "metadata": {},
   "outputs": [],
   "source": [
    "# 초기 추정값 설정\n",
    "# x0 = [1, 1]\n",
    "# 최적화 과정에서 사용할 변수의 초기 추정값입니다. 여기서 x와 y의 초기값을 각각 1로 설정했습니다."
   ]
  },
  {
   "cell_type": "code",
   "execution_count": null,
   "id": "24b66053-f1ac-4262-bf83-44605b8923a8",
   "metadata": {},
   "outputs": [],
   "source": [
    "# 제약 조건 설정\n",
    "# con1 = {'type': 'eq', 'fun': constraint1}\n",
    "# constraints = [con1]\n",
    "# 제약 조건을 딕셔너리 형태로 정의합니다.\n",
    "# 'type': 'eq'는 등식 제약 조건을 의미합니다 (x + y = 10).\n",
    "# 제약 조건 리스트를 생성하여 최적화 함수에 전달할 준비를 합니다."
   ]
  },
  {
   "cell_type": "code",
   "execution_count": null,
   "id": "b7246055-f01a-4383-be44-bf113ea9f846",
   "metadata": {},
   "outputs": [],
   "source": [
    "# 최적화 수행\n",
    "# solution = minimize(objective_function, x0, method='SLSQP', constraints=constraints)\n",
    "# minimize 함수를 사용하여 목적 함수를 최적화합니다.\n",
    "# method='SLSQP'는 Sequential Least Squares Programming 방법을 사용한다는 의미입니다. 이는 제약 조건이 있는 문제를 해결하는 데 적합한 방법입니다.\n",
    "# 제약 조건은 앞서 정의한 리스트 constraints를 사용합니다."
   ]
  },
  {
   "cell_type": "code",
   "execution_count": null,
   "id": "f25a7a3d-180d-412e-960d-56753c151c92",
   "metadata": {},
   "outputs": [],
   "source": [
    "# 결과 출력\n",
    "# print(f'Optimal value of x and y: {solution.x}')\n",
    "# print(f'Objective function value: {-1 * solution.fun}')\n",
    "# 최적화된 x와 y 값을 출력합니다.\n",
    "# solution.fun은 최소화된 목적 함수의 값이므로, 최대화 값을 얻기 위해 다시 -1을 곱해줍니다."
   ]
  },
  {
   "cell_type": "code",
   "execution_count": null,
   "id": "26584f18-0a9e-46db-a135-2cc024c2ed87",
   "metadata": {},
   "outputs": [],
   "source": [
    "# 최적화 문제의 결과 시각화\n",
    "# x 값을 0에서 10까지 생성하고, 해당하는 y 값을 계산하여 제약 조건 직선을 그립니다.\n",
    "# 빨간 점은 최적화된 (x, y) 값을 나타냅니다.\n",
    "# plt를 이용해 제약 조건 직선과 최적해를 그래프에 시각적으로 나타냅니다."
   ]
  },
  {
   "cell_type": "code",
   "execution_count": 1,
   "id": "28a08240-f550-45fc-877e-9d8eaf592d9a",
   "metadata": {},
   "outputs": [
    {
     "name": "stdout",
     "output_type": "stream",
     "text": [
      "Optimal value of x and y: [5. 5.]\n",
      "Objective function value: 24.999999999999996\n"
     ]
    },
    {
     "data": {
      "image/png": "[encoded data removed]",
      "text/plain": [
       "<Figure size 640x480 with 1 Axes>"
      ]
     },
     "metadata": {},
     "output_type": "display_data"
    }
   ],
   "source": [
    "import numpy as np\n",
    "import matplotlib.pyplot as plt\n",
    "from scipy.optimize import minimize\n",
    "\n",
    "# 라그랑주 승수법을 사용한 최적화 예제\n",
    "# 목적 함수 정의 (최대화를 위해 -1을 곱한 형태)\n",
    "def objective_function(x):\n",
    "    return -1 * (x[0] * x[1])  # 예: 최대화하려는 목적 함수 (f(x, y) = x * y)\n",
    "\n",
    "# 제약 조건 정의\n",
    "def constraint1(x):\n",
    "    return x[0] + x[1] - 10  # 예: x + y = 10이라는 제약조건\n",
    "\n",
    "# 초기 추정값 설정\n",
    "x0 = [1, 1]\n",
    "\n",
    "# 제약 조건 설정\n",
    "con1 = {'type': 'eq', 'fun': constraint1}\n",
    "constraints = [con1]\n",
    "\n",
    "# 최적화 수행\n",
    "solution = minimize(objective_function, x0, method='SLSQP', constraints=constraints)\n",
    "\n",
    "# 결과 출력\n",
    "print(f'Optimal value of x and y: {solution.x}')\n",
    "print(f'Objective function value: {-1 * solution.fun}')\n",
    "\n",
    "# 최적화 문제의 결과 시각화\n",
    "x = np.linspace(0, 10, 100)\n",
    "y = 10 - x  # 제약 조건 x + y = 10에 대한 y 값 계산\n",
    "\n",
    "plt.plot(x, y, label='Constraint: x + y = 10', color='blue')\n",
    "plt.scatter(solution.x[0], solution.x[1], color='red', zorder=5, label='Optimal Solution')\n",
    "plt.xlabel('x')\n",
    "plt.ylabel('y')\n",
    "plt.title('Lagrange Multiplier Optimization')\n",
    "plt.legend()\n",
    "plt.grid()\n",
    "plt.show()\n"
   ]
  },
  {
   "cell_type": "markdown",
   "id": "5a85c568-feb4-4ddc-acdc-16b53dae2f1f",
   "metadata": {},
   "source": [
    "제약 조건인 x + y = 10을 그래프로 나타냅니다. 이는 파란색 선으로 표시됩니다.\n",
    "    \n",
    "최적화된 해(x, y)를 빨간 점으로 표시하여 그래프에 시각적으로 나타냅니다."
   ]
  },
  {
   "cell_type": "markdown",
   "id": "07f0dfb1-af8f-4cc8-bbde-94b0ef5297b1",
   "metadata": {},
   "source": [
    "결과 해석:\n",
    "\n",
    "최적화 결과로 출력된 x와 y의 값은 제약 조건(x + y = 10)을 만족하면서, 두 값의 곱을 최대화하는 조합입니다.\n",
    "\n",
    "그래프에서 파란색 선은 x와 y가 가질 수 있는 값들의 제약 조건을 나타내며, \n",
    "\n",
    "빨간 점은 이 제약 조건 내에서 목적 함수의 값을 최대화하는 최적의 해를 나타냅니다.\n",
    "    \n",
    "예를 들어, x와 y의 최적값이 [5, 5]라면, 이는 x * y가 최대가 되는 상황을 나타냅니다."
   ]
  },
  {
   "cell_type": "markdown",
   "id": "3df2c4c2",
   "metadata": {},
   "source": [
    "## 선형계획법 (LP)"
   ]
  },
  {
   "cell_type": "markdown",
   "id": "b47b14b7-d6b8-42f8-b49a-059ad92c16c1",
   "metadata": {},
   "source": [
    "### CVXPY 라이브러리를 사용"
   ]
  },
  {
   "cell_type": "code",
   "execution_count": null,
   "id": "19d67c91-06ec-427c-b0ff-ce9c4955cad0",
   "metadata": {},
   "outputs": [],
   "source": [
    "# 1. 라이브러리 임포트\n",
    "# import cvxpy as cp\n",
    "# cvxpy는 파이썬을 사용해 최적화 문제를 간단히 정의하고 해결할 수 있도록 도와주는 라이브러리입니다."
   ]
  },
  {
   "cell_type": "code",
   "execution_count": null,
   "id": "1fc4e154-4d77-4f4f-b53b-ce901d25b193",
   "metadata": {},
   "outputs": [],
   "source": [
    "# 2. 변수 정의\n",
    "# x = cp.Variable()\n",
    "# y = cp.Variable()\n",
    "# 최적화할 변수 x와 y를 정의합니다.\n",
    "# 이 변수들은 실수 값을 가지는 최적화 변수로 사용됩니다."
   ]
  },
  {
   "cell_type": "code",
   "execution_count": null,
   "id": "463fa64b-1685-453b-84c6-e69289193ac5",
   "metadata": {},
   "outputs": [],
   "source": [
    "# 3. 목적 함수 정의\n",
    "# objective = cp.Maximize(x + 2 * y)\n",
    "# 목적 함수는 x + 2 * y입니다.\n",
    "# 여기서는 Maximize를 사용하여 이 값을 최대화하려고 합니다."
   ]
  },
  {
   "cell_type": "code",
   "execution_count": null,
   "id": "1648f703-1f25-4bde-9231-46e4a686e570",
   "metadata": {},
   "outputs": [],
   "source": [
    "# 4. 제약 조건 정의\n",
    "# 총 4개의 제약 조건이 있습니다:\n",
    "# x + y <= 10: x와 y의 합이 10 이하입니다.\n",
    "# x - y >= 3: x에서 y를 뺀 값이 3 이상입니다.\n",
    "# x >= 0: x는 0 이상이어야 합니다.\n",
    "# y >= 0: y는 0 이상이어야 합니다.\n",
    "# 이러한 제약 조건들은 최적화를 할 때 반드시 만족해야 합니다."
   ]
  },
  {
   "cell_type": "code",
   "execution_count": null,
   "id": "72b6635b-4e8f-4d0d-953c-5d5bf09d3dbd",
   "metadata": {},
   "outputs": [],
   "source": [
    "# 5. 문제 정의\n",
    "# problem = cp.Problem(objective, constraints)\n",
    "# 최적화 문제를 정의합니다.\n",
    "# objective와 constraints를 사용하여 최적화 문제를 설정합니다."
   ]
  },
  {
   "cell_type": "code",
   "execution_count": null,
   "id": "b6e89d0f-0aba-4ff7-948d-c9fda6f1b6af",
   "metadata": {},
   "outputs": [],
   "source": [
    "# 6. 최적화 문제 해결\n",
    "# solution = problem.solve(solver=cp.ECOS)\n",
    "# solve() 함수를 사용해 최적화 문제를 해결합니다.\n",
    "# 여기서 solver=cp.ECOS를 명시적으로 지정하여 ECOS라는 솔버를 사용합니다.\n",
    "# CVXPY는 여러 가지 솔버를 지원하며, ECOS는 특히 선형 및 콘벡스 문제를 잘 해결합니다."
   ]
  },
  {
   "cell_type": "code",
   "execution_count": null,
   "id": "0728bdc9-934b-44c8-8d06-ca58fb417463",
   "metadata": {},
   "outputs": [],
   "source": [
    "# 7. 결과 출력\n",
    "# print(f'Optimal value of x: {x.value}')\n",
    "# print(f'Optimal value of y: {y.value}')\n",
    "# print(f'Optimal objective value: {solution}')\n",
    "# 최적화된 x와 y의 값을 출력합니다.\n",
    "# 최적화된 목적 함수의 값도 함께 출력합니다."
   ]
  },
  {
   "cell_type": "code",
   "execution_count": 3,
   "id": "3c7718d3-d2ee-48db-9475-82dd6e611e6b",
   "metadata": {},
   "outputs": [
    {
     "name": "stdout",
     "output_type": "stream",
     "text": [
      "Optimal value of x: 6.500000006288766\n",
      "Optimal value of y: 3.4999999888260125\n",
      "Optimal objective value: 13.499999983940791\n"
     ]
    }
   ],
   "source": [
    "import cvxpy as cp\n",
    "\n",
    "# 변수 정의\n",
    "x = cp.Variable()\n",
    "y = cp.Variable()\n",
    "\n",
    "# 목적 함수 정의 (최대화 문제이므로 -1을 곱해 최소화로 변환)\n",
    "objective = cp.Maximize(x + 2 * y)\n",
    "\n",
    "# 제약 조건 정의\n",
    "constraints = [\n",
    "    x + y <= 10,\n",
    "    x - y >= 3,\n",
    "    x >= 0,\n",
    "    y >= 0\n",
    "]\n",
    "\n",
    "# 문제 정의\n",
    "problem = cp.Problem(objective, constraints)\n",
    "\n",
    "# 최적화 문제 해결 (ECOS solver 명시적으로 사용)\n",
    "solution = problem.solve(solver=cp.ECOS)\n",
    "\n",
    "# 결과 출력\n",
    "print(f'Optimal value of x: {x.value}')\n",
    "print(f'Optimal value of y: {y.value}')\n",
    "print(f'Optimal objective value: {solution}')\n"
   ]
  },
  {
   "cell_type": "markdown",
   "id": "a0431fa0-0650-46d6-aa36-eca30559474f",
   "metadata": {},
   "source": [
    "결과 해석\n",
    "\n",
    "이 코드는 주어진 제약 조건을 만족하면서 x + 2*y의 값을 최대화하는 최적의 x와 y 값을 찾습니다.\n",
    "    \n",
    "최적화된 값이 출력되면, 이는 해당 제약 조건 내에서 목적 함수의 최대값을 나타냅니다."
   ]
  },
  {
   "cell_type": "code",
   "execution_count": null,
   "id": "7c386e36-a32d-462d-be97-5c3bd8670117",
   "metadata": {},
   "outputs": [],
   "source": []
  },
  {
   "cell_type": "code",
   "execution_count": 5,
   "id": "7fd1fe6f",
   "metadata": {},
   "outputs": [],
   "source": [
    "import numpy as np\n",
    "import scipy as sp"
   ]
  },
  {
   "cell_type": "code",
   "execution_count": 6,
   "id": "93c1c7a7",
   "metadata": {},
   "outputs": [
    {
     "data": {
      "text/plain": [
       "     con: array([], dtype=float64)\n",
       "     fun: -1399.999994807385\n",
       " message: 'Optimization terminated successfully.'\n",
       "     nit: 6\n",
       "   slack: array([1.99999991e+02, 4.19920389e-06, 3.31137016e-07, 8.10000001e+03])\n",
       "  status: 0\n",
       " success: True\n",
       "       x: array([299.99999127, 100.0000042 ])"
      ]
     },
     "execution_count": 6,
     "metadata": {},
     "output_type": "execute_result"
    }
   ],
   "source": [
    "import scipy.optimize\n",
    "\n",
    "A = np.array([[-1, 0], [0, -1], [1, 2], [4, 5]])\n",
    "b = np.array([-100, -100, 500, 9800])\n",
    "c = np.array([-3, -5])\n",
    "\n",
    "result = sp.optimize.linprog(c, A, b)\n",
    "result"
   ]
  },
  {
   "cell_type": "code",
   "execution_count": 9,
   "id": "5da3d6b4",
   "metadata": {},
   "outputs": [
    {
     "name": "stdout",
     "output_type": "stream",
     "text": [
      "상태: optimal\n",
      "최적값: 299.99999911572195 100.00000058337798\n"
     ]
    },
    {
     "name": "stderr",
     "output_type": "stream",
     "text": [
      "c:\\users\\jyb\\appdata\\local\\programs\\python\\python39\\lib\\site-packages\\cvxpy\\reductions\\solvers\\solving_chain.py:336: FutureWarning: \n",
      "    Your problem is being solved with the ECOS solver by default. Starting in \n",
      "    CVXPY 1.5.0, Clarabel will be used as the default solver instead. To continue \n",
      "    using ECOS, specify the ECOS solver explicitly using the ``solver=cp.ECOS`` \n",
      "    argument to the ``problem.solve`` method.\n",
      "    \n",
      "  warnings.warn(ECOS_DEPRECATION_MSG, FutureWarning)\n"
     ]
    }
   ],
   "source": [
    "import cvxpy as cp\n",
    "\n",
    "# 변수의 정의\n",
    "a = cp.Variable()  # A의 생산량\n",
    "b = cp.Variable()  # B의 생산량\n",
    "\n",
    "# 조건의 정의\n",
    "constraints = [\n",
    "    a >= 100,  # A를 100개 이상 생산해야 한다.\n",
    "    b >= 100,  # B를 100개 이상 생산해야 한다. \n",
    "    a + 2 * b <= 500, # 500시간 내에 생산해야 한다.\n",
    "    4 * a + 5 * b <= 9800,  # 부품이 9800개 밖에 없다.\n",
    "]\n",
    "\n",
    "# 문제의 정의\n",
    "obj = cp.Maximize(3 * a + 5 * b)\n",
    "prob = cp.Problem(obj, constraints)\n",
    "\n",
    "# 계산\n",
    "prob.solve() \n",
    "\n",
    "# 결과\n",
    "print(\"상태:\", prob.status)\n",
    "print(\"최적값:\", a.value, b.value)"
   ]
  },
  {
   "cell_type": "code",
   "execution_count": 10,
   "id": "123e30da",
   "metadata": {},
   "outputs": [
    {
     "name": "stdout",
     "output_type": "stream",
     "text": [
      "Collecting pulpNote: you may need to restart the kernel to use updated packages.\n",
      "\n"
     ]
    },
    {
     "name": "stderr",
     "output_type": "stream",
     "text": [
      "WARNING: You are using pip version 22.0.4; however, version 23.3.2 is available.\n",
      "You should consider upgrading via the 'c:\\users\\jyb\\appdata\\local\\programs\\python\\python39\\python.exe -m pip install --upgrade pip' command.\n"
     ]
    },
    {
     "name": "stdout",
     "output_type": "stream",
     "text": [
      "  Downloading PuLP-2.7.0-py3-none-any.whl (14.3 MB)\n",
      "     ---------------------------------------- 14.3/14.3 MB 5.7 MB/s eta 0:00:00\n",
      "Installing collected packages: pulp\n",
      "Successfully installed pulp-2.7.0\n"
     ]
    }
   ],
   "source": [
    "pip install pulp\n"
   ]
  },
  {
   "cell_type": "code",
   "execution_count": null,
   "id": "48ead86f",
   "metadata": {},
   "outputs": [],
   "source": [
    "# LpProblem을 사용하여 선형 최적화 문제를 정의하고, LpVariable을 사용하여 변수를 생성하고, \n",
    "# prob += ...를 사용하여 목적 함수와 제약 조건을 추가하고, prob.solve()를 호출하여 문제를 해결 \n",
    "# 마지막으로, 최적해와 최적 목적 함수 값을 출력"
   ]
  },
  {
   "cell_type": "code",
   "execution_count": 11,
   "id": "df87c86a",
   "metadata": {},
   "outputs": [
    {
     "name": "stdout",
     "output_type": "stream",
     "text": [
      "Status: Optimal\n",
      "Optimal value for x: 10.0\n",
      "Optimal value for y: 1.0000889e-12\n",
      "Optimal objective value: 30.000000000002\n"
     ]
    }
   ],
   "source": [
    "from pulp import *\n",
    "\n",
    "# 문제 생성\n",
    "prob = LpProblem(\"My_LP_Problem\", LpMaximize)\n",
    "\n",
    "# 변수 생성\n",
    "x = LpVariable(\"x\", lowBound=0)  # x는 0 이상의 실수\n",
    "y = LpVariable(\"y\", lowBound=0)  # y는 0 이상의 실수\n",
    "\n",
    "# 목적 함수 추가\n",
    "prob += 3 * x + 2 * y, \"Objective\"\n",
    "\n",
    "# 제약 조건 추가\n",
    "prob += 2 * x + y <= 20, \"Constraint 1\"\n",
    "prob += 4 * x - 5 * y >= -10, \"Constraint 2\"\n",
    "prob += x + 2 * y <= 10, \"Constraint 3\"\n",
    "\n",
    "# 문제 풀기\n",
    "prob.solve()\n",
    "\n",
    "# 최적해 출력\n",
    "print(\"Status:\", LpStatus[prob.status])\n",
    "print(\"Optimal value for x:\", value(x))\n",
    "print(\"Optimal value for y:\", value(y))\n",
    "print(\"Optimal objective value:\", value(prob.objective))\n"
   ]
  },
  {
   "cell_type": "code",
   "execution_count": null,
   "id": "3fb23d91",
   "metadata": {},
   "outputs": [],
   "source": []
  },
  {
   "cell_type": "markdown",
   "id": "39cf8277",
   "metadata": {},
   "source": [
    "## 이차계획법"
   ]
  },
  {
   "cell_type": "code",
   "execution_count": null,
   "id": "990684b1",
   "metadata": {},
   "outputs": [],
   "source": [
    "# CvxOpt를 이용한 이차계획법 문제 계산¶\n",
    "# CvxOpt를 쓸 때는 NumPy의 ndarray 배열을 CvxOpt 전용의 matrix 자료형으로 변화해야 함. \n",
    "# 또 정수 자료형을 사용하지 못하므로 항상 부동소수점 실수가 되도록 명시해야 한다."
   ]
  },
  {
   "cell_type": "code",
   "execution_count": 1,
   "id": "3a56b9f8",
   "metadata": {},
   "outputs": [
    {
     "name": "stdout",
     "output_type": "stream",
     "text": [
      "Collecting cvxopt\n",
      "  Downloading cvxopt-1.3.2-cp39-cp39-win_amd64.whl (12.8 MB)\n",
      "     ---------------------------------------- 12.8/12.8 MB 4.5 MB/s eta 0:00:00\n",
      "Installing collected packages: cvxopt\n",
      "Successfully installed cvxopt-1.3.2\n",
      "Note: you may need to restart the kernel to use updated packages.\n"
     ]
    },
    {
     "name": "stderr",
     "output_type": "stream",
     "text": [
      "WARNING: You are using pip version 22.0.4; however, version 23.3.2 is available.\n",
      "You should consider upgrading via the 'c:\\users\\jyb\\appdata\\local\\programs\\python\\python39\\python.exe -m pip install --upgrade pip' command.\n"
     ]
    }
   ],
   "source": [
    "pip install cvxopt"
   ]
  },
  {
   "cell_type": "code",
   "execution_count": 3,
   "id": "24490bf5",
   "metadata": {},
   "outputs": [
    {
     "data": {
      "text/plain": [
       "array([[0.5],\n",
       "       [0.5]])"
      ]
     },
     "execution_count": 3,
     "metadata": {},
     "output_type": "execute_result"
    }
   ],
   "source": [
    "import numpy as np\n",
    "import scipy as sp\n",
    "\n",
    "from cvxopt import matrix, solvers\n",
    "\n",
    "Q = matrix(np.diag([2.0, 2.0]))\n",
    "c = matrix(np.array([0.0, 0.0]))\n",
    "A = matrix(np.array([[1.0, 1.0]]))\n",
    "b = matrix(np.array([[1.0]]))\n",
    "\n",
    "sol = solvers.qp(Q, c, A=A, b=b)\n",
    "np.array(sol['x'])"
   ]
  },
  {
   "cell_type": "code",
   "execution_count": null,
   "id": "ca865a7f",
   "metadata": {},
   "outputs": [],
   "source": []
  }
 ],
 "metadata": {
  "kernelspec": {
   "display_name": "Python 3 (ipykernel)",
   "language": "python",
   "name": "python3"
  },
  "language_info": {
   "codemirror_mode": {
    "name": "ipython",
    "version": 3
   },
   "file_extension": ".py",
   "mimetype": "text/x-python",
   "name": "python",
   "nbconvert_exporter": "python",
   "pygments_lexer": "ipython3",
   "version": "3.9.11"
  },
  "toc": {
   "base_numbering": 1,
   "nav_menu": {},
   "number_sections": true,
   "sideBar": true,
   "skip_h1_title": false,
   "title_cell": "Table of Contents",
   "title_sidebar": "Contents",
   "toc_cell": false,
   "toc_position": {},
   "toc_section_display": true,
   "toc_window_display": false
  }
 },
 "nbformat": 4,
 "nbformat_minor": 5
}
