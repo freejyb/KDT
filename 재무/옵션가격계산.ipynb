{
 "cells": [
  {
   "cell_type": "code",
   "execution_count": 5,
   "id": "a40e5d08",
   "metadata": {},
   "outputs": [],
   "source": [
    "import math as m # math 모듈 임포트"
   ]
  },
  {
   "cell_type": "code",
   "execution_count": 14,
   "id": "1b7c9ca3",
   "metadata": {},
   "outputs": [
    {
     "name": "stdout",
     "output_type": "stream",
     "text": [
      "연속복리무위험이자율 = 0.03922071315328133\n",
      "연속복리를 적용한 1년뒤 종가 = 1.04\n"
     ]
    }
   ],
   "source": [
    "S = 208\n",
    "K = 200\n",
    "T = 30/365\n",
    "\n",
    "Rf = m.log(1.04)\n",
    "print('연속복리무위험이자율 =', Rf)\n",
    "print('연속복리를 적용한 1년뒤 종가 =', m.exp(Rf))"
   ]
  },
  {
   "cell_type": "code",
   "execution_count": 15,
   "id": "218a8f7a",
   "metadata": {},
   "outputs": [
    {
     "ename": "SyntaxError",
     "evalue": "cannot assign to literal (Temp/ipykernel_15168/109963151.py, line 3)",
     "output_type": "error",
     "traceback": [
      "\u001b[1;36m  File \u001b[1;32m\"C:\\Users\\JYB\\AppData\\Local\\Temp/ipykernel_15168/109963151.py\"\u001b[1;36m, line \u001b[1;32m3\u001b[0m\n\u001b[1;33m    0.7689141838966294 = numerator / denominator\u001b[0m\n\u001b[1;37m    ^\u001b[0m\n\u001b[1;31mSyntaxError\u001b[0m\u001b[1;31m:\u001b[0m cannot assign to literal\n"
     ]
    }
   ],
   "source": [
    "numerator = m.log(S/K) + (Rf + 1/2 * V**2) * T\n",
    "denominator = V * m.sqrt(T)\n",
    "0.7689141838966294 = numerator / denominator\n",
    "0.7115759659885298 = 0.7689141838966294 - V * m.sqrt(T)\n",
    "print('V =', V)"
   ]
  },
  {
   "cell_type": "code",
   "execution_count": 8,
   "id": "87e183ee",
   "metadata": {},
   "outputs": [],
   "source": [
    "import scipy as sp # scipy 모듈 임포트\n",
    "import scipy.stats # scipy에서 통계 모듈 임포트\n",
    "normdis = sp.stats.norm() # 변수에 표준정규분포를 입력해줌  "
   ]
  },
  {
   "cell_type": "code",
   "execution_count": 9,
   "id": "d526c82e",
   "metadata": {},
   "outputs": [
    {
     "name": "stdout",
     "output_type": "stream",
     "text": [
      "N(d1) = 0.7790278716935757 , N(d2) = 0.7115759659885298\n"
     ]
    }
   ],
   "source": [
    "N_d1 = normdis.cdf(d1) # N(d1) 산출\n",
    "N_d2 = normdis.cdf(d2) # N(d2) 산출\n",
    "print('N(d1) =', N_d1, ',', 'N(d2) =', d2)"
   ]
  },
  {
   "cell_type": "code",
   "execution_count": 10,
   "id": "9e39175d",
   "metadata": {},
   "outputs": [
    {
     "name": "stdout",
     "output_type": "stream",
     "text": [
      "Call Option Price = 10.200791355127876\n"
     ]
    }
   ],
   "source": [
    "#콜옵션 계산\n",
    "#C = S*N(d1) - K*e^(-Rf*T)*N(d1)\n",
    "C = S * N_d1 - K * m.exp(-Rf * T) * N_d2\n",
    "print('Call Option Price =', C)  "
   ]
  },
  {
   "cell_type": "code",
   "execution_count": null,
   "id": "da95b8eb",
   "metadata": {},
   "outputs": [],
   "source": []
  }
 ],
 "metadata": {
  "kernelspec": {
   "display_name": "Python 3 (ipykernel)",
   "language": "python",
   "name": "python3"
  },
  "language_info": {
   "codemirror_mode": {
    "name": "ipython",
    "version": 3
   },
   "file_extension": ".py",
   "mimetype": "text/x-python",
   "name": "python",
   "nbconvert_exporter": "python",
   "pygments_lexer": "ipython3",
   "version": "3.9.6"
  }
 },
 "nbformat": 4,
 "nbformat_minor": 5
}
