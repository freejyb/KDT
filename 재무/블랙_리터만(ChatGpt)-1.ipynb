{
 "cells": [
  {
   "cell_type": "code",
   "execution_count": 1,
   "metadata": {},
   "outputs": [
    {
     "name": "stderr",
     "output_type": "stream",
     "text": [
      "C:\\Users\\JYB\\AppData\\Local\\Packages\\PythonSoftwareFoundation.Python.3.9_qbz5n2kfra8p0\\LocalCache\\local-packages\\Python39\\site-packages\\scipy\\__init__.py:146: UserWarning: A NumPy version >=1.17.3 and <1.25.0 is required for this version of SciPy (detected version 1.26.2\n",
      "  warnings.warn(f\"A NumPy version >={np_minversion} and <{np_maxversion}\"\n"
     ]
    },
    {
     "name": "stdout",
     "output_type": "stream",
     "text": [
      "최적 포트폴리오 비중:\n",
      "[ 5.27999288e-04 -2.00033072e-05 -9.80003773e-04]\n"
     ]
    }
   ],
   "source": [
    "import numpy as np\n",
    "from scipy.optimize import minimize\n",
    "\n",
    "def black_litterman(expected_market_returns, cov_matrix, tau, P, Q, omega):\n",
    "    \"\"\"\n",
    "    블랙-리터먼 자산배분 모델을 사용하여 최적 포트폴리오 비중을 계산하는 함수.\n",
    "\n",
    "    :param expected_market_returns: 시장의 기대 수익률\n",
    "    :param cov_matrix: 자산 수익률의 공분산 행렬\n",
    "    :param tau: 블랙-리터먼 모델의 튜닝 파라미터\n",
    "    :param P: 전망 행렬\n",
    "    :param Q: 전망 벡터\n",
    "    :param omega: 전망의 정확성을 나타내는 공분산 행렬\n",
    "    :return: 최적 포트폴리오 비중\n",
    "    \"\"\"\n",
    "    pi = tau * np.dot(np.dot(cov_matrix, expected_market_returns), np.linalg.inv(tau * np.dot(np.dot(P.T, np.linalg.inv(omega)), P) + cov_matrix))\n",
    "    m_inverse = np.linalg.inv(tau * np.dot(np.dot(P.T, np.linalg.inv(omega)), P) + cov_matrix)\n",
    "    omega_inverse = np.linalg.inv(omega)\n",
    "    theta = np.dot(m_inverse, np.dot(P.T, np.dot(omega_inverse, Q)))\n",
    "\n",
    "    optimal_weights = pi + np.dot(cov_matrix, theta)\n",
    "    return optimal_weights\n",
    "\n",
    "# 사용 예시\n",
    "# 시장의 기대 수익률, 자산 수익률의 공분산 행렬 등은 실제 데이터에 맞게 수정해야 합니다.\n",
    "expected_market_returns = np.array([0.05, 0.03, 0.04])\n",
    "cov_matrix = np.array([[0.001, -0.001, 0.0002],\n",
    "                      [-0.001, 0.004, -0.002],\n",
    "                      [0.0002, -0.002, 0.001]])\n",
    "\n",
    "# 블랙-리터먼 모델의 튜닝 파라미터, 전망 행렬, 전망 벡터, 전망의 정확성을 정의합니다.\n",
    "tau = 0.025\n",
    "P = np.array([[1, 0, 0], [0, 1, -1]])\n",
    "Q = np.array([0.02, 0.01])\n",
    "omega = np.array([[0.0001, 0], [0, 0.0001]])\n",
    "\n",
    "# 최적 포트폴리오 비중 계산\n",
    "optimal_weights = black_litterman(expected_market_returns, cov_matrix, tau, P, Q, omega)\n",
    "\n",
    "print(\"최적 포트폴리오 비중:\")\n",
    "print(optimal_weights)\n"
   ]
  }
 ],
 "metadata": {
  "kernelspec": {
   "display_name": "Python 3",
   "language": "python",
   "name": "python3"
  },
  "language_info": {
   "codemirror_mode": {
    "name": "ipython",
    "version": 3
   },
   "file_extension": ".py",
   "mimetype": "text/x-python",
   "name": "python",
   "nbconvert_exporter": "python",
   "pygments_lexer": "ipython3",
   "version": "3.9.13"
  },
  "orig_nbformat": 4,
  "vscode": {
   "interpreter": {
    "hash": "c686c03cf9cc3a675f1b0c2b58ad88b1ad3dfb8f85acd7ad289a4f0c29263720"
   }
  }
 },
 "nbformat": 4,
 "nbformat_minor": 2
}
