{
 "cells": [
  {
   "cell_type": "markdown",
   "id": "3873089b",
   "metadata": {},
   "source": [
    "## Duration"
   ]
  },
  {
   "cell_type": "code",
   "execution_count": null,
   "id": "0112b933",
   "metadata": {},
   "outputs": [],
   "source": [
    "# 듀레이션(Duration)은 채권의 가격 변동성에 대한 민감도를 나타내는 지표입니다. \n",
    "# 수정 듀레이션(Modified Duration)을 계산하기 위해서는 맥컬리 듀레이션(Macaulay Duration)을 먼저 계산해야 합니다."
   ]
  },
  {
   "cell_type": "code",
   "execution_count": null,
   "id": "82befa32",
   "metadata": {},
   "outputs": [],
   "source": [
    "# 주어진 채권의 매년 이자 지급액과 전체 기간 동안의 총 기간을 계산합니다.\n",
    "# 각 기간의 현금 흐름의 현재 가치를 계산하고, 각 현금 흐름의 가중치를 계산하여 맥컬리 듀레이션을 구합니다.\n",
    "# 수정 듀레이션을 계산합니다."
   ]
  },
  {
   "cell_type": "markdown",
   "id": "c4ddf43e",
   "metadata": {},
   "source": [
    "### 표면이율 5%,  maturity = 3, ytm = 0.05 "
   ]
  },
  {
   "cell_type": "code",
   "execution_count": null,
   "id": "d91707bc",
   "metadata": {},
   "outputs": [],
   "source": [
    "# 만기 3년 표면이율 5%의 이표채(Coupon Bond)의 듀레이션을 계산하는 방법\n",
    "# 액면가 : 10000 , 채권수익률 : 5%"
   ]
  },
  {
   "cell_type": "code",
   "execution_count": 2,
   "id": "4c28465b",
   "metadata": {},
   "outputs": [
    {
     "name": "stdout",
     "output_type": "stream",
     "text": [
      "Macaulay Duration: 2.86 years\n",
      "Modified Duration: 2.72 years\n"
     ]
    }
   ],
   "source": [
    "def calculate_duration(face_value, coupon_rate, years_to_maturity, ytm, payments_per_year=1):\n",
    "    coupon_payment = face_value * coupon_rate / payments_per_year\n",
    "    periods = years_to_maturity * payments_per_year\n",
    "    discount_rate = ytm / payments_per_year\n",
    "\n",
    "    # Calculate Macaulay Duration\n",
    "    macaulay_duration = 0\n",
    "    pv_total = 0\n",
    "    for t in range(1, periods + 1):\n",
    "        cash_flow = coupon_payment if t < periods else coupon_payment + face_value\n",
    "        pv_cash_flow = cash_flow / (1 + discount_rate) ** t\n",
    "        macaulay_duration += t * pv_cash_flow\n",
    "        pv_total += pv_cash_flow\n",
    "\n",
    "    macaulay_duration /= pv_total\n",
    "\n",
    "    # Calculate Modified Duration\n",
    "    modified_duration = macaulay_duration / (1 + discount_rate)\n",
    "    \n",
    "    return macaulay_duration, modified_duration\n",
    "\n",
    "# Parameters\n",
    "face_value = 1000  # 액면가\n",
    "coupon_rate = 0.05  # 표면 이율\n",
    "years_to_maturity = 3  # 만기 기간\n",
    "ytm = 0.05  # 만기 수익률\n",
    "\n",
    "macaulay_duration, modified_duration = calculate_duration(face_value, coupon_rate, years_to_maturity, ytm)\n",
    "\n",
    "print(f\"Macaulay Duration: {macaulay_duration:.2f} years\")\n",
    "print(f\"Modified Duration: {modified_duration:.2f} years\")\n"
   ]
  },
  {
   "cell_type": "markdown",
   "id": "13f469ca",
   "metadata": {},
   "source": [
    "### 표면이율 7% maturity = 3, ytm = 0.05 "
   ]
  },
  {
   "cell_type": "code",
   "execution_count": 3,
   "id": "3d961705",
   "metadata": {},
   "outputs": [
    {
     "name": "stdout",
     "output_type": "stream",
     "text": [
      "Macaulay Duration: 2.81 years\n",
      "Modified Duration: 2.68 years\n"
     ]
    }
   ],
   "source": [
    "def calculate_duration(face_value, coupon_rate, years_to_maturity, ytm, payments_per_year=1):\n",
    "    coupon_payment = face_value * coupon_rate / payments_per_year\n",
    "    periods = years_to_maturity * payments_per_year\n",
    "    discount_rate = ytm / payments_per_year\n",
    "\n",
    "    # Calculate Macaulay Duration\n",
    "    macaulay_duration = 0\n",
    "    pv_total = 0\n",
    "    for t in range(1, periods + 1):\n",
    "        cash_flow = coupon_payment if t < periods else coupon_payment + face_value\n",
    "        pv_cash_flow = cash_flow / (1 + discount_rate) ** t\n",
    "        macaulay_duration += t * pv_cash_flow\n",
    "        pv_total += pv_cash_flow\n",
    "\n",
    "    macaulay_duration /= pv_total\n",
    "\n",
    "    # Calculate Modified Duration\n",
    "    modified_duration = macaulay_duration / (1 + discount_rate)\n",
    "    \n",
    "    return macaulay_duration, modified_duration\n",
    "\n",
    "# Parameters\n",
    "face_value = 1000  # 액면가\n",
    "coupon_rate = 0.07  # 표면 이율\n",
    "years_to_maturity = 3  # 만기 기간\n",
    "ytm = 0.05  # 만기 수익률\n",
    "\n",
    "macaulay_duration, modified_duration = calculate_duration(face_value, coupon_rate, years_to_maturity, ytm)\n",
    "\n",
    "print(f\"Macaulay Duration: {macaulay_duration:.2f} years\")\n",
    "print(f\"Modified Duration: {modified_duration:.2f} years\")"
   ]
  },
  {
   "cell_type": "markdown",
   "id": "3c286617",
   "metadata": {},
   "source": [
    "### 표면이율 7%, maturity = 5, ytm = 0.05"
   ]
  },
  {
   "cell_type": "code",
   "execution_count": 4,
   "id": "9b900b87",
   "metadata": {},
   "outputs": [
    {
     "name": "stdout",
     "output_type": "stream",
     "text": [
      "Macaulay Duration: 4.41 years\n",
      "Modified Duration: 4.20 years\n"
     ]
    }
   ],
   "source": [
    "def calculate_duration(face_value, coupon_rate, years_to_maturity, ytm, payments_per_year=1):\n",
    "    coupon_payment = face_value * coupon_rate / payments_per_year\n",
    "    periods = years_to_maturity * payments_per_year\n",
    "    discount_rate = ytm / payments_per_year\n",
    "\n",
    "    # Calculate Macaulay Duration\n",
    "    macaulay_duration = 0\n",
    "    pv_total = 0\n",
    "    for t in range(1, periods + 1):\n",
    "        cash_flow = coupon_payment if t < periods else coupon_payment + face_value\n",
    "        pv_cash_flow = cash_flow / (1 + discount_rate) ** t\n",
    "        macaulay_duration += t * pv_cash_flow\n",
    "        pv_total += pv_cash_flow\n",
    "\n",
    "    macaulay_duration /= pv_total\n",
    "\n",
    "    # Calculate Modified Duration\n",
    "    modified_duration = macaulay_duration / (1 + discount_rate)\n",
    "    \n",
    "    return macaulay_duration, modified_duration\n",
    "\n",
    "# Parameters\n",
    "face_value = 1000  # 액면가\n",
    "coupon_rate = 0.07  # 표면 이율\n",
    "years_to_maturity = 5  # 만기 기간\n",
    "ytm = 0.05  # 만기 수익률\n",
    "\n",
    "macaulay_duration, modified_duration = calculate_duration(face_value, coupon_rate, years_to_maturity, ytm)\n",
    "\n",
    "print(f\"Macaulay Duration: {macaulay_duration:.2f} years\")\n",
    "print(f\"Modified Duration: {modified_duration:.2f} years\")"
   ]
  },
  {
   "cell_type": "markdown",
   "id": "327f7b67",
   "metadata": {},
   "source": [
    "### 표면이율 10%, maturity = 5, ytm = 0.05"
   ]
  },
  {
   "cell_type": "code",
   "execution_count": 5,
   "id": "6a9fb361",
   "metadata": {},
   "outputs": [
    {
     "name": "stdout",
     "output_type": "stream",
     "text": [
      "Macaulay Duration: 4.25 years\n",
      "Modified Duration: 4.05 years\n"
     ]
    }
   ],
   "source": [
    "def calculate_duration(face_value, coupon_rate, years_to_maturity, ytm, payments_per_year=1):\n",
    "    coupon_payment = face_value * coupon_rate / payments_per_year\n",
    "    periods = years_to_maturity * payments_per_year\n",
    "    discount_rate = ytm / payments_per_year\n",
    "\n",
    "    # Calculate Macaulay Duration\n",
    "    macaulay_duration = 0\n",
    "    pv_total = 0\n",
    "    for t in range(1, periods + 1):\n",
    "        cash_flow = coupon_payment if t < periods else coupon_payment + face_value\n",
    "        pv_cash_flow = cash_flow / (1 + discount_rate) ** t\n",
    "        macaulay_duration += t * pv_cash_flow\n",
    "        pv_total += pv_cash_flow\n",
    "\n",
    "    macaulay_duration /= pv_total\n",
    "\n",
    "    # Calculate Modified Duration\n",
    "    modified_duration = macaulay_duration / (1 + discount_rate)\n",
    "    \n",
    "    return macaulay_duration, modified_duration\n",
    "\n",
    "# Parameters\n",
    "face_value = 1000  # 액면가\n",
    "coupon_rate = 0.1  # 표면 이율\n",
    "years_to_maturity = 5  # 만기 기간\n",
    "ytm = 0.05  # 만기 수익률\n",
    "\n",
    "macaulay_duration, modified_duration = calculate_duration(face_value, coupon_rate, years_to_maturity, ytm)\n",
    "\n",
    "print(f\"Macaulay Duration: {macaulay_duration:.2f} years\")\n",
    "print(f\"Modified Duration: {modified_duration:.2f} years\")"
   ]
  },
  {
   "cell_type": "markdown",
   "id": "437175fd",
   "metadata": {},
   "source": [
    "### 표면이율 10%, maturity = 5, ytm = 0.1"
   ]
  },
  {
   "cell_type": "code",
   "execution_count": 6,
   "id": "c40fe10e",
   "metadata": {},
   "outputs": [
    {
     "name": "stdout",
     "output_type": "stream",
     "text": [
      "Macaulay Duration: 4.17 years\n",
      "Modified Duration: 3.79 years\n"
     ]
    }
   ],
   "source": [
    "def calculate_duration(face_value, coupon_rate, years_to_maturity, ytm, payments_per_year=1):\n",
    "    coupon_payment = face_value * coupon_rate / payments_per_year\n",
    "    periods = years_to_maturity * payments_per_year\n",
    "    discount_rate = ytm / payments_per_year\n",
    "\n",
    "    # Calculate Macaulay Duration\n",
    "    macaulay_duration = 0\n",
    "    pv_total = 0\n",
    "    for t in range(1, periods + 1):\n",
    "        cash_flow = coupon_payment if t < periods else coupon_payment + face_value\n",
    "        pv_cash_flow = cash_flow / (1 + discount_rate) ** t\n",
    "        macaulay_duration += t * pv_cash_flow\n",
    "        pv_total += pv_cash_flow\n",
    "\n",
    "    macaulay_duration /= pv_total\n",
    "\n",
    "    # Calculate Modified Duration\n",
    "    modified_duration = macaulay_duration / (1 + discount_rate)\n",
    "    \n",
    "    return macaulay_duration, modified_duration\n",
    "\n",
    "# Parameters\n",
    "face_value = 1000  # 액면가\n",
    "coupon_rate = 0.1  # 표면 이율\n",
    "years_to_maturity = 5  # 만기 기간\n",
    "ytm = 0.1  # 만기 수익률\n",
    "\n",
    "macaulay_duration, modified_duration = calculate_duration(face_value, coupon_rate, years_to_maturity, ytm)\n",
    "\n",
    "print(f\"Macaulay Duration: {macaulay_duration:.2f} years\")\n",
    "print(f\"Modified Duration: {modified_duration:.2f} years\")"
   ]
  },
  {
   "cell_type": "code",
   "execution_count": null,
   "id": "ef5f092b",
   "metadata": {},
   "outputs": [],
   "source": []
  },
  {
   "cell_type": "markdown",
   "id": "c6f82a27",
   "metadata": {},
   "source": [
    "## 영구채(Petpetual bond)의 듀레이션(Duration)"
   ]
  },
  {
   "cell_type": "code",
   "execution_count": null,
   "id": "e5a6d864",
   "metadata": {},
   "outputs": [],
   "source": [
    "# 영구채가 만기가 없고 일정한 이자를 영구적으로 지급하기 때문입니다. 영구채의 듀레이션은 다음과 같이 계산할 수 있습니다:\n",
    "\n",
    "# 영구채 듀레이션 = (1+ 수익률 (Yield)) / y"
   ]
  },
  {
   "cell_type": "code",
   "execution_count": null,
   "id": "da54d311",
   "metadata": {},
   "outputs": [],
   "source": [
    "# y=수익률 = 5%"
   ]
  },
  {
   "cell_type": "code",
   "execution_count": 7,
   "id": "5c1d85de",
   "metadata": {},
   "outputs": [
    {
     "name": "stdout",
     "output_type": "stream",
     "text": [
      "영구채의 듀레이션: 420.00년\n"
     ]
    }
   ],
   "source": [
    "def calculate_perpetual_bond_duration(yield_rate):\n",
    "    \"\"\"\n",
    "    영구채의 듀레이션을 계산하는 함수.\n",
    "\n",
    "    :param yield_rate: 수익률 (Yield rate)\n",
    "    :return: 듀레이션 (Duration)\n",
    "    \"\"\"\n",
    "    duration = (1 + 1 / yield_rate) / yield_rate\n",
    "    return duration\n",
    "\n",
    "# 예제 파라미터\n",
    "yield_rate = 0.05  # 수익률 (예: 5%)\n",
    "\n",
    "# 듀레이션 계산\n",
    "duration = calculate_perpetual_bond_duration(yield_rate)\n",
    "print(f\"영구채의 듀레이션: {duration:.2f}년\")\n"
   ]
  },
  {
   "cell_type": "code",
   "execution_count": null,
   "id": "72439abc",
   "metadata": {},
   "outputs": [],
   "source": [
    "# y=수익률 = 10%"
   ]
  },
  {
   "cell_type": "code",
   "execution_count": 8,
   "id": "b19841fd",
   "metadata": {},
   "outputs": [
    {
     "name": "stdout",
     "output_type": "stream",
     "text": [
      "영구채의 듀레이션: 110.00년\n"
     ]
    }
   ],
   "source": [
    "def calculate_perpetual_bond_duration(yield_rate):\n",
    "    \"\"\"\n",
    "    영구채의 듀레이션을 계산하는 함수.\n",
    "\n",
    "    :param yield_rate: 수익률 (Yield rate)\n",
    "    :return: 듀레이션 (Duration)\n",
    "    \"\"\"\n",
    "    duration = (1 + 1 / yield_rate) / yield_rate\n",
    "    return duration\n",
    "\n",
    "# 예제 파라미터\n",
    "yield_rate = 0.1  # 수익률 (예: 5%)\n",
    "\n",
    "# 듀레이션 계산\n",
    "duration = calculate_perpetual_bond_duration(yield_rate)\n",
    "print(f\"영구채의 듀레이션: {duration:.2f}년\")\n"
   ]
  },
  {
   "cell_type": "code",
   "execution_count": null,
   "id": "f41c4ed6",
   "metadata": {},
   "outputs": [],
   "source": []
  }
 ],
 "metadata": {
  "kernelspec": {
   "display_name": "Python 3 (ipykernel)",
   "language": "python",
   "name": "python3"
  },
  "language_info": {
   "codemirror_mode": {
    "name": "ipython",
    "version": 3
   },
   "file_extension": ".py",
   "mimetype": "text/x-python",
   "name": "python",
   "nbconvert_exporter": "python",
   "pygments_lexer": "ipython3",
   "version": "3.9.11"
  },
  "toc": {
   "base_numbering": 1,
   "nav_menu": {},
   "number_sections": true,
   "sideBar": true,
   "skip_h1_title": false,
   "title_cell": "Table of Contents",
   "title_sidebar": "Contents",
   "toc_cell": false,
   "toc_position": {},
   "toc_section_display": true,
   "toc_window_display": false
  }
 },
 "nbformat": 4,
 "nbformat_minor": 5
}
