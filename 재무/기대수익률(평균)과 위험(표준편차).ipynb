{
 "cells": [
  {
   "cell_type": "markdown",
   "id": "913b5f61",
   "metadata": {},
   "source": [
    "# 기대수익과 위험"
   ]
  },
  {
   "cell_type": "markdown",
   "id": "97bde8b1",
   "metadata": {},
   "source": [
    "## 삼성전자 수익률과 하이닉스"
   ]
  },
  {
   "cell_type": "markdown",
   "id": "555d42e9",
   "metadata": {},
   "source": [
    "### 일간수익률 이용"
   ]
  },
  {
   "cell_type": "code",
   "execution_count": 1,
   "id": "b981f659",
   "metadata": {},
   "outputs": [
    {
     "name": "stdout",
     "output_type": "stream",
     "text": [
      "Samsung Electronics data loaded successfully.\n",
      "SK Hynix data loaded successfully.\n",
      "Samsung Electronics 2023 Mean Return: 0.0015\n",
      "Samsung Electronics 2023 Standard Deviation: 0.0133\n",
      "SK Hynix 2023 Mean Return: 0.0028\n",
      "SK Hynix 2023 Standard Deviation: 0.0221\n"
     ]
    }
   ],
   "source": [
    "import pandas as pd\n",
    "import numpy as np\n",
    "from pykrx import stock\n",
    "\n",
    "# 주식 데이터 다운로드 함수 (pykrx 사용)\n",
    "def download_stock_data(ticker, start_date, end_date):\n",
    "    df = stock.get_market_ohlcv_by_date(start_date, end_date, ticker)\n",
    "    df['Return'] = df['종가'].pct_change()\n",
    "    return df.dropna()\n",
    "\n",
    "# 날짜 설정\n",
    "start_date = \"20230101\"\n",
    "end_date = \"20231231\"\n",
    "\n",
    "# 삼성전자 데이터 다운로드\n",
    "try:\n",
    "    samsung_df = download_stock_data(\"005930\", start_date, end_date)\n",
    "    print(\"Samsung Electronics data loaded successfully.\")\n",
    "except Exception as e:\n",
    "    print(f\"Error downloading Samsung Electronics data: {e}\")\n",
    "\n",
    "# SK하이닉스 데이터 다운로드\n",
    "try:\n",
    "    skhynix_df = download_stock_data(\"000660\", start_date, end_date)\n",
    "    print(\"SK Hynix data loaded successfully.\")\n",
    "except Exception as e:\n",
    "    print(f\"Error downloading SK Hynix data: {e}\")\n",
    "\n",
    "# 삼성전자와 SK하이닉스 수익률 계산\n",
    "samsung_returns = samsung_df['Return']\n",
    "skhynix_returns = skhynix_df['Return']\n",
    "\n",
    "# 평균과 표준편차 계산\n",
    "samsung_mean = samsung_returns.mean()\n",
    "samsung_std = samsung_returns.std()\n",
    "\n",
    "skhynix_mean = skhynix_returns.mean()\n",
    "skhynix_std = skhynix_returns.std()\n",
    "\n",
    "print(f\"Samsung Electronics 2023 Mean Return: {samsung_mean:.4f}\")\n",
    "print(f\"Samsung Electronics 2023 Standard Deviation: {samsung_std:.4f}\")\n",
    "print(f\"SK Hynix 2023 Mean Return: {skhynix_mean:.4f}\")\n",
    "print(f\"SK Hynix 2023 Standard Deviation: {skhynix_std:.4f}\")\n"
   ]
  },
  {
   "cell_type": "markdown",
   "id": "fdfcc024",
   "metadata": {},
   "source": [
    "### 연환산"
   ]
  },
  {
   "cell_type": "code",
   "execution_count": null,
   "id": "939d1bf3",
   "metadata": {},
   "outputs": [],
   "source": [
    "# pykrx 라이브러리를 사용하여 2023년 동안 삼성전자와 SK하이닉스의 주가 데이터를 다운로드하고 일간 수익률을 계산합니다.\n",
    "# 삼성전자와 SK하이닉스의 일간 수익률 평균과 표준편차를 계산합니다.\n",
    "# 일간 수익률 평균과 표준편차를 연환산된 평균 수익률과 표준편차로 변환합니다.\n",
    "# 계산된 연환산된 평균 수익률과 표준편차를 출력합니다."
   ]
  },
  {
   "cell_type": "code",
   "execution_count": 2,
   "id": "14692329",
   "metadata": {},
   "outputs": [
    {
     "name": "stdout",
     "output_type": "stream",
     "text": [
      "Samsung Electronics data loaded successfully.\n",
      "SK Hynix data loaded successfully.\n",
      "Samsung Electronics 2023 Annualized Mean Return: 0.3803\n",
      "Samsung Electronics 2023 Annualized Standard Deviation: 0.2108\n",
      "SK Hynix 2023 Annualized Mean Return: 0.7073\n",
      "SK Hynix 2023 Annualized Standard Deviation: 0.3509\n"
     ]
    }
   ],
   "source": [
    "import pandas as pd\n",
    "import numpy as np\n",
    "from pykrx import stock\n",
    "\n",
    "# 주식 데이터 다운로드 함수 (pykrx 사용)\n",
    "def download_stock_data(ticker, start_date, end_date):\n",
    "    df = stock.get_market_ohlcv_by_date(start_date, end_date, ticker)\n",
    "    df['Return'] = df['종가'].pct_change()\n",
    "    return df.dropna()\n",
    "\n",
    "# 날짜 설정\n",
    "start_date = \"20230101\"\n",
    "end_date = \"20231231\"\n",
    "\n",
    "# 삼성전자 데이터 다운로드\n",
    "try:\n",
    "    samsung_df = download_stock_data(\"005930\", start_date, end_date)\n",
    "    print(\"Samsung Electronics data loaded successfully.\")\n",
    "except Exception as e:\n",
    "    print(f\"Error downloading Samsung Electronics data: {e}\")\n",
    "\n",
    "# SK하이닉스 데이터 다운로드\n",
    "try:\n",
    "    skhynix_df = download_stock_data(\"000660\", start_date, end_date)\n",
    "    print(\"SK Hynix data loaded successfully.\")\n",
    "except Exception as e:\n",
    "    print(f\"Error downloading SK Hynix data: {e}\")\n",
    "\n",
    "# 삼성전자와 SK하이닉스 수익률 계산\n",
    "samsung_returns = samsung_df['Return']\n",
    "skhynix_returns = skhynix_df['Return']\n",
    "\n",
    "# 일간 평균과 표준편차 계산\n",
    "samsung_mean_daily = samsung_returns.mean()\n",
    "samsung_std_daily = samsung_returns.std()\n",
    "\n",
    "skhynix_mean_daily = skhynix_returns.mean()\n",
    "skhynix_std_daily = skhynix_returns.std()\n",
    "\n",
    "# 연환산 평균과 표준편차 계산\n",
    "samsung_mean_annual = samsung_mean_daily * 252\n",
    "samsung_std_annual = samsung_std_daily * np.sqrt(252)\n",
    "\n",
    "skhynix_mean_annual = skhynix_mean_daily * 252\n",
    "skhynix_std_annual = skhynix_std_daily * np.sqrt(252)\n",
    "\n",
    "print(f\"Samsung Electronics 2023 Annualized Mean Return: {samsung_mean_annual:.4f}\")\n",
    "print(f\"Samsung Electronics 2023 Annualized Standard Deviation: {samsung_std_annual:.4f}\")\n",
    "print(f\"SK Hynix 2023 Annualized Mean Return: {skhynix_mean_annual:.4f}\")\n",
    "print(f\"SK Hynix 2023 Annualized Standard Deviation: {skhynix_std_annual:.4f}\")\n"
   ]
  },
  {
   "cell_type": "code",
   "execution_count": null,
   "id": "b8becec1",
   "metadata": {},
   "outputs": [],
   "source": [
    "# 결과 해석 해 볼 것"
   ]
  },
  {
   "cell_type": "markdown",
   "id": "6702d56e",
   "metadata": {},
   "source": [
    "## KOSPI 수익률과 위험"
   ]
  },
  {
   "cell_type": "code",
   "execution_count": null,
   "id": "5c8e3ec9",
   "metadata": {},
   "outputs": [],
   "source": [
    "# pykrx 라이브러리를 사용하여 2023년 동안 삼성전자, SK하이닉스, KOSPI 지수의 주가 데이터를 다운로드하고 일간 수익률을 계산합니다.\n",
    "# 삼성전자, SK하이닉스, KOSPI 지수의 일간 수익률 평균과 표준편차를 계산합니다.\n",
    "# 일간 수익률 평균과 표준편차를 연환산된 평균 수익률과 표준편차로 변환합니다.\n",
    "# # 계산된 연환산된 평균 수익률과 표준편차를 출력합니다."
   ]
  },
  {
   "cell_type": "code",
   "execution_count": 3,
   "id": "543f4490",
   "metadata": {},
   "outputs": [
    {
     "name": "stdout",
     "output_type": "stream",
     "text": [
      "Samsung Electronics data loaded successfully.\n",
      "SK Hynix data loaded successfully.\n",
      "KOSPI data loaded successfully.\n",
      "Samsung Electronics 2023 Annualized Mean Return: 0.3803\n",
      "Samsung Electronics 2023 Annualized Standard Deviation: 0.2108\n",
      "SK Hynix 2023 Annualized Mean Return: 0.7073\n",
      "SK Hynix 2023 Annualized Standard Deviation: 0.3509\n",
      "KOSPI 2023 Annualized Mean Return: 0.1941\n",
      "KOSPI 2023 Annualized Standard Deviation: 0.1541\n"
     ]
    }
   ],
   "source": [
    "import pandas as pd\n",
    "import numpy as np\n",
    "from pykrx import stock\n",
    "\n",
    "# 주식 데이터 다운로드 함수 (pykrx 사용)\n",
    "def download_stock_data(ticker, start_date, end_date):\n",
    "    df = stock.get_market_ohlcv_by_date(start_date, end_date, ticker)\n",
    "    df['Return'] = df['종가'].pct_change()\n",
    "    return df.dropna()\n",
    "\n",
    "# KOSPI 데이터 다운로드 함수 (pykrx 사용)\n",
    "def download_index_data(index_code, start_date, end_date):\n",
    "    df = stock.get_index_ohlcv_by_date(start_date, end_date, index_code)\n",
    "    df['Return'] = df['종가'].pct_change()\n",
    "    return df.dropna()\n",
    "\n",
    "# 날짜 설정\n",
    "start_date = \"20230101\"\n",
    "end_date = \"20231231\"\n",
    "\n",
    "# 삼성전자 데이터 다운로드\n",
    "try:\n",
    "    samsung_df = download_stock_data(\"005930\", start_date, end_date)\n",
    "    print(\"Samsung Electronics data loaded successfully.\")\n",
    "except Exception as e:\n",
    "    print(f\"Error downloading Samsung Electronics data: {e}\")\n",
    "\n",
    "# SK하이닉스 데이터 다운로드\n",
    "try:\n",
    "    skhynix_df = download_stock_data(\"000660\", start_date, end_date)\n",
    "    print(\"SK Hynix data loaded successfully.\")\n",
    "except Exception as e:\n",
    "    print(f\"Error downloading SK Hynix data: {e}\")\n",
    "\n",
    "# KOSPI 데이터 다운로드\n",
    "try:\n",
    "    kospi_df = download_index_data(\"1001\", start_date, end_date)\n",
    "    print(\"KOSPI data loaded successfully.\")\n",
    "except Exception as e:\n",
    "    print(f\"Error downloading KOSPI data: {e}\")\n",
    "\n",
    "# 삼성전자, SK하이닉스, KOSPI 수익률 계산\n",
    "samsung_returns = samsung_df['Return']\n",
    "skhynix_returns = skhynix_df['Return']\n",
    "kospi_returns = kospi_df['Return']\n",
    "\n",
    "# 일간 평균과 표준편차 계산\n",
    "samsung_mean_daily = samsung_returns.mean()\n",
    "samsung_std_daily = samsung_returns.std()\n",
    "\n",
    "skhynix_mean_daily = skhynix_returns.mean()\n",
    "skhynix_std_daily = skhynix_returns.std()\n",
    "\n",
    "kospi_mean_daily = kospi_returns.mean()\n",
    "kospi_std_daily = kospi_returns.std()\n",
    "\n",
    "# 연환산 평균과 표준편차 계산\n",
    "samsung_mean_annual = samsung_mean_daily * 252\n",
    "samsung_std_annual = samsung_std_daily * np.sqrt(252)\n",
    "\n",
    "skhynix_mean_annual = skhynix_mean_daily * 252\n",
    "skhynix_std_annual = skhynix_std_daily * np.sqrt(252)\n",
    "\n",
    "kospi_mean_annual = kospi_mean_daily * 252\n",
    "kospi_std_annual = kospi_std_daily * np.sqrt(252)\n",
    "\n",
    "print(f\"Samsung Electronics 2023 Annualized Mean Return: {samsung_mean_annual:.4f}\")\n",
    "print(f\"Samsung Electronics 2023 Annualized Standard Deviation: {samsung_std_annual:.4f}\")\n",
    "print(f\"SK Hynix 2023 Annualized Mean Return: {skhynix_mean_annual:.4f}\")\n",
    "print(f\"SK Hynix 2023 Annualized Standard Deviation: {skhynix_std_annual:.4f}\")\n",
    "print(f\"KOSPI 2023 Annualized Mean Return: {kospi_mean_annual:.4f}\")\n",
    "print(f\"KOSPI 2023 Annualized Standard Deviation: {kospi_std_annual:.4f}\")\n"
   ]
  },
  {
   "cell_type": "code",
   "execution_count": null,
   "id": "c54f1777",
   "metadata": {},
   "outputs": [],
   "source": []
  },
  {
   "cell_type": "code",
   "execution_count": null,
   "id": "3dcfa1fa",
   "metadata": {},
   "outputs": [],
   "source": [
    "# 결과 해석 해볼 것"
   ]
  },
  {
   "cell_type": "code",
   "execution_count": null,
   "id": "80a48e8f",
   "metadata": {},
   "outputs": [],
   "source": []
  }
 ],
 "metadata": {
  "kernelspec": {
   "display_name": "Python 3 (ipykernel)",
   "language": "python",
   "name": "python3"
  },
  "language_info": {
   "codemirror_mode": {
    "name": "ipython",
    "version": 3
   },
   "file_extension": ".py",
   "mimetype": "text/x-python",
   "name": "python",
   "nbconvert_exporter": "python",
   "pygments_lexer": "ipython3",
   "version": "3.9.11"
  },
  "toc": {
   "base_numbering": 1,
   "nav_menu": {},
   "number_sections": true,
   "sideBar": true,
   "skip_h1_title": false,
   "title_cell": "Table of Contents",
   "title_sidebar": "Contents",
   "toc_cell": false,
   "toc_position": {},
   "toc_section_display": true,
   "toc_window_display": false
  }
 },
 "nbformat": 4,
 "nbformat_minor": 5
}
