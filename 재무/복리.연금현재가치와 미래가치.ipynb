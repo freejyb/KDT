{
 "cells": [
  {
   "cell_type": "markdown",
   "id": "01aec3be",
   "metadata": {},
   "source": [
    "# 복리수익률 과 단리수익률"
   ]
  },
  {
   "cell_type": "code",
   "execution_count": null,
   "id": "fde3bee4",
   "metadata": {},
   "outputs": [],
   "source": [
    "# 원금, 연이자율, 기간을 입력받습니다.\n",
    "# 복리 계산 공식을 사용하여 만기 금액을 계산합니다.\n",
    "# 계산된 만기 금액을 출력합니다."
   ]
  },
  {
   "cell_type": "markdown",
   "id": "8001c354",
   "metadata": {},
   "source": [
    "## 연복리 10% 2년만기 , 10% 이자율"
   ]
  },
  {
   "cell_type": "code",
   "execution_count": 10,
   "id": "3991a4aa",
   "metadata": {},
   "outputs": [
    {
     "name": "stdout",
     "output_type": "stream",
     "text": [
      "만기 시 받는 금액: 12100000.00원\n"
     ]
    }
   ],
   "source": [
    "def calculate_compound_interest(principal, rate, time, n=1):\n",
    "    \"\"\"\n",
    "    복리 계산 함수\n",
    "\n",
    "    :param principal: 원금 (Principal)\n",
    "    :param rate: 연이자율 (Annual interest rate)\n",
    "    :param time: 기간 (Time the money is invested for)\n",
    "    :param n: 이자가 복리로 적용되는 횟수 (Number of times interest applied per time period)\n",
    "    :return: 만기 시 받는 금액 (Amount)\n",
    "    \"\"\"\n",
    "    amount = principal * (1 + rate / n) ** (n * time)\n",
    "    return amount\n",
    "\n",
    "# 예제 파라미터\n",
    "principal = 10000000  # 원금 (10,000,000원)\n",
    "rate = 0.10  # 연이자율 (10%)\n",
    "time = 2  # 기간 (2년)\n",
    "\n",
    "# 만기 금액 계산\n",
    "final_amount = calculate_compound_interest(principal, rate, time)\n",
    "print(f\"만기 시 받는 금액: {final_amount:.2f}원\")\n"
   ]
  },
  {
   "cell_type": "markdown",
   "id": "63a81e4f",
   "metadata": {},
   "source": [
    "## 6개월 복리 10% 2년만기 , 10% 이자율"
   ]
  },
  {
   "cell_type": "code",
   "execution_count": null,
   "id": "6ec742a0",
   "metadata": {},
   "outputs": [],
   "source": [
    "# 복리 계산 공식에서 𝑛을 2로 설정해야 합니다."
   ]
  },
  {
   "cell_type": "code",
   "execution_count": 11,
   "id": "ad0ccbf7",
   "metadata": {},
   "outputs": [
    {
     "name": "stdout",
     "output_type": "stream",
     "text": [
      "만기 시 받는 금액: 12155062.50원\n"
     ]
    }
   ],
   "source": [
    "def calculate_compound_interest(principal, rate, time, n):\n",
    "    \"\"\"\n",
    "    복리 계산 함수\n",
    "\n",
    "    :param principal: 원금 (Principal)\n",
    "    :param rate: 연이자율 (Annual interest rate)\n",
    "    :param time: 기간 (Time the money is invested for)\n",
    "    :param n: 이자가 복리로 적용되는 횟수 (Number of times interest applied per time period)\n",
    "    :return: 만기 시 받는 금액 (Amount)\n",
    "    \"\"\"\n",
    "    amount = principal * (1 + rate / n) ** (n * time)\n",
    "    return amount\n",
    "\n",
    "# 예제 파라미터\n",
    "principal = 10000000  # 원금 (10,000,000원)\n",
    "rate = 0.10  # 연이자율 (10%)\n",
    "time = 2  # 기간 (2년)\n",
    "n = 2  # 이자가 복리로 적용되는 횟수 (6개월 복리이므로 1년에 2회)\n",
    "\n",
    "# 만기 금액 계산\n",
    "final_amount = calculate_compound_interest(principal, rate, time, n)\n",
    "print(f\"만기 시 받는 금액: {final_amount:.2f}원\")\n"
   ]
  },
  {
   "cell_type": "markdown",
   "id": "fed60165",
   "metadata": {},
   "source": [
    "## 월 복리 10% 2년만기 , 10% 이자율"
   ]
  },
  {
   "cell_type": "code",
   "execution_count": 13,
   "id": "2aa01fe3",
   "metadata": {},
   "outputs": [
    {
     "name": "stdout",
     "output_type": "stream",
     "text": [
      "만기 시 받는 금액: 12203909.61원\n"
     ]
    }
   ],
   "source": [
    "def calculate_compound_interest(principal, rate, time, n):\n",
    "    \"\"\"\n",
    "    복리 계산 함수\n",
    "\n",
    "    :param principal: 원금 (Principal)\n",
    "    :param rate: 연이자율 (Annual interest rate)\n",
    "    :param time: 기간 (Time the money is invested for)\n",
    "    :param n: 이자가 복리로 적용되는 횟수 (Number of times interest applied per time period)\n",
    "    :return: 만기 시 받는 금액 (Amount)\n",
    "    \"\"\"\n",
    "    amount = principal * (1 + rate / n) ** (n * time)\n",
    "    return amount\n",
    "\n",
    "# 예제 파라미터\n",
    "principal = 10000000  # 원금 (10,000,000원)\n",
    "rate = 0.10  # 연이자율 (10%)\n",
    "time = 2  # 기간 (2년)\n",
    "n = 12  # 이자가 복리로 적용되는 횟수 (월 복리이므로 1년에 12회)\n",
    "\n",
    "# 만기 금액 계산\n",
    "final_amount = calculate_compound_interest(principal, rate, time, n)\n",
    "print(f\"만기 시 받는 금액: {final_amount:.2f}원\")\n"
   ]
  },
  {
   "cell_type": "code",
   "execution_count": null,
   "id": "e70210d4",
   "metadata": {},
   "outputs": [],
   "source": [
    "# 결과 해석 해보기"
   ]
  },
  {
   "cell_type": "code",
   "execution_count": null,
   "id": "011b07a9",
   "metadata": {},
   "outputs": [],
   "source": []
  },
  {
   "cell_type": "markdown",
   "id": "045e5b15",
   "metadata": {},
   "source": [
    "# 연금 현재가치"
   ]
  },
  {
   "cell_type": "code",
   "execution_count": null,
   "id": "6111b7d5",
   "metadata": {},
   "outputs": [],
   "source": [
    "#연금의 현재 가치는 미래에 받을 일련의 정기적인 지급을 현재 시점에서 평가한 금액을 의미합니"
   ]
  },
  {
   "cell_type": "code",
   "execution_count": null,
   "id": "0dc5769b",
   "metadata": {},
   "outputs": [],
   "source": [
    "# 연금 지급액(PMT), 할인율(r), 지급 기간(n)을 입력받아 현재 가치를 계산합니다."
   ]
  },
  {
   "cell_type": "markdown",
   "id": "e9713651",
   "metadata": {},
   "source": [
    "### 매월 1000달러, 10년간 연금 수령, 할인율 5%, 지급기간 10년"
   ]
  },
  {
   "cell_type": "code",
   "execution_count": 1,
   "id": "d56bed6c",
   "metadata": {},
   "outputs": [
    {
     "name": "stdout",
     "output_type": "stream",
     "text": [
      "연금의 현재 가치: 94281.35달러\n"
     ]
    }
   ],
   "source": [
    "def calculate_annuity_pv(payment, rate, periods):\n",
    "    \"\"\"\n",
    "    연금의 현재 가치를 계산하는 함수.\n",
    "\n",
    "    :param payment: 각 기간마다 받는 금액 (Payment per period)\n",
    "    :param rate: 할인율 (Discount rate)\n",
    "    :param periods: 총 지급 기간 수 (Number of periods)\n",
    "    :return: 현재 가치 (Present Value)\n",
    "    \"\"\"\n",
    "    pv = payment * (1 - (1 + rate) ** -periods) / rate\n",
    "    return pv\n",
    "\n",
    "# 예제 파라미터\n",
    "payment = 1000  # 각 기간마다 받는 금액 (예: 월 1000달러)\n",
    "rate = 0.05 / 12  # 월 할인율 (연 5%를 월로 환산)\n",
    "periods = 10 * 12  # 총 지급 기간 수 (10년을 월로 환산)\n",
    "\n",
    "# 현재 가치 계산\n",
    "present_value = calculate_annuity_pv(payment, rate, periods)\n",
    "print(f\"연금의 현재 가치: {present_value:.2f}달러\")\n"
   ]
  },
  {
   "cell_type": "markdown",
   "id": "2deb376c",
   "metadata": {},
   "source": [
    "### 매년 10000달러, 10년간 연금 수령, 할인율 5%, 지급기간 10년"
   ]
  },
  {
   "cell_type": "code",
   "execution_count": null,
   "id": "aa66e45d",
   "metadata": {},
   "outputs": [],
   "source": [
    "#연간 지급액, 연간 할인율, 총 지급 기간을 입력받아 현재 가치를 계산합니다."
   ]
  },
  {
   "cell_type": "code",
   "execution_count": 2,
   "id": "898e1e60",
   "metadata": {},
   "outputs": [
    {
     "name": "stdout",
     "output_type": "stream",
     "text": [
      "연금의 현재 가치: 77217.35달러\n"
     ]
    }
   ],
   "source": [
    "def calculate_annuity_pv(payment, rate, periods):\n",
    "    \"\"\"\n",
    "    연금의 현재 가치를 계산하는 함수.\n",
    "\n",
    "    :param payment: 각 기간마다 받는 금액 (Payment per period)\n",
    "    :param rate: 할인율 (Discount rate)\n",
    "    :param periods: 총 지급 기간 수 (Number of periods)\n",
    "    :return: 현재 가치 (Present Value)\n",
    "    \"\"\"\n",
    "    pv = payment * (1 - (1 + rate) ** -periods) / rate\n",
    "    return pv\n",
    "\n",
    "# 예제 파라미터\n",
    "payment = 10000  # 각 기간마다 받는 금액 (예: 연 10000달러)\n",
    "rate = 0.05  # 연 할인율 (연 5%)\n",
    "periods = 10  # 총 지급 기간 수 (10년)\n",
    "\n",
    "# 현재 가치 계산\n",
    "present_value = calculate_annuity_pv(payment, rate, periods)\n",
    "print(f\"연금의 현재 가치: {present_value:.2f}달러\")\n"
   ]
  },
  {
   "cell_type": "markdown",
   "id": "c4e0f925",
   "metadata": {},
   "source": [
    "### 매년 20000000원, 10년간 연금 수령, 할인율 5% (pt 사례) "
   ]
  },
  {
   "cell_type": "code",
   "execution_count": 9,
   "id": "8eb42b19",
   "metadata": {},
   "outputs": [
    {
     "name": "stdout",
     "output_type": "stream",
     "text": [
      "연금의 현재 가치: 154434698.58원\n"
     ]
    }
   ],
   "source": [
    "def calculate_annuity_pv(payment, rate, periods):\n",
    "    \"\"\"\n",
    "    연금의 현재 가치를 계산하는 함수.\n",
    "\n",
    "    :param payment: 각 기간마다 받는 금액 (Payment per period)\n",
    "    :param rate: 할인율 (Discount rate)\n",
    "    :param periods: 총 지급 기간 수 (Number of periods)\n",
    "    :return: 현재 가치 (Present Value)\n",
    "    \"\"\"\n",
    "    pv = payment * (1 - (1 + rate) ** -periods) / rate\n",
    "    return pv\n",
    "\n",
    "# 예제 파라미터\n",
    "payment = 20000000  # 각 기간마다 받는 금액 (예: 연 20000000원)\n",
    "rate = 0.05  # 연 할인율 (연 5%)\n",
    "periods = 10  # 총 지급 기간 수 (10년)\n",
    "\n",
    "# 현재 가치 계산\n",
    "present_value = calculate_annuity_pv(payment, rate, periods)\n",
    "print(f\"연금의 현재 가치: {present_value:.2f}원\")\n"
   ]
  },
  {
   "cell_type": "markdown",
   "id": "8ee7b41a",
   "metadata": {},
   "source": [
    "# 미래 가치(Future Value, FV)"
   ]
  },
  {
   "cell_type": "markdown",
   "id": "dd4fe291",
   "metadata": {},
   "source": [
    "### 매월 1000달러를 할인율 5%로 10년간 받는 경우의 미래 가치를 계산"
   ]
  },
  {
   "cell_type": "code",
   "execution_count": 3,
   "id": "3c131599",
   "metadata": {},
   "outputs": [
    {
     "name": "stdout",
     "output_type": "stream",
     "text": [
      "연금의 미래 가치: 155282.28달러\n"
     ]
    }
   ],
   "source": [
    "def calculate_annuity_fv(payment, rate, periods):\n",
    "    \"\"\"\n",
    "    연금의 미래 가치를 계산하는 함수.\n",
    "\n",
    "    :param payment: 각 기간마다 받는 금액 (Payment per period)\n",
    "    :param rate: 할인율 (Discount rate)\n",
    "    :param periods: 총 지급 기간 수 (Number of periods)\n",
    "    :return: 미래 가치 (Future Value)\n",
    "    \"\"\"\n",
    "    fv = payment * ((1 + rate) ** periods - 1) / rate\n",
    "    return fv\n",
    "\n",
    "# 예제 파라미터\n",
    "payment = 1000  # 각 기간마다 받는 금액 (예: 월 1000달러)\n",
    "rate = 0.05 / 12  # 월 할인율 (연 5%를 월로 환산)\n",
    "periods = 10 * 12  # 총 지급 기간 수 (10년을 월로 환산)\n",
    "\n",
    "# 미래 가치 계산\n",
    "future_value = calculate_annuity_fv(payment, rate, periods)\n",
    "print(f\"연금의 미래 가치: {future_value:.2f}달러\")\n"
   ]
  },
  {
   "cell_type": "markdown",
   "id": "ef95ada8",
   "metadata": {},
   "source": [
    "### 매년 10000달러를 할인율 5%로 10년간 받는 경우의 미래 가치를 계산"
   ]
  },
  {
   "cell_type": "code",
   "execution_count": null,
   "id": "e9a8a35e",
   "metadata": {},
   "outputs": [],
   "source": [
    "# 연금의 각 기간마다 받는 금액(연 10,000달러), 연 할인율(연 5%), 총 지급 기간 수(10년)를 입력받습니다.\n",
    "# 연금의 미래 가치를 계산합니다.\n",
    "# 계산된 미래 가치를 출력합니다."
   ]
  },
  {
   "cell_type": "code",
   "execution_count": 4,
   "id": "d9d95b7a",
   "metadata": {},
   "outputs": [
    {
     "name": "stdout",
     "output_type": "stream",
     "text": [
      "연금의 미래 가치: 125778.93달러\n"
     ]
    }
   ],
   "source": [
    "def calculate_annuity_fv(payment, rate, periods):\n",
    "    \"\"\"\n",
    "    연금의 미래 가치를 계산하는 함수.\n",
    "\n",
    "    :param payment: 각 기간마다 받는 금액 (Payment per period)\n",
    "    :param rate: 할인율 (Discount rate)\n",
    "    :param periods: 총 지급 기간 수 (Number of periods)\n",
    "    :return: 미래 가치 (Future Value)\n",
    "    \"\"\"\n",
    "    fv = payment * ((1 + rate) ** periods - 1) / rate\n",
    "    return fv\n",
    "\n",
    "# 예제 파라미터\n",
    "payment = 10000  # 각 기간마다 받는 금액 (예: 연 10000달러)\n",
    "rate = 0.05  # 연 할인율 (연 5%)\n",
    "periods = 10  # 총 지급 기간 수 (10년)\n",
    "\n",
    "# 미래 가치 계산\n",
    "future_value = calculate_annuity_fv(payment, rate, periods)\n",
    "print(f\"연금의 미래 가치: {future_value:.2f}달러\")\n"
   ]
  },
  {
   "cell_type": "markdown",
   "id": "16fe2cfc",
   "metadata": {},
   "source": [
    "# 영구 연금(Petpetuity) 현재 가치"
   ]
  },
  {
   "cell_type": "code",
   "execution_count": null,
   "id": "0901f9ef",
   "metadata": {},
   "outputs": [],
   "source": [
    "# 매년 받는 금액 (예: 연 10000달러)\n",
    "# 연 할인율 (연 5%)"
   ]
  },
  {
   "cell_type": "code",
   "execution_count": 5,
   "id": "38ae832a",
   "metadata": {},
   "outputs": [
    {
     "name": "stdout",
     "output_type": "stream",
     "text": [
      "영구 연금의 현재 가치: 200000.00달러\n"
     ]
    }
   ],
   "source": [
    "def calculate_perpetuity_pv(payment, rate):\n",
    "    \"\"\"\n",
    "    영구 연금의 현재 가치를 계산하는 함수.\n",
    "\n",
    "    :param payment: 매년 받는 금액 (Payment per period)\n",
    "    :param rate: 할인율 (Discount rate)\n",
    "    :return: 현재 가치 (Present Value)\n",
    "    \"\"\"\n",
    "    pv = payment / rate\n",
    "    return pv\n",
    "\n",
    "# 예제 파라미터\n",
    "payment = 10000  # 매년 받는 금액 (예: 연 10000달러)\n",
    "rate = 0.05  # 연 할인율 (연 5%)\n",
    "\n",
    "# 현재 가치 계산\n",
    "present_value = calculate_perpetuity_pv(payment, rate)\n",
    "print(f\"영구 연금의 현재 가치: {present_value:.2f}달러\")\n"
   ]
  },
  {
   "cell_type": "code",
   "execution_count": null,
   "id": "b67fe11d",
   "metadata": {},
   "outputs": [],
   "source": [
    "# 매년 받는 금액 (예: 연 10000달러)\n",
    "# 연 할인율 (연 3%)"
   ]
  },
  {
   "cell_type": "code",
   "execution_count": 6,
   "id": "ae4cccd6",
   "metadata": {},
   "outputs": [
    {
     "name": "stdout",
     "output_type": "stream",
     "text": [
      "영구 연금의 현재 가치: 333333.33달러\n"
     ]
    }
   ],
   "source": [
    "def calculate_perpetuity_pv(payment, rate):\n",
    "    \"\"\"\n",
    "    영구 연금의 현재 가치를 계산하는 함수.\n",
    "\n",
    "    :param payment: 매년 받는 금액 (Payment per period)\n",
    "    :param rate: 할인율 (Discount rate)\n",
    "    :return: 현재 가치 (Present Value)\n",
    "    \"\"\"\n",
    "    pv = payment / rate\n",
    "    return pv\n",
    "\n",
    "# 예제 파라미터\n",
    "payment = 10000  # 매년 받는 금액 (예: 연 10000달러)\n",
    "rate = 0.03  # 연 할인율 (연 5%)\n",
    "\n",
    "# 현재 가치 계산\n",
    "present_value = calculate_perpetuity_pv(payment, rate)\n",
    "print(f\"영구 연금의 현재 가치: {present_value:.2f}달러\")\n"
   ]
  },
  {
   "cell_type": "code",
   "execution_count": null,
   "id": "951389dc",
   "metadata": {},
   "outputs": [],
   "source": []
  }
 ],
 "metadata": {
  "kernelspec": {
   "display_name": "Python 3 (ipykernel)",
   "language": "python",
   "name": "python3"
  },
  "language_info": {
   "codemirror_mode": {
    "name": "ipython",
    "version": 3
   },
   "file_extension": ".py",
   "mimetype": "text/x-python",
   "name": "python",
   "nbconvert_exporter": "python",
   "pygments_lexer": "ipython3",
   "version": "3.9.11"
  },
  "toc": {
   "base_numbering": 1,
   "nav_menu": {},
   "number_sections": true,
   "sideBar": true,
   "skip_h1_title": false,
   "title_cell": "Table of Contents",
   "title_sidebar": "Contents",
   "toc_cell": false,
   "toc_position": {},
   "toc_section_display": true,
   "toc_window_display": false
  }
 },
 "nbformat": 4,
 "nbformat_minor": 5
}
