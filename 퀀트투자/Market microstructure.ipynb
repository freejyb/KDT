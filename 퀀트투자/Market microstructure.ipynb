{
 "cells": [
  {
   "cell_type": "markdown",
   "id": "c4a9868e-5a97-4660-b78e-85016b7c8193",
   "metadata": {
    "id": "c4a9868e-5a97-4660-b78e-85016b7c8193"
   },
   "source": [
    "## Market microstructure"
   ]
  },
  {
   "cell_type": "markdown",
   "id": "300b3c3c-615e-4bfd-b6c6-d4b57f622676",
   "metadata": {
    "id": "300b3c3c-615e-4bfd-b6c6-d4b57f622676"
   },
   "source": [
    "시장 미시구조는 금융시장에서 거래와 가격 형성이 일어나는 과정과 메커니즘을 연구하는 분야입니다.\n",
    "\n",
    "즉, 자산의 가격이 어떻게 결정되고 시장 효율성이 어떻게 영향을 받는지에 대해 설명하는 것입니다.\n",
    "\n",
    "시장 미시구조는 거래 규칙, 시장 참여자, 정보의 흐름 등이 자산 가격과 시장 효율성에 어떤 영향을 미치는지 이해하는 데 중점을 둡니다."
   ]
  },
  {
   "cell_type": "code",
   "execution_count": 14,
   "id": "c8e5f0cf-1168-4018-993d-dd9af18f7e0c",
   "metadata": {
    "colab": {
     "base_uri": "https://localhost:8080/"
    },
    "executionInfo": {
     "elapsed": 484,
     "status": "ok",
     "timestamp": 1732168635484,
     "user": {
      "displayName": "전윤범",
      "userId": "16579588953913211126"
     },
     "user_tz": -540
    },
    "id": "c8e5f0cf-1168-4018-993d-dd9af18f7e0c",
    "outputId": "a6e663fa-a9d1-4d16-c8dc-0a6d04643e5c"
   },
   "outputs": [
    {
     "name": "stderr",
     "output_type": "stream",
     "text": [
      "[*********************100%***********************]  1 of 1 completed"
     ]
    },
    {
     "name": "stdout",
     "output_type": "stream",
     "text": [
      "현재 가격: 51700.00, 매수 호가: 51699.00, 매도 호가: 51701.00\n",
      "매수 체결: 5개 매수, 재고: 5\n",
      "현재 가격: 53100.00, 매수 호가: 53099.00, 매도 호가: 53101.00\n",
      "매도 체결: 4개 매도, 재고: 1\n",
      "현재 가격: 53100.00, 매수 호가: 53099.00, 매도 호가: 53101.00\n",
      "매수 체결: 3개 매수, 재고: 4\n",
      "현재 가격: 54100.00, 매수 호가: 54099.00, 매도 호가: 54101.00\n",
      "매도 체결: 4개 매도, 재고: 0\n",
      "현재 가격: 53800.00, 매수 호가: 53799.00, 매도 호가: 53801.00\n",
      "매도 체결: 3개 매도, 재고: -3\n",
      "현재 가격: 53700.00, 매수 호가: 53699.00, 매도 호가: 53701.00\n",
      "매도 체결: 1개 매도, 재고: -4\n",
      "현재 가격: 57300.00, 매수 호가: 57299.00, 매도 호가: 57301.00\n",
      "매도 체결: 4개 매도, 재고: -8\n",
      "현재 가격: 56700.00, 매수 호가: 56699.00, 매도 호가: 56701.00\n",
      "매도 체결: 5개 매도, 재고: -13\n",
      "현재 가격: 56300.00, 매수 호가: 56299.00, 매도 호가: 56301.00\n",
      "매도 체결: 5개 매도, 재고: -18\n",
      "현재 가격: 56600.00, 매수 호가: 56599.00, 매도 호가: 56601.00\n",
      "매수 체결: 1개 매수, 재고: -17\n",
      "현재 가격: 56400.00, 매수 호가: 56399.00, 매도 호가: 56401.00\n",
      "매수 체결: 1개 매수, 재고: -16\n",
      "현재 가격: 56200.00, 매수 호가: 56199.00, 매도 호가: 56201.00\n",
      "매수 체결: 3개 매수, 재고: -13\n",
      "현재 가격: 56900.00, 매수 호가: 56899.00, 매도 호가: 56901.00\n",
      "매도 체결: 2개 매도, 재고: -15\n",
      "현재 가격: 56800.00, 매수 호가: 56799.00, 매도 호가: 56801.00\n",
      "매수 체결: 1개 매수, 재고: -14\n",
      "현재 가격: 57000.00, 매수 호가: 56999.00, 매도 호가: 57001.00\n",
      "매도 체결: 2개 매도, 재고: -16\n",
      "현재 가격: 56600.00, 매수 호가: 56599.00, 매도 호가: 56601.00\n",
      "매수 체결: 5개 매수, 재고: -11\n",
      "현재 가격: 56100.00, 매수 호가: 56099.00, 매도 호가: 56101.00\n",
      "매수 체결: 3개 매수, 재고: -8\n",
      "현재 가격: 56400.00, 매수 호가: 56399.00, 매도 호가: 56401.00\n",
      "매도 체결: 3개 매도, 재고: -11\n",
      "현재 가격: 54900.00, 매수 호가: 54899.00, 매도 호가: 54901.00\n",
      "매수 체결: 5개 매수, 재고: -6\n",
      "현재 가격: 55400.00, 매수 호가: 55399.00, 매도 호가: 55401.00\n",
      "매수 체결: 3개 매수, 재고: -3\n",
      "현재 가격: 55600.00, 매수 호가: 55599.00, 매도 호가: 55601.00\n",
      "매수 체결: 1개 매수, 재고: -2\n",
      "현재 가격: 55300.00, 매수 호가: 55299.00, 매도 호가: 55301.00\n",
      "매도 체결: 2개 매도, 재고: -4\n",
      "현재 가격: 55300.00, 매수 호가: 55299.00, 매도 호가: 55301.00\n",
      "매수 체결: 3개 매수, 재고: -1\n",
      "현재 가격: 55300.00, 매수 호가: 55299.00, 매도 호가: 55301.00\n",
      "매수 체결: 1개 매수, 재고: 0\n",
      "현재 가격: 55500.00, 매수 호가: 55499.00, 매도 호가: 55501.00\n",
      "매수 체결: 1개 매수, 재고: 1\n",
      "현재 가격: 55600.00, 매수 호가: 55599.00, 매도 호가: 55601.00\n",
      "매도 체결: 4개 매도, 재고: -3\n",
      "현재 가격: 55600.00, 매수 호가: 55599.00, 매도 호가: 55601.00\n",
      "매수 체결: 2개 매수, 재고: -1\n",
      "현재 가격: 56200.00, 매수 호가: 56199.00, 매도 호가: 56201.00\n",
      "매도 체결: 1개 매도, 재고: -2\n",
      "현재 가격: 56700.00, 매수 호가: 56699.00, 매도 호가: 56701.00\n",
      "매수 체결: 4개 매수, 재고: 2\n",
      "현재 가격: 56500.00, 매수 호가: 56499.00, 매도 호가: 56501.00\n",
      "매수 체결: 1개 매수, 재고: 3\n"
     ]
    },
    {
     "name": "stderr",
     "output_type": "stream",
     "text": [
      "\n",
      "C:\\Users\\JYB\\AppData\\Local\\Temp\\ipykernel_19336\\3259260325.py:7: FutureWarning: Calling float on a single element Series is deprecated and will raise a TypeError in the future. Use float(ser.iloc[0]) instead\n",
      "  self.price = float(initial_price)  # 현재 자산의 가격을 실수로 변환\n"
     ]
    }
   ],
   "source": [
    "import random\n",
    "import pandas as pd\n",
    "import yfinance as yf\n",
    "\n",
    "class MarketMaker:\n",
    "    def __init__(self, initial_price, spread):\n",
    "        self.price = float(initial_price)  # 현재 자산의 가격을 실수로 변환\n",
    "        self.spread = spread        # 매수-매도 스프레드\n",
    "        self.inventory = 0          # 보유 자산 수량\n",
    "\n",
    "    def quote_prices(self):\n",
    "        # 매수 호가와 매도 호가를 계산\n",
    "        bid_price = self.price - (self.spread / 2)\n",
    "        ask_price = self.price + (self.spread / 2)\n",
    "        return bid_price, ask_price\n",
    "\n",
    "    def trade(self, side, amount):\n",
    "        # 거래가 체결될 경우 재고와 가격 조정\n",
    "        if side == 'buy':\n",
    "            self.inventory += amount\n",
    "            print(f\"매수 체결: {amount}개 매수, 재고: {self.inventory}\")\n",
    "        elif side == 'sell':\n",
    "            self.inventory -= amount\n",
    "            print(f\"매도 체결: {amount}개 매도, 재고: {self.inventory}\")\n",
    "        # 가격을 임의로 소폭 변경해 유동성 제공\n",
    "        self.price += random.uniform(-0.5, 0.5)\n",
    "\n",
    "# 실제 주식 데이터 로드 (예: 삼성전자 주식 데이터)\n",
    "data = yf.download('005930.KS', period='5d', interval='1h')\n",
    "\n",
    "# 데이터가 제대로 다운로드되었는지 확인하고 초기 가격 설정\n",
    "if not data.empty and 'Close' in data.columns:\n",
    "    initial_price = data['Close'].dropna().iloc[0]\n",
    "else:\n",
    "    print(\"데이터 다운로드에 실패했습니다.\")\n",
    "    initial_price = 0.0\n",
    "\n",
    "spread = 2\n",
    "market_maker = MarketMaker(initial_price, spread)\n",
    "\n",
    "# 시장 조성자의 매수-매도 호가 제시 및 거래 시뮬레이션\n",
    "for price in data['Close'][\"005930.KS\"].tolist():\n",
    "    try:\n",
    "        market_maker.price = float(price)\n",
    "    except (ValueError, TypeError, AttributeError):\n",
    "        print(f\"가격 변환 실패: {price}\")\n",
    "        continue\n",
    "    bid_price, ask_price = market_maker.quote_prices()\n",
    "    print(f\"현재 가격: {market_maker.price:.2f}, 매수 호가: {bid_price:.2f}, 매도 호가: {ask_price:.2f}\")\n",
    "\n",
    "    # 무작위로 거래 발생 (매수 또는 매도)\n",
    "    side = random.choice(['buy', 'sell'])\n",
    "    amount = random.randint(1, 5)  # 거래량은 1에서 5 사이의 임의 값\n",
    "    market_maker.trade(side, amount)\n"
   ]
  },
  {
   "cell_type": "code",
   "execution_count": 15,
   "id": "BXNe8pjVTaI3",
   "metadata": {
    "colab": {
     "base_uri": "https://localhost:8080/"
    },
    "executionInfo": {
     "elapsed": 508,
     "status": "ok",
     "timestamp": 1732168765209,
     "user": {
      "displayName": "전윤범",
      "userId": "16579588953913211126"
     },
     "user_tz": -540
    },
    "id": "BXNe8pjVTaI3",
    "outputId": "8815fe0e-bb64-49e6-a219-303c62a99473"
   },
   "outputs": [
    {
     "name": "stdout",
     "output_type": "stream",
     "text": [
      "0.2.49\n"
     ]
    }
   ],
   "source": [
    "print(yf.__version__)"
   ]
  },
  {
   "cell_type": "code",
   "execution_count": 13,
   "id": "mzHv08S2SbiU",
   "metadata": {
    "colab": {
     "base_uri": "https://localhost:8080/"
    },
    "executionInfo": {
     "elapsed": 473,
     "status": "ok",
     "timestamp": 1732168621573,
     "user": {
      "displayName": "전윤범",
      "userId": "16579588953913211126"
     },
     "user_tz": -540
    },
    "id": "mzHv08S2SbiU",
    "outputId": "b5477cbe-b314-456b-b702-09fd493358d6"
   },
   "outputs": [
    {
     "data": {
      "text/plain": [
       "[51700.0,\n",
       " 53100.0,\n",
       " 53100.0,\n",
       " 54100.0,\n",
       " 53800.0,\n",
       " 53700.0,\n",
       " 57300.0,\n",
       " 56700.0,\n",
       " 56300.0,\n",
       " 56600.0,\n",
       " 56400.0,\n",
       " 56200.0,\n",
       " 56900.0,\n",
       " 56800.0,\n",
       " 57000.0,\n",
       " 56600.0,\n",
       " 56100.0,\n",
       " 56400.0,\n",
       " 54900.0,\n",
       " 55400.0,\n",
       " 55600.0,\n",
       " 55300.0,\n",
       " 55300.0,\n",
       " 55300.0,\n",
       " 55500.0,\n",
       " 55600.0,\n",
       " 55600.0,\n",
       " 56200.0,\n",
       " 56700.0,\n",
       " 56600.0]"
      ]
     },
     "execution_count": 13,
     "metadata": {},
     "output_type": "execute_result"
    }
   ],
   "source": []
  },
  {
   "cell_type": "code",
   "execution_count": null,
   "id": "7a82aaf6-e5c4-444d-938e-c2effe7f79ad",
   "metadata": {
    "id": "7a82aaf6-e5c4-444d-938e-c2effe7f79ad"
   },
   "outputs": [],
   "source": []
  }
 ],
 "metadata": {
  "accelerator": "GPU",
  "colab": {
   "gpuType": "T4",
   "provenance": []
  },
  "kernelspec": {
   "display_name": "Python 3 (ipykernel)",
   "language": "python",
   "name": "python3"
  },
  "language_info": {
   "codemirror_mode": {
    "name": "ipython",
    "version": 3
   },
   "file_extension": ".py",
   "mimetype": "text/x-python",
   "name": "python",
   "nbconvert_exporter": "python",
   "pygments_lexer": "ipython3",
   "version": "3.9.11"
  }
 },
 "nbformat": 4,
 "nbformat_minor": 5
}
